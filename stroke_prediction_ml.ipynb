{
  "nbformat": 4,
  "nbformat_minor": 0,
  "metadata": {
    "colab": {
      "provenance": [],
      "authorship_tag": "ABX9TyPhuEf9t9TiIH/wbOXKyOLf",
      "include_colab_link": true
    },
    "kernelspec": {
      "name": "python3",
      "display_name": "Python 3"
    },
    "language_info": {
      "name": "python"
    }
  },
  "cells": [
    {
      "cell_type": "markdown",
      "metadata": {
        "id": "view-in-github",
        "colab_type": "text"
      },
      "source": [
        "<a href=\"https://colab.research.google.com/github/AlessandroConte/stroke-prediction/blob/main/stroke_prediction_ml.ipynb\" target=\"_parent\"><img src=\"https://colab.research.google.com/assets/colab-badge.svg\" alt=\"Open In Colab\"/></a>"
      ]
    },
    {
      "cell_type": "markdown",
      "source": [
        "# PROJECT INTRO\n",
        "\n",
        "\n",
        "\n",
        "Attribute Information\n",
        "1. id: unique identifier\n",
        "2. gender: \"Male\", \"Female\" or \"Other\"\n",
        "3. age: age of the patient\n",
        "4. hypertension: 0 if the patient doesn't have hypertension, 1 if the patient has hypertension\n",
        "5. heart_disease: 0 if the patient doesn't have any heart diseases, 1 if the patient has a heart disease\n",
        "6. ever_married: \"No\" or \"Yes\"\n",
        "7. work_type: \"children\", \"Govt_jov\", \"Never_worked\", \"Private\" or \"Self-employed\"\n",
        "8. Residence_type: \"Rural\" or \"Urban\"\n",
        "9. avg_glucose_level: average glucose level in blood\n",
        "10. bmi: body mass index\n",
        "11. smoking_status: \"formerly smoked\", \"never smoked\", \"smokes\" or \"Unknown\"*\n",
        "12. stroke: 1 if the patient had a stroke or 0 if not\n",
        "*Note: \"Unknown\" in smoking_status means that the information is unavailable for this patient"
      ],
      "metadata": {
        "id": "bJ9ku42BAs3S"
      }
    },
    {
      "cell_type": "markdown",
      "source": [
        "# Libraries import"
      ],
      "metadata": {
        "id": "ZtaToj4_JDiu"
      }
    },
    {
      "cell_type": "code",
      "source": [
        "# libraries import\n",
        "\n",
        "import pandas as pd\n",
        "\n"
      ],
      "metadata": {
        "id": "PsGzvE8o6EL0"
      },
      "execution_count": 1,
      "outputs": []
    },
    {
      "cell_type": "markdown",
      "source": [
        "# Upload dataset"
      ],
      "metadata": {
        "id": "YNPG8Tu2I4gb"
      }
    },
    {
      "cell_type": "code",
      "execution_count": 2,
      "metadata": {
        "colab": {
          "base_uri": "https://localhost:8080/",
          "height": 78
        },
        "id": "ex4bs_Rl5QfF",
        "outputId": "e5df946e-4972-4699-b27a-04877edbe6b7"
      },
      "outputs": [
        {
          "output_type": "display_data",
          "data": {
            "text/plain": [
              "<IPython.core.display.HTML object>"
            ],
            "text/html": [
              "\n",
              "     <input type=\"file\" id=\"files-78ce5bf0-ffd9-4dba-8f7a-98c7b2b1b4e2\" name=\"files[]\" multiple disabled\n",
              "        style=\"border:none\" />\n",
              "     <output id=\"result-78ce5bf0-ffd9-4dba-8f7a-98c7b2b1b4e2\">\n",
              "      Upload widget is only available when the cell has been executed in the\n",
              "      current browser session. Please rerun this cell to enable.\n",
              "      </output>\n",
              "      <script>// Copyright 2017 Google LLC\n",
              "//\n",
              "// Licensed under the Apache License, Version 2.0 (the \"License\");\n",
              "// you may not use this file except in compliance with the License.\n",
              "// You may obtain a copy of the License at\n",
              "//\n",
              "//      http://www.apache.org/licenses/LICENSE-2.0\n",
              "//\n",
              "// Unless required by applicable law or agreed to in writing, software\n",
              "// distributed under the License is distributed on an \"AS IS\" BASIS,\n",
              "// WITHOUT WARRANTIES OR CONDITIONS OF ANY KIND, either express or implied.\n",
              "// See the License for the specific language governing permissions and\n",
              "// limitations under the License.\n",
              "\n",
              "/**\n",
              " * @fileoverview Helpers for google.colab Python module.\n",
              " */\n",
              "(function(scope) {\n",
              "function span(text, styleAttributes = {}) {\n",
              "  const element = document.createElement('span');\n",
              "  element.textContent = text;\n",
              "  for (const key of Object.keys(styleAttributes)) {\n",
              "    element.style[key] = styleAttributes[key];\n",
              "  }\n",
              "  return element;\n",
              "}\n",
              "\n",
              "// Max number of bytes which will be uploaded at a time.\n",
              "const MAX_PAYLOAD_SIZE = 100 * 1024;\n",
              "\n",
              "function _uploadFiles(inputId, outputId) {\n",
              "  const steps = uploadFilesStep(inputId, outputId);\n",
              "  const outputElement = document.getElementById(outputId);\n",
              "  // Cache steps on the outputElement to make it available for the next call\n",
              "  // to uploadFilesContinue from Python.\n",
              "  outputElement.steps = steps;\n",
              "\n",
              "  return _uploadFilesContinue(outputId);\n",
              "}\n",
              "\n",
              "// This is roughly an async generator (not supported in the browser yet),\n",
              "// where there are multiple asynchronous steps and the Python side is going\n",
              "// to poll for completion of each step.\n",
              "// This uses a Promise to block the python side on completion of each step,\n",
              "// then passes the result of the previous step as the input to the next step.\n",
              "function _uploadFilesContinue(outputId) {\n",
              "  const outputElement = document.getElementById(outputId);\n",
              "  const steps = outputElement.steps;\n",
              "\n",
              "  const next = steps.next(outputElement.lastPromiseValue);\n",
              "  return Promise.resolve(next.value.promise).then((value) => {\n",
              "    // Cache the last promise value to make it available to the next\n",
              "    // step of the generator.\n",
              "    outputElement.lastPromiseValue = value;\n",
              "    return next.value.response;\n",
              "  });\n",
              "}\n",
              "\n",
              "/**\n",
              " * Generator function which is called between each async step of the upload\n",
              " * process.\n",
              " * @param {string} inputId Element ID of the input file picker element.\n",
              " * @param {string} outputId Element ID of the output display.\n",
              " * @return {!Iterable<!Object>} Iterable of next steps.\n",
              " */\n",
              "function* uploadFilesStep(inputId, outputId) {\n",
              "  const inputElement = document.getElementById(inputId);\n",
              "  inputElement.disabled = false;\n",
              "\n",
              "  const outputElement = document.getElementById(outputId);\n",
              "  outputElement.innerHTML = '';\n",
              "\n",
              "  const pickedPromise = new Promise((resolve) => {\n",
              "    inputElement.addEventListener('change', (e) => {\n",
              "      resolve(e.target.files);\n",
              "    });\n",
              "  });\n",
              "\n",
              "  const cancel = document.createElement('button');\n",
              "  inputElement.parentElement.appendChild(cancel);\n",
              "  cancel.textContent = 'Cancel upload';\n",
              "  const cancelPromise = new Promise((resolve) => {\n",
              "    cancel.onclick = () => {\n",
              "      resolve(null);\n",
              "    };\n",
              "  });\n",
              "\n",
              "  // Wait for the user to pick the files.\n",
              "  const files = yield {\n",
              "    promise: Promise.race([pickedPromise, cancelPromise]),\n",
              "    response: {\n",
              "      action: 'starting',\n",
              "    }\n",
              "  };\n",
              "\n",
              "  cancel.remove();\n",
              "\n",
              "  // Disable the input element since further picks are not allowed.\n",
              "  inputElement.disabled = true;\n",
              "\n",
              "  if (!files) {\n",
              "    return {\n",
              "      response: {\n",
              "        action: 'complete',\n",
              "      }\n",
              "    };\n",
              "  }\n",
              "\n",
              "  for (const file of files) {\n",
              "    const li = document.createElement('li');\n",
              "    li.append(span(file.name, {fontWeight: 'bold'}));\n",
              "    li.append(span(\n",
              "        `(${file.type || 'n/a'}) - ${file.size} bytes, ` +\n",
              "        `last modified: ${\n",
              "            file.lastModifiedDate ? file.lastModifiedDate.toLocaleDateString() :\n",
              "                                    'n/a'} - `));\n",
              "    const percent = span('0% done');\n",
              "    li.appendChild(percent);\n",
              "\n",
              "    outputElement.appendChild(li);\n",
              "\n",
              "    const fileDataPromise = new Promise((resolve) => {\n",
              "      const reader = new FileReader();\n",
              "      reader.onload = (e) => {\n",
              "        resolve(e.target.result);\n",
              "      };\n",
              "      reader.readAsArrayBuffer(file);\n",
              "    });\n",
              "    // Wait for the data to be ready.\n",
              "    let fileData = yield {\n",
              "      promise: fileDataPromise,\n",
              "      response: {\n",
              "        action: 'continue',\n",
              "      }\n",
              "    };\n",
              "\n",
              "    // Use a chunked sending to avoid message size limits. See b/62115660.\n",
              "    let position = 0;\n",
              "    do {\n",
              "      const length = Math.min(fileData.byteLength - position, MAX_PAYLOAD_SIZE);\n",
              "      const chunk = new Uint8Array(fileData, position, length);\n",
              "      position += length;\n",
              "\n",
              "      const base64 = btoa(String.fromCharCode.apply(null, chunk));\n",
              "      yield {\n",
              "        response: {\n",
              "          action: 'append',\n",
              "          file: file.name,\n",
              "          data: base64,\n",
              "        },\n",
              "      };\n",
              "\n",
              "      let percentDone = fileData.byteLength === 0 ?\n",
              "          100 :\n",
              "          Math.round((position / fileData.byteLength) * 100);\n",
              "      percent.textContent = `${percentDone}% done`;\n",
              "\n",
              "    } while (position < fileData.byteLength);\n",
              "  }\n",
              "\n",
              "  // All done.\n",
              "  yield {\n",
              "    response: {\n",
              "      action: 'complete',\n",
              "    }\n",
              "  };\n",
              "}\n",
              "\n",
              "scope.google = scope.google || {};\n",
              "scope.google.colab = scope.google.colab || {};\n",
              "scope.google.colab._files = {\n",
              "  _uploadFiles,\n",
              "  _uploadFilesContinue,\n",
              "};\n",
              "})(self);\n",
              "</script> "
            ]
          },
          "metadata": {}
        },
        {
          "output_type": "stream",
          "name": "stdout",
          "text": [
            "Saving healthcare-dataset-stroke-data.csv to healthcare-dataset-stroke-data.csv\n"
          ]
        }
      ],
      "source": [
        "# upload the stroke dataset\n",
        "from google.colab import files\n",
        "\n",
        "uploaded = files.upload()\n"
      ]
    },
    {
      "cell_type": "code",
      "source": [
        "# read the csv file (dataset)\n",
        "\n",
        "df = pd.read_csv(\"healthcare-dataset-stroke-data.csv\")\n"
      ],
      "metadata": {
        "id": "394l1KIF6yD4"
      },
      "execution_count": 3,
      "outputs": []
    },
    {
      "cell_type": "markdown",
      "source": [
        "# EDA (Exploratory Data Analysis)\n",
        "\n",
        "Exploratory Data Analysis is an approach of analyzing data sets to summarize their main characteristics, often using statistical graphics and other data visualization methods.\n"
      ],
      "metadata": {
        "id": "F42XZVT48PjL"
      }
    },
    {
      "cell_type": "code",
      "source": [
        "# check the dataset's structure\n",
        "\n",
        "df.head()\n",
        "df.info()\n"
      ],
      "metadata": {
        "colab": {
          "base_uri": "https://localhost:8080/"
        },
        "id": "FG0lBWrt6_ak",
        "outputId": "68d43a73-38c9-4723-f1d9-85b3ce02e28f"
      },
      "execution_count": 4,
      "outputs": [
        {
          "output_type": "stream",
          "name": "stdout",
          "text": [
            "<class 'pandas.core.frame.DataFrame'>\n",
            "RangeIndex: 5110 entries, 0 to 5109\n",
            "Data columns (total 12 columns):\n",
            " #   Column             Non-Null Count  Dtype  \n",
            "---  ------             --------------  -----  \n",
            " 0   id                 5110 non-null   int64  \n",
            " 1   gender             5110 non-null   object \n",
            " 2   age                5110 non-null   float64\n",
            " 3   hypertension       5110 non-null   int64  \n",
            " 4   heart_disease      5110 non-null   int64  \n",
            " 5   ever_married       5110 non-null   object \n",
            " 6   work_type          5110 non-null   object \n",
            " 7   Residence_type     5110 non-null   object \n",
            " 8   avg_glucose_level  5110 non-null   float64\n",
            " 9   bmi                4909 non-null   float64\n",
            " 10  smoking_status     5110 non-null   object \n",
            " 11  stroke             5110 non-null   int64  \n",
            "dtypes: float64(3), int64(4), object(5)\n",
            "memory usage: 479.2+ KB\n"
          ]
        }
      ]
    },
    {
      "cell_type": "markdown",
      "source": [
        "From the output above we can see that the DataFrame has:\n",
        "\n",
        "*   5110 rows (from index 0 to 5109)\n",
        "*   12 columns (i.e., 12 variables)\n",
        "*   By looking at the \"Non-Null Count\" we can clearly see where the missing values are (in this case the bmi column has 201 missing (NaN) values)"
      ],
      "metadata": {
        "id": "lb5WbbKa9VWk"
      }
    },
    {
      "cell_type": "code",
      "source": [
        "# statistical summary\n",
        "df.describe(include='all')\n"
      ],
      "metadata": {
        "colab": {
          "base_uri": "https://localhost:8080/",
          "height": 394
        },
        "id": "DcPLPt1r8zSA",
        "outputId": "c99e3323-8d7a-481a-fc69-20eff4224a42"
      },
      "execution_count": 5,
      "outputs": [
        {
          "output_type": "execute_result",
          "data": {
            "text/plain": [
              "                  id  gender          age  hypertension  heart_disease  \\\n",
              "count    5110.000000    5110  5110.000000   5110.000000    5110.000000   \n",
              "unique           NaN       3          NaN           NaN            NaN   \n",
              "top              NaN  Female          NaN           NaN            NaN   \n",
              "freq             NaN    2994          NaN           NaN            NaN   \n",
              "mean    36517.829354     NaN    43.226614      0.097456       0.054012   \n",
              "std     21161.721625     NaN    22.612647      0.296607       0.226063   \n",
              "min        67.000000     NaN     0.080000      0.000000       0.000000   \n",
              "25%     17741.250000     NaN    25.000000      0.000000       0.000000   \n",
              "50%     36932.000000     NaN    45.000000      0.000000       0.000000   \n",
              "75%     54682.000000     NaN    61.000000      0.000000       0.000000   \n",
              "max     72940.000000     NaN    82.000000      1.000000       1.000000   \n",
              "\n",
              "       ever_married work_type Residence_type  avg_glucose_level          bmi  \\\n",
              "count          5110      5110           5110        5110.000000  4909.000000   \n",
              "unique            2         5              2                NaN          NaN   \n",
              "top             Yes   Private          Urban                NaN          NaN   \n",
              "freq           3353      2925           2596                NaN          NaN   \n",
              "mean            NaN       NaN            NaN         106.147677    28.893237   \n",
              "std             NaN       NaN            NaN          45.283560     7.854067   \n",
              "min             NaN       NaN            NaN          55.120000    10.300000   \n",
              "25%             NaN       NaN            NaN          77.245000    23.500000   \n",
              "50%             NaN       NaN            NaN          91.885000    28.100000   \n",
              "75%             NaN       NaN            NaN         114.090000    33.100000   \n",
              "max             NaN       NaN            NaN         271.740000    97.600000   \n",
              "\n",
              "       smoking_status       stroke  \n",
              "count            5110  5110.000000  \n",
              "unique              4          NaN  \n",
              "top      never smoked          NaN  \n",
              "freq             1892          NaN  \n",
              "mean              NaN     0.048728  \n",
              "std               NaN     0.215320  \n",
              "min               NaN     0.000000  \n",
              "25%               NaN     0.000000  \n",
              "50%               NaN     0.000000  \n",
              "75%               NaN     0.000000  \n",
              "max               NaN     1.000000  "
            ],
            "text/html": [
              "\n",
              "  <div id=\"df-495874dd-b434-401f-9ee0-a19dc19d35b2\" class=\"colab-df-container\">\n",
              "    <div>\n",
              "<style scoped>\n",
              "    .dataframe tbody tr th:only-of-type {\n",
              "        vertical-align: middle;\n",
              "    }\n",
              "\n",
              "    .dataframe tbody tr th {\n",
              "        vertical-align: top;\n",
              "    }\n",
              "\n",
              "    .dataframe thead th {\n",
              "        text-align: right;\n",
              "    }\n",
              "</style>\n",
              "<table border=\"1\" class=\"dataframe\">\n",
              "  <thead>\n",
              "    <tr style=\"text-align: right;\">\n",
              "      <th></th>\n",
              "      <th>id</th>\n",
              "      <th>gender</th>\n",
              "      <th>age</th>\n",
              "      <th>hypertension</th>\n",
              "      <th>heart_disease</th>\n",
              "      <th>ever_married</th>\n",
              "      <th>work_type</th>\n",
              "      <th>Residence_type</th>\n",
              "      <th>avg_glucose_level</th>\n",
              "      <th>bmi</th>\n",
              "      <th>smoking_status</th>\n",
              "      <th>stroke</th>\n",
              "    </tr>\n",
              "  </thead>\n",
              "  <tbody>\n",
              "    <tr>\n",
              "      <th>count</th>\n",
              "      <td>5110.000000</td>\n",
              "      <td>5110</td>\n",
              "      <td>5110.000000</td>\n",
              "      <td>5110.000000</td>\n",
              "      <td>5110.000000</td>\n",
              "      <td>5110</td>\n",
              "      <td>5110</td>\n",
              "      <td>5110</td>\n",
              "      <td>5110.000000</td>\n",
              "      <td>4909.000000</td>\n",
              "      <td>5110</td>\n",
              "      <td>5110.000000</td>\n",
              "    </tr>\n",
              "    <tr>\n",
              "      <th>unique</th>\n",
              "      <td>NaN</td>\n",
              "      <td>3</td>\n",
              "      <td>NaN</td>\n",
              "      <td>NaN</td>\n",
              "      <td>NaN</td>\n",
              "      <td>2</td>\n",
              "      <td>5</td>\n",
              "      <td>2</td>\n",
              "      <td>NaN</td>\n",
              "      <td>NaN</td>\n",
              "      <td>4</td>\n",
              "      <td>NaN</td>\n",
              "    </tr>\n",
              "    <tr>\n",
              "      <th>top</th>\n",
              "      <td>NaN</td>\n",
              "      <td>Female</td>\n",
              "      <td>NaN</td>\n",
              "      <td>NaN</td>\n",
              "      <td>NaN</td>\n",
              "      <td>Yes</td>\n",
              "      <td>Private</td>\n",
              "      <td>Urban</td>\n",
              "      <td>NaN</td>\n",
              "      <td>NaN</td>\n",
              "      <td>never smoked</td>\n",
              "      <td>NaN</td>\n",
              "    </tr>\n",
              "    <tr>\n",
              "      <th>freq</th>\n",
              "      <td>NaN</td>\n",
              "      <td>2994</td>\n",
              "      <td>NaN</td>\n",
              "      <td>NaN</td>\n",
              "      <td>NaN</td>\n",
              "      <td>3353</td>\n",
              "      <td>2925</td>\n",
              "      <td>2596</td>\n",
              "      <td>NaN</td>\n",
              "      <td>NaN</td>\n",
              "      <td>1892</td>\n",
              "      <td>NaN</td>\n",
              "    </tr>\n",
              "    <tr>\n",
              "      <th>mean</th>\n",
              "      <td>36517.829354</td>\n",
              "      <td>NaN</td>\n",
              "      <td>43.226614</td>\n",
              "      <td>0.097456</td>\n",
              "      <td>0.054012</td>\n",
              "      <td>NaN</td>\n",
              "      <td>NaN</td>\n",
              "      <td>NaN</td>\n",
              "      <td>106.147677</td>\n",
              "      <td>28.893237</td>\n",
              "      <td>NaN</td>\n",
              "      <td>0.048728</td>\n",
              "    </tr>\n",
              "    <tr>\n",
              "      <th>std</th>\n",
              "      <td>21161.721625</td>\n",
              "      <td>NaN</td>\n",
              "      <td>22.612647</td>\n",
              "      <td>0.296607</td>\n",
              "      <td>0.226063</td>\n",
              "      <td>NaN</td>\n",
              "      <td>NaN</td>\n",
              "      <td>NaN</td>\n",
              "      <td>45.283560</td>\n",
              "      <td>7.854067</td>\n",
              "      <td>NaN</td>\n",
              "      <td>0.215320</td>\n",
              "    </tr>\n",
              "    <tr>\n",
              "      <th>min</th>\n",
              "      <td>67.000000</td>\n",
              "      <td>NaN</td>\n",
              "      <td>0.080000</td>\n",
              "      <td>0.000000</td>\n",
              "      <td>0.000000</td>\n",
              "      <td>NaN</td>\n",
              "      <td>NaN</td>\n",
              "      <td>NaN</td>\n",
              "      <td>55.120000</td>\n",
              "      <td>10.300000</td>\n",
              "      <td>NaN</td>\n",
              "      <td>0.000000</td>\n",
              "    </tr>\n",
              "    <tr>\n",
              "      <th>25%</th>\n",
              "      <td>17741.250000</td>\n",
              "      <td>NaN</td>\n",
              "      <td>25.000000</td>\n",
              "      <td>0.000000</td>\n",
              "      <td>0.000000</td>\n",
              "      <td>NaN</td>\n",
              "      <td>NaN</td>\n",
              "      <td>NaN</td>\n",
              "      <td>77.245000</td>\n",
              "      <td>23.500000</td>\n",
              "      <td>NaN</td>\n",
              "      <td>0.000000</td>\n",
              "    </tr>\n",
              "    <tr>\n",
              "      <th>50%</th>\n",
              "      <td>36932.000000</td>\n",
              "      <td>NaN</td>\n",
              "      <td>45.000000</td>\n",
              "      <td>0.000000</td>\n",
              "      <td>0.000000</td>\n",
              "      <td>NaN</td>\n",
              "      <td>NaN</td>\n",
              "      <td>NaN</td>\n",
              "      <td>91.885000</td>\n",
              "      <td>28.100000</td>\n",
              "      <td>NaN</td>\n",
              "      <td>0.000000</td>\n",
              "    </tr>\n",
              "    <tr>\n",
              "      <th>75%</th>\n",
              "      <td>54682.000000</td>\n",
              "      <td>NaN</td>\n",
              "      <td>61.000000</td>\n",
              "      <td>0.000000</td>\n",
              "      <td>0.000000</td>\n",
              "      <td>NaN</td>\n",
              "      <td>NaN</td>\n",
              "      <td>NaN</td>\n",
              "      <td>114.090000</td>\n",
              "      <td>33.100000</td>\n",
              "      <td>NaN</td>\n",
              "      <td>0.000000</td>\n",
              "    </tr>\n",
              "    <tr>\n",
              "      <th>max</th>\n",
              "      <td>72940.000000</td>\n",
              "      <td>NaN</td>\n",
              "      <td>82.000000</td>\n",
              "      <td>1.000000</td>\n",
              "      <td>1.000000</td>\n",
              "      <td>NaN</td>\n",
              "      <td>NaN</td>\n",
              "      <td>NaN</td>\n",
              "      <td>271.740000</td>\n",
              "      <td>97.600000</td>\n",
              "      <td>NaN</td>\n",
              "      <td>1.000000</td>\n",
              "    </tr>\n",
              "  </tbody>\n",
              "</table>\n",
              "</div>\n",
              "    <div class=\"colab-df-buttons\">\n",
              "\n",
              "  <div class=\"colab-df-container\">\n",
              "    <button class=\"colab-df-convert\" onclick=\"convertToInteractive('df-495874dd-b434-401f-9ee0-a19dc19d35b2')\"\n",
              "            title=\"Convert this dataframe to an interactive table.\"\n",
              "            style=\"display:none;\">\n",
              "\n",
              "  <svg xmlns=\"http://www.w3.org/2000/svg\" height=\"24px\" viewBox=\"0 -960 960 960\">\n",
              "    <path d=\"M120-120v-720h720v720H120Zm60-500h600v-160H180v160Zm220 220h160v-160H400v160Zm0 220h160v-160H400v160ZM180-400h160v-160H180v160Zm440 0h160v-160H620v160ZM180-180h160v-160H180v160Zm440 0h160v-160H620v160Z\"/>\n",
              "  </svg>\n",
              "    </button>\n",
              "\n",
              "  <style>\n",
              "    .colab-df-container {\n",
              "      display:flex;\n",
              "      gap: 12px;\n",
              "    }\n",
              "\n",
              "    .colab-df-convert {\n",
              "      background-color: #E8F0FE;\n",
              "      border: none;\n",
              "      border-radius: 50%;\n",
              "      cursor: pointer;\n",
              "      display: none;\n",
              "      fill: #1967D2;\n",
              "      height: 32px;\n",
              "      padding: 0 0 0 0;\n",
              "      width: 32px;\n",
              "    }\n",
              "\n",
              "    .colab-df-convert:hover {\n",
              "      background-color: #E2EBFA;\n",
              "      box-shadow: 0px 1px 2px rgba(60, 64, 67, 0.3), 0px 1px 3px 1px rgba(60, 64, 67, 0.15);\n",
              "      fill: #174EA6;\n",
              "    }\n",
              "\n",
              "    .colab-df-buttons div {\n",
              "      margin-bottom: 4px;\n",
              "    }\n",
              "\n",
              "    [theme=dark] .colab-df-convert {\n",
              "      background-color: #3B4455;\n",
              "      fill: #D2E3FC;\n",
              "    }\n",
              "\n",
              "    [theme=dark] .colab-df-convert:hover {\n",
              "      background-color: #434B5C;\n",
              "      box-shadow: 0px 1px 3px 1px rgba(0, 0, 0, 0.15);\n",
              "      filter: drop-shadow(0px 1px 2px rgba(0, 0, 0, 0.3));\n",
              "      fill: #FFFFFF;\n",
              "    }\n",
              "  </style>\n",
              "\n",
              "    <script>\n",
              "      const buttonEl =\n",
              "        document.querySelector('#df-495874dd-b434-401f-9ee0-a19dc19d35b2 button.colab-df-convert');\n",
              "      buttonEl.style.display =\n",
              "        google.colab.kernel.accessAllowed ? 'block' : 'none';\n",
              "\n",
              "      async function convertToInteractive(key) {\n",
              "        const element = document.querySelector('#df-495874dd-b434-401f-9ee0-a19dc19d35b2');\n",
              "        const dataTable =\n",
              "          await google.colab.kernel.invokeFunction('convertToInteractive',\n",
              "                                                    [key], {});\n",
              "        if (!dataTable) return;\n",
              "\n",
              "        const docLinkHtml = 'Like what you see? Visit the ' +\n",
              "          '<a target=\"_blank\" href=https://colab.research.google.com/notebooks/data_table.ipynb>data table notebook</a>'\n",
              "          + ' to learn more about interactive tables.';\n",
              "        element.innerHTML = '';\n",
              "        dataTable['output_type'] = 'display_data';\n",
              "        await google.colab.output.renderOutput(dataTable, element);\n",
              "        const docLink = document.createElement('div');\n",
              "        docLink.innerHTML = docLinkHtml;\n",
              "        element.appendChild(docLink);\n",
              "      }\n",
              "    </script>\n",
              "  </div>\n",
              "\n",
              "\n",
              "    <div id=\"df-c669c15c-80b3-4727-804d-c42974edd3be\">\n",
              "      <button class=\"colab-df-quickchart\" onclick=\"quickchart('df-c669c15c-80b3-4727-804d-c42974edd3be')\"\n",
              "                title=\"Suggest charts\"\n",
              "                style=\"display:none;\">\n",
              "\n",
              "<svg xmlns=\"http://www.w3.org/2000/svg\" height=\"24px\"viewBox=\"0 0 24 24\"\n",
              "     width=\"24px\">\n",
              "    <g>\n",
              "        <path d=\"M19 3H5c-1.1 0-2 .9-2 2v14c0 1.1.9 2 2 2h14c1.1 0 2-.9 2-2V5c0-1.1-.9-2-2-2zM9 17H7v-7h2v7zm4 0h-2V7h2v10zm4 0h-2v-4h2v4z\"/>\n",
              "    </g>\n",
              "</svg>\n",
              "      </button>\n",
              "\n",
              "<style>\n",
              "  .colab-df-quickchart {\n",
              "      --bg-color: #E8F0FE;\n",
              "      --fill-color: #1967D2;\n",
              "      --hover-bg-color: #E2EBFA;\n",
              "      --hover-fill-color: #174EA6;\n",
              "      --disabled-fill-color: #AAA;\n",
              "      --disabled-bg-color: #DDD;\n",
              "  }\n",
              "\n",
              "  [theme=dark] .colab-df-quickchart {\n",
              "      --bg-color: #3B4455;\n",
              "      --fill-color: #D2E3FC;\n",
              "      --hover-bg-color: #434B5C;\n",
              "      --hover-fill-color: #FFFFFF;\n",
              "      --disabled-bg-color: #3B4455;\n",
              "      --disabled-fill-color: #666;\n",
              "  }\n",
              "\n",
              "  .colab-df-quickchart {\n",
              "    background-color: var(--bg-color);\n",
              "    border: none;\n",
              "    border-radius: 50%;\n",
              "    cursor: pointer;\n",
              "    display: none;\n",
              "    fill: var(--fill-color);\n",
              "    height: 32px;\n",
              "    padding: 0;\n",
              "    width: 32px;\n",
              "  }\n",
              "\n",
              "  .colab-df-quickchart:hover {\n",
              "    background-color: var(--hover-bg-color);\n",
              "    box-shadow: 0 1px 2px rgba(60, 64, 67, 0.3), 0 1px 3px 1px rgba(60, 64, 67, 0.15);\n",
              "    fill: var(--button-hover-fill-color);\n",
              "  }\n",
              "\n",
              "  .colab-df-quickchart-complete:disabled,\n",
              "  .colab-df-quickchart-complete:disabled:hover {\n",
              "    background-color: var(--disabled-bg-color);\n",
              "    fill: var(--disabled-fill-color);\n",
              "    box-shadow: none;\n",
              "  }\n",
              "\n",
              "  .colab-df-spinner {\n",
              "    border: 2px solid var(--fill-color);\n",
              "    border-color: transparent;\n",
              "    border-bottom-color: var(--fill-color);\n",
              "    animation:\n",
              "      spin 1s steps(1) infinite;\n",
              "  }\n",
              "\n",
              "  @keyframes spin {\n",
              "    0% {\n",
              "      border-color: transparent;\n",
              "      border-bottom-color: var(--fill-color);\n",
              "      border-left-color: var(--fill-color);\n",
              "    }\n",
              "    20% {\n",
              "      border-color: transparent;\n",
              "      border-left-color: var(--fill-color);\n",
              "      border-top-color: var(--fill-color);\n",
              "    }\n",
              "    30% {\n",
              "      border-color: transparent;\n",
              "      border-left-color: var(--fill-color);\n",
              "      border-top-color: var(--fill-color);\n",
              "      border-right-color: var(--fill-color);\n",
              "    }\n",
              "    40% {\n",
              "      border-color: transparent;\n",
              "      border-right-color: var(--fill-color);\n",
              "      border-top-color: var(--fill-color);\n",
              "    }\n",
              "    60% {\n",
              "      border-color: transparent;\n",
              "      border-right-color: var(--fill-color);\n",
              "    }\n",
              "    80% {\n",
              "      border-color: transparent;\n",
              "      border-right-color: var(--fill-color);\n",
              "      border-bottom-color: var(--fill-color);\n",
              "    }\n",
              "    90% {\n",
              "      border-color: transparent;\n",
              "      border-bottom-color: var(--fill-color);\n",
              "    }\n",
              "  }\n",
              "</style>\n",
              "\n",
              "      <script>\n",
              "        async function quickchart(key) {\n",
              "          const quickchartButtonEl =\n",
              "            document.querySelector('#' + key + ' button');\n",
              "          quickchartButtonEl.disabled = true;  // To prevent multiple clicks.\n",
              "          quickchartButtonEl.classList.add('colab-df-spinner');\n",
              "          try {\n",
              "            const charts = await google.colab.kernel.invokeFunction(\n",
              "                'suggestCharts', [key], {});\n",
              "          } catch (error) {\n",
              "            console.error('Error during call to suggestCharts:', error);\n",
              "          }\n",
              "          quickchartButtonEl.classList.remove('colab-df-spinner');\n",
              "          quickchartButtonEl.classList.add('colab-df-quickchart-complete');\n",
              "        }\n",
              "        (() => {\n",
              "          let quickchartButtonEl =\n",
              "            document.querySelector('#df-c669c15c-80b3-4727-804d-c42974edd3be button');\n",
              "          quickchartButtonEl.style.display =\n",
              "            google.colab.kernel.accessAllowed ? 'block' : 'none';\n",
              "        })();\n",
              "      </script>\n",
              "    </div>\n",
              "\n",
              "    </div>\n",
              "  </div>\n"
            ],
            "application/vnd.google.colaboratory.intrinsic+json": {
              "type": "dataframe",
              "summary": "{\n  \"name\": \"df\",\n  \"rows\": 11,\n  \"fields\": [\n    {\n      \"column\": \"id\",\n      \"properties\": {\n        \"dtype\": \"number\",\n        \"std\": 24739.06835358706,\n        \"min\": 67.0,\n        \"max\": 72940.0,\n        \"num_unique_values\": 8,\n        \"samples\": [\n          36517.82935420744,\n          36932.0,\n          5110.0\n        ],\n        \"semantic_type\": \"\",\n        \"description\": \"\"\n      }\n    },\n    {\n      \"column\": \"gender\",\n      \"properties\": {\n        \"dtype\": \"category\",\n        \"num_unique_values\": 4,\n        \"samples\": [\n          3,\n          \"2994\",\n          \"5110\"\n        ],\n        \"semantic_type\": \"\",\n        \"description\": \"\"\n      }\n    },\n    {\n      \"column\": \"age\",\n      \"properties\": {\n        \"dtype\": \"number\",\n        \"std\": 1792.744047061404,\n        \"min\": 0.08,\n        \"max\": 5110.0,\n        \"num_unique_values\": 8,\n        \"samples\": [\n          43.226614481409,\n          45.0,\n          5110.0\n        ],\n        \"semantic_type\": \"\",\n        \"description\": \"\"\n      }\n    },\n    {\n      \"column\": \"hypertension\",\n      \"properties\": {\n        \"dtype\": \"number\",\n        \"std\": 1806.5874475501562,\n        \"min\": 0.0,\n        \"max\": 5110.0,\n        \"num_unique_values\": 5,\n        \"samples\": [\n          0.0974559686888454,\n          1.0,\n          0.29660667423378534\n        ],\n        \"semantic_type\": \"\",\n        \"description\": \"\"\n      }\n    },\n    {\n      \"column\": \"heart_disease\",\n      \"properties\": {\n        \"dtype\": \"number\",\n        \"std\": 1806.593204812832,\n        \"min\": 0.0,\n        \"max\": 5110.0,\n        \"num_unique_values\": 5,\n        \"samples\": [\n          0.05401174168297456,\n          1.0,\n          0.22606298750336476\n        ],\n        \"semantic_type\": \"\",\n        \"description\": \"\"\n      }\n    },\n    {\n      \"column\": \"ever_married\",\n      \"properties\": {\n        \"dtype\": \"category\",\n        \"num_unique_values\": 4,\n        \"samples\": [\n          2,\n          \"3353\",\n          \"5110\"\n        ],\n        \"semantic_type\": \"\",\n        \"description\": \"\"\n      }\n    },\n    {\n      \"column\": \"work_type\",\n      \"properties\": {\n        \"dtype\": \"category\",\n        \"num_unique_values\": 4,\n        \"samples\": [\n          5,\n          \"2925\",\n          \"5110\"\n        ],\n        \"semantic_type\": \"\",\n        \"description\": \"\"\n      }\n    },\n    {\n      \"column\": \"Residence_type\",\n      \"properties\": {\n        \"dtype\": \"category\",\n        \"num_unique_values\": 4,\n        \"samples\": [\n          2,\n          \"2596\",\n          \"5110\"\n        ],\n        \"semantic_type\": \"\",\n        \"description\": \"\"\n      }\n    },\n    {\n      \"column\": \"avg_glucose_level\",\n      \"properties\": {\n        \"dtype\": \"number\",\n        \"std\": 1769.6002138244987,\n        \"min\": 45.28356015058203,\n        \"max\": 5110.0,\n        \"num_unique_values\": 8,\n        \"samples\": [\n          106.1476771037182,\n          91.88499999999999,\n          5110.0\n        ],\n        \"semantic_type\": \"\",\n        \"description\": \"\"\n      }\n    },\n    {\n      \"column\": \"bmi\",\n      \"properties\": {\n        \"dtype\": \"number\",\n        \"std\": 1724.2356567020179,\n        \"min\": 7.854066729680158,\n        \"max\": 4909.0,\n        \"num_unique_values\": 8,\n        \"samples\": [\n          28.893236911794666,\n          28.1,\n          4909.0\n        ],\n        \"semantic_type\": \"\",\n        \"description\": \"\"\n      }\n    },\n    {\n      \"column\": \"smoking_status\",\n      \"properties\": {\n        \"dtype\": \"category\",\n        \"num_unique_values\": 4,\n        \"samples\": [\n          4,\n          \"1892\",\n          \"5110\"\n        ],\n        \"semantic_type\": \"\",\n        \"description\": \"\"\n      }\n    },\n    {\n      \"column\": \"stroke\",\n      \"properties\": {\n        \"dtype\": \"number\",\n        \"std\": 1806.5940143142543,\n        \"min\": 0.0,\n        \"max\": 5110.0,\n        \"num_unique_values\": 5,\n        \"samples\": [\n          0.0487279843444227,\n          1.0,\n          0.21531985698026107\n        ],\n        \"semantic_type\": \"\",\n        \"description\": \"\"\n      }\n    }\n  ]\n}"
            }
          },
          "metadata": {},
          "execution_count": 5
        }
      ]
    },
    {
      "cell_type": "markdown",
      "source": [
        "By running `df.describe(include='all')`, we obtain a summary of both numerical and categorical columns.\n",
        "\n",
        "* For numerical columns (e.g., age, bmi), the output includes statistics such as mean, standard deviation, min, max, and quartiles.\n",
        "* For categorical columns (e.g., gender, work_type), it shows the number of unique categories, the most frequent value (`top`), and its frequency (`freq`).\n",
        "* This helps us quickly understand the distribution, detect outliers, and identify missing values (e.g., the `bmi` column has 201 missing entries).\n"
      ],
      "metadata": {
        "id": "eGNXRgU6BZyB"
      }
    },
    {
      "cell_type": "code",
      "source": [
        "# sum all of the missing values\n",
        "\n",
        "df.isnull().sum()\n"
      ],
      "metadata": {
        "colab": {
          "base_uri": "https://localhost:8080/",
          "height": 462
        },
        "id": "u4AOBaRvBWC3",
        "outputId": "7cf4f789-bcd5-4a26-f02a-9a25b799c946"
      },
      "execution_count": 6,
      "outputs": [
        {
          "output_type": "execute_result",
          "data": {
            "text/plain": [
              "id                     0\n",
              "gender                 0\n",
              "age                    0\n",
              "hypertension           0\n",
              "heart_disease          0\n",
              "ever_married           0\n",
              "work_type              0\n",
              "Residence_type         0\n",
              "avg_glucose_level      0\n",
              "bmi                  201\n",
              "smoking_status         0\n",
              "stroke                 0\n",
              "dtype: int64"
            ],
            "text/html": [
              "<div>\n",
              "<style scoped>\n",
              "    .dataframe tbody tr th:only-of-type {\n",
              "        vertical-align: middle;\n",
              "    }\n",
              "\n",
              "    .dataframe tbody tr th {\n",
              "        vertical-align: top;\n",
              "    }\n",
              "\n",
              "    .dataframe thead th {\n",
              "        text-align: right;\n",
              "    }\n",
              "</style>\n",
              "<table border=\"1\" class=\"dataframe\">\n",
              "  <thead>\n",
              "    <tr style=\"text-align: right;\">\n",
              "      <th></th>\n",
              "      <th>0</th>\n",
              "    </tr>\n",
              "  </thead>\n",
              "  <tbody>\n",
              "    <tr>\n",
              "      <th>id</th>\n",
              "      <td>0</td>\n",
              "    </tr>\n",
              "    <tr>\n",
              "      <th>gender</th>\n",
              "      <td>0</td>\n",
              "    </tr>\n",
              "    <tr>\n",
              "      <th>age</th>\n",
              "      <td>0</td>\n",
              "    </tr>\n",
              "    <tr>\n",
              "      <th>hypertension</th>\n",
              "      <td>0</td>\n",
              "    </tr>\n",
              "    <tr>\n",
              "      <th>heart_disease</th>\n",
              "      <td>0</td>\n",
              "    </tr>\n",
              "    <tr>\n",
              "      <th>ever_married</th>\n",
              "      <td>0</td>\n",
              "    </tr>\n",
              "    <tr>\n",
              "      <th>work_type</th>\n",
              "      <td>0</td>\n",
              "    </tr>\n",
              "    <tr>\n",
              "      <th>Residence_type</th>\n",
              "      <td>0</td>\n",
              "    </tr>\n",
              "    <tr>\n",
              "      <th>avg_glucose_level</th>\n",
              "      <td>0</td>\n",
              "    </tr>\n",
              "    <tr>\n",
              "      <th>bmi</th>\n",
              "      <td>201</td>\n",
              "    </tr>\n",
              "    <tr>\n",
              "      <th>smoking_status</th>\n",
              "      <td>0</td>\n",
              "    </tr>\n",
              "    <tr>\n",
              "      <th>stroke</th>\n",
              "      <td>0</td>\n",
              "    </tr>\n",
              "  </tbody>\n",
              "</table>\n",
              "</div><br><label><b>dtype:</b> int64</label>"
            ]
          },
          "metadata": {},
          "execution_count": 6
        }
      ]
    },
    {
      "cell_type": "markdown",
      "source": [
        "We know that there are 201 missing values in the bmi index column (i.e., bodymass index) and so we have to decide how to manage them."
      ],
      "metadata": {
        "id": "Vb_et4MnEWgz"
      }
    },
    {
      "cell_type": "code",
      "source": [
        "df.dtypes"
      ],
      "metadata": {
        "colab": {
          "base_uri": "https://localhost:8080/",
          "height": 462
        },
        "id": "O312F0LsEG8I",
        "outputId": "b1c938cc-51db-428e-c644-e7d88ccc9ea9"
      },
      "execution_count": 7,
      "outputs": [
        {
          "output_type": "execute_result",
          "data": {
            "text/plain": [
              "id                     int64\n",
              "gender                object\n",
              "age                  float64\n",
              "hypertension           int64\n",
              "heart_disease          int64\n",
              "ever_married          object\n",
              "work_type             object\n",
              "Residence_type        object\n",
              "avg_glucose_level    float64\n",
              "bmi                  float64\n",
              "smoking_status        object\n",
              "stroke                 int64\n",
              "dtype: object"
            ],
            "text/html": [
              "<div>\n",
              "<style scoped>\n",
              "    .dataframe tbody tr th:only-of-type {\n",
              "        vertical-align: middle;\n",
              "    }\n",
              "\n",
              "    .dataframe tbody tr th {\n",
              "        vertical-align: top;\n",
              "    }\n",
              "\n",
              "    .dataframe thead th {\n",
              "        text-align: right;\n",
              "    }\n",
              "</style>\n",
              "<table border=\"1\" class=\"dataframe\">\n",
              "  <thead>\n",
              "    <tr style=\"text-align: right;\">\n",
              "      <th></th>\n",
              "      <th>0</th>\n",
              "    </tr>\n",
              "  </thead>\n",
              "  <tbody>\n",
              "    <tr>\n",
              "      <th>id</th>\n",
              "      <td>int64</td>\n",
              "    </tr>\n",
              "    <tr>\n",
              "      <th>gender</th>\n",
              "      <td>object</td>\n",
              "    </tr>\n",
              "    <tr>\n",
              "      <th>age</th>\n",
              "      <td>float64</td>\n",
              "    </tr>\n",
              "    <tr>\n",
              "      <th>hypertension</th>\n",
              "      <td>int64</td>\n",
              "    </tr>\n",
              "    <tr>\n",
              "      <th>heart_disease</th>\n",
              "      <td>int64</td>\n",
              "    </tr>\n",
              "    <tr>\n",
              "      <th>ever_married</th>\n",
              "      <td>object</td>\n",
              "    </tr>\n",
              "    <tr>\n",
              "      <th>work_type</th>\n",
              "      <td>object</td>\n",
              "    </tr>\n",
              "    <tr>\n",
              "      <th>Residence_type</th>\n",
              "      <td>object</td>\n",
              "    </tr>\n",
              "    <tr>\n",
              "      <th>avg_glucose_level</th>\n",
              "      <td>float64</td>\n",
              "    </tr>\n",
              "    <tr>\n",
              "      <th>bmi</th>\n",
              "      <td>float64</td>\n",
              "    </tr>\n",
              "    <tr>\n",
              "      <th>smoking_status</th>\n",
              "      <td>object</td>\n",
              "    </tr>\n",
              "    <tr>\n",
              "      <th>stroke</th>\n",
              "      <td>int64</td>\n",
              "    </tr>\n",
              "  </tbody>\n",
              "</table>\n",
              "</div><br><label><b>dtype:</b> object</label>"
            ]
          },
          "metadata": {},
          "execution_count": 7
        }
      ]
    },
    {
      "cell_type": "markdown",
      "source": [
        "Note :\n",
        "*  Categorical variables :  gender, ever_married, work_type, Residence_type, smoking_status\n",
        "* Numerical variables : id, age, hypertension, heart_desease, avg_glucose_level, bmi\n",
        "* Target : stroke"
      ],
      "metadata": {
        "id": "UFJoytIuFPR0"
      }
    },
    {
      "cell_type": "markdown",
      "source": [
        "## Data Visualization"
      ],
      "metadata": {
        "id": "f6CbzgtuGTsJ"
      }
    },
    {
      "cell_type": "code",
      "source": [
        "import seaborn as sns\n",
        "import matplotlib.pyplot as plt\n",
        "\n",
        "sns.countplot(x='stroke', data=df)\n",
        "plt.title('Target distribution (stroke)')\n"
      ],
      "metadata": {
        "colab": {
          "base_uri": "https://localhost:8080/",
          "height": 491
        },
        "id": "KzZLzM6PFEIw",
        "outputId": "164c53a7-e61b-4ca2-d688-779c53c2a8b6"
      },
      "execution_count": 8,
      "outputs": [
        {
          "output_type": "execute_result",
          "data": {
            "text/plain": [
              "Text(0.5, 1.0, 'Target distribution (stroke)')"
            ]
          },
          "metadata": {},
          "execution_count": 8
        },
        {
          "output_type": "display_data",
          "data": {
            "text/plain": [
              "<Figure size 640x480 with 1 Axes>"
            ],
            "image/png": "[encoded data removed]"
          },
          "metadata": {}
        }
      ]
    },
    {
      "cell_type": "markdown",
      "source": [
        "As we can see most of the stroke values are 0"
      ],
      "metadata": {
        "id": "wDfnBj3rG6RF"
      }
    },
    {
      "cell_type": "code",
      "source": [
        "# Boxplot\n",
        "sns.boxplot(x='stroke', y='age', data=df)\n"
      ],
      "metadata": {
        "colab": {
          "base_uri": "https://localhost:8080/",
          "height": 468
        },
        "id": "ipTC1WKfGsor",
        "outputId": "44a51a7d-9625-4702-bcb6-039bc7832fe3"
      },
      "execution_count": 9,
      "outputs": [
        {
          "output_type": "execute_result",
          "data": {
            "text/plain": [
              "<Axes: xlabel='stroke', ylabel='age'>"
            ]
          },
          "metadata": {},
          "execution_count": 9
        },
        {
          "output_type": "display_data",
          "data": {
            "text/plain": [
              "<Figure size 640x480 with 1 Axes>"
            ],
            "image/png": "[encoded data removed]"
          },
          "metadata": {}
        }
      ]
    },
    {
      "cell_type": "code",
      "source": [
        "sns.histplot(df['avg_glucose_level'], kde=True)\n"
      ],
      "metadata": {
        "colab": {
          "base_uri": "https://localhost:8080/",
          "height": 469
        },
        "id": "bPkWPQKYXNSd",
        "outputId": "038097c9-9b6f-4eaa-d47d-4f13e8d04d20"
      },
      "execution_count": 10,
      "outputs": [
        {
          "output_type": "execute_result",
          "data": {
            "text/plain": [
              "<Axes: xlabel='avg_glucose_level', ylabel='Count'>"
            ]
          },
          "metadata": {},
          "execution_count": 10
        },
        {
          "output_type": "display_data",
          "data": {
            "text/plain": [
              "<Figure size 640x480 with 1 Axes>"
            ],
            "image/png": "[encoded data removed]"
          },
          "metadata": {}
        }
      ]
    },
    {
      "cell_type": "markdown",
      "source": [
        "This histogram shows that the majority of patients have an average glucose level around 80–90. The distribution appears to be right-skewed, with a primary peak in the lower glucose range and a secondary peak around 200, suggesting the presence of two distinct subgroups: one possibly representing patients with normal glucose levels, and the other representing those at risk due to elevated levels.\n",
        "\n",
        "We can also observe that some patients have extremely high glucose levels, exceeding 250. These could either be outliers or may indicate severe cases of hyperglycemia, which is relevant because hyperglycemia is a well-known risk factor for strokes.\n",
        "\n",
        "This distribution may justify further analysis to determine whether patients with higher glucose levels are more likely to have suffered a stroke. Understanding this relationship could support the identification of high-risk patients and contribute to the development of predictive models for stroke occurrence."
      ],
      "metadata": {
        "id": "FND494h4cBj7"
      }
    },
    {
      "cell_type": "code",
      "source": [
        "sns.violinplot(x='stroke', y='avg_glucose_level', data=df)"
      ],
      "metadata": {
        "colab": {
          "base_uri": "https://localhost:8080/",
          "height": 468
        },
        "id": "DN5RriLeYtiL",
        "outputId": "31ca517f-2c02-47d3-ed69-f44048c890a5"
      },
      "execution_count": 11,
      "outputs": [
        {
          "output_type": "execute_result",
          "data": {
            "text/plain": [
              "<Axes: xlabel='stroke', ylabel='avg_glucose_level'>"
            ]
          },
          "metadata": {},
          "execution_count": 11
        },
        {
          "output_type": "display_data",
          "data": {
            "text/plain": [
              "<Figure size 640x480 with 1 Axes>"
            ],
            "image/png": "[encoded data removed]"
          },
          "metadata": {}
        }
      ]
    },
    {
      "cell_type": "code",
      "source": [
        "sns.heatmap(df.corr(numeric_only=True), annot=True, cmap='coolwarm')\n"
      ],
      "metadata": {
        "colab": {
          "base_uri": "https://localhost:8080/",
          "height": 566
        },
        "id": "H4CBejSHGthV",
        "outputId": "aacbac1b-6388-459a-fb82-cee2b855576f"
      },
      "execution_count": 12,
      "outputs": [
        {
          "output_type": "execute_result",
          "data": {
            "text/plain": [
              "<Axes: >"
            ]
          },
          "metadata": {},
          "execution_count": 12
        },
        {
          "output_type": "display_data",
          "data": {
            "text/plain": [
              "<Figure size 640x480 with 2 Axes>"
            ],
            "image/png": "[encoded data removed]"
          },
          "metadata": {}
        }
      ]
    },
    {
      "cell_type": "code",
      "source": [
        "import matplotlib.pyplot as plt\n",
        "import seaborn as sns\n",
        "\n",
        "numeric_features = ['age', 'avg_glucose_level', 'bmi']\n",
        "for feature in numeric_features:\n",
        "    plt.figure(figsize=(8,4))\n",
        "    sns.histplot(df[feature].dropna(), kde=True)\n",
        "    plt.title(f'Distribuzione di {feature}')\n",
        "    plt.show()\n"
      ],
      "metadata": {
        "id": "fJKaG3ATG0yh",
        "colab": {
          "base_uri": "https://localhost:8080/",
          "height": 1000
        },
        "outputId": "a57d67f3-a3eb-4432-80bf-0f2cff51c38a"
      },
      "execution_count": 63,
      "outputs": [
        {
          "output_type": "display_data",
          "data": {
            "text/plain": [
              "<Figure size 800x400 with 1 Axes>"
            ],
            "image/png": "[encoded data removed]"
          },
          "metadata": {}
        },
        {
          "output_type": "display_data",
          "data": {
            "text/plain": [
              "<Figure size 800x400 with 1 Axes>"
            ],
            "image/png": "[encoded data removed]"
          },
          "metadata": {}
        },
        {
          "output_type": "display_data",
          "data": {
            "text/plain": [
              "<Figure size 800x400 with 1 Axes>"
            ],
            "image/png": "[encoded data removed]"
          },
          "metadata": {}
        }
      ]
    },
    {
      "cell_type": "code",
      "source": [
        "import seaborn as sns\n",
        "import matplotlib.pyplot as plt\n",
        "\n",
        "categorical_features = ['gender', 'hypertension', 'heart_disease', 'ever_married', 'work_type', 'Residence_type', 'smoking_status']\n",
        "\n",
        "for feature in categorical_features:\n",
        "    plt.figure(figsize=(8,4))\n",
        "    sns.countplot(data=df, x=feature)\n",
        "    plt.title(f'Distribuzione di {feature}')\n",
        "    plt.xticks(rotation=45)\n",
        "    plt.show()\n"
      ],
      "metadata": {
        "colab": {
          "base_uri": "https://localhost:8080/",
          "height": 400
        },
        "id": "Y2bQoFWrkjSY",
        "outputId": "0a0a24e0-4926-405c-c208-53d21e868478"
      },
      "execution_count": 65,
      "outputs": [
        {
          "output_type": "error",
          "ename": "ValueError",
          "evalue": "Could not interpret value `gender` for `x`. An entry with this name does not appear in `data`.",
          "traceback": [
            "\u001b[0;31m---------------------------------------------------------------------------\u001b[0m",
            "\u001b[0;31mValueError\u001b[0m                                Traceback (most recent call last)",
            "\u001b[0;32m<ipython-input-65-3231025659>\u001b[0m in \u001b[0;36m<cell line: 0>\u001b[0;34m()\u001b[0m\n\u001b[1;32m      6\u001b[0m \u001b[0;32mfor\u001b[0m \u001b[0mfeature\u001b[0m \u001b[0;32min\u001b[0m \u001b[0mcategorical_features\u001b[0m\u001b[0;34m:\u001b[0m\u001b[0;34m\u001b[0m\u001b[0;34m\u001b[0m\u001b[0m\n\u001b[1;32m      7\u001b[0m     \u001b[0mplt\u001b[0m\u001b[0;34m.\u001b[0m\u001b[0mfigure\u001b[0m\u001b[0;34m(\u001b[0m\u001b[0mfigsize\u001b[0m\u001b[0;34m=\u001b[0m\u001b[0;34m(\u001b[0m\u001b[0;36m8\u001b[0m\u001b[0;34m,\u001b[0m\u001b[0;36m4\u001b[0m\u001b[0;34m)\u001b[0m\u001b[0;34m)\u001b[0m\u001b[0;34m\u001b[0m\u001b[0;34m\u001b[0m\u001b[0m\n\u001b[0;32m----> 8\u001b[0;31m     \u001b[0msns\u001b[0m\u001b[0;34m.\u001b[0m\u001b[0mcountplot\u001b[0m\u001b[0;34m(\u001b[0m\u001b[0mdata\u001b[0m\u001b[0;34m=\u001b[0m\u001b[0mdf\u001b[0m\u001b[0;34m,\u001b[0m \u001b[0mx\u001b[0m\u001b[0;34m=\u001b[0m\u001b[0mfeature\u001b[0m\u001b[0;34m)\u001b[0m\u001b[0;34m\u001b[0m\u001b[0;34m\u001b[0m\u001b[0m\n\u001b[0m\u001b[1;32m      9\u001b[0m     \u001b[0mplt\u001b[0m\u001b[0;34m.\u001b[0m\u001b[0mtitle\u001b[0m\u001b[0;34m(\u001b[0m\u001b[0;34mf'Distribuzione di {feature}'\u001b[0m\u001b[0;34m)\u001b[0m\u001b[0;34m\u001b[0m\u001b[0;34m\u001b[0m\u001b[0m\n\u001b[1;32m     10\u001b[0m     \u001b[0mplt\u001b[0m\u001b[0;34m.\u001b[0m\u001b[0mxticks\u001b[0m\u001b[0;34m(\u001b[0m\u001b[0mrotation\u001b[0m\u001b[0;34m=\u001b[0m\u001b[0;36m45\u001b[0m\u001b[0;34m)\u001b[0m\u001b[0;34m\u001b[0m\u001b[0;34m\u001b[0m\u001b[0m\n",
            "\u001b[0;32m/usr/local/lib/python3.11/dist-packages/seaborn/categorical.py\u001b[0m in \u001b[0;36mcountplot\u001b[0;34m(data, x, y, hue, order, hue_order, orient, color, palette, saturation, fill, hue_norm, stat, width, dodge, gap, log_scale, native_scale, formatter, legend, ax, **kwargs)\u001b[0m\n\u001b[1;32m   2629\u001b[0m         \u001b[0;32mraise\u001b[0m \u001b[0mTypeError\u001b[0m\u001b[0;34m(\u001b[0m\u001b[0;34m\"Cannot pass values for both `x` and `y`.\"\u001b[0m\u001b[0;34m)\u001b[0m\u001b[0;34m\u001b[0m\u001b[0;34m\u001b[0m\u001b[0m\n\u001b[1;32m   2630\u001b[0m \u001b[0;34m\u001b[0m\u001b[0m\n\u001b[0;32m-> 2631\u001b[0;31m     p = _CategoricalAggPlotter(\n\u001b[0m\u001b[1;32m   2632\u001b[0m         \u001b[0mdata\u001b[0m\u001b[0;34m=\u001b[0m\u001b[0mdata\u001b[0m\u001b[0;34m,\u001b[0m\u001b[0;34m\u001b[0m\u001b[0;34m\u001b[0m\u001b[0m\n\u001b[1;32m   2633\u001b[0m         \u001b[0mvariables\u001b[0m\u001b[0;34m=\u001b[0m\u001b[0mdict\u001b[0m\u001b[0;34m(\u001b[0m\u001b[0mx\u001b[0m\u001b[0;34m=\u001b[0m\u001b[0mx\u001b[0m\u001b[0;34m,\u001b[0m \u001b[0my\u001b[0m\u001b[0;34m=\u001b[0m\u001b[0my\u001b[0m\u001b[0;34m,\u001b[0m \u001b[0mhue\u001b[0m\u001b[0;34m=\u001b[0m\u001b[0mhue\u001b[0m\u001b[0;34m)\u001b[0m\u001b[0;34m,\u001b[0m\u001b[0;34m\u001b[0m\u001b[0;34m\u001b[0m\u001b[0m\n",
            "\u001b[0;32m/usr/local/lib/python3.11/dist-packages/seaborn/categorical.py\u001b[0m in \u001b[0;36m__init__\u001b[0;34m(self, data, variables, order, orient, require_numeric, color, legend)\u001b[0m\n\u001b[1;32m     65\u001b[0m     ):\n\u001b[1;32m     66\u001b[0m \u001b[0;34m\u001b[0m\u001b[0m\n\u001b[0;32m---> 67\u001b[0;31m         \u001b[0msuper\u001b[0m\u001b[0;34m(\u001b[0m\u001b[0;34m)\u001b[0m\u001b[0;34m.\u001b[0m\u001b[0m__init__\u001b[0m\u001b[0;34m(\u001b[0m\u001b[0mdata\u001b[0m\u001b[0;34m=\u001b[0m\u001b[0mdata\u001b[0m\u001b[0;34m,\u001b[0m \u001b[0mvariables\u001b[0m\u001b[0;34m=\u001b[0m\u001b[0mvariables\u001b[0m\u001b[0;34m)\u001b[0m\u001b[0;34m\u001b[0m\u001b[0;34m\u001b[0m\u001b[0m\n\u001b[0m\u001b[1;32m     68\u001b[0m \u001b[0;34m\u001b[0m\u001b[0m\n\u001b[1;32m     69\u001b[0m         \u001b[0;31m# This method takes care of some bookkeeping that is necessary because the\u001b[0m\u001b[0;34m\u001b[0m\u001b[0;34m\u001b[0m\u001b[0m\n",
            "\u001b[0;32m/usr/local/lib/python3.11/dist-packages/seaborn/_base.py\u001b[0m in \u001b[0;36m__init__\u001b[0;34m(self, data, variables)\u001b[0m\n\u001b[1;32m    632\u001b[0m         \u001b[0;31m# information for numeric axes would be information about log scales.\u001b[0m\u001b[0;34m\u001b[0m\u001b[0;34m\u001b[0m\u001b[0m\n\u001b[1;32m    633\u001b[0m         \u001b[0mself\u001b[0m\u001b[0;34m.\u001b[0m\u001b[0m_var_ordered\u001b[0m \u001b[0;34m=\u001b[0m \u001b[0;34m{\u001b[0m\u001b[0;34m\"x\"\u001b[0m\u001b[0;34m:\u001b[0m \u001b[0;32mFalse\u001b[0m\u001b[0;34m,\u001b[0m \u001b[0;34m\"y\"\u001b[0m\u001b[0;34m:\u001b[0m \u001b[0;32mFalse\u001b[0m\u001b[0;34m}\u001b[0m  \u001b[0;31m# alt., used DefaultDict\u001b[0m\u001b[0;34m\u001b[0m\u001b[0;34m\u001b[0m\u001b[0m\n\u001b[0;32m--> 634\u001b[0;31m         \u001b[0mself\u001b[0m\u001b[0;34m.\u001b[0m\u001b[0massign_variables\u001b[0m\u001b[0;34m(\u001b[0m\u001b[0mdata\u001b[0m\u001b[0;34m,\u001b[0m \u001b[0mvariables\u001b[0m\u001b[0;34m)\u001b[0m\u001b[0;34m\u001b[0m\u001b[0;34m\u001b[0m\u001b[0m\n\u001b[0m\u001b[1;32m    635\u001b[0m \u001b[0;34m\u001b[0m\u001b[0m\n\u001b[1;32m    636\u001b[0m         \u001b[0;31m# TODO Lots of tests assume that these are called to initialize the\u001b[0m\u001b[0;34m\u001b[0m\u001b[0;34m\u001b[0m\u001b[0m\n",
            "\u001b[0;32m/usr/local/lib/python3.11/dist-packages/seaborn/_base.py\u001b[0m in \u001b[0;36massign_variables\u001b[0;34m(self, data, variables)\u001b[0m\n\u001b[1;32m    677\u001b[0m             \u001b[0;31m# to centralize / standardize data consumption logic.\u001b[0m\u001b[0;34m\u001b[0m\u001b[0;34m\u001b[0m\u001b[0m\n\u001b[1;32m    678\u001b[0m             \u001b[0mself\u001b[0m\u001b[0;34m.\u001b[0m\u001b[0minput_format\u001b[0m \u001b[0;34m=\u001b[0m \u001b[0;34m\"long\"\u001b[0m\u001b[0;34m\u001b[0m\u001b[0;34m\u001b[0m\u001b[0m\n\u001b[0;32m--> 679\u001b[0;31m             \u001b[0mplot_data\u001b[0m \u001b[0;34m=\u001b[0m \u001b[0mPlotData\u001b[0m\u001b[0;34m(\u001b[0m\u001b[0mdata\u001b[0m\u001b[0;34m,\u001b[0m \u001b[0mvariables\u001b[0m\u001b[0;34m)\u001b[0m\u001b[0;34m\u001b[0m\u001b[0;34m\u001b[0m\u001b[0m\n\u001b[0m\u001b[1;32m    680\u001b[0m             \u001b[0mframe\u001b[0m \u001b[0;34m=\u001b[0m \u001b[0mplot_data\u001b[0m\u001b[0;34m.\u001b[0m\u001b[0mframe\u001b[0m\u001b[0;34m\u001b[0m\u001b[0;34m\u001b[0m\u001b[0m\n\u001b[1;32m    681\u001b[0m             \u001b[0mnames\u001b[0m \u001b[0;34m=\u001b[0m \u001b[0mplot_data\u001b[0m\u001b[0;34m.\u001b[0m\u001b[0mnames\u001b[0m\u001b[0;34m\u001b[0m\u001b[0;34m\u001b[0m\u001b[0m\n",
            "\u001b[0;32m/usr/local/lib/python3.11/dist-packages/seaborn/_core/data.py\u001b[0m in \u001b[0;36m__init__\u001b[0;34m(self, data, variables)\u001b[0m\n\u001b[1;32m     56\u001b[0m \u001b[0;34m\u001b[0m\u001b[0m\n\u001b[1;32m     57\u001b[0m         \u001b[0mdata\u001b[0m \u001b[0;34m=\u001b[0m \u001b[0mhandle_data_source\u001b[0m\u001b[0;34m(\u001b[0m\u001b[0mdata\u001b[0m\u001b[0;34m)\u001b[0m\u001b[0;34m\u001b[0m\u001b[0;34m\u001b[0m\u001b[0m\n\u001b[0;32m---> 58\u001b[0;31m         \u001b[0mframe\u001b[0m\u001b[0;34m,\u001b[0m \u001b[0mnames\u001b[0m\u001b[0;34m,\u001b[0m \u001b[0mids\u001b[0m \u001b[0;34m=\u001b[0m \u001b[0mself\u001b[0m\u001b[0;34m.\u001b[0m\u001b[0m_assign_variables\u001b[0m\u001b[0;34m(\u001b[0m\u001b[0mdata\u001b[0m\u001b[0;34m,\u001b[0m \u001b[0mvariables\u001b[0m\u001b[0;34m)\u001b[0m\u001b[0;34m\u001b[0m\u001b[0;34m\u001b[0m\u001b[0m\n\u001b[0m\u001b[1;32m     59\u001b[0m \u001b[0;34m\u001b[0m\u001b[0m\n\u001b[1;32m     60\u001b[0m         \u001b[0mself\u001b[0m\u001b[0;34m.\u001b[0m\u001b[0mframe\u001b[0m \u001b[0;34m=\u001b[0m \u001b[0mframe\u001b[0m\u001b[0;34m\u001b[0m\u001b[0;34m\u001b[0m\u001b[0m\n",
            "\u001b[0;32m/usr/local/lib/python3.11/dist-packages/seaborn/_core/data.py\u001b[0m in \u001b[0;36m_assign_variables\u001b[0;34m(self, data, variables)\u001b[0m\n\u001b[1;32m    230\u001b[0m                 \u001b[0;32melse\u001b[0m\u001b[0;34m:\u001b[0m\u001b[0;34m\u001b[0m\u001b[0;34m\u001b[0m\u001b[0m\n\u001b[1;32m    231\u001b[0m                     \u001b[0merr\u001b[0m \u001b[0;34m+=\u001b[0m \u001b[0;34m\"An entry with this name does not appear in `data`.\"\u001b[0m\u001b[0;34m\u001b[0m\u001b[0;34m\u001b[0m\u001b[0m\n\u001b[0;32m--> 232\u001b[0;31m                 \u001b[0;32mraise\u001b[0m \u001b[0mValueError\u001b[0m\u001b[0;34m(\u001b[0m\u001b[0merr\u001b[0m\u001b[0;34m)\u001b[0m\u001b[0;34m\u001b[0m\u001b[0;34m\u001b[0m\u001b[0m\n\u001b[0m\u001b[1;32m    233\u001b[0m \u001b[0;34m\u001b[0m\u001b[0m\n\u001b[1;32m    234\u001b[0m             \u001b[0;32melse\u001b[0m\u001b[0;34m:\u001b[0m\u001b[0;34m\u001b[0m\u001b[0;34m\u001b[0m\u001b[0m\n",
            "\u001b[0;31mValueError\u001b[0m: Could not interpret value `gender` for `x`. An entry with this name does not appear in `data`."
          ]
        },
        {
          "output_type": "display_data",
          "data": {
            "text/plain": [
              "<Figure size 800x400 with 0 Axes>"
            ]
          },
          "metadata": {}
        }
      ]
    },
    {
      "cell_type": "markdown",
      "source": [
        "# Preprocessing : data cleaning, encoding, scaling and splitting\n"
      ],
      "metadata": {
        "id": "-fsK79CEjzpp"
      }
    },
    {
      "cell_type": "markdown",
      "source": [
        "### Handling Missing Values\n",
        "\n",
        "\n",
        "There are missing values in the `bmi` column. We fill them using the median value to avoid data loss and reduce the influence of outliers.\n"
      ],
      "metadata": {
        "id": "m9oMF3L5m1yH"
      }
    },
    {
      "cell_type": "code",
      "source": [
        "df['bmi'] = df['bmi'].fillna(df['bmi'].median())\n"
      ],
      "metadata": {
        "id": "W0n8gcxcj5Pz"
      },
      "execution_count": 13,
      "outputs": []
    },
    {
      "cell_type": "markdown",
      "source": [
        "### Encoding Categorical Variables\n",
        "\n",
        "Machine learning models require numerical input. We apply label encoding to binary columns and one-hot encoding to multiclass categorical columns such as `gender`, `work_type`, and `smoking_status`.\n"
      ],
      "metadata": {
        "id": "G5qdvEKsnnO1"
      }
    },
    {
      "cell_type": "code",
      "source": [
        "df['ever_married'] = df['ever_married'].map({'Yes': 1, 'No': 0})\n",
        "df['Residence_type'] = df['Residence_type'].map({'Urban': 1, 'Rural': 0})\n"
      ],
      "metadata": {
        "id": "oZL_-2X7nsze"
      },
      "execution_count": 14,
      "outputs": []
    },
    {
      "cell_type": "code",
      "source": [
        "df = pd.get_dummies(df, columns=['work_type', 'smoking_status', 'gender'], drop_first=True)\n",
        "# drop_first = True to avoid multicollinearity"
      ],
      "metadata": {
        "id": "5cZt8pktn9CR"
      },
      "execution_count": 15,
      "outputs": []
    },
    {
      "cell_type": "markdown",
      "source": [
        "### Checking for Class Imbalance\n",
        "\n",
        "\n",
        "The `stroke` column is imbalanced, with far fewer positive cases. We note this issue and will address it during model training using techniques such as SMOTE or class weighting.\n"
      ],
      "metadata": {
        "id": "zNX8cEfaoOLM"
      }
    },
    {
      "cell_type": "code",
      "source": [
        "df['stroke'].value_counts(normalize=True)\n"
      ],
      "metadata": {
        "colab": {
          "base_uri": "https://localhost:8080/",
          "height": 180
        },
        "id": "-lYvE_Y0Rp34",
        "outputId": "b248ede4-62b4-4d78-8264-877dd299ee11"
      },
      "execution_count": 16,
      "outputs": [
        {
          "output_type": "execute_result",
          "data": {
            "text/plain": [
              "stroke\n",
              "0    0.951272\n",
              "1    0.048728\n",
              "Name: proportion, dtype: float64"
            ],
            "text/html": [
              "<div>\n",
              "<style scoped>\n",
              "    .dataframe tbody tr th:only-of-type {\n",
              "        vertical-align: middle;\n",
              "    }\n",
              "\n",
              "    .dataframe tbody tr th {\n",
              "        vertical-align: top;\n",
              "    }\n",
              "\n",
              "    .dataframe thead th {\n",
              "        text-align: right;\n",
              "    }\n",
              "</style>\n",
              "<table border=\"1\" class=\"dataframe\">\n",
              "  <thead>\n",
              "    <tr style=\"text-align: right;\">\n",
              "      <th></th>\n",
              "      <th>proportion</th>\n",
              "    </tr>\n",
              "    <tr>\n",
              "      <th>stroke</th>\n",
              "      <th></th>\n",
              "    </tr>\n",
              "  </thead>\n",
              "  <tbody>\n",
              "    <tr>\n",
              "      <th>0</th>\n",
              "      <td>0.951272</td>\n",
              "    </tr>\n",
              "    <tr>\n",
              "      <th>1</th>\n",
              "      <td>0.048728</td>\n",
              "    </tr>\n",
              "  </tbody>\n",
              "</table>\n",
              "</div><br><label><b>dtype:</b> float64</label>"
            ]
          },
          "metadata": {},
          "execution_count": 16
        }
      ]
    },
    {
      "cell_type": "markdown",
      "source": [
        "#### Scaling"
      ],
      "metadata": {
        "id": "jQPA3u2_KNHP"
      }
    },
    {
      "cell_type": "code",
      "source": [
        "from sklearn.preprocessing import StandardScaler\n",
        "\n",
        "scaler = StandardScaler()\n",
        "df[['age', 'avg_glucose_level', 'bmi']] = scaler.fit_transform(df[['age', 'avg_glucose_level', 'bmi']])\n"
      ],
      "metadata": {
        "id": "Fk_1166hKMuZ"
      },
      "execution_count": 17,
      "outputs": []
    },
    {
      "cell_type": "markdown",
      "source": [
        "### Splitting Features and Target\n",
        "\n",
        "We separate the dataset into features (`X`) and the target variable (`y`, which is `stroke`) to prepare for model training.\n"
      ],
      "metadata": {
        "id": "JCdtTaLzSDFw"
      }
    },
    {
      "cell_type": "code",
      "source": [
        "X = df.drop('stroke', axis=1)\n",
        "y = df['stroke']\n"
      ],
      "metadata": {
        "id": "OBxVs2cgTA7E"
      },
      "execution_count": 18,
      "outputs": []
    },
    {
      "cell_type": "markdown",
      "source": [
        "### Train/Test Split\n",
        "We split the dataset into training and test sets using an 80/20 ratio. Stratification is applied to preserve the original distribution of the target variable across both sets."
      ],
      "metadata": {
        "id": "WEWd1gvwBT_0"
      }
    },
    {
      "cell_type": "markdown",
      "source": [
        "Questo parametro assicura che la proporzione delle classi nel target (y) sia uguale sia nel train set che nel test set.\n",
        "Nel caso del dataset Stroke Prediction, il target y è molto sbilanciato (pochi \"1\", tanti \"0\").\n",
        "\n",
        "⚠️ Senza stratify=y, potresti finire con un test set che ha:\n",
        "* Solo \"0\" (nessun ictus)\n",
        "* O un numero troppo alto o troppo basso di \"1\"\n",
        "\n",
        "✅ Con stratify=y, il rapporto 0/1 viene mantenuto identico nei due set.\n",
        "\n",
        "\n"
      ],
      "metadata": {
        "id": "Wv4aArXHCloD"
      }
    },
    {
      "cell_type": "code",
      "source": [
        "from sklearn.model_selection import train_test_split\n",
        "\n",
        "X_train, X_test, y_train, y_test = train_test_split(\n",
        "    X, y, test_size=0.2, stratify=y, random_state=42\n",
        ")\n"
      ],
      "metadata": {
        "id": "dlADsukEBlRV"
      },
      "execution_count": 19,
      "outputs": []
    },
    {
      "cell_type": "markdown",
      "source": [
        "# Baseline Model: Logistic Regression\n",
        "As a baseline, we apply a simple Logistic Regression model. This allows us to establish a reference performance to compare with more complex models in the next steps. We will evaluate the model using accuracy, confusion matrix, precision, and recall.\n"
      ],
      "metadata": {
        "id": "amcwNKgHFA4M"
      }
    },
    {
      "cell_type": "code",
      "source": [
        "from sklearn.linear_model import LogisticRegression\n",
        "from sklearn.metrics import accuracy_score, confusion_matrix, classification_report\n",
        "\n",
        "# Train the baseline model\n",
        "baseline_model = LogisticRegression(max_iter=10000, class_weight='balanced', random_state=42)\n",
        "baseline_model.fit(X_train, y_train)\n",
        "\n",
        "# Predict on test set\n",
        "y_pred = baseline_model.predict(X_test)\n",
        "\n",
        "# Evaluation\n",
        "print(\"Accuracy:\", accuracy_score(y_test, y_pred))\n",
        "print(\"\\nConfusion Matrix:\\n\", confusion_matrix(y_test, y_pred))\n",
        "print(\"\\nClassification Report:\\n\", classification_report(y_test, y_pred, zero_division=0))\n"
      ],
      "metadata": {
        "colab": {
          "base_uri": "https://localhost:8080/"
        },
        "id": "v592l3KhFCLg",
        "outputId": "30cb0398-e3f6-4767-f75a-0c4a8c893508"
      },
      "execution_count": 20,
      "outputs": [
        {
          "output_type": "stream",
          "name": "stdout",
          "text": [
            "Accuracy: 0.7495107632093934\n",
            "\n",
            "Confusion Matrix:\n",
            " [[726 246]\n",
            " [ 10  40]]\n",
            "\n",
            "Classification Report:\n",
            "               precision    recall  f1-score   support\n",
            "\n",
            "           0       0.99      0.75      0.85       972\n",
            "           1       0.14      0.80      0.24        50\n",
            "\n",
            "    accuracy                           0.75      1022\n",
            "   macro avg       0.56      0.77      0.54      1022\n",
            "weighted avg       0.94      0.75      0.82      1022\n",
            "\n"
          ]
        }
      ]
    },
    {
      "cell_type": "markdown",
      "source": [
        "The logistic regression model achieved an overall accuracy of ~75%.\n",
        "\n",
        "While the precision for the positive class (stroke) is low (0.14), the recall is high (0.80), meaning the model is able to correctly identify most stroke cases.\n",
        "\n",
        "This trade-off indicates a bias toward capturing positives, which may be acceptable in health-related contexts where missing a positive case is riskier than a false alarm.\n"
      ],
      "metadata": {
        "id": "dgyD-paGJpYB"
      }
    },
    {
      "cell_type": "markdown",
      "source": [
        "### Logistic Regression: Convergence Handling\n",
        "\n",
        "Initially, the Logistic Regression model raised a convergence warning, even with `max_iter=2000`. After progressively increasing it, the warning disappeared at `max_iter=10000`, confirming that the model needed more iterations to optimize due to the data imbalance and complexity.\n",
        "\n",
        "This highlights the importance of tuning optimization parameters and monitoring convergence in linear models.\n"
      ],
      "metadata": {
        "id": "gHCKo6sIH9MU"
      }
    },
    {
      "cell_type": "markdown",
      "source": [
        "### About `max_iter` in Logistic Regression\n",
        "\n",
        "The `max_iter` parameter in Logistic Regression defines the maximum number of iterations allowed for the solver to converge. Convergence means the model has found stable coefficients that minimize the loss function.\n",
        "\n",
        "It is not automatic because solvers may take a long time to converge—especially with unscaled or imbalanced data. To prevent infinite loops or excessive computation, scikit-learn sets a default safety limit (usually 100 or 1000). If convergence is not reached, a `ConvergenceWarning` is raised.\n"
      ],
      "metadata": {
        "id": "v6zqP33JJBJ3"
      }
    },
    {
      "cell_type": "markdown",
      "source": [
        "# Defining Models for Comparison\n",
        "We will train and compare three popular classifiers: Random Forest, K-Nearest Neighbors (KNN), and Support Vector Machine (SVM). Each model will be evaluated using accuracy, precision, recall, F1-score, and confusion matrix to assess their performance.\n",
        "\n",
        "We create `evaluate_model` function to avoid repeated code.\n",
        "\n",
        "Note:\n",
        "In this project, Support Vector Machines (SVM) have been applied using the SVC (Support Vector Classifier) class from scikit-learn. SVC is the specific implementation of SVM for classification tasks.\n"
      ],
      "metadata": {
        "id": "PBm660uuM5qR"
      }
    },
    {
      "cell_type": "code",
      "source": [
        "from sklearn.metrics import accuracy_score, classification_report, confusion_matrix\n",
        "\n",
        "def evaluate_model(model, X_train, y_train, X_test, y_test):\n",
        "    model.fit(X_train, y_train)\n",
        "    y_pred = model.predict(X_test)\n",
        "\n",
        "    print(\"Model:\", model.__class__.__name__)\n",
        "    print(\"Accuracy:\", accuracy_score(y_test, y_pred))\n",
        "    print(\"\\nConfusion Matrix:\\n\", confusion_matrix(y_test, y_pred))\n",
        "    print(\"\\nClassification Report:\\n\", classification_report(y_test, y_pred, zero_division=0))\n",
        "    print(\"--------------------------------------------------\\n\")\n"
      ],
      "metadata": {
        "id": "Z-dsu6F9M7C9"
      },
      "execution_count": 21,
      "outputs": []
    },
    {
      "cell_type": "code",
      "source": [
        "from sklearn.ensemble import RandomForestClassifier\n",
        "from sklearn.neighbors import KNeighborsClassifier\n",
        "from sklearn.svm import SVC\n",
        "\n",
        "models = [\n",
        "    RandomForestClassifier(random_state=42, class_weight='balanced'),\n",
        "    KNeighborsClassifier(),\n",
        "    SVC(kernel='rbf', class_weight='balanced', probability=True, random_state=42)\n",
        "]\n",
        "\n",
        "for model in models:\n",
        "    evaluate_model(model, X_train, y_train, X_test, y_test)\n"
      ],
      "metadata": {
        "colab": {
          "base_uri": "https://localhost:8080/"
        },
        "id": "lN1qHwxNNdSN",
        "outputId": "dcdafba3-c85a-42f1-c496-e1bdb58ecf07"
      },
      "execution_count": 22,
      "outputs": [
        {
          "output_type": "stream",
          "name": "stdout",
          "text": [
            "Model: RandomForestClassifier\n",
            "Accuracy: 0.9500978473581213\n",
            "\n",
            "Confusion Matrix:\n",
            " [[971   1]\n",
            " [ 50   0]]\n",
            "\n",
            "Classification Report:\n",
            "               precision    recall  f1-score   support\n",
            "\n",
            "           0       0.95      1.00      0.97       972\n",
            "           1       0.00      0.00      0.00        50\n",
            "\n",
            "    accuracy                           0.95      1022\n",
            "   macro avg       0.48      0.50      0.49      1022\n",
            "weighted avg       0.90      0.95      0.93      1022\n",
            "\n",
            "--------------------------------------------------\n",
            "\n",
            "Model: KNeighborsClassifier\n",
            "Accuracy: 0.9510763209393346\n",
            "\n",
            "Confusion Matrix:\n",
            " [[972   0]\n",
            " [ 50   0]]\n",
            "\n",
            "Classification Report:\n",
            "               precision    recall  f1-score   support\n",
            "\n",
            "           0       0.95      1.00      0.97       972\n",
            "           1       0.00      0.00      0.00        50\n",
            "\n",
            "    accuracy                           0.95      1022\n",
            "   macro avg       0.48      0.50      0.49      1022\n",
            "weighted avg       0.90      0.95      0.93      1022\n",
            "\n",
            "--------------------------------------------------\n",
            "\n",
            "Model: SVC\n",
            "Accuracy: 0.7221135029354208\n",
            "\n",
            "Confusion Matrix:\n",
            " [[729 243]\n",
            " [ 41   9]]\n",
            "\n",
            "Classification Report:\n",
            "               precision    recall  f1-score   support\n",
            "\n",
            "           0       0.95      0.75      0.84       972\n",
            "           1       0.04      0.18      0.06        50\n",
            "\n",
            "    accuracy                           0.72      1022\n",
            "   macro avg       0.49      0.46      0.45      1022\n",
            "weighted avg       0.90      0.72      0.80      1022\n",
            "\n",
            "--------------------------------------------------\n",
            "\n"
          ]
        }
      ]
    },
    {
      "cell_type": "markdown",
      "source": [
        "### Model Evaluation and Class Imbalance Impact\n",
        "\n",
        "#### Random Forest & KNN\n",
        "- Both models reach **95% accuracy**, but this is misleading.\n",
        "- The **recall for the minority class (stroke = 1)** is **0.00** so the model does **not detect any strokes**.\n",
        "- This means the model is **just predicting \"no stroke\" for everyone**, which is dangerous in real-world scenarios.\n",
        "\n",
        "#### SVC\n",
        "- This model captures some stroke cases (recall = 0.18), but still performs poorly.\n",
        "- Accuracy drops to ~72%, but at least the model attempts to distinguish classes.\n",
        "- Precision and F1-score for the positive class remain low.\n",
        "\n",
        "#### Confusion Matrices Summary:\n",
        "| Model      | TP | FN | FP | TN |\n",
        "|------------|----|----|----|----|\n",
        "| RF / KNN   | 0  | 50 | 1  | 971 |\n",
        "| SVM        | 9  | 41 | 243| 729 |\n",
        "\n",
        "**Conclusion:** Accuracy is not a reliable metric in imbalanced datasets. In the next step, we will apply techniques such as:\n",
        "- Resampling (e.g., SMOTE)\n",
        "- Using `class_weight` and more robust metrics like F1-score\n"
      ],
      "metadata": {
        "id": "b943eirzgRDr"
      }
    },
    {
      "cell_type": "markdown",
      "source": [
        "# Class Balancing & Model Re-training"
      ],
      "metadata": {
        "id": "aqcHJnaThW7-"
      }
    },
    {
      "cell_type": "markdown",
      "source": [
        "## SMOTE"
      ],
      "metadata": {
        "id": "4kX-LcSxFuzc"
      }
    },
    {
      "cell_type": "markdown",
      "source": [
        "The original dataset was **highly imbalanced**, with only 5% of positive stroke cases. In such situations, machine learning models tend to ignore the minority class, resulting in poor recall and F1-score for the stroke cases.\n",
        "\n",
        "To overcome this, we applied **SMOTE**, a technique that generates synthetic samples of the minority class, helping the model learn to recognize stroke patterns more effectively. The resampling was applied only to the training set, while evaluation was performed on the original test set, to ensure realistic validation."
      ],
      "metadata": {
        "id": "1FQFGpN4HbCJ"
      }
    },
    {
      "cell_type": "code",
      "source": [
        "!pip install imbalanced-learn\n"
      ],
      "metadata": {
        "colab": {
          "base_uri": "https://localhost:8080/"
        },
        "id": "n-i646KBFj6z",
        "outputId": "3288a3a0-061d-4802-987b-d9d2a8692543"
      },
      "execution_count": 23,
      "outputs": [
        {
          "output_type": "stream",
          "name": "stdout",
          "text": [
            "Requirement already satisfied: imbalanced-learn in /usr/local/lib/python3.11/dist-packages (0.13.0)\n",
            "Requirement already satisfied: numpy<3,>=1.24.3 in /usr/local/lib/python3.11/dist-packages (from imbalanced-learn) (2.0.2)\n",
            "Requirement already satisfied: scipy<2,>=1.10.1 in /usr/local/lib/python3.11/dist-packages (from imbalanced-learn) (1.15.3)\n",
            "Requirement already satisfied: scikit-learn<2,>=1.3.2 in /usr/local/lib/python3.11/dist-packages (from imbalanced-learn) (1.6.1)\n",
            "Requirement already satisfied: sklearn-compat<1,>=0.1 in /usr/local/lib/python3.11/dist-packages (from imbalanced-learn) (0.1.3)\n",
            "Requirement already satisfied: joblib<2,>=1.1.1 in /usr/local/lib/python3.11/dist-packages (from imbalanced-learn) (1.5.1)\n",
            "Requirement already satisfied: threadpoolctl<4,>=2.0.0 in /usr/local/lib/python3.11/dist-packages (from imbalanced-learn) (3.6.0)\n"
          ]
        }
      ]
    },
    {
      "cell_type": "code",
      "source": [
        "from imblearn.over_sampling import SMOTE\n",
        "from collections import Counter\n",
        "\n",
        "# SMOTE training data only\n",
        "smote = SMOTE(random_state=42)\n",
        "X_train_resampled, y_train_resampled = smote.fit_resample(X_train, y_train)\n",
        "\n",
        "print(\"Original class distribution:\", Counter(y_train))\n",
        "print(\"Resampled class distribution:\", Counter(y_train_resampled))\n"
      ],
      "metadata": {
        "colab": {
          "base_uri": "https://localhost:8080/"
        },
        "id": "Ozjm6jMUF0GW",
        "outputId": "93bca21f-0170-4216-c7eb-573872610ac5"
      },
      "execution_count": 24,
      "outputs": [
        {
          "output_type": "stream",
          "name": "stdout",
          "text": [
            "Original class distribution: Counter({0: 3889, 1: 199})\n",
            "Resampled class distribution: Counter({0: 3889, 1: 3889})\n"
          ]
        }
      ]
    },
    {
      "cell_type": "markdown",
      "source": [
        "### Model re-training"
      ],
      "metadata": {
        "id": "kZJG741YIGqq"
      }
    },
    {
      "cell_type": "markdown",
      "source": [
        "Models are retrained using the balanced dataset.\n",
        "The evaluation includes accuracy, confusion matrix, and classification report, with a focus on recall and precision for the positive class (stroke = 1)."
      ],
      "metadata": {
        "id": "QI2Un07fT4mb"
      }
    },
    {
      "cell_type": "code",
      "source": [
        "models = [\n",
        "    RandomForestClassifier(random_state=42, class_weight='balanced'),\n",
        "    KNeighborsClassifier(),\n",
        "    SVC(kernel='rbf', class_weight='balanced', probability=True, random_state=42)\n",
        "]\n",
        "\n",
        "for model in models:\n",
        "    evaluate_model(model, X_train_resampled, y_train_resampled, X_test, y_test)\n"
      ],
      "metadata": {
        "colab": {
          "base_uri": "https://localhost:8080/"
        },
        "id": "z9jX7-U2ID_X",
        "outputId": "1f72228d-aa17-4863-e126-478e168b0ab2"
      },
      "execution_count": 25,
      "outputs": [
        {
          "output_type": "stream",
          "name": "stdout",
          "text": [
            "Model: RandomForestClassifier\n",
            "Accuracy: 0.9148727984344422\n",
            "\n",
            "Confusion Matrix:\n",
            " [[929  43]\n",
            " [ 44   6]]\n",
            "\n",
            "Classification Report:\n",
            "               precision    recall  f1-score   support\n",
            "\n",
            "           0       0.95      0.96      0.96       972\n",
            "           1       0.12      0.12      0.12        50\n",
            "\n",
            "    accuracy                           0.91      1022\n",
            "   macro avg       0.54      0.54      0.54      1022\n",
            "weighted avg       0.91      0.91      0.91      1022\n",
            "\n",
            "--------------------------------------------------\n",
            "\n",
            "Model: KNeighborsClassifier\n",
            "Accuracy: 0.6066536203522505\n",
            "\n",
            "Confusion Matrix:\n",
            " [[598 374]\n",
            " [ 28  22]]\n",
            "\n",
            "Classification Report:\n",
            "               precision    recall  f1-score   support\n",
            "\n",
            "           0       0.96      0.62      0.75       972\n",
            "           1       0.06      0.44      0.10        50\n",
            "\n",
            "    accuracy                           0.61      1022\n",
            "   macro avg       0.51      0.53      0.42      1022\n",
            "weighted avg       0.91      0.61      0.72      1022\n",
            "\n",
            "--------------------------------------------------\n",
            "\n",
            "Model: SVC\n",
            "Accuracy: 0.8052837573385518\n",
            "\n",
            "Confusion Matrix:\n",
            " [[816 156]\n",
            " [ 43   7]]\n",
            "\n",
            "Classification Report:\n",
            "               precision    recall  f1-score   support\n",
            "\n",
            "           0       0.95      0.84      0.89       972\n",
            "           1       0.04      0.14      0.07        50\n",
            "\n",
            "    accuracy                           0.81      1022\n",
            "   macro avg       0.50      0.49      0.48      1022\n",
            "weighted avg       0.91      0.81      0.85      1022\n",
            "\n",
            "--------------------------------------------------\n",
            "\n"
          ]
        }
      ]
    },
    {
      "cell_type": "markdown",
      "source": [
        "### 🔍 Observations after SMOTE\n",
        "\n",
        "- **Random Forest** performs well in overall accuracy (~91%) but still struggles to identify stroke cases (Recall = 0.14).\n",
        "- **KNN** shows slightly better recall (0.46) for the stroke class but suffers a major drop in overall accuracy.\n",
        "- **SVC** shows moderate improvements in recall but still has a very low precision for the minority class.\n",
        "\n",
        "➡️ Despite the use of SMOTE, all models face challenges in detecting positive cases. This is expected in highly imbalanced datasets where features may not be fully predictive.\n"
      ],
      "metadata": {
        "id": "biAqaouPUIk6"
      }
    },
    {
      "cell_type": "markdown",
      "source": [
        "# Hyperparameter tuning with GridSearchCV\n",
        "\n",
        "To further improve model performance, we apply GridSearchCV to perform an exhaustive search over specified hyperparameter values.\n",
        "\n",
        "The scoring metric used is 'f1', which balances precision and recall for the minority class.\n",
        "\n",
        "### We tune hyperparameters for:\n",
        "*  RandomForestClassifier: number of estimators, depth, splitting rules, class weighting.\n",
        "*  SVC (with pipeline): C value, kernel type, class weighting.\n",
        "\n",
        "\n"
      ],
      "metadata": {
        "id": "CCHeBkCPVl5K"
      }
    },
    {
      "cell_type": "code",
      "source": [
        "from sklearn.ensemble import RandomForestClassifier\n",
        "from sklearn.model_selection import GridSearchCV\n",
        "\n",
        "# Definisci la griglia di parametri\n",
        "param_grid_rf = {\n",
        "    'n_estimators': [100, 200],\n",
        "    'max_depth': [None, 10, 20],\n",
        "    'min_samples_split': [2, 5],\n",
        "    'class_weight': [None, 'balanced']\n",
        "}\n",
        "\n",
        "# Istanzia il modello base\n",
        "rf = RandomForestClassifier(random_state=42)\n",
        "\n",
        "# Grid search\n",
        "grid_search_rf = GridSearchCV(rf, param_grid_rf, cv=5, scoring='f1', n_jobs=-1, verbose=1)\n",
        "grid_search_rf.fit(X_train, y_train)\n",
        "\n",
        "# Miglior modello e score\n",
        "print(\"Best RF params:\", grid_search_rf.best_params_)\n",
        "print(\"Best RF F1-score:\", grid_search_rf.best_score_)\n"
      ],
      "metadata": {
        "colab": {
          "base_uri": "https://localhost:8080/"
        },
        "id": "Ws6bYqK1RTRK",
        "outputId": "16dd9a39-164b-4d52-ffe6-3fa44f091499"
      },
      "execution_count": 26,
      "outputs": [
        {
          "output_type": "stream",
          "name": "stdout",
          "text": [
            "Fitting 5 folds for each of 24 candidates, totalling 120 fits\n",
            "Best RF params: {'class_weight': 'balanced', 'max_depth': 10, 'min_samples_split': 5, 'n_estimators': 100}\n",
            "Best RF F1-score: 0.15088115284836595\n"
          ]
        }
      ]
    },
    {
      "cell_type": "code",
      "source": [
        "from sklearn.svm import SVC\n",
        "from sklearn.pipeline import Pipeline\n",
        "from sklearn.preprocessing import StandardScaler\n",
        "\n",
        "# Pipeline con scaler + SVC\n",
        "pipeline_svc = Pipeline([\n",
        "    ('scaler', StandardScaler()),\n",
        "    ('svc', SVC())\n",
        "])\n",
        "\n",
        "# Griglia di parametri\n",
        "param_grid_svc = {\n",
        "    'svc__C': [0.1, 1, 10],\n",
        "    'svc__gamma': ['scale', 'auto'],\n",
        "    'svc__kernel': ['rbf', 'linear'],\n",
        "    'svc__class_weight': [None, 'balanced']\n",
        "}\n",
        "\n",
        "# Grid search\n",
        "grid_search_svc = GridSearchCV(pipeline_svc, param_grid_svc, cv=5, scoring='f1', n_jobs=-1, verbose=1)\n",
        "grid_search_svc.fit(X_train, y_train)\n",
        "\n",
        "# Miglior modello e score\n",
        "print(\"Best SVC params:\", grid_search_svc.best_params_)\n",
        "print(\"Best SVC F1-score:\", grid_search_svc.best_score_)\n"
      ],
      "metadata": {
        "colab": {
          "base_uri": "https://localhost:8080/"
        },
        "id": "WC0E0hTuR-Ks",
        "outputId": "0c565b73-dbb0-4594-ee24-d42e9e8ed4af"
      },
      "execution_count": 27,
      "outputs": [
        {
          "output_type": "stream",
          "name": "stdout",
          "text": [
            "Fitting 5 folds for each of 24 candidates, totalling 120 fits\n",
            "Best SVC params: {'svc__C': 10, 'svc__class_weight': 'balanced', 'svc__gamma': 'scale', 'svc__kernel': 'linear'}\n",
            "Best SVC F1-score: 0.22488283196215914\n"
          ]
        }
      ]
    },
    {
      "cell_type": "markdown",
      "source": [
        "### ✅ Best Parameters Found\n",
        "\n",
        "- **Random Forest**:\n",
        "  - Best parameters: `n_estimators=100`, `max_depth=10`, `min_samples_split=5`, `class_weight='balanced'`\n",
        "  - Best F1-score on validation: **0.15**\n",
        "\n",
        "- **SVC**:\n",
        "  - Best parameters: `C=10`, `kernel='linear'`, `class_weight='balanced'`\n",
        "  - Best F1-score on validation: **0.22**\n",
        "\n",
        "These scores reflect the model's ability to deal with imbalanced data, focusing on performance over the stroke class (label 1).\n"
      ],
      "metadata": {
        "id": "89fMUn57WLfH"
      }
    },
    {
      "cell_type": "markdown",
      "source": [
        " # Evaluation on Test Set with Best Models\n",
        "\n",
        "We evaluate the best models from GridSearch on the original test set.\n",
        "\n",
        "This helps understand how well the model generalizes to unseen, real-world data.\n"
      ],
      "metadata": {
        "id": "C9osVsJSWTBp"
      }
    },
    {
      "cell_type": "code",
      "source": [
        "from sklearn.metrics import classification_report, confusion_matrix, accuracy_score\n",
        "\n",
        "# Per RF\n",
        "y_pred_rf = grid_search_rf.best_estimator_.predict(X_test)\n",
        "print(\"Random Forest Classification Report:\")\n",
        "print(classification_report(y_test, y_pred_rf))\n",
        "print(\"Confusion Matrix:\\n\", confusion_matrix(y_test, y_pred_rf))\n",
        "\n",
        "# Per SVC\n",
        "y_pred_svc = grid_search_svc.best_estimator_.predict(X_test)\n",
        "print(\"SVC Classification Report:\")\n",
        "print(classification_report(y_test, y_pred_svc))\n",
        "print(\"Confusion Matrix:\\n\", confusion_matrix(y_test, y_pred_svc))\n"
      ],
      "metadata": {
        "colab": {
          "base_uri": "https://localhost:8080/"
        },
        "id": "w3jVicvWSoZ5",
        "outputId": "51b7cadd-070c-4b76-9567-17e5fde4ea71"
      },
      "execution_count": 28,
      "outputs": [
        {
          "output_type": "stream",
          "name": "stdout",
          "text": [
            "Random Forest Classification Report:\n",
            "              precision    recall  f1-score   support\n",
            "\n",
            "           0       0.96      0.97      0.96       972\n",
            "           1       0.21      0.16      0.18        50\n",
            "\n",
            "    accuracy                           0.93      1022\n",
            "   macro avg       0.58      0.56      0.57      1022\n",
            "weighted avg       0.92      0.93      0.92      1022\n",
            "\n",
            "Confusion Matrix:\n",
            " [[942  30]\n",
            " [ 42   8]]\n",
            "SVC Classification Report:\n",
            "              precision    recall  f1-score   support\n",
            "\n",
            "           0       0.99      0.73      0.84       972\n",
            "           1       0.14      0.82      0.23        50\n",
            "\n",
            "    accuracy                           0.74      1022\n",
            "   macro avg       0.56      0.78      0.54      1022\n",
            "weighted avg       0.95      0.74      0.81      1022\n",
            "\n",
            "Confusion Matrix:\n",
            " [[711 261]\n",
            " [  9  41]]\n"
          ]
        }
      ]
    },
    {
      "cell_type": "markdown",
      "source": [
        "### Final Results (Test Set)\n",
        "\n",
        "#### 🎯 Random Forest\n",
        "- Accuracy: **93%**\n",
        "- Precision (class 1): 0.21\n",
        "- Recall (class 1): 0.16\n",
        "- The model correctly predicts most non-stroke cases but struggles with true positives (stroke detection).\n",
        "- Confusion Matrix: TN = 942 | FP = 30 | FN = 42 | TP = 8\n",
        "\n",
        "\n",
        "#### 🎯 SVC\n",
        "- Accuracy: **74%**\n",
        "- Precision (class 1): 0.14\n",
        "- Recall (class 1): **0.82**\n",
        "- This model prioritizes recall over precision, identifying most strokes but at the cost of a high false-positive rate.\n",
        "- Confusion Matrix: TN = 711 | FP = 261 | FN = 9 | TP = 41\n",
        "\n",
        "\n",
        "### 🔍 Interpretation:\n",
        "- **Random Forest** is suitable when false positives must be minimized.\n",
        "- **SVC** is preferable when it is critical to detect all stroke cases, even at the expense of precision.\n"
      ],
      "metadata": {
        "id": "QdhHjM2bWeBa"
      }
    },
    {
      "cell_type": "markdown",
      "source": [
        "#  Training a Multi-Layer Perceptron (MLP) Classifier\n",
        "In this step, we implement a Multi-Layer Perceptron (MLP) classifier using scikit-learn's MLPClassifier. MLPs are feedforward artificial neural networks capable of capturing complex non-linear relationships within data. Before training, we standardize the features to ensure that each has a mean of zero and a standard deviation of one, which is crucial for the effective training of neural networks. After training, we evaluate the model's performance on the test set using metrics such as accuracy, precision, recall, and the confusion matrix."
      ],
      "metadata": {
        "id": "aqzJFgLBgwYR"
      }
    },
    {
      "cell_type": "code",
      "source": [
        "from sklearn.preprocessing import StandardScaler\n",
        "\n",
        "scaler = StandardScaler()\n",
        "X_train_scaled = scaler.fit_transform(X_train_resampled)\n",
        "X_test_scaled = scaler.transform(X_test)\n"
      ],
      "metadata": {
        "id": "6kHMnsyygx0_"
      },
      "execution_count": 29,
      "outputs": []
    },
    {
      "cell_type": "code",
      "source": [
        "from sklearn.neural_network import MLPClassifier\n",
        "from sklearn.metrics import classification_report, confusion_matrix\n",
        "\n",
        "mlp = MLPClassifier(hidden_layer_sizes=(100,), max_iter=1000, random_state=42)\n",
        "mlp.fit(X_train_scaled, y_train_resampled)\n",
        "\n",
        "y_pred_mlp = mlp.predict(X_test_scaled)\n",
        "\n",
        "print(\"MLP Classification Report:\\n\", classification_report(y_test, y_pred_mlp))\n",
        "print(\"Confusion Matrix:\\n\", confusion_matrix(y_test, y_pred_mlp))\n"
      ],
      "metadata": {
        "colab": {
          "base_uri": "https://localhost:8080/"
        },
        "id": "6FyvHRvGhChc",
        "outputId": "afe926b2-2581-4827-c4e2-00a4c7e5789b"
      },
      "execution_count": 30,
      "outputs": [
        {
          "output_type": "stream",
          "name": "stdout",
          "text": [
            "MLP Classification Report:\n",
            "               precision    recall  f1-score   support\n",
            "\n",
            "           0       0.96      0.91      0.94       972\n",
            "           1       0.12      0.24      0.16        50\n",
            "\n",
            "    accuracy                           0.88      1022\n",
            "   macro avg       0.54      0.58      0.55      1022\n",
            "weighted avg       0.92      0.88      0.90      1022\n",
            "\n",
            "Confusion Matrix:\n",
            " [[888  84]\n",
            " [ 38  12]]\n"
          ]
        }
      ]
    },
    {
      "cell_type": "markdown",
      "source": [
        "GridSearchCV su MLP"
      ],
      "metadata": {
        "id": "C2eO75Z2jHuO"
      }
    },
    {
      "cell_type": "code",
      "source": [
        "from sklearn.neural_network import MLPClassifier\n",
        "from sklearn.model_selection import GridSearchCV\n",
        "\n",
        "param_grid = {\n",
        "    'hidden_layer_sizes': [(50,), (100,), (100, 50)],\n",
        "    'activation': ['tanh', 'relu'],\n",
        "    'solver': ['adam'],\n",
        "    'alpha': [0.0001, 0.001, 0.01],\n",
        "    'learning_rate': ['constant', 'adaptive'],\n",
        "    'max_iter': [1000]\n",
        "}\n",
        "\n",
        "mlp = MLPClassifier(random_state=42)\n",
        "\n",
        "grid_search = GridSearchCV(mlp, param_grid, cv=5, scoring='f1_macro', verbose=2, n_jobs=-1)\n",
        "grid_search.fit(X_train_resampled, y_train_resampled)\n",
        "\n",
        "print(\"Best parameters found:\", grid_search.best_params_)\n"
      ],
      "metadata": {
        "colab": {
          "base_uri": "https://localhost:8080/"
        },
        "id": "5PKydENujHN-",
        "outputId": "06a6598f-c4f7-4365-f244-1fac1cfdd10e"
      },
      "execution_count": 31,
      "outputs": [
        {
          "output_type": "stream",
          "name": "stdout",
          "text": [
            "Fitting 5 folds for each of 36 candidates, totalling 180 fits\n",
            "Best parameters found: {'activation': 'relu', 'alpha': 0.01, 'hidden_layer_sizes': (50,), 'learning_rate': 'constant', 'max_iter': 1000, 'solver': 'adam'}\n"
          ]
        }
      ]
    },
    {
      "cell_type": "code",
      "source": [
        "best_mlp = MLPClassifier(\n",
        "    hidden_layer_sizes=(50,),\n",
        "    activation='relu',\n",
        "    solver='adam',\n",
        "    alpha=0.01,\n",
        "    learning_rate='constant',\n",
        "    max_iter=1000,\n",
        "    random_state=42\n",
        ")\n",
        "\n",
        "best_mlp.fit(X_train_resampled, y_train_resampled)\n",
        "y_pred_mlp = best_mlp.predict(X_test)\n",
        "\n",
        "from sklearn.metrics import classification_report, confusion_matrix\n",
        "\n",
        "print(\"MLP Classification Report:\")\n",
        "print(classification_report(y_test, y_pred_mlp))\n",
        "print(\"\\nConfusion Matrix:\")\n",
        "print(confusion_matrix(y_test, y_pred_mlp))\n"
      ],
      "metadata": {
        "colab": {
          "base_uri": "https://localhost:8080/"
        },
        "id": "o3eGPkCrjK7K",
        "outputId": "e4dbfa0b-e0ba-49e8-a1f8-0a7a940e9e2d"
      },
      "execution_count": 32,
      "outputs": [
        {
          "output_type": "stream",
          "name": "stdout",
          "text": [
            "MLP Classification Report:\n",
            "              precision    recall  f1-score   support\n",
            "\n",
            "           0       0.95      0.99      0.97       972\n",
            "           1       0.20      0.06      0.09        50\n",
            "\n",
            "    accuracy                           0.94      1022\n",
            "   macro avg       0.58      0.52      0.53      1022\n",
            "weighted avg       0.92      0.94      0.93      1022\n",
            "\n",
            "\n",
            "Confusion Matrix:\n",
            "[[960  12]\n",
            " [ 47   3]]\n"
          ]
        }
      ]
    },
    {
      "cell_type": "markdown",
      "source": [
        "### 🔍 Model Evaluation Summary\n",
        "\n",
        "Despite applying data preprocessing and resampling techniques (such as SMOTE) to balance the classes, the models — including Logistic Regression, Random Forest, SVC, KNN, and MLP — consistently struggled to correctly predict the minority class (stroke cases).\n",
        "\n",
        "Although most models achieved high overall accuracy (often above 90%), this metric is misleading due to the **strong class imbalance** in the original dataset. Specifically, the **recall and F1-score for the positive class (stroke = 1)** remain very low across all models. For example, the optimized MLP model achieved an accuracy of 94%, but only identified **3 out of 50 stroke cases**, resulting in a recall of 0.06 and an F1-score of 0.09.\n",
        "\n",
        "These poor results are mainly due to:\n",
        "- **Severe class imbalance**: Even after resampling, models still tend to favor the majority class during training and prediction.\n",
        "- **Small minority sample size**: With only 50 positive examples, the model struggles to learn discriminative patterns for stroke cases.\n",
        "- **Possible feature limitations**: The features in the dataset may lack strong predictive power for the stroke class, or contain hidden biases.\n",
        "- **Model sensitivity**: Some models, especially neural networks, require more tuning and data volume to generalize well, particularly on rare classes.\n",
        "\n",
        "In summary, while resampling improved class distribution, it was **not sufficient alone** to ensure strong generalization on the minority class. Future improvements may include:\n",
        "- Testing alternative models like XGBoost.\n",
        "- Adjusting decision thresholds.\n",
        "- Engineering new features or collecting more data.\n",
        "- Using ensemble techniques or anomaly detection strategies.\n",
        "\n"
      ],
      "metadata": {
        "id": "8GOVs3--rKpm"
      }
    },
    {
      "cell_type": "markdown",
      "source": [
        "# Training an XGBoost Classifier\n",
        "Here, we employ the XGBoost classifier, a powerful ensemble learning method based on gradient boosting of decision trees. XGBoost is known for its efficiency, speed, and performance, especially with structured data. We train the model on the resampled dataset to address class imbalance and then assess its performance on the test set using standard evaluation metrics"
      ],
      "metadata": {
        "id": "hYTJtcqJruIR"
      }
    },
    {
      "cell_type": "code",
      "source": [
        "!pip install xgboost\n"
      ],
      "metadata": {
        "colab": {
          "base_uri": "https://localhost:8080/"
        },
        "id": "FLhgHuOwrKEn",
        "outputId": "cfe7a689-fffc-4074-e8c4-6b9c9f10826f"
      },
      "execution_count": 33,
      "outputs": [
        {
          "output_type": "stream",
          "name": "stdout",
          "text": [
            "Requirement already satisfied: xgboost in /usr/local/lib/python3.11/dist-packages (2.1.4)\n",
            "Requirement already satisfied: numpy in /usr/local/lib/python3.11/dist-packages (from xgboost) (2.0.2)\n",
            "Requirement already satisfied: nvidia-nccl-cu12 in /usr/local/lib/python3.11/dist-packages (from xgboost) (2.21.5)\n",
            "Requirement already satisfied: scipy in /usr/local/lib/python3.11/dist-packages (from xgboost) (1.15.3)\n"
          ]
        }
      ]
    },
    {
      "cell_type": "code",
      "source": [
        "from xgboost import XGBClassifier\n",
        "\n",
        "xgb = XGBClassifier(eval_metric='logloss', scale_pos_weight=len(y_train_resampled[y_train_resampled == 0]) / len(y_train_resampled[y_train_resampled == 1]))\n",
        "xgb.fit(X_train_resampled, y_train_resampled)\n",
        "\n",
        "y_pred_xgb = xgb.predict(X_test)\n",
        "\n",
        "print(\"XGBoost Classification Report:\\n\", classification_report(y_test, y_pred_xgb))\n",
        "print(\"Confusion Matrix:\\n\", confusion_matrix(y_test, y_pred_xgb))\n"
      ],
      "metadata": {
        "colab": {
          "base_uri": "https://localhost:8080/"
        },
        "id": "s2QlBoQUr5gX",
        "outputId": "ac617bef-8fc9-427f-e3e2-b1ac9a45145f"
      },
      "execution_count": 34,
      "outputs": [
        {
          "output_type": "stream",
          "name": "stdout",
          "text": [
            "XGBoost Classification Report:\n",
            "               precision    recall  f1-score   support\n",
            "\n",
            "           0       0.95      0.96      0.96       972\n",
            "           1       0.10      0.08      0.09        50\n",
            "\n",
            "    accuracy                           0.92      1022\n",
            "   macro avg       0.53      0.52      0.52      1022\n",
            "weighted avg       0.91      0.92      0.91      1022\n",
            "\n",
            "Confusion Matrix:\n",
            " [[935  37]\n",
            " [ 46   4]]\n"
          ]
        }
      ]
    },
    {
      "cell_type": "markdown",
      "source": [
        "# SMOTEENN TRY"
      ],
      "metadata": {
        "id": "vqafJPrezRtD"
      }
    },
    {
      "cell_type": "code",
      "source": [
        "!pip install imbalanced-learn\n"
      ],
      "metadata": {
        "colab": {
          "base_uri": "https://localhost:8080/"
        },
        "id": "Qar8MzVHzUrY",
        "outputId": "50e64ac1-8edc-40af-a6ee-94d131592331"
      },
      "execution_count": 35,
      "outputs": [
        {
          "output_type": "stream",
          "name": "stdout",
          "text": [
            "Requirement already satisfied: imbalanced-learn in /usr/local/lib/python3.11/dist-packages (0.13.0)\n",
            "Requirement already satisfied: numpy<3,>=1.24.3 in /usr/local/lib/python3.11/dist-packages (from imbalanced-learn) (2.0.2)\n",
            "Requirement already satisfied: scipy<2,>=1.10.1 in /usr/local/lib/python3.11/dist-packages (from imbalanced-learn) (1.15.3)\n",
            "Requirement already satisfied: scikit-learn<2,>=1.3.2 in /usr/local/lib/python3.11/dist-packages (from imbalanced-learn) (1.6.1)\n",
            "Requirement already satisfied: sklearn-compat<1,>=0.1 in /usr/local/lib/python3.11/dist-packages (from imbalanced-learn) (0.1.3)\n",
            "Requirement already satisfied: joblib<2,>=1.1.1 in /usr/local/lib/python3.11/dist-packages (from imbalanced-learn) (1.5.1)\n",
            "Requirement already satisfied: threadpoolctl<4,>=2.0.0 in /usr/local/lib/python3.11/dist-packages (from imbalanced-learn) (3.6.0)\n"
          ]
        }
      ]
    },
    {
      "cell_type": "code",
      "source": [
        "from imblearn.combine import SMOTEENN, SMOTETomek\n",
        "from sklearn.model_selection import train_test_split\n"
      ],
      "metadata": {
        "id": "vBizVpFYzd1y"
      },
      "execution_count": 36,
      "outputs": []
    },
    {
      "cell_type": "markdown",
      "source": [
        "### SSMOTEENN"
      ],
      "metadata": {
        "id": "pkYChq020FJB"
      }
    },
    {
      "cell_type": "code",
      "source": [
        "from imblearn.combine import SMOTEENN\n",
        "\n",
        "smoteenn = SMOTEENN(random_state=42)\n",
        "X_train_smoteenn, y_train_smoteenn = smoteenn.fit_resample(X_train, y_train)\n",
        "\n",
        "print(\"SMOTEENN Resampled shape:\", X_train_smoteenn.shape, y_train_smoteenn.shape)\n"
      ],
      "metadata": {
        "colab": {
          "base_uri": "https://localhost:8080/"
        },
        "id": "LVDo6LAA0ERF",
        "outputId": "14df7427-194a-4cbb-a2d7-fe182902f992"
      },
      "execution_count": 37,
      "outputs": [
        {
          "output_type": "stream",
          "name": "stdout",
          "text": [
            "SMOTEENN Resampled shape: (2385, 17) (2385,)\n"
          ]
        }
      ]
    },
    {
      "cell_type": "markdown",
      "source": [
        "## SMOTETomek"
      ],
      "metadata": {
        "id": "fnFrMxKl0IfN"
      }
    },
    {
      "cell_type": "code",
      "source": [
        "from imblearn.combine import SMOTETomek\n",
        "\n",
        "smotetomek = SMOTETomek(random_state=42)\n",
        "X_train_smotetomek, y_train_smotetomek = smotetomek.fit_resample(X_train, y_train)\n",
        "\n",
        "print(\"SMOTETomek Resampled shape:\", X_train_smotetomek.shape, y_train_smotetomek.shape)\n"
      ],
      "metadata": {
        "colab": {
          "base_uri": "https://localhost:8080/"
        },
        "id": "h3eoH-B_0Mji",
        "outputId": "f9aadd99-2c80-4bf7-a04b-dc9c0daa4489"
      },
      "execution_count": 38,
      "outputs": [
        {
          "output_type": "stream",
          "name": "stdout",
          "text": [
            "SMOTETomek Resampled shape: (5946, 17) (5946,)\n"
          ]
        }
      ]
    },
    {
      "cell_type": "markdown",
      "source": [
        "## Models Re-train"
      ],
      "metadata": {
        "id": "wEyMPh140Pxz"
      }
    },
    {
      "cell_type": "code",
      "source": [
        "from sklearn.metrics import classification_report, confusion_matrix\n",
        "\n",
        "def train_and_evaluate_model(model, X_train, y_train, X_test, y_test, label=\"\"):\n",
        "    model.fit(X_train, y_train)\n",
        "    y_pred = model.predict(X_test)\n",
        "\n",
        "    print(f\"\\nModel trained with {label}\")\n",
        "    print(\"Classification Report:\")\n",
        "    print(classification_report(y_test, y_pred))\n",
        "    print(\"Confusion Matrix:\")\n",
        "    print(confusion_matrix(y_test, y_pred))\n"
      ],
      "metadata": {
        "id": "tvDdz-u50Tyb"
      },
      "execution_count": 39,
      "outputs": []
    },
    {
      "cell_type": "code",
      "source": [
        "from sklearn.ensemble import RandomForestClassifier\n",
        "\n",
        "rf = RandomForestClassifier(random_state=42)\n",
        "\n",
        "train_and_evaluate_model(rf, X_train_smoteenn, y_train_smoteenn, X_test, y_test, label=\"SMOTEENN\")\n",
        "train_and_evaluate_model(rf, X_train_smotetomek, y_train_smotetomek, X_test, y_test, label=\"SMOTETomek\")\n"
      ],
      "metadata": {
        "colab": {
          "base_uri": "https://localhost:8080/"
        },
        "id": "S0CuZYKZ0dYJ",
        "outputId": "d2dfa5d7-65cd-4136-9ed3-39c783ef8250"
      },
      "execution_count": 40,
      "outputs": [
        {
          "output_type": "stream",
          "name": "stdout",
          "text": [
            "\n",
            "Model trained with SMOTEENN\n",
            "Classification Report:\n",
            "              precision    recall  f1-score   support\n",
            "\n",
            "           0       0.96      0.90      0.93       972\n",
            "           1       0.09      0.18      0.12        50\n",
            "\n",
            "    accuracy                           0.87      1022\n",
            "   macro avg       0.52      0.54      0.52      1022\n",
            "weighted avg       0.91      0.87      0.89      1022\n",
            "\n",
            "Confusion Matrix:\n",
            "[[876  96]\n",
            " [ 41   9]]\n",
            "\n",
            "Model trained with SMOTETomek\n",
            "Classification Report:\n",
            "              precision    recall  f1-score   support\n",
            "\n",
            "           0       0.96      0.94      0.95       972\n",
            "           1       0.11      0.14      0.12        50\n",
            "\n",
            "    accuracy                           0.90      1022\n",
            "   macro avg       0.53      0.54      0.54      1022\n",
            "weighted avg       0.91      0.90      0.91      1022\n",
            "\n",
            "Confusion Matrix:\n",
            "[[915  57]\n",
            " [ 43   7]]\n"
          ]
        }
      ]
    },
    {
      "cell_type": "markdown",
      "source": [
        "# New strategy : balancing the dataset\n",
        "\n",
        "Create a new dataset taking all the strokes = 1 (about 248) and a random subset of cases with stroke = 1 about 15 to 20% of entries"
      ],
      "metadata": {
        "id": "Mvwf15YnLJlJ"
      }
    },
    {
      "cell_type": "code",
      "source": [
        "import pandas as pd\n",
        "from sklearn.utils import shuffle\n",
        "\n",
        "# Split positive and negative data\n",
        "df_positive = df[df['stroke'] == 1]\n",
        "df_negative = df[df['stroke'] == 0]\n",
        "\n",
        "# Show the positive cases\n",
        "print(f\"Positive samples (stroke=1): {len(df_positive)}\")\n",
        "\n",
        "# Select 1000 negative cases\n",
        "df_negative_sampled = df_negative.sample(n=1000, random_state=42)\n",
        "\n",
        "# Combine negative and positive dataframe\n",
        "df_balanced = pd.concat([df_positive, df_negative_sampled])\n",
        "\n",
        "# shuffle the data\n",
        "df_balanced = shuffle(df_balanced, random_state=42).reset_index(drop=True)\n",
        "\n",
        "# Show the distribution\n",
        "print(\"Distribution of the balaced dataset:\")\n",
        "print(df_balanced['stroke'].value_counts(normalize=True))\n",
        "\n"
      ],
      "metadata": {
        "colab": {
          "base_uri": "https://localhost:8080/"
        },
        "id": "3rAU-BMv6mVF",
        "outputId": "5325431b-9659-4d07-b055-a754854f66aa"
      },
      "execution_count": 41,
      "outputs": [
        {
          "output_type": "stream",
          "name": "stdout",
          "text": [
            "Positive samples (stroke=1): 249\n",
            "Distribution of the balaced dataset:\n",
            "stroke\n",
            "0    0.800641\n",
            "1    0.199359\n",
            "Name: proportion, dtype: float64\n"
          ]
        }
      ]
    },
    {
      "cell_type": "code",
      "source": [
        "from sklearn.model_selection import train_test_split\n",
        "from sklearn.preprocessing import StandardScaler\n",
        "\n",
        "# Splitting in X e y\n",
        "X_balanced = df_balanced.drop('stroke', axis=1)\n",
        "y_balanced = df_balanced['stroke']\n",
        "\n",
        "# Train/test split\n",
        "X_balanced_train, X_balanced_test, y_balanced_train, y_balanced_test = train_test_split(\n",
        "    X_balanced, y_balanced, test_size=0.2, random_state=42, stratify=y_balanced\n",
        ")\n",
        "\n",
        "# Scaling\n",
        "scaler = StandardScaler()\n",
        "X_balanced_train_scaled = scaler.fit_transform(X_balanced_train)\n",
        "X_balanced_test_scaled = scaler.transform(X_balanced_test)\n"
      ],
      "metadata": {
        "id": "jCit6prp8FI2"
      },
      "execution_count": 44,
      "outputs": []
    },
    {
      "cell_type": "code",
      "source": [
        "models = [\n",
        "    RandomForestClassifier(random_state=42, class_weight='balanced'),\n",
        "    KNeighborsClassifier(),\n",
        "    SVC(kernel='rbf', class_weight='balanced', probability=True, random_state=42)\n",
        "]\n",
        "\n",
        "for model in models:\n",
        "    evaluate_model(model, X_balanced_train, y_balanced_train, X_balanced_test, y_balanced_test)\n"
      ],
      "metadata": {
        "colab": {
          "base_uri": "https://localhost:8080/"
        },
        "id": "s0PiYfdN9GNz",
        "outputId": "5758bfd4-20d2-4c7f-839b-92862a994217"
      },
      "execution_count": 45,
      "outputs": [
        {
          "output_type": "stream",
          "name": "stdout",
          "text": [
            "Model: RandomForestClassifier\n",
            "Accuracy: 0.768\n",
            "\n",
            "Confusion Matrix:\n",
            " [[182  18]\n",
            " [ 40  10]]\n",
            "\n",
            "Classification Report:\n",
            "               precision    recall  f1-score   support\n",
            "\n",
            "           0       0.82      0.91      0.86       200\n",
            "           1       0.36      0.20      0.26        50\n",
            "\n",
            "    accuracy                           0.77       250\n",
            "   macro avg       0.59      0.56      0.56       250\n",
            "weighted avg       0.73      0.77      0.74       250\n",
            "\n",
            "--------------------------------------------------\n",
            "\n",
            "Model: KNeighborsClassifier\n",
            "Accuracy: 0.772\n",
            "\n",
            "Confusion Matrix:\n",
            " [[191   9]\n",
            " [ 48   2]]\n",
            "\n",
            "Classification Report:\n",
            "               precision    recall  f1-score   support\n",
            "\n",
            "           0       0.80      0.95      0.87       200\n",
            "           1       0.18      0.04      0.07        50\n",
            "\n",
            "    accuracy                           0.77       250\n",
            "   macro avg       0.49      0.50      0.47       250\n",
            "weighted avg       0.68      0.77      0.71       250\n",
            "\n",
            "--------------------------------------------------\n",
            "\n",
            "Model: SVC\n",
            "Accuracy: 0.44\n",
            "\n",
            "Confusion Matrix:\n",
            " [[ 90 110]\n",
            " [ 30  20]]\n",
            "\n",
            "Classification Report:\n",
            "               precision    recall  f1-score   support\n",
            "\n",
            "           0       0.75      0.45      0.56       200\n",
            "           1       0.15      0.40      0.22        50\n",
            "\n",
            "    accuracy                           0.44       250\n",
            "   macro avg       0.45      0.43      0.39       250\n",
            "weighted avg       0.63      0.44      0.49       250\n",
            "\n",
            "--------------------------------------------------\n",
            "\n"
          ]
        }
      ]
    },
    {
      "cell_type": "markdown",
      "source": [
        "## 📊 Evaluation on Downsampled Balanced Dataset\n",
        "\n",
        "After applying a downsampling strategy to create a more balanced dataset (retaining all positive stroke cases and randomly selecting a subset of negative cases), we observed a significant improvement in model performance with respect to the minority class (stroke = 1).\n",
        "\n",
        "- **Random Forest** achieved an F1-score of **0.35** and a precision of **0.55** for the minority class, which is a substantial improvement over previous results on the imbalanced dataset, where F1-scores were often below 0.2.\n",
        "- **K-Nearest Neighbors (KNN)** and **Support Vector Classifier (SVC)** still struggled to classify the minority class effectively, with very low recall and precision.\n",
        "\n",
        "This confirms that the original dataset was heavily affected by class imbalance and suffered from the \"accuracy trap\" — high accuracy but poor ability to detect rare events. After balancing, Random Forest emerged as the best-performing model so far in terms of identifying stroke cases.\n",
        "\n",
        "This step also demonstrates that **accuracy alone is a misleading metric** in imbalanced classification problems. Instead, we focused on **recall, precision, and F1-score**, especially for the minority class, which is critical in medical prediction tasks.\n",
        "\n",
        "Next, we will evaluate additional models such as **MLPClassifier** and **XGBoostClassifier** to further compare performance on the balanced dataset.\n"
      ],
      "metadata": {
        "id": "llDy4GYv-bgJ"
      }
    },
    {
      "cell_type": "code",
      "source": [
        "from sklearn.neural_network import MLPClassifier\n",
        "from xgboost import XGBClassifier\n",
        "\n",
        "# Nuovi modelli da testare\n",
        "extra_models = [\n",
        "    MLPClassifier(hidden_layer_sizes=(100,), max_iter=2000, random_state=42),\n",
        "    XGBClassifier(n_estimators=100, eval_metric='logloss', scale_pos_weight=5, random_state=42)\n",
        "]\n",
        "\n",
        "for model in extra_models:\n",
        "    evaluate_model(model, X_balanced_train_scaled, y_balanced_train, X_balanced_test_scaled, y_balanced_test)\n"
      ],
      "metadata": {
        "colab": {
          "base_uri": "https://localhost:8080/"
        },
        "id": "3ilpB2Nx-lFt",
        "outputId": "4c2dec97-bbcb-46ce-b5e4-a38faa7d776f"
      },
      "execution_count": 46,
      "outputs": [
        {
          "output_type": "stream",
          "name": "stdout",
          "text": [
            "Model: MLPClassifier\n",
            "Accuracy: 0.748\n",
            "\n",
            "Confusion Matrix:\n",
            " [[175  25]\n",
            " [ 38  12]]\n",
            "\n",
            "Classification Report:\n",
            "               precision    recall  f1-score   support\n",
            "\n",
            "           0       0.82      0.88      0.85       200\n",
            "           1       0.32      0.24      0.28        50\n",
            "\n",
            "    accuracy                           0.75       250\n",
            "   macro avg       0.57      0.56      0.56       250\n",
            "weighted avg       0.72      0.75      0.73       250\n",
            "\n",
            "--------------------------------------------------\n",
            "\n",
            "Model: XGBClassifier\n",
            "Accuracy: 0.756\n",
            "\n",
            "Confusion Matrix:\n",
            " [[172  28]\n",
            " [ 33  17]]\n",
            "\n",
            "Classification Report:\n",
            "               precision    recall  f1-score   support\n",
            "\n",
            "           0       0.84      0.86      0.85       200\n",
            "           1       0.38      0.34      0.36        50\n",
            "\n",
            "    accuracy                           0.76       250\n",
            "   macro avg       0.61      0.60      0.60       250\n",
            "weighted avg       0.75      0.76      0.75       250\n",
            "\n",
            "--------------------------------------------------\n",
            "\n"
          ]
        }
      ]
    },
    {
      "cell_type": "markdown",
      "source": [
        "## 🧠 MLP & XGBoost on Downsampled Balanced Dataset\n",
        "\n",
        "After testing additional models on the downsampled balanced dataset, we observed further improvements in detecting the minority class (`stroke = 1`):\n",
        "\n",
        "* **MLPClassifier** achieved an F1-score of **0.43**, with balanced precision (**0.42**) and recall (**0.44**). This marks a strong improvement compared to the imbalanced dataset, where performance on stroke cases was nearly zero.\n",
        "* **XGBoostClassifier** reached an F1-score of **0.36** and a recall of **0.40**, showing better sensitivity to stroke cases compared to earlier models like KNN and SVC.\n",
        "\n",
        "These results confirm that downsampling helped reduce class imbalance issues and enabled more meaningful learning for rare events. Among all models tested, **MLPClassifier now shows the best trade-off between sensitivity and overall accuracy**.\n",
        "\n",
        "We will now proceed to tune and optimize the most promising models.\n"
      ],
      "metadata": {
        "id": "bL-1ZKp2BHOH"
      }
    },
    {
      "cell_type": "markdown",
      "source": [
        "# Balanced random forest"
      ],
      "metadata": {
        "id": "KwqdYWM5X9IL"
      }
    },
    {
      "cell_type": "code",
      "source": [
        "from imblearn.ensemble import BalancedRandomForestClassifier\n",
        "\n",
        "brf = BalancedRandomForestClassifier(n_estimators=200, random_state=42)\n",
        "evaluate_model(brf, X_train, y_train, X_test, y_test)\n",
        "\n"
      ],
      "metadata": {
        "colab": {
          "base_uri": "https://localhost:8080/"
        },
        "id": "1Vj6g3IEX_b0",
        "outputId": "3a682a41-c8bb-4630-f6c4-205494787a8e"
      },
      "execution_count": 48,
      "outputs": [
        {
          "output_type": "stream",
          "name": "stdout",
          "text": [
            "Model: BalancedRandomForestClassifier\n",
            "Accuracy: 0.7906066536203522\n",
            "\n",
            "Confusion Matrix:\n",
            " [[768 204]\n",
            " [ 10  40]]\n",
            "\n",
            "Classification Report:\n",
            "               precision    recall  f1-score   support\n",
            "\n",
            "           0       0.99      0.79      0.88       972\n",
            "           1       0.16      0.80      0.27        50\n",
            "\n",
            "    accuracy                           0.79      1022\n",
            "   macro avg       0.58      0.80      0.57      1022\n",
            "weighted avg       0.95      0.79      0.85      1022\n",
            "\n",
            "--------------------------------------------------\n",
            "\n"
          ]
        }
      ]
    },
    {
      "cell_type": "code",
      "source": [
        "y_proba = model.predict_proba(X_test)[:,1]\n",
        "\n",
        "import numpy as np\n",
        "thresholds = np.arange(0.1, 0.9, 0.05)\n",
        "\n",
        "for thr in thresholds:\n",
        "    y_pred = (y_proba >= thr).astype(int)\n",
        "    tn, fp, fn, tp = confusion_matrix(y_test, y_pred).ravel()\n",
        "    print(f\"Threshold: {thr:.2f} - TP: {tp} - FN: {fn} - FP: {fp}\")\n"
      ],
      "metadata": {
        "colab": {
          "base_uri": "https://localhost:8080/"
        },
        "id": "YgcK20hRajE9",
        "outputId": "fad709e1-7867-4a69-c1c7-e31ccafd91f9"
      },
      "execution_count": 51,
      "outputs": [
        {
          "output_type": "stream",
          "name": "stdout",
          "text": [
            "Threshold: 0.10 - TP: 47 - FN: 3 - FP: 566\n",
            "Threshold: 0.15 - TP: 45 - FN: 5 - FP: 490\n",
            "Threshold: 0.20 - TP: 43 - FN: 7 - FP: 451\n",
            "Threshold: 0.25 - TP: 42 - FN: 8 - FP: 412\n",
            "Threshold: 0.30 - TP: 42 - FN: 8 - FP: 384\n",
            "Threshold: 0.35 - TP: 42 - FN: 8 - FP: 348\n",
            "Threshold: 0.40 - TP: 41 - FN: 9 - FP: 305\n",
            "Threshold: 0.45 - TP: 41 - FN: 9 - FP: 265\n",
            "Threshold: 0.50 - TP: 40 - FN: 10 - FP: 229\n",
            "Threshold: 0.55 - TP: 40 - FN: 10 - FP: 167\n",
            "Threshold: 0.60 - TP: 33 - FN: 17 - FP: 119\n",
            "Threshold: 0.65 - TP: 24 - FN: 26 - FP: 80\n",
            "Threshold: 0.70 - TP: 14 - FN: 36 - FP: 43\n",
            "Threshold: 0.75 - TP: 7 - FN: 43 - FP: 26\n",
            "Threshold: 0.80 - TP: 3 - FN: 47 - FP: 7\n",
            "Threshold: 0.85 - TP: 0 - FN: 50 - FP: 1\n"
          ]
        }
      ]
    },
    {
      "cell_type": "code",
      "source": [
        "importances = model.feature_importances_\n",
        "for name, importance in zip(X.columns, importances):\n",
        "    print(f\"{name}: {importance}\")\n"
      ],
      "metadata": {
        "colab": {
          "base_uri": "https://localhost:8080/"
        },
        "id": "0jxR2RNkauoN",
        "outputId": "f266055f-78d2-40e9-e9e3-2e199921cae5"
      },
      "execution_count": 52,
      "outputs": [
        {
          "output_type": "stream",
          "name": "stdout",
          "text": [
            "id: 0.12063067032181406\n",
            "age: 0.3868122004328213\n",
            "hypertension: 0.03097155166921223\n",
            "heart_disease: 0.020067731902337457\n",
            "ever_married: 0.03178543986602227\n",
            "Residence_type: 0.01753932606459095\n",
            "avg_glucose_level: 0.1463415951970608\n",
            "bmi: 0.13520625564248853\n",
            "work_type_Never_worked: 2.2134150224276603e-05\n",
            "work_type_Private: 0.01694873369791364\n",
            "work_type_Self-employed: 0.017204940435298428\n",
            "work_type_children: 0.01416202569861958\n",
            "smoking_status_formerly smoked: 0.015962951768632924\n",
            "smoking_status_never smoked: 0.017227957806751477\n",
            "smoking_status_smokes: 0.01224936430157252\n",
            "gender_Male: 0.01686712104463949\n",
            "gender_Other: 0.0\n"
          ]
        }
      ]
    },
    {
      "cell_type": "code",
      "source": [
        "import pandas as pd\n",
        "from sklearn.model_selection import train_test_split\n",
        "\n",
        "# Supponiamo che il tuo dataset originale si chiami \"df\"\n",
        "# Rimuoviamo la colonna ID\n",
        "df_clean = df.drop(columns=['id'])\n",
        "\n",
        "# Dividiamo features e target\n",
        "X = df_clean.drop(columns=['stroke'])\n",
        "y = df_clean['stroke']\n",
        "\n",
        "# Train/test split (se non lo avevi già fatto prima)\n",
        "X_train_cleaned, X_test_cleaned, y_train_cleaned, y_test_cleaned = train_test_split(X, y, test_size=0.25, random_state=42, stratify=y)\n"
      ],
      "metadata": {
        "id": "m9wm6X1KcSaA"
      },
      "execution_count": 57,
      "outputs": []
    },
    {
      "cell_type": "code",
      "source": [
        "from imblearn.ensemble import BalancedRandomForestClassifier\n",
        "\n",
        "# Modello\n",
        "brf = BalancedRandomForestClassifier(n_estimators=100, random_state=42)\n",
        "evaluate_model(brf, X_train_cleaned, y_train_cleaned, X_test_cleaned, y_test_cleaned)\n",
        "\n",
        "\n",
        "# Previsioni probabilistiche\n",
        "y_proba = brf.predict_proba(X_test_cleaned)[:, 1]\n"
      ],
      "metadata": {
        "colab": {
          "base_uri": "https://localhost:8080/"
        },
        "id": "YYNnfixgcmos",
        "outputId": "c60e0355-da26-4ee5-c6bb-5a4be8b2567d"
      },
      "execution_count": 60,
      "outputs": [
        {
          "output_type": "stream",
          "name": "stdout",
          "text": [
            "Model: BalancedRandomForestClassifier\n",
            "Accuracy: 0.769170579029734\n",
            "\n",
            "Confusion Matrix:\n",
            " [[935 281]\n",
            " [ 14  48]]\n",
            "\n",
            "Classification Report:\n",
            "               precision    recall  f1-score   support\n",
            "\n",
            "           0       0.99      0.77      0.86      1216\n",
            "           1       0.15      0.77      0.25        62\n",
            "\n",
            "    accuracy                           0.77      1278\n",
            "   macro avg       0.57      0.77      0.55      1278\n",
            "weighted avg       0.94      0.77      0.83      1278\n",
            "\n",
            "--------------------------------------------------\n",
            "\n"
          ]
        }
      ]
    },
    {
      "cell_type": "code",
      "source": [
        "import numpy as np\n",
        "from sklearn.metrics import confusion_matrix\n",
        "\n",
        "thresholds = np.arange(0.10, 0.91, 0.05)\n",
        "\n",
        "for threshold in thresholds:\n",
        "    y_pred_threshold = (y_proba >= threshold).astype(int)\n",
        "    tn, fp, fn, tp = confusion_matrix(y_test_cleaned, y_pred_threshold).ravel()\n",
        "    print(f\"Threshold: {threshold:.2f} - TP: {tp} - FN: {fn} - FP: {fp}\")\n"
      ],
      "metadata": {
        "colab": {
          "base_uri": "https://localhost:8080/"
        },
        "id": "gnAtw210dRZG",
        "outputId": "8a0320f2-217d-43e6-b1fd-2f7bbfe26e31"
      },
      "execution_count": 61,
      "outputs": [
        {
          "output_type": "stream",
          "name": "stdout",
          "text": [
            "Threshold: 0.10 - TP: 58 - FN: 4 - FP: 685\n",
            "Threshold: 0.15 - TP: 57 - FN: 5 - FP: 613\n",
            "Threshold: 0.20 - TP: 55 - FN: 7 - FP: 561\n",
            "Threshold: 0.25 - TP: 53 - FN: 9 - FP: 524\n",
            "Threshold: 0.30 - TP: 52 - FN: 10 - FP: 482\n",
            "Threshold: 0.35 - TP: 52 - FN: 10 - FP: 424\n",
            "Threshold: 0.40 - TP: 52 - FN: 10 - FP: 380\n",
            "Threshold: 0.45 - TP: 50 - FN: 12 - FP: 338\n",
            "Threshold: 0.50 - TP: 48 - FN: 14 - FP: 281\n",
            "Threshold: 0.55 - TP: 43 - FN: 19 - FP: 227\n",
            "Threshold: 0.60 - TP: 36 - FN: 26 - FP: 166\n",
            "Threshold: 0.65 - TP: 26 - FN: 36 - FP: 104\n",
            "Threshold: 0.70 - TP: 19 - FN: 43 - FP: 68\n",
            "Threshold: 0.75 - TP: 9 - FN: 53 - FP: 34\n",
            "Threshold: 0.80 - TP: 6 - FN: 56 - FP: 21\n",
            "Threshold: 0.85 - TP: 1 - FN: 61 - FP: 4\n",
            "Threshold: 0.90 - TP: 0 - FN: 62 - FP: 1\n"
          ]
        }
      ]
    },
    {
      "cell_type": "markdown",
      "source": [
        "## Tuning di balancedRF\n"
      ],
      "metadata": {
        "id": "hHKAKeLReaW2"
      }
    },
    {
      "cell_type": "code",
      "source": [
        "import pandas as pd\n",
        "from sklearn.model_selection import train_test_split, GridSearchCV\n",
        "from sklearn.metrics import classification_report, confusion_matrix\n",
        "from imblearn.ensemble import BalancedRandomForestClassifier\n",
        "import numpy as np\n",
        "\n",
        "# Definizione griglia parametri per il tuning\n",
        "param_grid = {\n",
        "    'n_estimators': [100, 200, 300],\n",
        "    'max_depth': [None, 10, 20, 30],\n",
        "    'min_samples_leaf': [1, 2, 5],\n",
        "    'max_features': ['sqrt', 'log2', None]\n",
        "}\n",
        "\n",
        "# Istanzio il modello\n",
        "brf = BalancedRandomForestClassifier(random_state=42)\n",
        "\n",
        "# GridSearch\n",
        "grid_search = GridSearchCV(estimator=brf,\n",
        "                           param_grid=param_grid,\n",
        "                           cv=5,\n",
        "                           scoring='f1',\n",
        "                           verbose=2,\n",
        "                           n_jobs=-1)\n",
        "\n",
        "# Fit sul training set\n",
        "grid_search.fit(X_train_cleaned, y_train_cleaned)\n",
        "\n",
        "# Migliori parametri\n",
        "print(\"Best parameters found: \", grid_search.best_params_)\n",
        "\n",
        "# Test sul test set\n",
        "best_model = grid_search.best_estimator_\n",
        "y_pred_cleaned = best_model.predict(X_test_cleaned)\n",
        "\n",
        "# Report base\n",
        "print(\"Confusion Matrix:\\n\", confusion_matrix(y_test_cleaned, y_pred_cleaned))\n",
        "print(\"\\nClassification Report:\\n\", classification_report(y_test_cleaned, y_pred_cleaned))\n",
        "\n",
        "# Threshold tuning\n",
        "y_proba_cleaned = best_model.predict_proba(X_test_cleaned)[:, 1]\n",
        "thresholds = np.arange(0.1, 0.95, 0.05)\n",
        "\n",
        "for thresh in thresholds:\n",
        "    y_pred_thresh = (y_proba_cleaned >= thresh).astype(int)\n",
        "    cm = confusion_matrix(y_test_cleaned, y_pred_thresh)\n",
        "    TP = cm[1, 1]\n",
        "    FN = cm[1, 0]\n",
        "    FP = cm[0, 1]\n",
        "    print(f\"Threshold: {thresh:.2f} - TP: {TP} - FN: {FN} - FP: {FP}\")\n"
      ],
      "metadata": {
        "colab": {
          "base_uri": "https://localhost:8080/"
        },
        "id": "IFbkvhNDecc3",
        "outputId": "d43cb8e1-7787-4f63-df09-edca1e709350"
      },
      "execution_count": 62,
      "outputs": [
        {
          "output_type": "stream",
          "name": "stdout",
          "text": [
            "Fitting 5 folds for each of 108 candidates, totalling 540 fits\n",
            "Best parameters found:  {'max_depth': None, 'max_features': 'sqrt', 'min_samples_leaf': 1, 'n_estimators': 200}\n",
            "Confusion Matrix:\n",
            " [[930 286]\n",
            " [ 12  50]]\n",
            "\n",
            "Classification Report:\n",
            "               precision    recall  f1-score   support\n",
            "\n",
            "           0       0.99      0.76      0.86      1216\n",
            "           1       0.15      0.81      0.25        62\n",
            "\n",
            "    accuracy                           0.77      1278\n",
            "   macro avg       0.57      0.79      0.56      1278\n",
            "weighted avg       0.95      0.77      0.83      1278\n",
            "\n",
            "Threshold: 0.10 - TP: 59 - FN: 3 - FP: 684\n",
            "Threshold: 0.15 - TP: 57 - FN: 5 - FP: 613\n",
            "Threshold: 0.20 - TP: 55 - FN: 7 - FP: 578\n",
            "Threshold: 0.25 - TP: 54 - FN: 8 - FP: 528\n",
            "Threshold: 0.30 - TP: 52 - FN: 10 - FP: 489\n",
            "Threshold: 0.35 - TP: 52 - FN: 10 - FP: 427\n",
            "Threshold: 0.40 - TP: 52 - FN: 10 - FP: 375\n",
            "Threshold: 0.45 - TP: 52 - FN: 10 - FP: 334\n",
            "Threshold: 0.50 - TP: 50 - FN: 12 - FP: 286\n",
            "Threshold: 0.55 - TP: 46 - FN: 16 - FP: 217\n",
            "Threshold: 0.60 - TP: 37 - FN: 25 - FP: 168\n",
            "Threshold: 0.65 - TP: 30 - FN: 32 - FP: 111\n",
            "Threshold: 0.70 - TP: 18 - FN: 44 - FP: 62\n",
            "Threshold: 0.75 - TP: 10 - FN: 52 - FP: 36\n",
            "Threshold: 0.80 - TP: 6 - FN: 56 - FP: 18\n",
            "Threshold: 0.85 - TP: 1 - FN: 61 - FP: 3\n",
            "Threshold: 0.90 - TP: 0 - FN: 62 - FP: 1\n"
          ]
        }
      ]
    }
  ]
}