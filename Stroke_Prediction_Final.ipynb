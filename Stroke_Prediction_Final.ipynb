{
  "nbformat": 4,
  "nbformat_minor": 0,
  "metadata": {
    "colab": {
      "provenance": [],
      "collapsed_sections": [
        "F42XZVT48PjL",
        "-fsK79CEjzpp",
        "amcwNKgHFA4M",
        "CCHeBkCPVl5K"
      ],
      "authorship_tag": "ABX9TyPWR3qSPks9KIPaCaEY+BKH",
      "include_colab_link": true
    },
    "kernelspec": {
      "name": "python3",
      "display_name": "Python 3"
    },
    "language_info": {
      "name": "python"
    }
  },
  "cells": [
    {
      "cell_type": "markdown",
      "metadata": {
        "id": "view-in-github",
        "colab_type": "text"
      },
      "source": [
        "<a href=\"https://colab.research.google.com/github/AlessandroConte/stroke-prediction/blob/main/Stroke_Prediction_Final.ipynb\" target=\"_parent\"><img src=\"https://colab.research.google.com/assets/colab-badge.svg\" alt=\"Open In Colab\"/></a>"
      ]
    },
    {
      "cell_type": "markdown",
      "source": [
        "# Stroke Prediction using Machine Learning: A Predictive Modeling Project\n",
        "\n",
        "## Objective\n",
        "This project aims to develop a machine learning model capable of predicting the likelihood of a stroke occurrence in individuals, based on a variety of health-related features. The dataset includes various attributes such as age, gender, smoking habits, hypertension, heart disease, and other factors that might contribute to stroke risk.\n",
        "\n",
        "## Goal\n",
        "The primary goal is to build accurate and reliable predictive models that can identify high-risk individuals, enabling early intervention strategies to reduce the incidence of strokes. The focus is on **reducing false negatives**, as failing to identify individuals at risk for a stroke can have serious health consequences.\n",
        "\n",
        "## Approach\n",
        "\n",
        "Throughout this project, several machine learning models were tested:\n",
        "\n",
        "* **Initial Baseline Models**:\n",
        "  * Logistic Regression, Random Forest, K-Nearest Neighbors (KNN), and Support Vector Classifier (SVC) were trained on the original (imbalanced) dataset.\n",
        "  \n",
        "* **Performance Evaluation**:\n",
        "  * Accuracy, precision, recall, F1-score, and confusion matrix were used.\n",
        "  * Special focus was placed on **recall for the stroke class (stroke = 1)** to ensure minimal false negatives.\n",
        "\n",
        "* **Handling Class Imbalance**:\n",
        "  * Given the highly skewed class distribution, various sampling techniques were applied:\n",
        "    * **SMOTE** (Synthetic Minority Over-sampling Technique)\n",
        "    * **SMOTEENN** (SMOTE + Edited Nearest Neighbors)\n",
        "    * **SMOTETomek** (SMOTE + Tomek links)\n",
        "    * **Manual undersampling** to create a more balanced dataset while preserving data integrity.\n",
        "\n",
        "* **Model Retraining & Tuning**:\n",
        "  * After resampling, models were retrained and tuned using **GridSearchCV**.\n",
        "  * Algorithms such as Random Forest and SVC showed varied performance depending on the balancing method and metric focus.\n",
        "\n",
        "* **Advanced Models Evaluated**:\n",
        "  * **MLPClassifier** (Multi-Layer Perceptron - Neural Network)\n",
        "  * **XGBoostClassifier** (Extreme Gradient Boosting)\n",
        "  * Although computationally more intensive, these models were tested to compare performance under various resampling strategies.\n",
        "\n",
        "* **Ensemble & Cost-Sensitive Models**:\n",
        "  * In a final step, specialized models designed to handle imbalance were applied:\n",
        "    * **BalancedRandomForestClassifier**\n",
        "    * **EasyEnsembleClassifier**\n",
        "  * These models yielded the best performance in terms of **recall** for the minority class (stroke), even without external sampling techniques.\n",
        "\n",
        "## Process Overview\n",
        "\n",
        "1. **Data Cleaning & Preprocessing**\n",
        "   * Handled missing values (especially in BMI)\n",
        "   * Converted categorical features\n",
        "   * Created age bins to explore correlation with BMI for better imputation\n",
        "\n",
        "2. **Exploratory Data Analysis (EDA)**\n",
        "   * Plotted distributions and feature relationships\n",
        "   * Assessed class imbalance visually\n",
        "\n",
        "3. **Model Training & Evaluation**\n",
        "   * Baseline models vs tuned models\n",
        "   * Evaluation based on confusion matrix, precision, recall, and F1-score\n",
        "\n",
        "4. **Class Rebalancing Strategies**\n",
        "   * Oversampling, undersampling, hybrid methods\n",
        "   * Ensemble models with internal balancing mechanisms\n",
        "\n",
        "5. **Final Comparison**\n",
        "   * Focus on minimizing **false negatives**\n",
        "   * SVC, Balanced Random Forest, and Easy Ensemble emerged as most effective under this criterion\n",
        "\n",
        "## Key Learnings & Skills Demonstrated\n",
        "\n",
        "* End-to-end **data preprocessing** and feature engineering\n",
        "* Applying **various classification algorithms**\n",
        "* Addressing **imbalanced classification problems**\n",
        "* Conducting **model tuning** using GridSearchCV\n",
        "* Comparing baseline vs advanced ensemble methods\n",
        "* Interpreting results with emphasis on **real-world implications**\n",
        "* Communicating limitations and justifying modeling choices\n",
        "\n",
        "## Conclusion\n",
        "This project highlights the application of machine learning in healthcare, demonstrating the ability to handle imbalanced datasets and implement various techniques to optimize predictive models. Through model evaluation and iterative tuning, the project provides insights into building reliable models for high-stakes prediction tasks, such as stroke risk detection. This work contributes to my portfolio by showcasing my expertise in machine learning, data analysis, and problem-solving, and serves as a valuable example of my ability to tackle real-world challenges using data-driven approaches.\n"
      ],
      "metadata": {
        "id": "BdjrdRsnZ-kt"
      }
    },
    {
      "cell_type": "markdown",
      "source": [
        "## Library import"
      ],
      "metadata": {
        "id": "2FI2-JAvPf2_"
      }
    },
    {
      "cell_type": "code",
      "source": [
        "import pandas as pd\n",
        "\n",
        "from google.colab import files\n",
        "\n",
        "# Data visualization\n",
        "import seaborn as sns\n",
        "import matplotlib.pyplot as plt\n",
        "\n",
        "from sklearn.linear_model import LogisticRegression\n",
        "from sklearn.metrics import accuracy_score, confusion_matrix, classification_report\n",
        "\n",
        "\n",
        "from sklearn.ensemble import RandomForestClassifier\n",
        "from sklearn.neighbors import KNeighborsClassifier\n",
        "from sklearn.svm import SVC\n",
        "\n",
        "from sklearn.model_selection import GridSearchCV\n",
        "\n",
        "\n",
        "from imblearn.over_sampling import SMOTE\n",
        "from imblearn.combine import SMOTEENN, SMOTETomek\n",
        "from sklearn.model_selection import train_test_split\n",
        "\n",
        "\n",
        "\n",
        "from collections import Counter\n",
        "\n",
        "from sklearn.preprocessing import StandardScaler\n",
        "\n",
        "from sklearn.neural_network import MLPClassifier\n",
        "from sklearn.metrics import classification_report, confusion_matrix\n",
        "\n",
        "\n",
        "\n"
      ],
      "metadata": {
        "id": "02aPuPeVRoPv"
      },
      "execution_count": 67,
      "outputs": []
    },
    {
      "cell_type": "markdown",
      "source": [
        "## Data loading\n",
        "\n",
        "\n"
      ],
      "metadata": {
        "id": "06NP8Cj5Ronw"
      }
    },
    {
      "cell_type": "code",
      "source": [
        "# Load dataset from the relative path\n",
        "# df = pd.read_csv(\"data/healthcare-dataset-stroke-data.csv\")\n",
        "# df.head()\n"
      ],
      "metadata": {
        "id": "RVmA_aIWT8gE"
      },
      "execution_count": 68,
      "outputs": []
    },
    {
      "cell_type": "markdown",
      "source": [
        "### Option: Upload dataset manually (for Colab users only)\n",
        "If you're running this notebook in Google Colab, uncomment and use the code below to upload the dataset manually.\n"
      ],
      "metadata": {
        "id": "jImzekSjTied"
      }
    },
    {
      "cell_type": "code",
      "source": [
        "# Save the dataset (csv file) into the \"uploaded\" variable\n",
        "uploaded = files.upload()\n",
        "\n",
        "# Read the csv file into a DataFrame\n",
        "df = pd.read_csv(\"healthcare-dataset-stroke-data.csv\")\n",
        "df.head()\n"
      ],
      "metadata": {
        "colab": {
          "base_uri": "https://localhost:8080/",
          "height": 263
        },
        "id": "NLUoUqrURp6Y",
        "outputId": "7fbc4cd5-a7be-4480-a533-bbc0fb730dad"
      },
      "execution_count": 69,
      "outputs": [
        {
          "output_type": "display_data",
          "data": {
            "text/plain": [
              "<IPython.core.display.HTML object>"
            ],
            "text/html": [
              "\n",
              "     <input type=\"file\" id=\"files-31e18f4b-f058-4a6b-a605-9130f07e58b1\" name=\"files[]\" multiple disabled\n",
              "        style=\"border:none\" />\n",
              "     <output id=\"result-31e18f4b-f058-4a6b-a605-9130f07e58b1\">\n",
              "      Upload widget is only available when the cell has been executed in the\n",
              "      current browser session. Please rerun this cell to enable.\n",
              "      </output>\n",
              "      <script>// Copyright 2017 Google LLC\n",
              "//\n",
              "// Licensed under the Apache License, Version 2.0 (the \"License\");\n",
              "// you may not use this file except in compliance with the License.\n",
              "// You may obtain a copy of the License at\n",
              "//\n",
              "//      http://www.apache.org/licenses/LICENSE-2.0\n",
              "//\n",
              "// Unless required by applicable law or agreed to in writing, software\n",
              "// distributed under the License is distributed on an \"AS IS\" BASIS,\n",
              "// WITHOUT WARRANTIES OR CONDITIONS OF ANY KIND, either express or implied.\n",
              "// See the License for the specific language governing permissions and\n",
              "// limitations under the License.\n",
              "\n",
              "/**\n",
              " * @fileoverview Helpers for google.colab Python module.\n",
              " */\n",
              "(function(scope) {\n",
              "function span(text, styleAttributes = {}) {\n",
              "  const element = document.createElement('span');\n",
              "  element.textContent = text;\n",
              "  for (const key of Object.keys(styleAttributes)) {\n",
              "    element.style[key] = styleAttributes[key];\n",
              "  }\n",
              "  return element;\n",
              "}\n",
              "\n",
              "// Max number of bytes which will be uploaded at a time.\n",
              "const MAX_PAYLOAD_SIZE = 100 * 1024;\n",
              "\n",
              "function _uploadFiles(inputId, outputId) {\n",
              "  const steps = uploadFilesStep(inputId, outputId);\n",
              "  const outputElement = document.getElementById(outputId);\n",
              "  // Cache steps on the outputElement to make it available for the next call\n",
              "  // to uploadFilesContinue from Python.\n",
              "  outputElement.steps = steps;\n",
              "\n",
              "  return _uploadFilesContinue(outputId);\n",
              "}\n",
              "\n",
              "// This is roughly an async generator (not supported in the browser yet),\n",
              "// where there are multiple asynchronous steps and the Python side is going\n",
              "// to poll for completion of each step.\n",
              "// This uses a Promise to block the python side on completion of each step,\n",
              "// then passes the result of the previous step as the input to the next step.\n",
              "function _uploadFilesContinue(outputId) {\n",
              "  const outputElement = document.getElementById(outputId);\n",
              "  const steps = outputElement.steps;\n",
              "\n",
              "  const next = steps.next(outputElement.lastPromiseValue);\n",
              "  return Promise.resolve(next.value.promise).then((value) => {\n",
              "    // Cache the last promise value to make it available to the next\n",
              "    // step of the generator.\n",
              "    outputElement.lastPromiseValue = value;\n",
              "    return next.value.response;\n",
              "  });\n",
              "}\n",
              "\n",
              "/**\n",
              " * Generator function which is called between each async step of the upload\n",
              " * process.\n",
              " * @param {string} inputId Element ID of the input file picker element.\n",
              " * @param {string} outputId Element ID of the output display.\n",
              " * @return {!Iterable<!Object>} Iterable of next steps.\n",
              " */\n",
              "function* uploadFilesStep(inputId, outputId) {\n",
              "  const inputElement = document.getElementById(inputId);\n",
              "  inputElement.disabled = false;\n",
              "\n",
              "  const outputElement = document.getElementById(outputId);\n",
              "  outputElement.innerHTML = '';\n",
              "\n",
              "  const pickedPromise = new Promise((resolve) => {\n",
              "    inputElement.addEventListener('change', (e) => {\n",
              "      resolve(e.target.files);\n",
              "    });\n",
              "  });\n",
              "\n",
              "  const cancel = document.createElement('button');\n",
              "  inputElement.parentElement.appendChild(cancel);\n",
              "  cancel.textContent = 'Cancel upload';\n",
              "  const cancelPromise = new Promise((resolve) => {\n",
              "    cancel.onclick = () => {\n",
              "      resolve(null);\n",
              "    };\n",
              "  });\n",
              "\n",
              "  // Wait for the user to pick the files.\n",
              "  const files = yield {\n",
              "    promise: Promise.race([pickedPromise, cancelPromise]),\n",
              "    response: {\n",
              "      action: 'starting',\n",
              "    }\n",
              "  };\n",
              "\n",
              "  cancel.remove();\n",
              "\n",
              "  // Disable the input element since further picks are not allowed.\n",
              "  inputElement.disabled = true;\n",
              "\n",
              "  if (!files) {\n",
              "    return {\n",
              "      response: {\n",
              "        action: 'complete',\n",
              "      }\n",
              "    };\n",
              "  }\n",
              "\n",
              "  for (const file of files) {\n",
              "    const li = document.createElement('li');\n",
              "    li.append(span(file.name, {fontWeight: 'bold'}));\n",
              "    li.append(span(\n",
              "        `(${file.type || 'n/a'}) - ${file.size} bytes, ` +\n",
              "        `last modified: ${\n",
              "            file.lastModifiedDate ? file.lastModifiedDate.toLocaleDateString() :\n",
              "                                    'n/a'} - `));\n",
              "    const percent = span('0% done');\n",
              "    li.appendChild(percent);\n",
              "\n",
              "    outputElement.appendChild(li);\n",
              "\n",
              "    const fileDataPromise = new Promise((resolve) => {\n",
              "      const reader = new FileReader();\n",
              "      reader.onload = (e) => {\n",
              "        resolve(e.target.result);\n",
              "      };\n",
              "      reader.readAsArrayBuffer(file);\n",
              "    });\n",
              "    // Wait for the data to be ready.\n",
              "    let fileData = yield {\n",
              "      promise: fileDataPromise,\n",
              "      response: {\n",
              "        action: 'continue',\n",
              "      }\n",
              "    };\n",
              "\n",
              "    // Use a chunked sending to avoid message size limits. See b/62115660.\n",
              "    let position = 0;\n",
              "    do {\n",
              "      const length = Math.min(fileData.byteLength - position, MAX_PAYLOAD_SIZE);\n",
              "      const chunk = new Uint8Array(fileData, position, length);\n",
              "      position += length;\n",
              "\n",
              "      const base64 = btoa(String.fromCharCode.apply(null, chunk));\n",
              "      yield {\n",
              "        response: {\n",
              "          action: 'append',\n",
              "          file: file.name,\n",
              "          data: base64,\n",
              "        },\n",
              "      };\n",
              "\n",
              "      let percentDone = fileData.byteLength === 0 ?\n",
              "          100 :\n",
              "          Math.round((position / fileData.byteLength) * 100);\n",
              "      percent.textContent = `${percentDone}% done`;\n",
              "\n",
              "    } while (position < fileData.byteLength);\n",
              "  }\n",
              "\n",
              "  // All done.\n",
              "  yield {\n",
              "    response: {\n",
              "      action: 'complete',\n",
              "    }\n",
              "  };\n",
              "}\n",
              "\n",
              "scope.google = scope.google || {};\n",
              "scope.google.colab = scope.google.colab || {};\n",
              "scope.google.colab._files = {\n",
              "  _uploadFiles,\n",
              "  _uploadFilesContinue,\n",
              "};\n",
              "})(self);\n",
              "</script> "
            ]
          },
          "metadata": {}
        },
        {
          "output_type": "stream",
          "name": "stdout",
          "text": [
            "Saving healthcare-dataset-stroke-data.csv to healthcare-dataset-stroke-data (3).csv\n"
          ]
        },
        {
          "output_type": "execute_result",
          "data": {
            "text/plain": [
              "      id  gender   age  hypertension  heart_disease ever_married  \\\n",
              "0   9046    Male  67.0             0              1          Yes   \n",
              "1  51676  Female  61.0             0              0          Yes   \n",
              "2  31112    Male  80.0             0              1          Yes   \n",
              "3  60182  Female  49.0             0              0          Yes   \n",
              "4   1665  Female  79.0             1              0          Yes   \n",
              "\n",
              "       work_type Residence_type  avg_glucose_level   bmi   smoking_status  \\\n",
              "0        Private          Urban             228.69  36.6  formerly smoked   \n",
              "1  Self-employed          Rural             202.21   NaN     never smoked   \n",
              "2        Private          Rural             105.92  32.5     never smoked   \n",
              "3        Private          Urban             171.23  34.4           smokes   \n",
              "4  Self-employed          Rural             174.12  24.0     never smoked   \n",
              "\n",
              "   stroke  \n",
              "0       1  \n",
              "1       1  \n",
              "2       1  \n",
              "3       1  \n",
              "4       1  "
            ],
            "text/html": [
              "\n",
              "  <div id=\"df-0155c1a8-f875-40e6-aa13-816c2129f57c\" class=\"colab-df-container\">\n",
              "    <div>\n",
              "<style scoped>\n",
              "    .dataframe tbody tr th:only-of-type {\n",
              "        vertical-align: middle;\n",
              "    }\n",
              "\n",
              "    .dataframe tbody tr th {\n",
              "        vertical-align: top;\n",
              "    }\n",
              "\n",
              "    .dataframe thead th {\n",
              "        text-align: right;\n",
              "    }\n",
              "</style>\n",
              "<table border=\"1\" class=\"dataframe\">\n",
              "  <thead>\n",
              "    <tr style=\"text-align: right;\">\n",
              "      <th></th>\n",
              "      <th>id</th>\n",
              "      <th>gender</th>\n",
              "      <th>age</th>\n",
              "      <th>hypertension</th>\n",
              "      <th>heart_disease</th>\n",
              "      <th>ever_married</th>\n",
              "      <th>work_type</th>\n",
              "      <th>Residence_type</th>\n",
              "      <th>avg_glucose_level</th>\n",
              "      <th>bmi</th>\n",
              "      <th>smoking_status</th>\n",
              "      <th>stroke</th>\n",
              "    </tr>\n",
              "  </thead>\n",
              "  <tbody>\n",
              "    <tr>\n",
              "      <th>0</th>\n",
              "      <td>9046</td>\n",
              "      <td>Male</td>\n",
              "      <td>67.0</td>\n",
              "      <td>0</td>\n",
              "      <td>1</td>\n",
              "      <td>Yes</td>\n",
              "      <td>Private</td>\n",
              "      <td>Urban</td>\n",
              "      <td>228.69</td>\n",
              "      <td>36.6</td>\n",
              "      <td>formerly smoked</td>\n",
              "      <td>1</td>\n",
              "    </tr>\n",
              "    <tr>\n",
              "      <th>1</th>\n",
              "      <td>51676</td>\n",
              "      <td>Female</td>\n",
              "      <td>61.0</td>\n",
              "      <td>0</td>\n",
              "      <td>0</td>\n",
              "      <td>Yes</td>\n",
              "      <td>Self-employed</td>\n",
              "      <td>Rural</td>\n",
              "      <td>202.21</td>\n",
              "      <td>NaN</td>\n",
              "      <td>never smoked</td>\n",
              "      <td>1</td>\n",
              "    </tr>\n",
              "    <tr>\n",
              "      <th>2</th>\n",
              "      <td>31112</td>\n",
              "      <td>Male</td>\n",
              "      <td>80.0</td>\n",
              "      <td>0</td>\n",
              "      <td>1</td>\n",
              "      <td>Yes</td>\n",
              "      <td>Private</td>\n",
              "      <td>Rural</td>\n",
              "      <td>105.92</td>\n",
              "      <td>32.5</td>\n",
              "      <td>never smoked</td>\n",
              "      <td>1</td>\n",
              "    </tr>\n",
              "    <tr>\n",
              "      <th>3</th>\n",
              "      <td>60182</td>\n",
              "      <td>Female</td>\n",
              "      <td>49.0</td>\n",
              "      <td>0</td>\n",
              "      <td>0</td>\n",
              "      <td>Yes</td>\n",
              "      <td>Private</td>\n",
              "      <td>Urban</td>\n",
              "      <td>171.23</td>\n",
              "      <td>34.4</td>\n",
              "      <td>smokes</td>\n",
              "      <td>1</td>\n",
              "    </tr>\n",
              "    <tr>\n",
              "      <th>4</th>\n",
              "      <td>1665</td>\n",
              "      <td>Female</td>\n",
              "      <td>79.0</td>\n",
              "      <td>1</td>\n",
              "      <td>0</td>\n",
              "      <td>Yes</td>\n",
              "      <td>Self-employed</td>\n",
              "      <td>Rural</td>\n",
              "      <td>174.12</td>\n",
              "      <td>24.0</td>\n",
              "      <td>never smoked</td>\n",
              "      <td>1</td>\n",
              "    </tr>\n",
              "  </tbody>\n",
              "</table>\n",
              "</div>\n",
              "    <div class=\"colab-df-buttons\">\n",
              "\n",
              "  <div class=\"colab-df-container\">\n",
              "    <button class=\"colab-df-convert\" onclick=\"convertToInteractive('df-0155c1a8-f875-40e6-aa13-816c2129f57c')\"\n",
              "            title=\"Convert this dataframe to an interactive table.\"\n",
              "            style=\"display:none;\">\n",
              "\n",
              "  <svg xmlns=\"http://www.w3.org/2000/svg\" height=\"24px\" viewBox=\"0 -960 960 960\">\n",
              "    <path d=\"M120-120v-720h720v720H120Zm60-500h600v-160H180v160Zm220 220h160v-160H400v160Zm0 220h160v-160H400v160ZM180-400h160v-160H180v160Zm440 0h160v-160H620v160ZM180-180h160v-160H180v160Zm440 0h160v-160H620v160Z\"/>\n",
              "  </svg>\n",
              "    </button>\n",
              "\n",
              "  <style>\n",
              "    .colab-df-container {\n",
              "      display:flex;\n",
              "      gap: 12px;\n",
              "    }\n",
              "\n",
              "    .colab-df-convert {\n",
              "      background-color: #E8F0FE;\n",
              "      border: none;\n",
              "      border-radius: 50%;\n",
              "      cursor: pointer;\n",
              "      display: none;\n",
              "      fill: #1967D2;\n",
              "      height: 32px;\n",
              "      padding: 0 0 0 0;\n",
              "      width: 32px;\n",
              "    }\n",
              "\n",
              "    .colab-df-convert:hover {\n",
              "      background-color: #E2EBFA;\n",
              "      box-shadow: 0px 1px 2px rgba(60, 64, 67, 0.3), 0px 1px 3px 1px rgba(60, 64, 67, 0.15);\n",
              "      fill: #174EA6;\n",
              "    }\n",
              "\n",
              "    .colab-df-buttons div {\n",
              "      margin-bottom: 4px;\n",
              "    }\n",
              "\n",
              "    [theme=dark] .colab-df-convert {\n",
              "      background-color: #3B4455;\n",
              "      fill: #D2E3FC;\n",
              "    }\n",
              "\n",
              "    [theme=dark] .colab-df-convert:hover {\n",
              "      background-color: #434B5C;\n",
              "      box-shadow: 0px 1px 3px 1px rgba(0, 0, 0, 0.15);\n",
              "      filter: drop-shadow(0px 1px 2px rgba(0, 0, 0, 0.3));\n",
              "      fill: #FFFFFF;\n",
              "    }\n",
              "  </style>\n",
              "\n",
              "    <script>\n",
              "      const buttonEl =\n",
              "        document.querySelector('#df-0155c1a8-f875-40e6-aa13-816c2129f57c button.colab-df-convert');\n",
              "      buttonEl.style.display =\n",
              "        google.colab.kernel.accessAllowed ? 'block' : 'none';\n",
              "\n",
              "      async function convertToInteractive(key) {\n",
              "        const element = document.querySelector('#df-0155c1a8-f875-40e6-aa13-816c2129f57c');\n",
              "        const dataTable =\n",
              "          await google.colab.kernel.invokeFunction('convertToInteractive',\n",
              "                                                    [key], {});\n",
              "        if (!dataTable) return;\n",
              "\n",
              "        const docLinkHtml = 'Like what you see? Visit the ' +\n",
              "          '<a target=\"_blank\" href=https://colab.research.google.com/notebooks/data_table.ipynb>data table notebook</a>'\n",
              "          + ' to learn more about interactive tables.';\n",
              "        element.innerHTML = '';\n",
              "        dataTable['output_type'] = 'display_data';\n",
              "        await google.colab.output.renderOutput(dataTable, element);\n",
              "        const docLink = document.createElement('div');\n",
              "        docLink.innerHTML = docLinkHtml;\n",
              "        element.appendChild(docLink);\n",
              "      }\n",
              "    </script>\n",
              "  </div>\n",
              "\n",
              "\n",
              "    <div id=\"df-307aed0e-2d9b-45b4-bd4d-a03ca849b883\">\n",
              "      <button class=\"colab-df-quickchart\" onclick=\"quickchart('df-307aed0e-2d9b-45b4-bd4d-a03ca849b883')\"\n",
              "                title=\"Suggest charts\"\n",
              "                style=\"display:none;\">\n",
              "\n",
              "<svg xmlns=\"http://www.w3.org/2000/svg\" height=\"24px\"viewBox=\"0 0 24 24\"\n",
              "     width=\"24px\">\n",
              "    <g>\n",
              "        <path d=\"M19 3H5c-1.1 0-2 .9-2 2v14c0 1.1.9 2 2 2h14c1.1 0 2-.9 2-2V5c0-1.1-.9-2-2-2zM9 17H7v-7h2v7zm4 0h-2V7h2v10zm4 0h-2v-4h2v4z\"/>\n",
              "    </g>\n",
              "</svg>\n",
              "      </button>\n",
              "\n",
              "<style>\n",
              "  .colab-df-quickchart {\n",
              "      --bg-color: #E8F0FE;\n",
              "      --fill-color: #1967D2;\n",
              "      --hover-bg-color: #E2EBFA;\n",
              "      --hover-fill-color: #174EA6;\n",
              "      --disabled-fill-color: #AAA;\n",
              "      --disabled-bg-color: #DDD;\n",
              "  }\n",
              "\n",
              "  [theme=dark] .colab-df-quickchart {\n",
              "      --bg-color: #3B4455;\n",
              "      --fill-color: #D2E3FC;\n",
              "      --hover-bg-color: #434B5C;\n",
              "      --hover-fill-color: #FFFFFF;\n",
              "      --disabled-bg-color: #3B4455;\n",
              "      --disabled-fill-color: #666;\n",
              "  }\n",
              "\n",
              "  .colab-df-quickchart {\n",
              "    background-color: var(--bg-color);\n",
              "    border: none;\n",
              "    border-radius: 50%;\n",
              "    cursor: pointer;\n",
              "    display: none;\n",
              "    fill: var(--fill-color);\n",
              "    height: 32px;\n",
              "    padding: 0;\n",
              "    width: 32px;\n",
              "  }\n",
              "\n",
              "  .colab-df-quickchart:hover {\n",
              "    background-color: var(--hover-bg-color);\n",
              "    box-shadow: 0 1px 2px rgba(60, 64, 67, 0.3), 0 1px 3px 1px rgba(60, 64, 67, 0.15);\n",
              "    fill: var(--button-hover-fill-color);\n",
              "  }\n",
              "\n",
              "  .colab-df-quickchart-complete:disabled,\n",
              "  .colab-df-quickchart-complete:disabled:hover {\n",
              "    background-color: var(--disabled-bg-color);\n",
              "    fill: var(--disabled-fill-color);\n",
              "    box-shadow: none;\n",
              "  }\n",
              "\n",
              "  .colab-df-spinner {\n",
              "    border: 2px solid var(--fill-color);\n",
              "    border-color: transparent;\n",
              "    border-bottom-color: var(--fill-color);\n",
              "    animation:\n",
              "      spin 1s steps(1) infinite;\n",
              "  }\n",
              "\n",
              "  @keyframes spin {\n",
              "    0% {\n",
              "      border-color: transparent;\n",
              "      border-bottom-color: var(--fill-color);\n",
              "      border-left-color: var(--fill-color);\n",
              "    }\n",
              "    20% {\n",
              "      border-color: transparent;\n",
              "      border-left-color: var(--fill-color);\n",
              "      border-top-color: var(--fill-color);\n",
              "    }\n",
              "    30% {\n",
              "      border-color: transparent;\n",
              "      border-left-color: var(--fill-color);\n",
              "      border-top-color: var(--fill-color);\n",
              "      border-right-color: var(--fill-color);\n",
              "    }\n",
              "    40% {\n",
              "      border-color: transparent;\n",
              "      border-right-color: var(--fill-color);\n",
              "      border-top-color: var(--fill-color);\n",
              "    }\n",
              "    60% {\n",
              "      border-color: transparent;\n",
              "      border-right-color: var(--fill-color);\n",
              "    }\n",
              "    80% {\n",
              "      border-color: transparent;\n",
              "      border-right-color: var(--fill-color);\n",
              "      border-bottom-color: var(--fill-color);\n",
              "    }\n",
              "    90% {\n",
              "      border-color: transparent;\n",
              "      border-bottom-color: var(--fill-color);\n",
              "    }\n",
              "  }\n",
              "</style>\n",
              "\n",
              "      <script>\n",
              "        async function quickchart(key) {\n",
              "          const quickchartButtonEl =\n",
              "            document.querySelector('#' + key + ' button');\n",
              "          quickchartButtonEl.disabled = true;  // To prevent multiple clicks.\n",
              "          quickchartButtonEl.classList.add('colab-df-spinner');\n",
              "          try {\n",
              "            const charts = await google.colab.kernel.invokeFunction(\n",
              "                'suggestCharts', [key], {});\n",
              "          } catch (error) {\n",
              "            console.error('Error during call to suggestCharts:', error);\n",
              "          }\n",
              "          quickchartButtonEl.classList.remove('colab-df-spinner');\n",
              "          quickchartButtonEl.classList.add('colab-df-quickchart-complete');\n",
              "        }\n",
              "        (() => {\n",
              "          let quickchartButtonEl =\n",
              "            document.querySelector('#df-307aed0e-2d9b-45b4-bd4d-a03ca849b883 button');\n",
              "          quickchartButtonEl.style.display =\n",
              "            google.colab.kernel.accessAllowed ? 'block' : 'none';\n",
              "        })();\n",
              "      </script>\n",
              "    </div>\n",
              "\n",
              "    </div>\n",
              "  </div>\n"
            ],
            "application/vnd.google.colaboratory.intrinsic+json": {
              "type": "dataframe",
              "variable_name": "df",
              "summary": "{\n  \"name\": \"df\",\n  \"rows\": 5110,\n  \"fields\": [\n    {\n      \"column\": \"id\",\n      \"properties\": {\n        \"dtype\": \"number\",\n        \"std\": 21161,\n        \"min\": 67,\n        \"max\": 72940,\n        \"num_unique_values\": 5110,\n        \"samples\": [\n          40041,\n          55244,\n          70992\n        ],\n        \"semantic_type\": \"\",\n        \"description\": \"\"\n      }\n    },\n    {\n      \"column\": \"gender\",\n      \"properties\": {\n        \"dtype\": \"category\",\n        \"num_unique_values\": 3,\n        \"samples\": [\n          \"Male\",\n          \"Female\",\n          \"Other\"\n        ],\n        \"semantic_type\": \"\",\n        \"description\": \"\"\n      }\n    },\n    {\n      \"column\": \"age\",\n      \"properties\": {\n        \"dtype\": \"number\",\n        \"std\": 22.61264672311352,\n        \"min\": 0.08,\n        \"max\": 82.0,\n        \"num_unique_values\": 104,\n        \"samples\": [\n          45.0,\n          24.0,\n          33.0\n        ],\n        \"semantic_type\": \"\",\n        \"description\": \"\"\n      }\n    },\n    {\n      \"column\": \"hypertension\",\n      \"properties\": {\n        \"dtype\": \"number\",\n        \"std\": 0,\n        \"min\": 0,\n        \"max\": 1,\n        \"num_unique_values\": 2,\n        \"samples\": [\n          1,\n          0\n        ],\n        \"semantic_type\": \"\",\n        \"description\": \"\"\n      }\n    },\n    {\n      \"column\": \"heart_disease\",\n      \"properties\": {\n        \"dtype\": \"number\",\n        \"std\": 0,\n        \"min\": 0,\n        \"max\": 1,\n        \"num_unique_values\": 2,\n        \"samples\": [\n          0,\n          1\n        ],\n        \"semantic_type\": \"\",\n        \"description\": \"\"\n      }\n    },\n    {\n      \"column\": \"ever_married\",\n      \"properties\": {\n        \"dtype\": \"category\",\n        \"num_unique_values\": 2,\n        \"samples\": [\n          \"No\",\n          \"Yes\"\n        ],\n        \"semantic_type\": \"\",\n        \"description\": \"\"\n      }\n    },\n    {\n      \"column\": \"work_type\",\n      \"properties\": {\n        \"dtype\": \"category\",\n        \"num_unique_values\": 5,\n        \"samples\": [\n          \"Self-employed\",\n          \"Never_worked\"\n        ],\n        \"semantic_type\": \"\",\n        \"description\": \"\"\n      }\n    },\n    {\n      \"column\": \"Residence_type\",\n      \"properties\": {\n        \"dtype\": \"category\",\n        \"num_unique_values\": 2,\n        \"samples\": [\n          \"Rural\",\n          \"Urban\"\n        ],\n        \"semantic_type\": \"\",\n        \"description\": \"\"\n      }\n    },\n    {\n      \"column\": \"avg_glucose_level\",\n      \"properties\": {\n        \"dtype\": \"number\",\n        \"std\": 45.28356015058203,\n        \"min\": 55.12,\n        \"max\": 271.74,\n        \"num_unique_values\": 3979,\n        \"samples\": [\n          178.29,\n          156.69\n        ],\n        \"semantic_type\": \"\",\n        \"description\": \"\"\n      }\n    },\n    {\n      \"column\": \"bmi\",\n      \"properties\": {\n        \"dtype\": \"number\",\n        \"std\": 7.854066729680158,\n        \"min\": 10.3,\n        \"max\": 97.6,\n        \"num_unique_values\": 418,\n        \"samples\": [\n          49.5,\n          18.5\n        ],\n        \"semantic_type\": \"\",\n        \"description\": \"\"\n      }\n    },\n    {\n      \"column\": \"smoking_status\",\n      \"properties\": {\n        \"dtype\": \"category\",\n        \"num_unique_values\": 4,\n        \"samples\": [\n          \"never smoked\",\n          \"Unknown\"\n        ],\n        \"semantic_type\": \"\",\n        \"description\": \"\"\n      }\n    },\n    {\n      \"column\": \"stroke\",\n      \"properties\": {\n        \"dtype\": \"number\",\n        \"std\": 0,\n        \"min\": 0,\n        \"max\": 1,\n        \"num_unique_values\": 2,\n        \"samples\": [\n          0,\n          1\n        ],\n        \"semantic_type\": \"\",\n        \"description\": \"\"\n      }\n    }\n  ]\n}"
            }
          },
          "metadata": {},
          "execution_count": 69
        }
      ]
    },
    {
      "cell_type": "markdown",
      "source": [
        "## EDA (Exploratory Data Analysis)\n",
        "\n",
        "---\n",
        "\n",
        "\n",
        "In this section, we perform an initial exploration of the dataset to better understand the structure, distribution, and relationships within the data. The goal of the Exploratory Data Analysis (EDA) phase is to identify patterns, detect anomalies, check for missing values, and gain insights that can guide data preprocessing and feature engineering. We will examine both numerical and categorical features, visualize key variables, and assess their potential impact on stroke prediction.\n",
        "\n",
        "\n"
      ],
      "metadata": {
        "id": "F42XZVT48PjL"
      }
    },
    {
      "cell_type": "markdown",
      "source": [
        "### Dataset overview"
      ],
      "metadata": {
        "id": "AHfgD4-tSSx1"
      }
    },
    {
      "cell_type": "code",
      "source": [
        "# check the dataset's structure\n",
        "\n",
        "df.head()\n",
        "df.info()\n"
      ],
      "metadata": {
        "colab": {
          "base_uri": "https://localhost:8080/"
        },
        "id": "FG0lBWrt6_ak",
        "outputId": "63ac4dd5-5c0c-4501-e5c6-cd0625ab5f76"
      },
      "execution_count": 70,
      "outputs": [
        {
          "output_type": "stream",
          "name": "stdout",
          "text": [
            "<class 'pandas.core.frame.DataFrame'>\n",
            "RangeIndex: 5110 entries, 0 to 5109\n",
            "Data columns (total 12 columns):\n",
            " #   Column             Non-Null Count  Dtype  \n",
            "---  ------             --------------  -----  \n",
            " 0   id                 5110 non-null   int64  \n",
            " 1   gender             5110 non-null   object \n",
            " 2   age                5110 non-null   float64\n",
            " 3   hypertension       5110 non-null   int64  \n",
            " 4   heart_disease      5110 non-null   int64  \n",
            " 5   ever_married       5110 non-null   object \n",
            " 6   work_type          5110 non-null   object \n",
            " 7   Residence_type     5110 non-null   object \n",
            " 8   avg_glucose_level  5110 non-null   float64\n",
            " 9   bmi                4909 non-null   float64\n",
            " 10  smoking_status     5110 non-null   object \n",
            " 11  stroke             5110 non-null   int64  \n",
            "dtypes: float64(3), int64(4), object(5)\n",
            "memory usage: 479.2+ KB\n"
          ]
        }
      ]
    },
    {
      "cell_type": "markdown",
      "source": [
        "From the output above we can see that the DataFrame has:\n",
        "\n",
        "*   5110 rows (from index 0 to 5109)\n",
        "*   12 columns (i.e., 12 variables)\n",
        "*   By looking at the \"Non-Null Count\" we can clearly see where the missing values are (in this case the bmi column has 201 missing (NaN) values)"
      ],
      "metadata": {
        "id": "lb5WbbKa9VWk"
      }
    },
    {
      "cell_type": "code",
      "source": [
        "# statistical summary\n",
        "df.describe(include='all')\n"
      ],
      "metadata": {
        "colab": {
          "base_uri": "https://localhost:8080/",
          "height": 0
        },
        "id": "DcPLPt1r8zSA",
        "outputId": "dc0fa63e-a4aa-4770-fd95-888dd25a3a53"
      },
      "execution_count": 71,
      "outputs": [
        {
          "output_type": "execute_result",
          "data": {
            "text/plain": [
              "                  id  gender          age  hypertension  heart_disease  \\\n",
              "count    5110.000000    5110  5110.000000   5110.000000    5110.000000   \n",
              "unique           NaN       3          NaN           NaN            NaN   \n",
              "top              NaN  Female          NaN           NaN            NaN   \n",
              "freq             NaN    2994          NaN           NaN            NaN   \n",
              "mean    36517.829354     NaN    43.226614      0.097456       0.054012   \n",
              "std     21161.721625     NaN    22.612647      0.296607       0.226063   \n",
              "min        67.000000     NaN     0.080000      0.000000       0.000000   \n",
              "25%     17741.250000     NaN    25.000000      0.000000       0.000000   \n",
              "50%     36932.000000     NaN    45.000000      0.000000       0.000000   \n",
              "75%     54682.000000     NaN    61.000000      0.000000       0.000000   \n",
              "max     72940.000000     NaN    82.000000      1.000000       1.000000   \n",
              "\n",
              "       ever_married work_type Residence_type  avg_glucose_level          bmi  \\\n",
              "count          5110      5110           5110        5110.000000  4909.000000   \n",
              "unique            2         5              2                NaN          NaN   \n",
              "top             Yes   Private          Urban                NaN          NaN   \n",
              "freq           3353      2925           2596                NaN          NaN   \n",
              "mean            NaN       NaN            NaN         106.147677    28.893237   \n",
              "std             NaN       NaN            NaN          45.283560     7.854067   \n",
              "min             NaN       NaN            NaN          55.120000    10.300000   \n",
              "25%             NaN       NaN            NaN          77.245000    23.500000   \n",
              "50%             NaN       NaN            NaN          91.885000    28.100000   \n",
              "75%             NaN       NaN            NaN         114.090000    33.100000   \n",
              "max             NaN       NaN            NaN         271.740000    97.600000   \n",
              "\n",
              "       smoking_status       stroke  \n",
              "count            5110  5110.000000  \n",
              "unique              4          NaN  \n",
              "top      never smoked          NaN  \n",
              "freq             1892          NaN  \n",
              "mean              NaN     0.048728  \n",
              "std               NaN     0.215320  \n",
              "min               NaN     0.000000  \n",
              "25%               NaN     0.000000  \n",
              "50%               NaN     0.000000  \n",
              "75%               NaN     0.000000  \n",
              "max               NaN     1.000000  "
            ],
            "text/html": [
              "\n",
              "  <div id=\"df-a0438266-8d37-4338-9e78-7e84e2d11a82\" class=\"colab-df-container\">\n",
              "    <div>\n",
              "<style scoped>\n",
              "    .dataframe tbody tr th:only-of-type {\n",
              "        vertical-align: middle;\n",
              "    }\n",
              "\n",
              "    .dataframe tbody tr th {\n",
              "        vertical-align: top;\n",
              "    }\n",
              "\n",
              "    .dataframe thead th {\n",
              "        text-align: right;\n",
              "    }\n",
              "</style>\n",
              "<table border=\"1\" class=\"dataframe\">\n",
              "  <thead>\n",
              "    <tr style=\"text-align: right;\">\n",
              "      <th></th>\n",
              "      <th>id</th>\n",
              "      <th>gender</th>\n",
              "      <th>age</th>\n",
              "      <th>hypertension</th>\n",
              "      <th>heart_disease</th>\n",
              "      <th>ever_married</th>\n",
              "      <th>work_type</th>\n",
              "      <th>Residence_type</th>\n",
              "      <th>avg_glucose_level</th>\n",
              "      <th>bmi</th>\n",
              "      <th>smoking_status</th>\n",
              "      <th>stroke</th>\n",
              "    </tr>\n",
              "  </thead>\n",
              "  <tbody>\n",
              "    <tr>\n",
              "      <th>count</th>\n",
              "      <td>5110.000000</td>\n",
              "      <td>5110</td>\n",
              "      <td>5110.000000</td>\n",
              "      <td>5110.000000</td>\n",
              "      <td>5110.000000</td>\n",
              "      <td>5110</td>\n",
              "      <td>5110</td>\n",
              "      <td>5110</td>\n",
              "      <td>5110.000000</td>\n",
              "      <td>4909.000000</td>\n",
              "      <td>5110</td>\n",
              "      <td>5110.000000</td>\n",
              "    </tr>\n",
              "    <tr>\n",
              "      <th>unique</th>\n",
              "      <td>NaN</td>\n",
              "      <td>3</td>\n",
              "      <td>NaN</td>\n",
              "      <td>NaN</td>\n",
              "      <td>NaN</td>\n",
              "      <td>2</td>\n",
              "      <td>5</td>\n",
              "      <td>2</td>\n",
              "      <td>NaN</td>\n",
              "      <td>NaN</td>\n",
              "      <td>4</td>\n",
              "      <td>NaN</td>\n",
              "    </tr>\n",
              "    <tr>\n",
              "      <th>top</th>\n",
              "      <td>NaN</td>\n",
              "      <td>Female</td>\n",
              "      <td>NaN</td>\n",
              "      <td>NaN</td>\n",
              "      <td>NaN</td>\n",
              "      <td>Yes</td>\n",
              "      <td>Private</td>\n",
              "      <td>Urban</td>\n",
              "      <td>NaN</td>\n",
              "      <td>NaN</td>\n",
              "      <td>never smoked</td>\n",
              "      <td>NaN</td>\n",
              "    </tr>\n",
              "    <tr>\n",
              "      <th>freq</th>\n",
              "      <td>NaN</td>\n",
              "      <td>2994</td>\n",
              "      <td>NaN</td>\n",
              "      <td>NaN</td>\n",
              "      <td>NaN</td>\n",
              "      <td>3353</td>\n",
              "      <td>2925</td>\n",
              "      <td>2596</td>\n",
              "      <td>NaN</td>\n",
              "      <td>NaN</td>\n",
              "      <td>1892</td>\n",
              "      <td>NaN</td>\n",
              "    </tr>\n",
              "    <tr>\n",
              "      <th>mean</th>\n",
              "      <td>36517.829354</td>\n",
              "      <td>NaN</td>\n",
              "      <td>43.226614</td>\n",
              "      <td>0.097456</td>\n",
              "      <td>0.054012</td>\n",
              "      <td>NaN</td>\n",
              "      <td>NaN</td>\n",
              "      <td>NaN</td>\n",
              "      <td>106.147677</td>\n",
              "      <td>28.893237</td>\n",
              "      <td>NaN</td>\n",
              "      <td>0.048728</td>\n",
              "    </tr>\n",
              "    <tr>\n",
              "      <th>std</th>\n",
              "      <td>21161.721625</td>\n",
              "      <td>NaN</td>\n",
              "      <td>22.612647</td>\n",
              "      <td>0.296607</td>\n",
              "      <td>0.226063</td>\n",
              "      <td>NaN</td>\n",
              "      <td>NaN</td>\n",
              "      <td>NaN</td>\n",
              "      <td>45.283560</td>\n",
              "      <td>7.854067</td>\n",
              "      <td>NaN</td>\n",
              "      <td>0.215320</td>\n",
              "    </tr>\n",
              "    <tr>\n",
              "      <th>min</th>\n",
              "      <td>67.000000</td>\n",
              "      <td>NaN</td>\n",
              "      <td>0.080000</td>\n",
              "      <td>0.000000</td>\n",
              "      <td>0.000000</td>\n",
              "      <td>NaN</td>\n",
              "      <td>NaN</td>\n",
              "      <td>NaN</td>\n",
              "      <td>55.120000</td>\n",
              "      <td>10.300000</td>\n",
              "      <td>NaN</td>\n",
              "      <td>0.000000</td>\n",
              "    </tr>\n",
              "    <tr>\n",
              "      <th>25%</th>\n",
              "      <td>17741.250000</td>\n",
              "      <td>NaN</td>\n",
              "      <td>25.000000</td>\n",
              "      <td>0.000000</td>\n",
              "      <td>0.000000</td>\n",
              "      <td>NaN</td>\n",
              "      <td>NaN</td>\n",
              "      <td>NaN</td>\n",
              "      <td>77.245000</td>\n",
              "      <td>23.500000</td>\n",
              "      <td>NaN</td>\n",
              "      <td>0.000000</td>\n",
              "    </tr>\n",
              "    <tr>\n",
              "      <th>50%</th>\n",
              "      <td>36932.000000</td>\n",
              "      <td>NaN</td>\n",
              "      <td>45.000000</td>\n",
              "      <td>0.000000</td>\n",
              "      <td>0.000000</td>\n",
              "      <td>NaN</td>\n",
              "      <td>NaN</td>\n",
              "      <td>NaN</td>\n",
              "      <td>91.885000</td>\n",
              "      <td>28.100000</td>\n",
              "      <td>NaN</td>\n",
              "      <td>0.000000</td>\n",
              "    </tr>\n",
              "    <tr>\n",
              "      <th>75%</th>\n",
              "      <td>54682.000000</td>\n",
              "      <td>NaN</td>\n",
              "      <td>61.000000</td>\n",
              "      <td>0.000000</td>\n",
              "      <td>0.000000</td>\n",
              "      <td>NaN</td>\n",
              "      <td>NaN</td>\n",
              "      <td>NaN</td>\n",
              "      <td>114.090000</td>\n",
              "      <td>33.100000</td>\n",
              "      <td>NaN</td>\n",
              "      <td>0.000000</td>\n",
              "    </tr>\n",
              "    <tr>\n",
              "      <th>max</th>\n",
              "      <td>72940.000000</td>\n",
              "      <td>NaN</td>\n",
              "      <td>82.000000</td>\n",
              "      <td>1.000000</td>\n",
              "      <td>1.000000</td>\n",
              "      <td>NaN</td>\n",
              "      <td>NaN</td>\n",
              "      <td>NaN</td>\n",
              "      <td>271.740000</td>\n",
              "      <td>97.600000</td>\n",
              "      <td>NaN</td>\n",
              "      <td>1.000000</td>\n",
              "    </tr>\n",
              "  </tbody>\n",
              "</table>\n",
              "</div>\n",
              "    <div class=\"colab-df-buttons\">\n",
              "\n",
              "  <div class=\"colab-df-container\">\n",
              "    <button class=\"colab-df-convert\" onclick=\"convertToInteractive('df-a0438266-8d37-4338-9e78-7e84e2d11a82')\"\n",
              "            title=\"Convert this dataframe to an interactive table.\"\n",
              "            style=\"display:none;\">\n",
              "\n",
              "  <svg xmlns=\"http://www.w3.org/2000/svg\" height=\"24px\" viewBox=\"0 -960 960 960\">\n",
              "    <path d=\"M120-120v-720h720v720H120Zm60-500h600v-160H180v160Zm220 220h160v-160H400v160Zm0 220h160v-160H400v160ZM180-400h160v-160H180v160Zm440 0h160v-160H620v160ZM180-180h160v-160H180v160Zm440 0h160v-160H620v160Z\"/>\n",
              "  </svg>\n",
              "    </button>\n",
              "\n",
              "  <style>\n",
              "    .colab-df-container {\n",
              "      display:flex;\n",
              "      gap: 12px;\n",
              "    }\n",
              "\n",
              "    .colab-df-convert {\n",
              "      background-color: #E8F0FE;\n",
              "      border: none;\n",
              "      border-radius: 50%;\n",
              "      cursor: pointer;\n",
              "      display: none;\n",
              "      fill: #1967D2;\n",
              "      height: 32px;\n",
              "      padding: 0 0 0 0;\n",
              "      width: 32px;\n",
              "    }\n",
              "\n",
              "    .colab-df-convert:hover {\n",
              "      background-color: #E2EBFA;\n",
              "      box-shadow: 0px 1px 2px rgba(60, 64, 67, 0.3), 0px 1px 3px 1px rgba(60, 64, 67, 0.15);\n",
              "      fill: #174EA6;\n",
              "    }\n",
              "\n",
              "    .colab-df-buttons div {\n",
              "      margin-bottom: 4px;\n",
              "    }\n",
              "\n",
              "    [theme=dark] .colab-df-convert {\n",
              "      background-color: #3B4455;\n",
              "      fill: #D2E3FC;\n",
              "    }\n",
              "\n",
              "    [theme=dark] .colab-df-convert:hover {\n",
              "      background-color: #434B5C;\n",
              "      box-shadow: 0px 1px 3px 1px rgba(0, 0, 0, 0.15);\n",
              "      filter: drop-shadow(0px 1px 2px rgba(0, 0, 0, 0.3));\n",
              "      fill: #FFFFFF;\n",
              "    }\n",
              "  </style>\n",
              "\n",
              "    <script>\n",
              "      const buttonEl =\n",
              "        document.querySelector('#df-a0438266-8d37-4338-9e78-7e84e2d11a82 button.colab-df-convert');\n",
              "      buttonEl.style.display =\n",
              "        google.colab.kernel.accessAllowed ? 'block' : 'none';\n",
              "\n",
              "      async function convertToInteractive(key) {\n",
              "        const element = document.querySelector('#df-a0438266-8d37-4338-9e78-7e84e2d11a82');\n",
              "        const dataTable =\n",
              "          await google.colab.kernel.invokeFunction('convertToInteractive',\n",
              "                                                    [key], {});\n",
              "        if (!dataTable) return;\n",
              "\n",
              "        const docLinkHtml = 'Like what you see? Visit the ' +\n",
              "          '<a target=\"_blank\" href=https://colab.research.google.com/notebooks/data_table.ipynb>data table notebook</a>'\n",
              "          + ' to learn more about interactive tables.';\n",
              "        element.innerHTML = '';\n",
              "        dataTable['output_type'] = 'display_data';\n",
              "        await google.colab.output.renderOutput(dataTable, element);\n",
              "        const docLink = document.createElement('div');\n",
              "        docLink.innerHTML = docLinkHtml;\n",
              "        element.appendChild(docLink);\n",
              "      }\n",
              "    </script>\n",
              "  </div>\n",
              "\n",
              "\n",
              "    <div id=\"df-71bf5198-201d-418a-acea-e9e5d725caa5\">\n",
              "      <button class=\"colab-df-quickchart\" onclick=\"quickchart('df-71bf5198-201d-418a-acea-e9e5d725caa5')\"\n",
              "                title=\"Suggest charts\"\n",
              "                style=\"display:none;\">\n",
              "\n",
              "<svg xmlns=\"http://www.w3.org/2000/svg\" height=\"24px\"viewBox=\"0 0 24 24\"\n",
              "     width=\"24px\">\n",
              "    <g>\n",
              "        <path d=\"M19 3H5c-1.1 0-2 .9-2 2v14c0 1.1.9 2 2 2h14c1.1 0 2-.9 2-2V5c0-1.1-.9-2-2-2zM9 17H7v-7h2v7zm4 0h-2V7h2v10zm4 0h-2v-4h2v4z\"/>\n",
              "    </g>\n",
              "</svg>\n",
              "      </button>\n",
              "\n",
              "<style>\n",
              "  .colab-df-quickchart {\n",
              "      --bg-color: #E8F0FE;\n",
              "      --fill-color: #1967D2;\n",
              "      --hover-bg-color: #E2EBFA;\n",
              "      --hover-fill-color: #174EA6;\n",
              "      --disabled-fill-color: #AAA;\n",
              "      --disabled-bg-color: #DDD;\n",
              "  }\n",
              "\n",
              "  [theme=dark] .colab-df-quickchart {\n",
              "      --bg-color: #3B4455;\n",
              "      --fill-color: #D2E3FC;\n",
              "      --hover-bg-color: #434B5C;\n",
              "      --hover-fill-color: #FFFFFF;\n",
              "      --disabled-bg-color: #3B4455;\n",
              "      --disabled-fill-color: #666;\n",
              "  }\n",
              "\n",
              "  .colab-df-quickchart {\n",
              "    background-color: var(--bg-color);\n",
              "    border: none;\n",
              "    border-radius: 50%;\n",
              "    cursor: pointer;\n",
              "    display: none;\n",
              "    fill: var(--fill-color);\n",
              "    height: 32px;\n",
              "    padding: 0;\n",
              "    width: 32px;\n",
              "  }\n",
              "\n",
              "  .colab-df-quickchart:hover {\n",
              "    background-color: var(--hover-bg-color);\n",
              "    box-shadow: 0 1px 2px rgba(60, 64, 67, 0.3), 0 1px 3px 1px rgba(60, 64, 67, 0.15);\n",
              "    fill: var(--button-hover-fill-color);\n",
              "  }\n",
              "\n",
              "  .colab-df-quickchart-complete:disabled,\n",
              "  .colab-df-quickchart-complete:disabled:hover {\n",
              "    background-color: var(--disabled-bg-color);\n",
              "    fill: var(--disabled-fill-color);\n",
              "    box-shadow: none;\n",
              "  }\n",
              "\n",
              "  .colab-df-spinner {\n",
              "    border: 2px solid var(--fill-color);\n",
              "    border-color: transparent;\n",
              "    border-bottom-color: var(--fill-color);\n",
              "    animation:\n",
              "      spin 1s steps(1) infinite;\n",
              "  }\n",
              "\n",
              "  @keyframes spin {\n",
              "    0% {\n",
              "      border-color: transparent;\n",
              "      border-bottom-color: var(--fill-color);\n",
              "      border-left-color: var(--fill-color);\n",
              "    }\n",
              "    20% {\n",
              "      border-color: transparent;\n",
              "      border-left-color: var(--fill-color);\n",
              "      border-top-color: var(--fill-color);\n",
              "    }\n",
              "    30% {\n",
              "      border-color: transparent;\n",
              "      border-left-color: var(--fill-color);\n",
              "      border-top-color: var(--fill-color);\n",
              "      border-right-color: var(--fill-color);\n",
              "    }\n",
              "    40% {\n",
              "      border-color: transparent;\n",
              "      border-right-color: var(--fill-color);\n",
              "      border-top-color: var(--fill-color);\n",
              "    }\n",
              "    60% {\n",
              "      border-color: transparent;\n",
              "      border-right-color: var(--fill-color);\n",
              "    }\n",
              "    80% {\n",
              "      border-color: transparent;\n",
              "      border-right-color: var(--fill-color);\n",
              "      border-bottom-color: var(--fill-color);\n",
              "    }\n",
              "    90% {\n",
              "      border-color: transparent;\n",
              "      border-bottom-color: var(--fill-color);\n",
              "    }\n",
              "  }\n",
              "</style>\n",
              "\n",
              "      <script>\n",
              "        async function quickchart(key) {\n",
              "          const quickchartButtonEl =\n",
              "            document.querySelector('#' + key + ' button');\n",
              "          quickchartButtonEl.disabled = true;  // To prevent multiple clicks.\n",
              "          quickchartButtonEl.classList.add('colab-df-spinner');\n",
              "          try {\n",
              "            const charts = await google.colab.kernel.invokeFunction(\n",
              "                'suggestCharts', [key], {});\n",
              "          } catch (error) {\n",
              "            console.error('Error during call to suggestCharts:', error);\n",
              "          }\n",
              "          quickchartButtonEl.classList.remove('colab-df-spinner');\n",
              "          quickchartButtonEl.classList.add('colab-df-quickchart-complete');\n",
              "        }\n",
              "        (() => {\n",
              "          let quickchartButtonEl =\n",
              "            document.querySelector('#df-71bf5198-201d-418a-acea-e9e5d725caa5 button');\n",
              "          quickchartButtonEl.style.display =\n",
              "            google.colab.kernel.accessAllowed ? 'block' : 'none';\n",
              "        })();\n",
              "      </script>\n",
              "    </div>\n",
              "\n",
              "    </div>\n",
              "  </div>\n"
            ],
            "application/vnd.google.colaboratory.intrinsic+json": {
              "type": "dataframe",
              "summary": "{\n  \"name\": \"df\",\n  \"rows\": 11,\n  \"fields\": [\n    {\n      \"column\": \"id\",\n      \"properties\": {\n        \"dtype\": \"number\",\n        \"std\": 24739.06835358706,\n        \"min\": 67.0,\n        \"max\": 72940.0,\n        \"num_unique_values\": 8,\n        \"samples\": [\n          36517.82935420744,\n          36932.0,\n          5110.0\n        ],\n        \"semantic_type\": \"\",\n        \"description\": \"\"\n      }\n    },\n    {\n      \"column\": \"gender\",\n      \"properties\": {\n        \"dtype\": \"category\",\n        \"num_unique_values\": 4,\n        \"samples\": [\n          3,\n          \"2994\",\n          \"5110\"\n        ],\n        \"semantic_type\": \"\",\n        \"description\": \"\"\n      }\n    },\n    {\n      \"column\": \"age\",\n      \"properties\": {\n        \"dtype\": \"number\",\n        \"std\": 1792.744047061404,\n        \"min\": 0.08,\n        \"max\": 5110.0,\n        \"num_unique_values\": 8,\n        \"samples\": [\n          43.226614481409,\n          45.0,\n          5110.0\n        ],\n        \"semantic_type\": \"\",\n        \"description\": \"\"\n      }\n    },\n    {\n      \"column\": \"hypertension\",\n      \"properties\": {\n        \"dtype\": \"number\",\n        \"std\": 1806.5874475501562,\n        \"min\": 0.0,\n        \"max\": 5110.0,\n        \"num_unique_values\": 5,\n        \"samples\": [\n          0.0974559686888454,\n          1.0,\n          0.29660667423378534\n        ],\n        \"semantic_type\": \"\",\n        \"description\": \"\"\n      }\n    },\n    {\n      \"column\": \"heart_disease\",\n      \"properties\": {\n        \"dtype\": \"number\",\n        \"std\": 1806.593204812832,\n        \"min\": 0.0,\n        \"max\": 5110.0,\n        \"num_unique_values\": 5,\n        \"samples\": [\n          0.05401174168297456,\n          1.0,\n          0.22606298750336476\n        ],\n        \"semantic_type\": \"\",\n        \"description\": \"\"\n      }\n    },\n    {\n      \"column\": \"ever_married\",\n      \"properties\": {\n        \"dtype\": \"category\",\n        \"num_unique_values\": 4,\n        \"samples\": [\n          2,\n          \"3353\",\n          \"5110\"\n        ],\n        \"semantic_type\": \"\",\n        \"description\": \"\"\n      }\n    },\n    {\n      \"column\": \"work_type\",\n      \"properties\": {\n        \"dtype\": \"category\",\n        \"num_unique_values\": 4,\n        \"samples\": [\n          5,\n          \"2925\",\n          \"5110\"\n        ],\n        \"semantic_type\": \"\",\n        \"description\": \"\"\n      }\n    },\n    {\n      \"column\": \"Residence_type\",\n      \"properties\": {\n        \"dtype\": \"category\",\n        \"num_unique_values\": 4,\n        \"samples\": [\n          2,\n          \"2596\",\n          \"5110\"\n        ],\n        \"semantic_type\": \"\",\n        \"description\": \"\"\n      }\n    },\n    {\n      \"column\": \"avg_glucose_level\",\n      \"properties\": {\n        \"dtype\": \"number\",\n        \"std\": 1769.6002138244987,\n        \"min\": 45.28356015058203,\n        \"max\": 5110.0,\n        \"num_unique_values\": 8,\n        \"samples\": [\n          106.1476771037182,\n          91.88499999999999,\n          5110.0\n        ],\n        \"semantic_type\": \"\",\n        \"description\": \"\"\n      }\n    },\n    {\n      \"column\": \"bmi\",\n      \"properties\": {\n        \"dtype\": \"number\",\n        \"std\": 1724.2356567020179,\n        \"min\": 7.854066729680158,\n        \"max\": 4909.0,\n        \"num_unique_values\": 8,\n        \"samples\": [\n          28.893236911794666,\n          28.1,\n          4909.0\n        ],\n        \"semantic_type\": \"\",\n        \"description\": \"\"\n      }\n    },\n    {\n      \"column\": \"smoking_status\",\n      \"properties\": {\n        \"dtype\": \"category\",\n        \"num_unique_values\": 4,\n        \"samples\": [\n          4,\n          \"1892\",\n          \"5110\"\n        ],\n        \"semantic_type\": \"\",\n        \"description\": \"\"\n      }\n    },\n    {\n      \"column\": \"stroke\",\n      \"properties\": {\n        \"dtype\": \"number\",\n        \"std\": 1806.5940143142543,\n        \"min\": 0.0,\n        \"max\": 5110.0,\n        \"num_unique_values\": 5,\n        \"samples\": [\n          0.0487279843444227,\n          1.0,\n          0.21531985698026107\n        ],\n        \"semantic_type\": \"\",\n        \"description\": \"\"\n      }\n    }\n  ]\n}"
            }
          },
          "metadata": {},
          "execution_count": 71
        }
      ]
    },
    {
      "cell_type": "markdown",
      "source": [
        "By running `df.describe(include='all')`, we obtain a summary of both numerical and categorical columns.\n",
        "\n",
        "* For numerical columns (e.g., age, bmi), the output includes statistics such as mean, standard deviation, min, max, and quartiles.\n",
        "* For categorical columns (e.g., gender, work_type), it shows the number of unique categories, the most frequent value (`top`), and its frequency (`freq`).\n",
        "* This helps us quickly understand the distribution, detect outliers, and identify missing values (e.g., the `bmi` column has 201 missing entries).\n"
      ],
      "metadata": {
        "id": "eGNXRgU6BZyB"
      }
    },
    {
      "cell_type": "code",
      "source": [
        "# sum all of the missing values\n",
        "\n",
        "df.isnull().sum()\n"
      ],
      "metadata": {
        "colab": {
          "base_uri": "https://localhost:8080/",
          "height": 0
        },
        "id": "u4AOBaRvBWC3",
        "outputId": "c89c6d7e-702d-4c70-f718-1eda46ec10fb"
      },
      "execution_count": 72,
      "outputs": [
        {
          "output_type": "execute_result",
          "data": {
            "text/plain": [
              "id                     0\n",
              "gender                 0\n",
              "age                    0\n",
              "hypertension           0\n",
              "heart_disease          0\n",
              "ever_married           0\n",
              "work_type              0\n",
              "Residence_type         0\n",
              "avg_glucose_level      0\n",
              "bmi                  201\n",
              "smoking_status         0\n",
              "stroke                 0\n",
              "dtype: int64"
            ],
            "text/html": [
              "<div>\n",
              "<style scoped>\n",
              "    .dataframe tbody tr th:only-of-type {\n",
              "        vertical-align: middle;\n",
              "    }\n",
              "\n",
              "    .dataframe tbody tr th {\n",
              "        vertical-align: top;\n",
              "    }\n",
              "\n",
              "    .dataframe thead th {\n",
              "        text-align: right;\n",
              "    }\n",
              "</style>\n",
              "<table border=\"1\" class=\"dataframe\">\n",
              "  <thead>\n",
              "    <tr style=\"text-align: right;\">\n",
              "      <th></th>\n",
              "      <th>0</th>\n",
              "    </tr>\n",
              "  </thead>\n",
              "  <tbody>\n",
              "    <tr>\n",
              "      <th>id</th>\n",
              "      <td>0</td>\n",
              "    </tr>\n",
              "    <tr>\n",
              "      <th>gender</th>\n",
              "      <td>0</td>\n",
              "    </tr>\n",
              "    <tr>\n",
              "      <th>age</th>\n",
              "      <td>0</td>\n",
              "    </tr>\n",
              "    <tr>\n",
              "      <th>hypertension</th>\n",
              "      <td>0</td>\n",
              "    </tr>\n",
              "    <tr>\n",
              "      <th>heart_disease</th>\n",
              "      <td>0</td>\n",
              "    </tr>\n",
              "    <tr>\n",
              "      <th>ever_married</th>\n",
              "      <td>0</td>\n",
              "    </tr>\n",
              "    <tr>\n",
              "      <th>work_type</th>\n",
              "      <td>0</td>\n",
              "    </tr>\n",
              "    <tr>\n",
              "      <th>Residence_type</th>\n",
              "      <td>0</td>\n",
              "    </tr>\n",
              "    <tr>\n",
              "      <th>avg_glucose_level</th>\n",
              "      <td>0</td>\n",
              "    </tr>\n",
              "    <tr>\n",
              "      <th>bmi</th>\n",
              "      <td>201</td>\n",
              "    </tr>\n",
              "    <tr>\n",
              "      <th>smoking_status</th>\n",
              "      <td>0</td>\n",
              "    </tr>\n",
              "    <tr>\n",
              "      <th>stroke</th>\n",
              "      <td>0</td>\n",
              "    </tr>\n",
              "  </tbody>\n",
              "</table>\n",
              "</div><br><label><b>dtype:</b> int64</label>"
            ]
          },
          "metadata": {},
          "execution_count": 72
        }
      ]
    },
    {
      "cell_type": "markdown",
      "source": [
        "There are 201 missing values in the bmi index column (i.e., bodymass index). In the next section we are going to handle them"
      ],
      "metadata": {
        "id": "Vb_et4MnEWgz"
      }
    },
    {
      "cell_type": "code",
      "source": [
        "# check the features type\n",
        "df.dtypes"
      ],
      "metadata": {
        "colab": {
          "base_uri": "https://localhost:8080/",
          "height": 0
        },
        "id": "O312F0LsEG8I",
        "outputId": "9e013193-502e-486d-9393-02f13345494a"
      },
      "execution_count": 73,
      "outputs": [
        {
          "output_type": "execute_result",
          "data": {
            "text/plain": [
              "id                     int64\n",
              "gender                object\n",
              "age                  float64\n",
              "hypertension           int64\n",
              "heart_disease          int64\n",
              "ever_married          object\n",
              "work_type             object\n",
              "Residence_type        object\n",
              "avg_glucose_level    float64\n",
              "bmi                  float64\n",
              "smoking_status        object\n",
              "stroke                 int64\n",
              "dtype: object"
            ],
            "text/html": [
              "<div>\n",
              "<style scoped>\n",
              "    .dataframe tbody tr th:only-of-type {\n",
              "        vertical-align: middle;\n",
              "    }\n",
              "\n",
              "    .dataframe tbody tr th {\n",
              "        vertical-align: top;\n",
              "    }\n",
              "\n",
              "    .dataframe thead th {\n",
              "        text-align: right;\n",
              "    }\n",
              "</style>\n",
              "<table border=\"1\" class=\"dataframe\">\n",
              "  <thead>\n",
              "    <tr style=\"text-align: right;\">\n",
              "      <th></th>\n",
              "      <th>0</th>\n",
              "    </tr>\n",
              "  </thead>\n",
              "  <tbody>\n",
              "    <tr>\n",
              "      <th>id</th>\n",
              "      <td>int64</td>\n",
              "    </tr>\n",
              "    <tr>\n",
              "      <th>gender</th>\n",
              "      <td>object</td>\n",
              "    </tr>\n",
              "    <tr>\n",
              "      <th>age</th>\n",
              "      <td>float64</td>\n",
              "    </tr>\n",
              "    <tr>\n",
              "      <th>hypertension</th>\n",
              "      <td>int64</td>\n",
              "    </tr>\n",
              "    <tr>\n",
              "      <th>heart_disease</th>\n",
              "      <td>int64</td>\n",
              "    </tr>\n",
              "    <tr>\n",
              "      <th>ever_married</th>\n",
              "      <td>object</td>\n",
              "    </tr>\n",
              "    <tr>\n",
              "      <th>work_type</th>\n",
              "      <td>object</td>\n",
              "    </tr>\n",
              "    <tr>\n",
              "      <th>Residence_type</th>\n",
              "      <td>object</td>\n",
              "    </tr>\n",
              "    <tr>\n",
              "      <th>avg_glucose_level</th>\n",
              "      <td>float64</td>\n",
              "    </tr>\n",
              "    <tr>\n",
              "      <th>bmi</th>\n",
              "      <td>float64</td>\n",
              "    </tr>\n",
              "    <tr>\n",
              "      <th>smoking_status</th>\n",
              "      <td>object</td>\n",
              "    </tr>\n",
              "    <tr>\n",
              "      <th>stroke</th>\n",
              "      <td>int64</td>\n",
              "    </tr>\n",
              "  </tbody>\n",
              "</table>\n",
              "</div><br><label><b>dtype:</b> object</label>"
            ]
          },
          "metadata": {},
          "execution_count": 73
        }
      ]
    },
    {
      "cell_type": "markdown",
      "source": [
        "Note :\n",
        "*  Categorical variables :  gender, ever_married, work_type, Residence_type, smoking_status\n",
        "* Numerical variables : id, age, hypertension, heart_desease, avg_glucose_level, bmi\n",
        "* Target : stroke"
      ],
      "metadata": {
        "id": "UFJoytIuFPR0"
      }
    },
    {
      "cell_type": "markdown",
      "source": [
        "### Target Variable Distribution and Class Imbalance\n",
        "\n",
        "We examine the distribution of the target variable (`stroke`) to assess if the dataset is balanced or imbalanced. This step is critical to understand potential challenges in model training."
      ],
      "metadata": {
        "id": "BrbE7uK5VbQQ"
      }
    },
    {
      "cell_type": "code",
      "source": [
        "df['stroke'].value_counts(normalize=True)\n"
      ],
      "metadata": {
        "colab": {
          "base_uri": "https://localhost:8080/",
          "height": 0
        },
        "id": "CrUwV_gIVbBU",
        "outputId": "75388534-898e-4e6f-bca7-ffdf7c35bff5"
      },
      "execution_count": 74,
      "outputs": [
        {
          "output_type": "execute_result",
          "data": {
            "text/plain": [
              "stroke\n",
              "0    0.951272\n",
              "1    0.048728\n",
              "Name: proportion, dtype: float64"
            ],
            "text/html": [
              "<div>\n",
              "<style scoped>\n",
              "    .dataframe tbody tr th:only-of-type {\n",
              "        vertical-align: middle;\n",
              "    }\n",
              "\n",
              "    .dataframe tbody tr th {\n",
              "        vertical-align: top;\n",
              "    }\n",
              "\n",
              "    .dataframe thead th {\n",
              "        text-align: right;\n",
              "    }\n",
              "</style>\n",
              "<table border=\"1\" class=\"dataframe\">\n",
              "  <thead>\n",
              "    <tr style=\"text-align: right;\">\n",
              "      <th></th>\n",
              "      <th>proportion</th>\n",
              "    </tr>\n",
              "    <tr>\n",
              "      <th>stroke</th>\n",
              "      <th></th>\n",
              "    </tr>\n",
              "  </thead>\n",
              "  <tbody>\n",
              "    <tr>\n",
              "      <th>0</th>\n",
              "      <td>0.951272</td>\n",
              "    </tr>\n",
              "    <tr>\n",
              "      <th>1</th>\n",
              "      <td>0.048728</td>\n",
              "    </tr>\n",
              "  </tbody>\n",
              "</table>\n",
              "</div><br><label><b>dtype:</b> float64</label>"
            ]
          },
          "metadata": {},
          "execution_count": 74
        }
      ]
    },
    {
      "cell_type": "markdown",
      "source": [
        "The target variable `stroke` is highly imbalanced, with approximately 95.1% of the instances belonging to the negative class (no stroke) and only about 4.9% representing positive stroke cases. This significant imbalance poses a challenge for model training, as standard algorithms may be biased towards the majority class. Therefore, special attention is required in model evaluation and potentially in the application of techniques to handle class imbalance."
      ],
      "metadata": {
        "id": "49YP9PmzVz0K"
      }
    },
    {
      "cell_type": "markdown",
      "source": [
        "### Data Visualization"
      ],
      "metadata": {
        "id": "f6CbzgtuGTsJ"
      }
    },
    {
      "cell_type": "markdown",
      "source": [
        "#### Countplot"
      ],
      "metadata": {
        "id": "rsi1ACsilYod"
      }
    },
    {
      "cell_type": "code",
      "source": [
        "sns.countplot(x='stroke', data=df)\n",
        "plt.title('Target distribution (stroke)')\n"
      ],
      "metadata": {
        "colab": {
          "base_uri": "https://localhost:8080/",
          "height": 0
        },
        "id": "KzZLzM6PFEIw",
        "outputId": "d063da97-bc8c-4f46-c70d-0f4f290090c4"
      },
      "execution_count": 75,
      "outputs": [
        {
          "output_type": "execute_result",
          "data": {
            "text/plain": [
              "Text(0.5, 1.0, 'Target distribution (stroke)')"
            ]
          },
          "metadata": {},
          "execution_count": 75
        },
        {
          "output_type": "display_data",
          "data": {
            "text/plain": [
              "<Figure size 640x480 with 1 Axes>"
            ],
            "image/png": "[encoded data removed]"
          },
          "metadata": {}
        }
      ]
    },
    {
      "cell_type": "markdown",
      "source": [
        "The countplot above displays the distribution of the target variable `stroke`. It reveals a significant class imbalance, with the majority of instances belonging to the \"no stroke\" class (0), while only a small fraction experienced a stroke (1). This imbalance suggests the need for techniques such as resampling or class weighting during model training.\n"
      ],
      "metadata": {
        "id": "NbDwF0ZGZH3g"
      }
    },
    {
      "cell_type": "markdown",
      "source": [
        "#### Boxplot\n"
      ],
      "metadata": {
        "id": "j-eR1EOAlUms"
      }
    },
    {
      "cell_type": "code",
      "source": [
        "sns.boxplot(x='stroke', y='age', data=df)\n"
      ],
      "metadata": {
        "colab": {
          "base_uri": "https://localhost:8080/",
          "height": 0
        },
        "id": "ipTC1WKfGsor",
        "outputId": "89bf87ef-6e02-4a43-e5a1-c95c80a6ed46"
      },
      "execution_count": 76,
      "outputs": [
        {
          "output_type": "execute_result",
          "data": {
            "text/plain": [
              "<Axes: xlabel='stroke', ylabel='age'>"
            ]
          },
          "metadata": {},
          "execution_count": 76
        },
        {
          "output_type": "display_data",
          "data": {
            "text/plain": [
              "<Figure size 640x480 with 1 Axes>"
            ],
            "image/png": "[encoded data removed]"
          },
          "metadata": {}
        }
      ]
    },
    {
      "cell_type": "markdown",
      "source": [
        "The boxplot above shows the distribution of `age` for each class of the target variable. It is evident that individuals who suffered a stroke tend to be older on average compared to those who did not. This reinforces the known correlation between aging and increased stroke risk."
      ],
      "metadata": {
        "id": "P86uKtR-ZYmb"
      }
    },
    {
      "cell_type": "markdown",
      "source": [
        "#### Histplot"
      ],
      "metadata": {
        "id": "UjhmoerZlQxQ"
      }
    },
    {
      "cell_type": "code",
      "source": [
        "sns.histplot(df['avg_glucose_level'], kde=True)\n"
      ],
      "metadata": {
        "colab": {
          "base_uri": "https://localhost:8080/",
          "height": 0
        },
        "id": "bPkWPQKYXNSd",
        "outputId": "fbc492c5-c2f2-4bd5-feac-e8473eec4fa5"
      },
      "execution_count": 77,
      "outputs": [
        {
          "output_type": "execute_result",
          "data": {
            "text/plain": [
              "<Axes: xlabel='avg_glucose_level', ylabel='Count'>"
            ]
          },
          "metadata": {},
          "execution_count": 77
        },
        {
          "output_type": "display_data",
          "data": {
            "text/plain": [
              "<Figure size 640x480 with 1 Axes>"
            ],
            "image/png": "[encoded data removed]"
          },
          "metadata": {}
        }
      ]
    },
    {
      "cell_type": "markdown",
      "source": [
        "This histogram shows that the majority of patients have an average glucose level around 80–90. The distribution appears to be right-skewed, with a primary peak in the lower glucose range and a secondary peak around 200, suggesting the presence of two distinct subgroups: one possibly representing patients with normal glucose levels, and the other representing those at risk due to elevated levels.\n",
        "\n",
        "We can also observe that some patients have extremely high glucose levels, exceeding 250. These could either be outliers or may indicate severe cases of hyperglycemia, which is relevant because hyperglycemia is a well-known risk factor for strokes.\n",
        "\n",
        "This distribution may justify further analysis to determine whether patients with higher glucose levels are more likely to have suffered a stroke. Understanding this relationship could support the identification of high-risk patients and contribute to the development of predictive models for stroke occurrence."
      ],
      "metadata": {
        "id": "FND494h4cBj7"
      }
    },
    {
      "cell_type": "markdown",
      "source": [
        "#### Heatmap"
      ],
      "metadata": {
        "id": "iczmSW4blMTH"
      }
    },
    {
      "cell_type": "code",
      "source": [
        "sns.heatmap(df.corr(numeric_only=True), annot=True, cmap='coolwarm')\n"
      ],
      "metadata": {
        "colab": {
          "base_uri": "https://localhost:8080/",
          "height": 0
        },
        "id": "H4CBejSHGthV",
        "outputId": "dacfa151-b3bb-4e3d-fb47-95d2149eeac5"
      },
      "execution_count": 78,
      "outputs": [
        {
          "output_type": "execute_result",
          "data": {
            "text/plain": [
              "<Axes: >"
            ]
          },
          "metadata": {},
          "execution_count": 78
        },
        {
          "output_type": "display_data",
          "data": {
            "text/plain": [
              "<Figure size 640x480 with 2 Axes>"
            ],
            "image/png": "[encoded data removed]"
          },
          "metadata": {}
        }
      ]
    },
    {
      "cell_type": "markdown",
      "source": [
        "The correlation heatmap above illustrates the pairwise linear relationships among all numerical features and the target variable (`stroke`). As expected, there is no strong multicollinearity among features (all correlation coefficients are < 0.4), which suggests that we can retain all features without immediate concerns about redundancy.\n",
        "\n",
        "Interestingly, `age` shows the highest correlation with `stroke` (0.25), followed by mild associations with `hypertension`, `heart_disease`, and `avg_glucose_level` (~0.13). The correlation between features and the target is relatively weak overall, which justifies exploring complex or non-linear machine learning models rather than relying solely on linear assumptions.\n",
        "\n",
        "The `id` variable has no predictive value (correlation near zero) and should be dropped before modeling.\n"
      ],
      "metadata": {
        "id": "qUqEFL8Ja3G_"
      }
    },
    {
      "cell_type": "markdown",
      "source": [
        "#### Barplots with Error Bars"
      ],
      "metadata": {
        "id": "p2pVb5X6o76k"
      }
    },
    {
      "cell_type": "code",
      "source": [
        "categorical_vars = ['gender', 'hypertension', 'heart_disease', 'ever_married', 'work_type', 'Residence_type', 'smoking_status']\n",
        "\n",
        "\n",
        "for var in categorical_vars:\n",
        "    plt.figure(figsize=(6,4))\n",
        "    sns.barplot(data=df, x=var, y='stroke', estimator=lambda x: sum(x)/len(x))\n",
        "\n",
        "    # observation number annotation\n",
        "    counts = df[var].value_counts()\n",
        "    for i, category in enumerate(df[var].unique()):\n",
        "        plt.text(i, 0.01, f'n={counts[category]}', ha='center', fontsize=9)\n",
        "\n",
        "    plt.title(f'Stroke Rate by {var}')\n",
        "    plt.xticks(rotation=45)\n",
        "    plt.ylabel('Stroke Rate')\n",
        "    plt.tight_layout()\n",
        "    plt.show()\n"
      ],
      "metadata": {
        "colab": {
          "base_uri": "https://localhost:8080/",
          "height": 0
        },
        "id": "RgBHY_TJqAOX",
        "outputId": "2ac29965-cf04-4281-c39d-bb6dd5a43108"
      },
      "execution_count": 79,
      "outputs": [
        {
          "output_type": "display_data",
          "data": {
            "text/plain": [
              "<Figure size 600x400 with 1 Axes>"
            ],
            "image/png": "[encoded data removed]"
          },
          "metadata": {}
        },
        {
          "output_type": "display_data",
          "data": {
            "text/plain": [
              "<Figure size 600x400 with 1 Axes>"
            ],
            "image/png": "[encoded data removed]"
          },
          "metadata": {}
        },
        {
          "output_type": "display_data",
          "data": {
            "text/plain": [
              "<Figure size 600x400 with 1 Axes>"
            ],
            "image/png": "[encoded data removed]"
          },
          "metadata": {}
        },
        {
          "output_type": "display_data",
          "data": {
            "text/plain": [
              "<Figure size 600x400 with 1 Axes>"
            ],
            "image/png": "[encoded data removed]"
          },
          "metadata": {}
        },
        {
          "output_type": "display_data",
          "data": {
            "text/plain": [
              "<Figure size 600x400 with 1 Axes>"
            ],
            "image/png": "[encoded data removed]"
          },
          "metadata": {}
        },
        {
          "output_type": "display_data",
          "data": {
            "text/plain": [
              "<Figure size 600x400 with 1 Axes>"
            ],
            "image/png": "[encoded data removed]"
          },
          "metadata": {}
        },
        {
          "output_type": "display_data",
          "data": {
            "text/plain": [
              "<Figure size 600x400 with 1 Axes>"
            ],
            "image/png": "[encoded data removed]"
          },
          "metadata": {}
        }
      ]
    },
    {
      "cell_type": "markdown",
      "source": [
        "The vertical black lines on each bar represent **95% confidence intervals** (CI) for the stroke rate in each category. These intervals are calculated through bootstrapping and give a measure of the **uncertainty** around the estimated mean stroke rate.\n",
        "\n",
        "- **Narrow intervals** indicate reliable estimates (larger sample size, low variance).\n",
        "- **Wider intervals** reflect greater variability or fewer observations.\n",
        "- Overlapping CIs suggest that differences between categories may **not be statistically significant**, underscoring the need for formal statistical testing or larger samples before inferring real effects.\n",
        "\n",
        "**Stroke Rate by Categorical Variables**\n",
        "- In the `ever_married` plot, individuals who have been married (\"Yes\") show a noticeably higher stroke rate compared to those who have never been married (\"No\"). The **non-overlapping confidence intervals** suggest that this difference might be **statistically significant** and should be further tested.\n",
        "\n",
        "- For `work_type`, self-employed individuals appear to have the highest stroke rate, followed by those in private or government jobs. Children, as expected, have a near-zero stroke rate. The \"Never_worked\" group has a very small sample size (n=22), making the stroke rate estimate unreliable — a point supported by the **absence or instability of the confidence interval**.\n",
        "\n",
        "These visualizations are essential in identifying potentially important risk factors or population segments worth further investigation and could inform feature selection or class-weighting strategies in model development.\n"
      ],
      "metadata": {
        "id": "_nIaope7ahRg"
      }
    },
    {
      "cell_type": "markdown",
      "source": [
        "#### Violinplot : age, BMI and glucose level distribution by Stroke"
      ],
      "metadata": {
        "id": "3V5s2OfVbCeb"
      }
    },
    {
      "cell_type": "code",
      "source": [
        "plt.figure(figsize=(6,4))\n",
        "sns.violinplot(data=df, x='stroke', y='age')\n",
        "plt.title('Age distribution by Stroke')\n",
        "plt.show()\n",
        "\n",
        "plt.figure(figsize=(6,4))\n",
        "sns.violinplot(data=df, x='stroke', y='bmi')\n",
        "plt.title('BMI distribution by Stroke')\n",
        "plt.show()\n",
        "\n",
        "plt.figure(figsize=(6,4))\n",
        "sns.violinplot(data=df, x='stroke', y='avg_glucose_level')\n",
        "plt.title('Glucose Level Distribution by Stroke')\n",
        "plt.show()\n",
        "\n"
      ],
      "metadata": {
        "colab": {
          "base_uri": "https://localhost:8080/",
          "height": 0
        },
        "id": "7dc0XPtpl8O9",
        "outputId": "61be5919-2dd3-46e3-a01b-57c497cbd73b"
      },
      "execution_count": 80,
      "outputs": [
        {
          "output_type": "display_data",
          "data": {
            "text/plain": [
              "<Figure size 600x400 with 1 Axes>"
            ],
            "image/png": "[encoded data removed]"
          },
          "metadata": {}
        },
        {
          "output_type": "display_data",
          "data": {
            "text/plain": [
              "<Figure size 600x400 with 1 Axes>"
            ],
            "image/png": "[encoded data removed]"
          },
          "metadata": {}
        },
        {
          "output_type": "display_data",
          "data": {
            "text/plain": [
              "<Figure size 600x400 with 1 Axes>"
            ],
            "image/png": "[encoded data removed]"
          },
          "metadata": {}
        }
      ]
    },
    {
      "cell_type": "markdown",
      "source": [
        "The violin plots above visualize the distribution of two key continuous features (`age` and `bmi`) split by the target variable `stroke`.\n",
        "\n",
        "- **Age distribution by Stroke**:  \n",
        "  Patients who suffered a stroke (stroke = 1) are generally older, with a distribution skewed toward higher age values. The non-stroke group (stroke = 0) spans a wider age range, including many younger individuals. This suggests that age is a strong differentiating factor and a potential risk indicator for stroke.\n",
        "\n",
        "- **BMI distribution by Stroke**:  \n",
        "  The BMI distributions for stroke and non-stroke patients appear more similar, both centered around the 25–30 range. There is a slightly higher concentration of individuals with BMI > 30 among stroke patients, but the difference is less pronounced than with age. This implies that while BMI might contribute to stroke risk, it may not be a strong standalone predictor in this dataset.\n",
        "\n",
        "- **Average glucose level distribution by Stroke**:\n",
        "  Patients who have suffered a stroke tend to have, on average, higher glucose levels and greater variability than the other group. This may indicate a non-linear relationship between hyperglycemia and stroke risk.\n",
        "\n",
        "These visualizations help to understand how continuous variables behave in relation to stroke occurrence and support further feature selection or transformation decisions.\n"
      ],
      "metadata": {
        "id": "uVfOIJADbLJf"
      }
    },
    {
      "cell_type": "markdown",
      "source": [
        "## Preprocessing: Data Cleaning, Encoding, Scaling and Splitting\n",
        "\n",
        "---\n",
        "\n",
        "Before training any machine learning models, it is crucial to preprocess the data to ensure its quality and compatibility with various algorithms. In this section, we handle several key preprocessing steps:\n",
        "\n",
        "- **Data cleaning**: to address missing values and correct inconsistencies.\n",
        "- **Encoding**: to convert categorical variables into numerical format suitable for modeling.\n",
        "- **Feature scaling**: to normalize numerical variables and ensure balanced contribution to the model.\n",
        "- **Data splitting**: to divide the dataset into training and testing subsets, which enables reliable model evaluation.\n",
        "\n",
        "These preprocessing steps are essential to build robust and generalizable predictive models.\n"
      ],
      "metadata": {
        "id": "-fsK79CEjzpp"
      }
    },
    {
      "cell_type": "markdown",
      "source": [
        "### Data cleaning\n",
        "\n",
        "The `bmi` feature contains missing values, which we handle by imputing the median. The median is a robust statistic that is not affected by extreme values or skewed distributions, making it a suitable choice for numerical data like BMI. This helps preserve the central tendency of the variable without introducing bias.\n",
        "\n"
      ],
      "metadata": {
        "id": "m9oMF3L5m1yH"
      }
    },
    {
      "cell_type": "code",
      "source": [
        "df['bmi'] = df['bmi'].fillna(df['bmi'].median())\n"
      ],
      "metadata": {
        "id": "W0n8gcxcj5Pz"
      },
      "execution_count": 81,
      "outputs": []
    },
    {
      "cell_type": "markdown",
      "source": [
        "### Encoding\n",
        "\n",
        "To prepare categorical variables for machine learning, we applied both label encoding and one-hot encoding based on the nature of each feature:\n",
        "\n",
        "- `ever_married` and `Residence_type` are binary categorical variables, so we used label encoding to map their values directly to 0 and 1.\n",
        "- For `work_type`, `smoking_status`, and `gender`, we used one-hot encoding via `pd.get_dummies()` to create dummy variables. We set `drop_first=True` to avoid multicollinearity caused by redundant dummy columns.\n",
        "\n",
        "This encoding ensures that all categorical variables are transformed into a numeric format suitable for model training, without implying any ordinal relationship where it doesn’t exist.\n"
      ],
      "metadata": {
        "id": "G5qdvEKsnnO1"
      }
    },
    {
      "cell_type": "code",
      "source": [
        "# label encoding\n",
        "\n",
        "df['ever_married'] = df['ever_married'].map({'Yes': 1, 'No': 0})\n",
        "df['Residence_type'] = df['Residence_type'].map({'Urban': 1, 'Rural': 0})\n"
      ],
      "metadata": {
        "id": "oZL_-2X7nsze"
      },
      "execution_count": 82,
      "outputs": []
    },
    {
      "cell_type": "code",
      "source": [
        "# one-hot encoding\n",
        "\n",
        "df = pd.get_dummies(df, columns=['work_type', 'smoking_status', 'gender'], drop_first=True)\n",
        "# drop_first = True to avoid multicollinearity"
      ],
      "metadata": {
        "id": "5cZt8pktn9CR"
      },
      "execution_count": 83,
      "outputs": []
    },
    {
      "cell_type": "markdown",
      "source": [
        "### Features Scaling\n",
        "\n",
        "To ensure that numerical features contribute equally to the model and are not dominated by variables with larger scales, we standardized the `age`, `avg_glucose_level`, and `bmi` features using `StandardScaler`. Standardization rescales the features to have a mean of 0 and a standard deviation of 1, which is particularly important for algorithms sensitive to feature magnitudes, such as logistic regression or gradient-based models.\n",
        "\n",
        "We applied feature scaling only to the continuous numerical features beacuse of the different value ranges and units, which could bias certain algorithms. Scaling them ensures uniform contribution to the model. We excluded the encoded categorical variables, as they are already binary (0/1) and do not require scaling.\n",
        "\n",
        "\n"
      ],
      "metadata": {
        "id": "jQPA3u2_KNHP"
      }
    },
    {
      "cell_type": "code",
      "source": [
        "from sklearn.preprocessing import StandardScaler\n",
        "\n",
        "scaler = StandardScaler()\n",
        "df[['age', 'avg_glucose_level', 'bmi']] = scaler.fit_transform(df[['age', 'avg_glucose_level', 'bmi']])\n"
      ],
      "metadata": {
        "id": "Fk_1166hKMuZ"
      },
      "execution_count": 84,
      "outputs": []
    },
    {
      "cell_type": "markdown",
      "source": [
        "### Data splitting"
      ],
      "metadata": {
        "id": "B5KHB1yPU0CA"
      }
    },
    {
      "cell_type": "markdown",
      "source": [
        "#### Splitting Features and Target\n",
        "\n",
        "We separate the dataset into features (`X`) and the target variable (`y`, which is `stroke`) to prepare for model training.\n"
      ],
      "metadata": {
        "id": "JCdtTaLzSDFw"
      }
    },
    {
      "cell_type": "code",
      "source": [
        "X = df.drop('stroke', axis=1)\n",
        "y = df['stroke']\n"
      ],
      "metadata": {
        "id": "OBxVs2cgTA7E"
      },
      "execution_count": 85,
      "outputs": []
    },
    {
      "cell_type": "markdown",
      "source": [
        "#### Train/Test Split\n",
        "\n",
        "To evaluate the model’s ability to generalize to unseen data, we split the dataset into training and testing sets using an 80/20 ratio. The `train_test_split()` function is used with a fixed `random_state` for reproducibility.\n",
        "\n",
        "We also set the `stratify=y` parameter to ensure that the proportion of classes in the target variable is preserved in both the training and test sets. This is particularly important because the target variable in the Stroke Prediction dataset is highly imbalanced — only a small percentage of samples belong to the positive class (stroke = 1).\n",
        "\n",
        "Without `stratify=y`, we could end up with a test set that contains:\n",
        "- Only negative cases (stroke = 0)\n",
        "- Or an unrepresentative number of positive cases (stroke = 1)\n",
        "\n",
        "By using `stratify=y`, we guarantee that the class distribution (0s and 1s) is maintained consistently across both subsets, improving the reliability of performance evaluation.\n"
      ],
      "metadata": {
        "id": "WEWd1gvwBT_0"
      }
    },
    {
      "cell_type": "code",
      "source": [
        "from sklearn.model_selection import train_test_split\n",
        "\n",
        "X_train, X_test, y_train, y_test = train_test_split(\n",
        "    X, y, test_size=0.2, stratify=y, random_state=42\n",
        ")\n"
      ],
      "metadata": {
        "id": "dlADsukEBlRV"
      },
      "execution_count": 86,
      "outputs": []
    },
    {
      "cell_type": "markdown",
      "source": [
        "## Baseline Model: Logistic Regression\n",
        "\n",
        "---\n",
        "\n",
        "As a starting point, we use a simple Logistic Regression model to establish a baseline for stroke prediction. Logistic Regression is a well-known linear classifier that is easy to implement and interpret. While it is not expected to outperform more complex ensemble models, it provides a solid reference point to evaluate improvements offered by subsequent models.\n",
        "\n",
        "We will evaluate the baseline model using common classification metrics such as accuracy, precision, recall, and the confusion matrix. Despite its simplicity, Logistic Regression often performs reasonably well, especially when the features are properly scaled and the data is preprocessed effectively.\n"
      ],
      "metadata": {
        "id": "amcwNKgHFA4M"
      }
    },
    {
      "cell_type": "markdown",
      "source": [
        "### Logistic Regression: Convergence Adjustment\n",
        "\n",
        "Initially, the Logistic Regression model raised a `ConvergenceWarning`, indicating that the solver failed to converge within the default number of iterations. This issue persisted even with `max_iter=2000`, and only disappeared after increasing the parameter to `max_iter=10000`.\n",
        "\n",
        "This behavior is expected with imbalanced datasets or when the optimization surface is complex. The `max_iter` parameter defines how many iterations the solver is allowed before stopping. If the loss function does not converge within that limit, scikit-learn raises a warning to alert the user. Adjusting this parameter ensures that the model reaches stable coefficients for reliable predictions.\n"
      ],
      "metadata": {
        "id": "j81rbwnPuMAX"
      }
    },
    {
      "cell_type": "code",
      "source": [
        "# Train the baseline model\n",
        "baseline_model = LogisticRegression(max_iter=10000, class_weight='balanced', random_state=42)\n",
        "baseline_model.fit(X_train, y_train)\n",
        "\n",
        "# Predict on test set\n",
        "y_pred = baseline_model.predict(X_test)\n",
        "\n",
        "# Evaluation\n",
        "print(\"Accuracy:\", accuracy_score(y_test, y_pred))\n",
        "print(\"\\nConfusion Matrix:\\n\", confusion_matrix(y_test, y_pred))\n",
        "print(\"\\nClassification Report:\\n\", classification_report(y_test, y_pred, zero_division=0))\n"
      ],
      "metadata": {
        "colab": {
          "base_uri": "https://localhost:8080/"
        },
        "id": "v592l3KhFCLg",
        "outputId": "419154be-0e90-4ddb-e1da-115aef37623a"
      },
      "execution_count": 87,
      "outputs": [
        {
          "output_type": "stream",
          "name": "stdout",
          "text": [
            "Accuracy: 0.7495107632093934\n",
            "\n",
            "Confusion Matrix:\n",
            " [[726 246]\n",
            " [ 10  40]]\n",
            "\n",
            "Classification Report:\n",
            "               precision    recall  f1-score   support\n",
            "\n",
            "           0       0.99      0.75      0.85       972\n",
            "           1       0.14      0.80      0.24        50\n",
            "\n",
            "    accuracy                           0.75      1022\n",
            "   macro avg       0.56      0.77      0.54      1022\n",
            "weighted avg       0.94      0.75      0.82      1022\n",
            "\n"
          ]
        }
      ]
    },
    {
      "cell_type": "markdown",
      "source": [
        "The logistic regression model achieved an overall accuracy of ~75%.\n",
        "\n",
        "While the precision for the positive class (stroke) is low (0.14), the recall is high (0.80), meaning the model is able to correctly identify most stroke cases.\n",
        "\n",
        "This trade-off indicates a bias toward capturing positives, which may be acceptable in health-related contexts where missing a positive case is riskier than a false alarm.\n"
      ],
      "metadata": {
        "id": "dgyD-paGJpYB"
      }
    },
    {
      "cell_type": "markdown",
      "source": [
        "## Training and Comparing Classical ML Models\n",
        "\n",
        "---\n",
        "\n",
        "To evaluate different modeling approaches on the stroke prediction task, we train and compare three widely-used classification algorithms:  \n",
        "- **Random Forest**: a robust ensemble method that handles nonlinear relationships and feature interactions well.  \n",
        "- **K-Nearest Neighbors (KNN)**: a simple yet effective instance-based method that classifies based on proximity in the feature space.  \n",
        "- **Support Vector Machine (SVM)**: a powerful algorithm that maximizes the margin between classes and performs well in high-dimensional spaces.\n",
        "\n",
        "These models represent a diverse set of strategies—tree-based, distance-based, and margin-based—allowing us to assess how different learning paradigms handle the characteristics of this dataset.\n",
        "\n",
        "Each model is evaluated using the following metrics:\n",
        "- **Accuracy**: the overall correctness of the model.\n",
        "- **Precision**: the proportion of correctly predicted positive cases among all predicted positives.\n",
        "- **Recall**: the proportion of correctly predicted positive cases among all actual positives.\n",
        "- **F1-score**: the harmonic mean of precision and recall, especially important in imbalanced datasets.\n",
        "- **Confusion matrix**: a detailed view of true positives, true negatives, false positives, and false negatives.\n",
        "\n",
        "Given the class imbalance in the dataset, relying on accuracy alone would be misleading. For this reason, precision, recall, and F1-score are essential to evaluate the model’s performance on the minority class (stroke = 1).\n",
        "\n",
        "To avoid redundant code and ensure consistency across evaluations, we define a reusable function named `evaluate_model`.\n",
        "\n",
        "> **Note:**  \n",
        "In this project, Support Vector Machines (SVM) are implemented using the `SVC` (Support Vector Classifier) class from scikit-learn, which is specifically designed for classification tasks.\n",
        "\n"
      ],
      "metadata": {
        "id": "PBm660uuM5qR"
      }
    },
    {
      "cell_type": "code",
      "source": [
        "# create the function to avoid reduntant code\n",
        "def evaluate_model(model, X_train, y_train, X_test, y_test):\n",
        "    model.fit(X_train, y_train)\n",
        "    y_pred = model.predict(X_test)\n",
        "\n",
        "    print(\"Model:\", model.__class__.__name__)\n",
        "    print(\"Accuracy:\", accuracy_score(y_test, y_pred))\n",
        "    print(\"\\nConfusion Matrix:\\n\", confusion_matrix(y_test, y_pred))\n",
        "    print(\"\\nClassification Report:\\n\", classification_report(y_test, y_pred, zero_division=0))\n",
        "    print(\"--------------------------------------------------\\n\")\n"
      ],
      "metadata": {
        "id": "Z-dsu6F9M7C9"
      },
      "execution_count": 88,
      "outputs": []
    },
    {
      "cell_type": "code",
      "source": [
        "# call the function\n",
        "models = [\n",
        "    RandomForestClassifier(random_state=42, class_weight='balanced'),\n",
        "    KNeighborsClassifier(),\n",
        "    SVC(kernel='rbf', class_weight='balanced', probability=True, random_state=42)\n",
        "]\n",
        "\n",
        "for model in models:\n",
        "    evaluate_model(model, X_train, y_train, X_test, y_test)\n"
      ],
      "metadata": {
        "colab": {
          "base_uri": "https://localhost:8080/"
        },
        "id": "lN1qHwxNNdSN",
        "outputId": "883808cd-98b3-402e-85b6-99b19c720193"
      },
      "execution_count": 89,
      "outputs": [
        {
          "output_type": "stream",
          "name": "stdout",
          "text": [
            "Model: RandomForestClassifier\n",
            "Accuracy: 0.9500978473581213\n",
            "\n",
            "Confusion Matrix:\n",
            " [[971   1]\n",
            " [ 50   0]]\n",
            "\n",
            "Classification Report:\n",
            "               precision    recall  f1-score   support\n",
            "\n",
            "           0       0.95      1.00      0.97       972\n",
            "           1       0.00      0.00      0.00        50\n",
            "\n",
            "    accuracy                           0.95      1022\n",
            "   macro avg       0.48      0.50      0.49      1022\n",
            "weighted avg       0.90      0.95      0.93      1022\n",
            "\n",
            "--------------------------------------------------\n",
            "\n",
            "Model: KNeighborsClassifier\n",
            "Accuracy: 0.9510763209393346\n",
            "\n",
            "Confusion Matrix:\n",
            " [[972   0]\n",
            " [ 50   0]]\n",
            "\n",
            "Classification Report:\n",
            "               precision    recall  f1-score   support\n",
            "\n",
            "           0       0.95      1.00      0.97       972\n",
            "           1       0.00      0.00      0.00        50\n",
            "\n",
            "    accuracy                           0.95      1022\n",
            "   macro avg       0.48      0.50      0.49      1022\n",
            "weighted avg       0.90      0.95      0.93      1022\n",
            "\n",
            "--------------------------------------------------\n",
            "\n",
            "Model: SVC\n",
            "Accuracy: 0.7221135029354208\n",
            "\n",
            "Confusion Matrix:\n",
            " [[729 243]\n",
            " [ 41   9]]\n",
            "\n",
            "Classification Report:\n",
            "               precision    recall  f1-score   support\n",
            "\n",
            "           0       0.95      0.75      0.84       972\n",
            "           1       0.04      0.18      0.06        50\n",
            "\n",
            "    accuracy                           0.72      1022\n",
            "   macro avg       0.49      0.46      0.45      1022\n",
            "weighted avg       0.90      0.72      0.80      1022\n",
            "\n",
            "--------------------------------------------------\n",
            "\n"
          ]
        }
      ]
    },
    {
      "cell_type": "markdown",
      "source": [
        "### Model Evaluation and Class Imbalance Impact\n",
        "\n",
        "#### Random Forest & KNN\n",
        "- Both models reach **95% accuracy**, but this is misleading.\n",
        "- The **recall for the minority class (stroke = 1)** is **0.00** so the model does **not detect any strokes**.\n",
        "- This means the model is **just predicting \"no stroke\" for everyone**, which is dangerous in real-world scenarios.\n",
        "\n",
        "#### SVC\n",
        "- This model captures some stroke cases (recall = 0.18), but still performs poorly.\n",
        "- Accuracy drops to ~72%, but at least the model attempts to distinguish classes.\n",
        "- Precision and F1-score for the positive class remain low.\n",
        "\n",
        "#### Confusion Matrices Summary:\n",
        "| Model      | TP | FN | FP | TN |\n",
        "|------------|----|----|----|----|\n",
        "| RF / KNN   | 0  | 50 | 1  | 971 |\n",
        "| SVM        | 9  | 41 | 243| 729 |\n",
        "\n",
        "**Conclusion:** Accuracy is not a reliable metric in imbalanced datasets. In the next step, we will apply techniques such as:\n",
        "- Resampling (e.g., SMOTE)\n",
        "- Using `class_weight` and more robust metrics like F1-score\n"
      ],
      "metadata": {
        "id": "b943eirzgRDr"
      }
    },
    {
      "cell_type": "markdown",
      "source": [
        "## Data Balancing Approaches\n",
        "\n",
        "---\n",
        "\n",
        "In this section, we address the issue of class imbalance by applying **SMOTE** (Synthetic Minority Over-sampling Technique) to the training data and then **retraining our models** (Random Forest, KNN, SVM). SMOTE generates synthetic samples for the minority class by interpolating between existing minority instances and their nearest neighbors, effectively creating a more balanced dataset.\n",
        "\n",
        "This approach is crucial when dealing with imbalanced target variables—like stroke detection—where the positive class (stroke = 1) is significantly underrepresented. Without balancing, models may be biased toward the majority class, leading to misleadingly high accuracy but poor sensitivity to rare events.\n",
        "\n",
        "By re-training the classifiers on SMOTE-enhanced data, we aim to:\n",
        "* Improve recall and F1-score on the minority class.\n",
        "* Achieve a better trade-off between sensitivity and specificity.\n",
        "* Compare performance improvements against baseline metrics obtained pre-SMOTE."
      ],
      "metadata": {
        "id": "aqcHJnaThW7-"
      }
    },
    {
      "cell_type": "markdown",
      "source": [
        "### SMOTE\n",
        "\n",
        "The original dataset was **highly imbalanced**, with only 5% of positive stroke cases. In such situations, machine learning models tend to ignore the minority class, resulting in poor recall and F1-score for the stroke cases.\n",
        "\n",
        "To overcome this, we applied **SMOTE**, a technique that generates synthetic samples of the minority class, helping the model learn to recognize stroke patterns more effectively. The resampling was applied only to the training set, while evaluation was performed on the original test set, to ensure realistic validation."
      ],
      "metadata": {
        "id": "4kX-LcSxFuzc"
      }
    },
    {
      "cell_type": "code",
      "source": [
        "!pip install imbalanced-learn\n"
      ],
      "metadata": {
        "colab": {
          "base_uri": "https://localhost:8080/"
        },
        "id": "n-i646KBFj6z",
        "outputId": "b02691a1-be4d-4f00-9573-fe363fa9dc8e"
      },
      "execution_count": 90,
      "outputs": [
        {
          "output_type": "stream",
          "name": "stdout",
          "text": [
            "Requirement already satisfied: imbalanced-learn in /usr/local/lib/python3.11/dist-packages (0.13.0)\n",
            "Requirement already satisfied: numpy<3,>=1.24.3 in /usr/local/lib/python3.11/dist-packages (from imbalanced-learn) (2.0.2)\n",
            "Requirement already satisfied: scipy<2,>=1.10.1 in /usr/local/lib/python3.11/dist-packages (from imbalanced-learn) (1.16.0)\n",
            "Requirement already satisfied: scikit-learn<2,>=1.3.2 in /usr/local/lib/python3.11/dist-packages (from imbalanced-learn) (1.6.1)\n",
            "Requirement already satisfied: sklearn-compat<1,>=0.1 in /usr/local/lib/python3.11/dist-packages (from imbalanced-learn) (0.1.3)\n",
            "Requirement already satisfied: joblib<2,>=1.1.1 in /usr/local/lib/python3.11/dist-packages (from imbalanced-learn) (1.5.1)\n",
            "Requirement already satisfied: threadpoolctl<4,>=2.0.0 in /usr/local/lib/python3.11/dist-packages (from imbalanced-learn) (3.6.0)\n"
          ]
        }
      ]
    },
    {
      "cell_type": "code",
      "source": [
        "# SMOTE training data only\n",
        "smote = SMOTE(random_state=42)\n",
        "X_train_resampled, y_train_resampled = smote.fit_resample(X_train, y_train)\n",
        "\n",
        "print(\"Original class distribution:\", Counter(y_train))\n",
        "print(\"Resampled class distribution:\", Counter(y_train_resampled))\n"
      ],
      "metadata": {
        "colab": {
          "base_uri": "https://localhost:8080/"
        },
        "id": "Ozjm6jMUF0GW",
        "outputId": "20edc419-4143-4f1c-b97e-3f7841282aa0"
      },
      "execution_count": 91,
      "outputs": [
        {
          "output_type": "stream",
          "name": "stdout",
          "text": [
            "Original class distribution: Counter({0: 3889, 1: 199})\n",
            "Resampled class distribution: Counter({0: 3889, 1: 3889})\n"
          ]
        }
      ]
    },
    {
      "cell_type": "markdown",
      "source": [
        "#### Model re-training after SMOTE\n",
        "\n",
        "Models are retrained using the balanced dataset.\n",
        "The evaluation includes accuracy, confusion matrix, and classification report, with a focus on recall and precision for the positive class (stroke = 1)."
      ],
      "metadata": {
        "id": "kZJG741YIGqq"
      }
    },
    {
      "cell_type": "code",
      "source": [
        "models = [\n",
        "    RandomForestClassifier(random_state=42, class_weight='balanced'),\n",
        "    KNeighborsClassifier(),\n",
        "    SVC(kernel='rbf', class_weight='balanced', probability=True, random_state=42)\n",
        "]\n",
        "\n",
        "for model in models:\n",
        "    evaluate_model(model, X_train_resampled, y_train_resampled, X_test, y_test)\n"
      ],
      "metadata": {
        "colab": {
          "base_uri": "https://localhost:8080/"
        },
        "id": "z9jX7-U2ID_X",
        "outputId": "4a1dcd12-ded6-4d75-bec8-ce3753196b74"
      },
      "execution_count": 92,
      "outputs": [
        {
          "output_type": "stream",
          "name": "stdout",
          "text": [
            "Model: RandomForestClassifier\n",
            "Accuracy: 0.9148727984344422\n",
            "\n",
            "Confusion Matrix:\n",
            " [[929  43]\n",
            " [ 44   6]]\n",
            "\n",
            "Classification Report:\n",
            "               precision    recall  f1-score   support\n",
            "\n",
            "           0       0.95      0.96      0.96       972\n",
            "           1       0.12      0.12      0.12        50\n",
            "\n",
            "    accuracy                           0.91      1022\n",
            "   macro avg       0.54      0.54      0.54      1022\n",
            "weighted avg       0.91      0.91      0.91      1022\n",
            "\n",
            "--------------------------------------------------\n",
            "\n",
            "Model: KNeighborsClassifier\n",
            "Accuracy: 0.6066536203522505\n",
            "\n",
            "Confusion Matrix:\n",
            " [[598 374]\n",
            " [ 28  22]]\n",
            "\n",
            "Classification Report:\n",
            "               precision    recall  f1-score   support\n",
            "\n",
            "           0       0.96      0.62      0.75       972\n",
            "           1       0.06      0.44      0.10        50\n",
            "\n",
            "    accuracy                           0.61      1022\n",
            "   macro avg       0.51      0.53      0.42      1022\n",
            "weighted avg       0.91      0.61      0.72      1022\n",
            "\n",
            "--------------------------------------------------\n",
            "\n",
            "Model: SVC\n",
            "Accuracy: 0.8052837573385518\n",
            "\n",
            "Confusion Matrix:\n",
            " [[816 156]\n",
            " [ 43   7]]\n",
            "\n",
            "Classification Report:\n",
            "               precision    recall  f1-score   support\n",
            "\n",
            "           0       0.95      0.84      0.89       972\n",
            "           1       0.04      0.14      0.07        50\n",
            "\n",
            "    accuracy                           0.81      1022\n",
            "   macro avg       0.50      0.49      0.48      1022\n",
            "weighted avg       0.91      0.81      0.85      1022\n",
            "\n",
            "--------------------------------------------------\n",
            "\n"
          ]
        }
      ]
    },
    {
      "cell_type": "markdown",
      "source": [
        "#### Observations after SMOTE\n",
        "\n",
        "- **Random Forest** performs well in overall accuracy (~91%) but still struggles to identify stroke cases (Recall = 0.14).\n",
        "- **KNN** shows slightly better recall (0.46) for the stroke class but suffers a major drop in overall accuracy.\n",
        "- **SVC** shows moderate improvements in recall but still has a very low precision for the minority class.\n",
        "\n",
        "Despite the use of SMOTE, all models face challenges in detecting positive cases. This is expected in **highly imbalanced datasets** where features may not be fully predictive.\n"
      ],
      "metadata": {
        "id": "biAqaouPUIk6"
      }
    },
    {
      "cell_type": "markdown",
      "source": [
        "### SMOTEENN\n",
        "SMOTENN (Synthetic Minority Over-sampling Technique - Edited Nearest Neighbors) add a crucial cleaning step to SMOTE. After SMOTE creates synthetic minority samples, SMOTENN applies the Edited Nearest Neighbors (ENN) algorithm. ENN acts as a filter, removing instances from both the majority and minority classes that are misclassified by their nearest neighbors. This means it intelligently prunes away samples that might be considered \"noise\" or that blur the distinction between classes."
      ],
      "metadata": {
        "id": "vqafJPrezRtD"
      }
    },
    {
      "cell_type": "code",
      "source": [
        "!pip install imbalanced-learn\n"
      ],
      "metadata": {
        "colab": {
          "base_uri": "https://localhost:8080/"
        },
        "id": "Qar8MzVHzUrY",
        "outputId": "f56c6468-acab-4fbd-f610-8c971373b028"
      },
      "execution_count": 93,
      "outputs": [
        {
          "output_type": "stream",
          "name": "stdout",
          "text": [
            "Requirement already satisfied: imbalanced-learn in /usr/local/lib/python3.11/dist-packages (0.13.0)\n",
            "Requirement already satisfied: numpy<3,>=1.24.3 in /usr/local/lib/python3.11/dist-packages (from imbalanced-learn) (2.0.2)\n",
            "Requirement already satisfied: scipy<2,>=1.10.1 in /usr/local/lib/python3.11/dist-packages (from imbalanced-learn) (1.16.0)\n",
            "Requirement already satisfied: scikit-learn<2,>=1.3.2 in /usr/local/lib/python3.11/dist-packages (from imbalanced-learn) (1.6.1)\n",
            "Requirement already satisfied: sklearn-compat<1,>=0.1 in /usr/local/lib/python3.11/dist-packages (from imbalanced-learn) (0.1.3)\n",
            "Requirement already satisfied: joblib<2,>=1.1.1 in /usr/local/lib/python3.11/dist-packages (from imbalanced-learn) (1.5.1)\n",
            "Requirement already satisfied: threadpoolctl<4,>=2.0.0 in /usr/local/lib/python3.11/dist-packages (from imbalanced-learn) (3.6.0)\n"
          ]
        }
      ]
    },
    {
      "cell_type": "code",
      "source": [
        "smoteenn = SMOTEENN(random_state=42)\n",
        "X_train_smoteenn, y_train_smoteenn = smoteenn.fit_resample(X_train, y_train)\n",
        "\n",
        "print(\"SMOTEENN Resampled shape:\", X_train_smoteenn.shape, y_train_smoteenn.shape)\n"
      ],
      "metadata": {
        "colab": {
          "base_uri": "https://localhost:8080/"
        },
        "id": "LVDo6LAA0ERF",
        "outputId": "446fee04-d3b7-44fd-cd58-eb925f46e75f"
      },
      "execution_count": 94,
      "outputs": [
        {
          "output_type": "stream",
          "name": "stdout",
          "text": [
            "SMOTEENN Resampled shape: (2385, 17) (2385,)\n"
          ]
        }
      ]
    },
    {
      "cell_type": "markdown",
      "source": [
        "The output above means that after applying SMOTEENN, the dataset contains 2385 samples, each with 17 features, and there are 2385 corresponding class labels."
      ],
      "metadata": {
        "id": "eqnLQUedHo8e"
      }
    },
    {
      "cell_type": "markdown",
      "source": [
        "### SMOTETomek\n",
        " After SMOTE generates minority samples, SMOTETomek focuses on cleaning the class boundaries by identifying and removing Tomek Links. These are pairs of very close but oppositely classed instances that essentially represent noise or ambiguity at the decision frontier. By eliminating these links, particularly the majority class instances involved, SMOTETomek helps to separate the classes more clearly, leading to a cleaner dataset and potentially more accurate models, especially for the minority class. The key distinction from SMOTE is this crucial boundary-cleaning step, which refines the dataset after oversampling.\n",
        "\n"
      ],
      "metadata": {
        "id": "fnFrMxKl0IfN"
      }
    },
    {
      "cell_type": "code",
      "source": [
        "smotetomek = SMOTETomek(random_state=42)\n",
        "X_train_smotetomek, y_train_smotetomek = smotetomek.fit_resample(X_train, y_train)\n",
        "\n",
        "print(\"SMOTETomek Resampled shape:\", X_train_smotetomek.shape, y_train_smotetomek.shape)\n"
      ],
      "metadata": {
        "colab": {
          "base_uri": "https://localhost:8080/"
        },
        "id": "h3eoH-B_0Mji",
        "outputId": "84bdd4f0-f760-456c-c031-027e4da12822"
      },
      "execution_count": 95,
      "outputs": [
        {
          "output_type": "stream",
          "name": "stdout",
          "text": [
            "SMOTETomek Resampled shape: (5946, 17) (5946,)\n"
          ]
        }
      ]
    },
    {
      "cell_type": "markdown",
      "source": [
        "The output means that after applying SMOTETomek, the dataset contains 5946 samples, each with 17 features, and there are 5946 corresponding class labels."
      ],
      "metadata": {
        "id": "5WoF0jjvHv59"
      }
    },
    {
      "cell_type": "markdown",
      "source": [
        "## Models Re-train"
      ],
      "metadata": {
        "id": "wEyMPh140Pxz"
      }
    },
    {
      "cell_type": "code",
      "source": [
        "def train_and_evaluate_model(model, X_train, y_train, X_test, y_test, label=\"\"):\n",
        "    model.fit(X_train, y_train)\n",
        "    y_pred = model.predict(X_test)\n",
        "\n",
        "    print(f\"\\n{model.__class__.__name__} trained with {label}\")\n",
        "    print(\"Classification Report:\")\n",
        "    print(classification_report(y_test, y_pred))\n",
        "    print(\"Confusion Matrix:\")\n",
        "    print(confusion_matrix(y_test, y_pred))\n"
      ],
      "metadata": {
        "id": "tvDdz-u50Tyb"
      },
      "execution_count": 107,
      "outputs": []
    },
    {
      "cell_type": "code",
      "source": [
        "models = [\n",
        "    RandomForestClassifier(random_state=42, class_weight='balanced'),\n",
        "    KNeighborsClassifier(),\n",
        "    SVC(kernel='rbf', class_weight='balanced', probability=True, random_state=42)\n",
        "]\n",
        "\n",
        "for model in models:\n",
        "    train_and_evaluate_model(model,  X_train_smoteenn, y_train_smoteenn, X_test, y_test, label=\"SMOTEENN\")\n",
        "    train_and_evaluate_model(model, X_train_smotetomek, y_train_smotetomek, X_test, y_test, label=\"SMOTETomek\")"
      ],
      "metadata": {
        "colab": {
          "base_uri": "https://localhost:8080/"
        },
        "id": "r70b1brm_lbT",
        "outputId": "bb406531-f874-45fc-f1fc-fb08dc8dc7d1"
      },
      "execution_count": 108,
      "outputs": [
        {
          "output_type": "stream",
          "name": "stdout",
          "text": [
            "\n",
            "RandomForestClassifier trained with SMOTEENN\n",
            "Classification Report:\n",
            "              precision    recall  f1-score   support\n",
            "\n",
            "           0       0.96      0.91      0.93       972\n",
            "           1       0.10      0.18      0.13        50\n",
            "\n",
            "    accuracy                           0.88      1022\n",
            "   macro avg       0.53      0.55      0.53      1022\n",
            "weighted avg       0.91      0.88      0.89      1022\n",
            "\n",
            "Confusion Matrix:\n",
            "[[888  84]\n",
            " [ 41   9]]\n",
            "\n",
            "RandomForestClassifier trained with SMOTETomek\n",
            "Classification Report:\n",
            "              precision    recall  f1-score   support\n",
            "\n",
            "           0       0.96      0.94      0.95       972\n",
            "           1       0.11      0.14      0.12        50\n",
            "\n",
            "    accuracy                           0.90      1022\n",
            "   macro avg       0.53      0.54      0.54      1022\n",
            "weighted avg       0.91      0.90      0.91      1022\n",
            "\n",
            "Confusion Matrix:\n",
            "[[915  57]\n",
            " [ 43   7]]\n",
            "\n",
            "KNeighborsClassifier trained with SMOTEENN\n",
            "Classification Report:\n",
            "              precision    recall  f1-score   support\n",
            "\n",
            "           0       0.96      0.60      0.74       972\n",
            "           1       0.06      0.46      0.10        50\n",
            "\n",
            "    accuracy                           0.60      1022\n",
            "   macro avg       0.51      0.53      0.42      1022\n",
            "weighted avg       0.91      0.60      0.71      1022\n",
            "\n",
            "Confusion Matrix:\n",
            "[[588 384]\n",
            " [ 27  23]]\n",
            "\n",
            "KNeighborsClassifier trained with SMOTETomek\n",
            "Classification Report:\n",
            "              precision    recall  f1-score   support\n",
            "\n",
            "           0       0.96      0.60      0.74       972\n",
            "           1       0.06      0.46      0.10        50\n",
            "\n",
            "    accuracy                           0.60      1022\n",
            "   macro avg       0.51      0.53      0.42      1022\n",
            "weighted avg       0.91      0.60      0.71      1022\n",
            "\n",
            "Confusion Matrix:\n",
            "[[587 385]\n",
            " [ 27  23]]\n",
            "\n",
            "SVC trained with SMOTEENN\n",
            "Classification Report:\n",
            "              precision    recall  f1-score   support\n",
            "\n",
            "           0       0.95      0.82      0.88       972\n",
            "           1       0.03      0.10      0.04        50\n",
            "\n",
            "    accuracy                           0.79      1022\n",
            "   macro avg       0.49      0.46      0.46      1022\n",
            "weighted avg       0.90      0.79      0.84      1022\n",
            "\n",
            "Confusion Matrix:\n",
            "[[800 172]\n",
            " [ 45   5]]\n",
            "\n",
            "SVC trained with SMOTETomek\n",
            "Classification Report:\n",
            "              precision    recall  f1-score   support\n",
            "\n",
            "           0       0.95      0.82      0.88       972\n",
            "           1       0.04      0.14      0.06        50\n",
            "\n",
            "    accuracy                           0.78      1022\n",
            "   macro avg       0.49      0.48      0.47      1022\n",
            "weighted avg       0.90      0.78      0.84      1022\n",
            "\n",
            "Confusion Matrix:\n",
            "[[793 179]\n",
            " [ 43   7]]\n"
          ]
        }
      ]
    },
    {
      "cell_type": "markdown",
      "source": [
        "#### **Results Analysis and Impact of Resampling Techniques**\n",
        "\n",
        "The performance of the three models (Random Forest, K-Nearest Neighbors, and Support Vector Classifier) has been evaluated before and after applying various resampling techniques to address class imbalance. The key insights are as follows:\n",
        "\n",
        "#### Baseline recap (Before Resampling)\n",
        "- All models show very high **overall accuracy** (up to ~95%) but **completely fail to identify the minority class (class 1)**.\n",
        "- For instance, `RandomForestClassifier` and `KNeighborsClassifier` classify all minority instances incorrectly (recall = 0.00), highlighting a **strong bias toward the majority class**.\n",
        "- This misleading performance is a clear sign of the imbalance problem, where standard accuracy becomes an unreliable metric.\n",
        "\n",
        "#### SMOTE\n",
        "- After applying **SMOTE**, there is a **slight improvement** in recall for the minority class (e.g., Random Forest recall increases to 0.12), but the performance remains poor overall.\n",
        "- **KNN** suffers from a significant drop in accuracy (to ~60%) while still underperforming on class 1.\n",
        "- **SVC** shows some improvement in recall for class 1 (0.14), but overall performance is still unsatisfactory.\n",
        "\n",
        "#### SMOTEENN and SMOTETomek\n",
        "- These hybrid resampling techniques bring **slightly better recall** for class 1 in Random Forest (up to 0.18), but again, **precision and f1-score remain low**, indicating many false positives.\n",
        "- For **KNN and SVC**, no meaningful gain is observed. Recall improves marginally, but performance on the majority class degrades significantly, leading to overall lower accuracy.\n",
        "- F1-scores for class 1 remain around or below 0.13 in all cases, confirming **resampling does not resolve the imbalance issue effectively** in this dataset.\n",
        "\n",
        "#### Conclusion\n",
        "Despite using popular resampling strategies such as SMOTE, SMOTEENN, and SMOTETomek, none of the models achieved a satisfactory balance between sensitivity (recall) and specificity (precision). While these techniques slightly improved recall for the minority class, the overall performance metrics (especially f1-score) remained poor. This suggests that:\n",
        "\n",
        "- The **minority class may have overlapping or noisy features**, making it difficult to distinguish even with synthetic balancing.\n",
        "- **Alternative strategies** such as cost-sensitive learning, ensemble methods focused on imbalance (e.g., Balanced Random Forest), or deeper feature engineering may be necessary to achieve meaningful improvements.\n",
        "\n",
        "Ultimately, resampling alone was **not sufficient** to improve minority class detection in this context.\n"
      ],
      "metadata": {
        "id": "L1Y-0hVu9cLD"
      }
    },
    {
      "cell_type": "markdown",
      "source": [
        "## TODO: ADD CUSTOM REBALANCING SECTION (look at the final structure)"
      ],
      "metadata": {
        "id": "LITXNAPyJa1e"
      }
    },
    {
      "cell_type": "markdown",
      "source": [
        "## Hyperparameter Tuning with GridSearchCV\n",
        "\n",
        "---\n",
        "\n",
        "To optimize model performance, we apply hyperparameter tuning using `GridSearchCV`, a scikit-learn utility that performs an exhaustive search over a specified parameter grid with cross-validation. This process allows us to identify the best combination of hyperparameters for each model by systematically evaluating all possibilities.\n",
        "\n",
        "Given the class imbalance in the dataset, we use the **F1-score** as the scoring metric. Unlike accuracy, F1-score provides a better balance between **precision** and **recall**, making it more suitable for evaluating performance on the minority class (stroke = 1).\n",
        "\n",
        "We tune the following models:\n",
        "\n",
        "- **Random Forest**: number of estimators, maximum depth, splitting criterion, and class weight to handle imbalance.\n",
        "- **Support Vector Classifier (SVC)**: regularization parameter `C`, kernel type, and class weight. We use a pipeline to include preprocessing steps such as feature scaling.\n",
        "\n",
        "Hyperparameter tuning is crucial to avoid underfitting or overfitting and ensures that each model is fairly and optimally compared.\n"
      ],
      "metadata": {
        "id": "CCHeBkCPVl5K"
      }
    },
    {
      "cell_type": "markdown",
      "source": [
        "### Random forest"
      ],
      "metadata": {
        "id": "Rnu4UBA42VFu"
      }
    },
    {
      "cell_type": "code",
      "source": [
        "# Parameters grid\n",
        "param_grid_rf = {\n",
        "    'n_estimators': [100, 200],\n",
        "    'max_depth': [None, 10, 20],\n",
        "    'min_samples_split': [2, 5],\n",
        "    'class_weight': [None, 'balanced']\n",
        "}\n",
        "\n",
        "# Base model\n",
        "rf = RandomForestClassifier(random_state=42)\n",
        "\n",
        "# Grid search\n",
        "grid_search_rf = GridSearchCV(rf, param_grid_rf, cv=5, scoring='f1', n_jobs=-1, verbose=1)\n",
        "grid_search_rf.fit(X_train, y_train)\n",
        "\n",
        "# Best model and score\n",
        "print(\"Best RF params:\", grid_search_rf.best_params_)\n",
        "print(\"Best RF F1-score:\", grid_search_rf.best_score_)\n"
      ],
      "metadata": {
        "colab": {
          "base_uri": "https://localhost:8080/"
        },
        "id": "Ws6bYqK1RTRK",
        "outputId": "62e7e17b-bfff-4c71-8e8f-952129a6963d"
      },
      "execution_count": 98,
      "outputs": [
        {
          "output_type": "stream",
          "name": "stdout",
          "text": [
            "Fitting 5 folds for each of 24 candidates, totalling 120 fits\n",
            "Best RF params: {'class_weight': 'balanced', 'max_depth': 10, 'min_samples_split': 5, 'n_estimators': 100}\n",
            "Best RF F1-score: 0.15088115284836595\n"
          ]
        }
      ]
    },
    {
      "cell_type": "markdown",
      "source": [
        "### SVC"
      ],
      "metadata": {
        "id": "rIkH1Uli2ZCl"
      }
    },
    {
      "cell_type": "code",
      "source": [
        "from sklearn.svm import SVC\n",
        "from sklearn.pipeline import Pipeline\n",
        "from sklearn.preprocessing import StandardScaler\n",
        "\n",
        "# Pipeline with scaler + SVC\n",
        "pipeline_svc = Pipeline([\n",
        "    ('scaler', StandardScaler()),\n",
        "    ('svc', SVC())\n",
        "])\n",
        "\n",
        "# Parameters grid\n",
        "param_grid_svc = {\n",
        "    'svc__C': [0.1, 1, 10],\n",
        "    'svc__gamma': ['scale', 'auto'],\n",
        "    'svc__kernel': ['rbf', 'linear'],\n",
        "    'svc__class_weight': [None, 'balanced']\n",
        "}\n",
        "\n",
        "# Grid search\n",
        "grid_search_svc = GridSearchCV(pipeline_svc, param_grid_svc, cv=5, scoring='f1', n_jobs=-1, verbose=1)\n",
        "grid_search_svc.fit(X_train, y_train)\n",
        "\n",
        "# Best model and score\n",
        "print(\"Best SVC params:\", grid_search_svc.best_params_)\n",
        "print(\"Best SVC F1-score:\", grid_search_svc.best_score_)\n"
      ],
      "metadata": {
        "colab": {
          "base_uri": "https://localhost:8080/"
        },
        "id": "WC0E0hTuR-Ks",
        "outputId": "ddfb4133-f182-44e1-f1e6-2125b699eb9b"
      },
      "execution_count": 99,
      "outputs": [
        {
          "output_type": "stream",
          "name": "stdout",
          "text": [
            "Fitting 5 folds for each of 24 candidates, totalling 120 fits\n",
            "Best SVC params: {'svc__C': 10, 'svc__class_weight': 'balanced', 'svc__gamma': 'scale', 'svc__kernel': 'linear'}\n",
            "Best SVC F1-score: 0.22488283196215914\n"
          ]
        }
      ]
    },
    {
      "cell_type": "markdown",
      "source": [
        "### Best Parameters Found\n",
        "\n",
        "- **Random Forest**:\n",
        "  - Best parameters: `n_estimators=100`, `max_depth=10`, `min_samples_split=5`, `class_weight='balanced'`\n",
        "  - Best F1-score on validation: **0.15**\n",
        "\n",
        "- **SVC**:\n",
        "  - Best parameters: `C=10`, `kernel='linear'`, `class_weight='balanced'`\n",
        "  - Best F1-score on validation: **0.22**\n",
        "\n",
        "These scores reflect the model's ability to deal with imbalanced data, focusing on performance over the stroke class (label 1).\n"
      ],
      "metadata": {
        "id": "89fMUn57WLfH"
      }
    },
    {
      "cell_type": "markdown",
      "source": [
        "### Evaluation on Test Set with Best Models\n",
        "\n",
        "We evaluate the best models from GridSearch on the original test set.\n",
        "\n",
        "This helps understand how well the model generalizes to unseen, real-world data.\n"
      ],
      "metadata": {
        "id": "C9osVsJSWTBp"
      }
    },
    {
      "cell_type": "code",
      "source": [
        "# Random forest\n",
        "y_pred_rf = grid_search_rf.best_estimator_.predict(X_test)\n",
        "print(\"Random Forest Classification Report:\")\n",
        "print(classification_report(y_test, y_pred_rf))\n",
        "print(\"Confusion Matrix:\\n\", confusion_matrix(y_test, y_pred_rf))\n",
        "\n",
        "# SVC\n",
        "y_pred_svc = grid_search_svc.best_estimator_.predict(X_test)\n",
        "print(\"SVC Classification Report:\")\n",
        "print(classification_report(y_test, y_pred_svc))\n",
        "print(\"Confusion Matrix:\\n\", confusion_matrix(y_test, y_pred_svc))\n"
      ],
      "metadata": {
        "colab": {
          "base_uri": "https://localhost:8080/"
        },
        "id": "w3jVicvWSoZ5",
        "outputId": "297b03da-8fe2-45a7-b92b-ead8485affc6"
      },
      "execution_count": 100,
      "outputs": [
        {
          "output_type": "stream",
          "name": "stdout",
          "text": [
            "Random Forest Classification Report:\n",
            "              precision    recall  f1-score   support\n",
            "\n",
            "           0       0.96      0.97      0.96       972\n",
            "           1       0.21      0.16      0.18        50\n",
            "\n",
            "    accuracy                           0.93      1022\n",
            "   macro avg       0.58      0.56      0.57      1022\n",
            "weighted avg       0.92      0.93      0.92      1022\n",
            "\n",
            "Confusion Matrix:\n",
            " [[942  30]\n",
            " [ 42   8]]\n",
            "SVC Classification Report:\n",
            "              precision    recall  f1-score   support\n",
            "\n",
            "           0       0.99      0.73      0.84       972\n",
            "           1       0.14      0.82      0.23        50\n",
            "\n",
            "    accuracy                           0.74      1022\n",
            "   macro avg       0.56      0.78      0.54      1022\n",
            "weighted avg       0.95      0.74      0.81      1022\n",
            "\n",
            "Confusion Matrix:\n",
            " [[711 261]\n",
            " [  9  41]]\n"
          ]
        }
      ]
    },
    {
      "cell_type": "markdown",
      "source": [
        "### Final Results (Test Set)\n",
        "\n",
        "#### Random Forest\n",
        "- Accuracy: **93%**\n",
        "- Precision (class 1): 0.21\n",
        "- Recall (class 1): 0.16\n",
        "- The model correctly predicts most non-stroke cases but struggles with true positives (stroke detection).\n",
        "- Confusion Matrix: TN = 942 | FP = 30 | FN = 42 | TP = 8\n",
        "\n",
        "\n",
        "#### SVC\n",
        "- Accuracy: **74%**\n",
        "- Precision (class 1): 0.14\n",
        "- Recall (class 1): **0.82**\n",
        "- This model prioritizes recall over precision, identifying most strokes but at the cost of a high false-positive rate.\n",
        "- Confusion Matrix: TN = 711 | FP = 261 | FN = 9 | TP = 41\n",
        "\n",
        "\n",
        "### Interpretation:\n",
        "- **Random Forest** is suitable when false positives must be minimized.\n",
        "- **SVC** is preferable when it is critical to detect all stroke cases, even at the expense of precision.\n"
      ],
      "metadata": {
        "id": "QdhHjM2bWeBa"
      }
    },
    {
      "cell_type": "markdown",
      "source": [
        "#  Training a Multi-Layer Perceptron (MLP) Classifier\n",
        "\n",
        "---\n",
        "\n",
        "In this step, we implement a Multi-Layer Perceptron (MLP) classifier using scikit-learn's MLPClassifier. MLPs are feedforward artificial neural networks capable of capturing complex non-linear relationships within data. Before training, we standardize the features to ensure that each has a mean of zero and a standard deviation of one, which is crucial for the effective training of neural networks. After training, we evaluate the model's performance on the test set using metrics such as accuracy, precision, recall, and the confusion matrix."
      ],
      "metadata": {
        "id": "aqzJFgLBgwYR"
      }
    },
    {
      "cell_type": "code",
      "source": [
        "scaler = StandardScaler()\n",
        "X_train_scaled = scaler.fit_transform(X_train_resampled)\n",
        "X_test_scaled = scaler.transform(X_test)\n"
      ],
      "metadata": {
        "id": "6kHMnsyygx0_"
      },
      "execution_count": 101,
      "outputs": []
    },
    {
      "cell_type": "code",
      "source": [
        "mlp = MLPClassifier(hidden_layer_sizes=(100,), max_iter=1000, random_state=42)\n",
        "mlp.fit(X_train_scaled, y_train_resampled)\n",
        "\n",
        "y_pred_mlp = mlp.predict(X_test_scaled)\n",
        "\n",
        "print(\"MLP Classification Report:\\n\", classification_report(y_test, y_pred_mlp))\n",
        "print(\"Confusion Matrix:\\n\", confusion_matrix(y_test, y_pred_mlp))\n"
      ],
      "metadata": {
        "colab": {
          "base_uri": "https://localhost:8080/"
        },
        "id": "6FyvHRvGhChc",
        "outputId": "54b4d526-3743-4611-a911-385591e1e0b1"
      },
      "execution_count": 102,
      "outputs": [
        {
          "output_type": "stream",
          "name": "stdout",
          "text": [
            "MLP Classification Report:\n",
            "               precision    recall  f1-score   support\n",
            "\n",
            "           0       0.96      0.91      0.94       972\n",
            "           1       0.12      0.24      0.16        50\n",
            "\n",
            "    accuracy                           0.88      1022\n",
            "   macro avg       0.54      0.58      0.55      1022\n",
            "weighted avg       0.92      0.88      0.90      1022\n",
            "\n",
            "Confusion Matrix:\n",
            " [[888  84]\n",
            " [ 38  12]]\n"
          ]
        }
      ]
    },
    {
      "cell_type": "markdown",
      "source": [
        "### GridSearchCV on MLP"
      ],
      "metadata": {
        "id": "C2eO75Z2jHuO"
      }
    },
    {
      "cell_type": "code",
      "source": [
        "param_grid = {\n",
        "    'hidden_layer_sizes': [(50,), (100,), (100, 50)],\n",
        "    'activation': ['tanh', 'relu'],\n",
        "    'solver': ['adam'],\n",
        "    'alpha': [0.0001, 0.001, 0.01],\n",
        "    'learning_rate': ['constant', 'adaptive'],\n",
        "    'max_iter': [1000]\n",
        "}\n",
        "\n",
        "mlp = MLPClassifier(random_state=42)\n",
        "\n",
        "grid_search = GridSearchCV(mlp, param_grid, cv=5, scoring='f1_macro', verbose=2, n_jobs=-1)\n",
        "grid_search.fit(X_train_resampled, y_train_resampled)\n",
        "\n",
        "print(\"Best parameters found:\", grid_search.best_params_)\n"
      ],
      "metadata": {
        "colab": {
          "base_uri": "https://localhost:8080/"
        },
        "id": "5PKydENujHN-",
        "outputId": "3041e664-8001-4697-fafb-ee679a2b5e59"
      },
      "execution_count": 103,
      "outputs": [
        {
          "output_type": "stream",
          "name": "stdout",
          "text": [
            "Fitting 5 folds for each of 36 candidates, totalling 180 fits\n",
            "Best parameters found: {'activation': 'relu', 'alpha': 0.01, 'hidden_layer_sizes': (50,), 'learning_rate': 'constant', 'max_iter': 1000, 'solver': 'adam'}\n"
          ]
        }
      ]
    },
    {
      "cell_type": "code",
      "source": [
        "best_mlp = MLPClassifier(\n",
        "    hidden_layer_sizes=(50,),\n",
        "    activation='relu',\n",
        "    solver='adam',\n",
        "    alpha=0.01,\n",
        "    learning_rate='constant',\n",
        "    max_iter=1000,\n",
        "    random_state=42\n",
        ")\n",
        "\n",
        "best_mlp.fit(X_train_resampled, y_train_resampled)\n",
        "y_pred_mlp = best_mlp.predict(X_test)\n",
        "\n",
        "\n",
        "print(\"MLP Classification Report:\")\n",
        "print(classification_report(y_test, y_pred_mlp))\n",
        "print(\"\\nConfusion Matrix:\")\n",
        "print(confusion_matrix(y_test, y_pred_mlp))\n"
      ],
      "metadata": {
        "colab": {
          "base_uri": "https://localhost:8080/"
        },
        "id": "o3eGPkCrjK7K",
        "outputId": "6b36addc-3849-4ff1-e701-859b1b39ec29"
      },
      "execution_count": 104,
      "outputs": [
        {
          "output_type": "stream",
          "name": "stdout",
          "text": [
            "MLP Classification Report:\n",
            "              precision    recall  f1-score   support\n",
            "\n",
            "           0       0.95      0.99      0.97       972\n",
            "           1       0.20      0.06      0.09        50\n",
            "\n",
            "    accuracy                           0.94      1022\n",
            "   macro avg       0.58      0.52      0.53      1022\n",
            "weighted avg       0.92      0.94      0.93      1022\n",
            "\n",
            "\n",
            "Confusion Matrix:\n",
            "[[960  12]\n",
            " [ 47   3]]\n"
          ]
        }
      ]
    },
    {
      "cell_type": "markdown",
      "source": [
        "### Model Evaluation Summary\n",
        "\n",
        "Despite applying data preprocessing and resampling techniques (such as SMOTE) to balance the classes, the models — including Logistic Regression, Random Forest, SVC, KNN, and MLP — consistently struggled to correctly predict the minority class (stroke cases).\n",
        "\n",
        "Although most models achieved high overall accuracy (often above 90%), this metric is misleading due to the **strong class imbalance** in the original dataset. Specifically, the **recall and F1-score for the positive class (stroke = 1)** remain very low across all models. For example, the optimized MLP model achieved an accuracy of 94%, but only identified **3 out of 50 stroke cases**, resulting in a recall of 0.06 and an F1-score of 0.09.\n",
        "\n",
        "These poor results are mainly due to:\n",
        "- **Severe class imbalance**: Even after resampling, models still tend to favor the majority class during training and prediction.\n",
        "- **Small minority sample size**: With only 50 positive examples, the model struggles to learn discriminative patterns for stroke cases.\n",
        "- **Possible feature limitations**: The features in the dataset may lack strong predictive power for the stroke class, or contain hidden biases.\n",
        "- **Model sensitivity**: Some models, especially neural networks, require more tuning and data volume to generalize well, particularly on rare classes.\n",
        "\n",
        "In summary, while resampling improved class distribution, it was **not sufficient alone** to ensure strong generalization on the minority class. Future improvements may include:\n",
        "- Testing alternative models like XGBoost.\n",
        "- Try to manually balance the dataset.\n",
        "- Testing models made for unbalanced datasets.\n",
        "\n"
      ],
      "metadata": {
        "id": "8GOVs3--rKpm"
      }
    },
    {
      "cell_type": "markdown",
      "source": [],
      "metadata": {
        "id": "PwJx5I4Mzeff"
      }
    },
    {
      "cell_type": "markdown",
      "source": [
        "## TODO : Complete the MLP section"
      ],
      "metadata": {
        "id": "I1OkW8s0J3n7"
      }
    }
  ]
}