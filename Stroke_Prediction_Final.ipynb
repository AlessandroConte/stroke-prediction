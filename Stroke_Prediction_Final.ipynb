{
  "nbformat": 4,
  "nbformat_minor": 0,
  "metadata": {
    "colab": {
      "provenance": [],
      "collapsed_sections": [
        "-fsK79CEjzpp",
        "amcwNKgHFA4M",
        "PBm660uuM5qR",
        "aqcHJnaThW7-",
        "4kX-LcSxFuzc",
        "vqafJPrezRtD",
        "fnFrMxKl0IfN",
        "Mvwf15YnLJlJ",
        "bL-1ZKp2BHOH"
      ],
      "authorship_tag": "ABX9TyOva+aGf1VUGwkiZfMK3bnj",
      "include_colab_link": true
    },
    "kernelspec": {
      "name": "python3",
      "display_name": "Python 3"
    },
    "language_info": {
      "name": "python"
    }
  },
  "cells": [
    {
      "cell_type": "markdown",
      "metadata": {
        "id": "view-in-github",
        "colab_type": "text"
      },
      "source": [
        "<a href=\"https://colab.research.google.com/github/AlessandroConte/stroke-prediction/blob/main/Stroke_Prediction_Final.ipynb\" target=\"_parent\"><img src=\"https://colab.research.google.com/assets/colab-badge.svg\" alt=\"Open In Colab\"/></a>"
      ]
    },
    {
      "cell_type": "markdown",
      "source": [
        "# Machine Learning for Stroke Prevention: Identifying At-Risk Individuals for Early Intervention\n",
        "\n",
        "## Objective\n",
        "**Stroke remains a leading cause of long-term disability and mortality worldwide**, making accurate predictive modeling crucial for early intervention. This project aims to develop a robust machine learning model to predict stroke likelihood in individuals, leveraging diverse health-related features such as age, gender, smoking habits, hypertension, heart disease, and other contributing factors.\n",
        "\n",
        "---\n",
        "\n",
        "## Goal\n",
        "The primary goal is to build accurate and reliable predictive models that can identify high-risk individuals, enabling early intervention strategies to reduce the incidence of strokes. The focus is on **minimizing false negatives**, as failing to identify individuals at risk for a stroke can have severe health consequences. Our aim is to achieve a high recall for the stroke class (stroke = 1).\n",
        "\n",
        "---\n",
        "\n",
        "## Approach\n",
        "Throughout this project, several machine learning models were systematically tested and evaluated:\n",
        "\n",
        "### Baseline Model Development\n",
        "* **Initial Baseline Models**: Logistic Regression, Random Forest, K-Nearest Neighbors (KNN), and Support Vector Classifier (SVC) were trained on the original (imbalanced) dataset to establish initial performance benchmarks.\n",
        "\n",
        "### Performance Metrics & Focus\n",
        "* **Performance Evaluation**: Models were rigorously evaluated using standard metrics including accuracy, precision, recall, F1-score, and confusion matrices. A special emphasis was placed on **recall for the stroke class (stroke = 1)** to ensure that high-risk individuals are not missed.\n",
        "\n",
        "### Addressing Class Imbalance\n",
        "* Given the highly skewed class distribution inherent in stroke datasets, various sampling techniques were applied to mitigate bias and improve minority class prediction:\n",
        "    * **SMOTE** (Synthetic Minority Over-sampling Technique)\n",
        "    * **SMOTEENN** (SMOTE + Edited Nearest Neighbors)\n",
        "    * **SMOTETomek** (SMOTE + Tomek links)\n",
        "    * **Manual undersampling** was also explored to create a more balanced dataset while carefully preserving data integrity.\n",
        "\n",
        "### Advanced Model Exploration\n",
        "* **Model Retraining & Tuning**: After resampling, models were retrained and fine-tuned using **GridSearchCV** to optimize hyperparameters for improved performance. Algorithms such as Random Forest and SVC demonstrated varied performance depending on the balancing method and chosen evaluation metric.\n",
        "* **Advanced Models Evaluated**: Computationally more intensive, but potentially more powerful, models like **MLPClassifier** (Multi-Layer Perceptron - Neural Network) and **XGBoostClassifier** (Extreme Gradient Boosting) were tested to compare their efficacy under various resampling strategies.\n",
        "\n",
        "### Ensemble and Imbalance-Aware Models\n",
        "* In a final step, specialized ensemble models designed to intrinsically handle class imbalance were applied:\n",
        "    * **BalancedRandomForestClassifier**\n",
        "    * **EasyEnsembleClassifier**\n",
        "* These models, notably, yielded the best performance in terms of **recall** for the minority class (stroke), often without requiring explicit external sampling techniques.\n",
        "\n",
        "---\n",
        "\n",
        "## Process Overview\n",
        "\n",
        "The project followed a structured analytical pipeline:\n",
        "\n",
        "1.  **Data Cleaning & Preprocessing**: This involved handling missing values (particularly in BMI), converting categorical features, and creating age bins to explore potential correlations for improved imputation strategies.\n",
        "2.  **Exploratory Data Analysis (EDA)**: Comprehensive visual analysis was conducted to understand feature distributions, relationships, and critically, to assess the extent of class imbalance.\n",
        "3.  **Model Training & Evaluation**: A comparative analysis was performed between baseline models and hyperparameter-tuned models, with evaluations based on detailed confusion matrices, precision, recall, and F1-score.\n",
        "4.  **Class Rebalancing Strategies**: Various techniques, including oversampling, undersampling, and hybrid methods, were implemented alongside specialized ensemble models designed with internal balancing mechanisms.\n",
        "5.  **Final Comparison**: The ultimate focus remained on minimizing **false negatives**. SVC, Balanced Random Forest, and Easy Ensemble emerged as the most effective models under this critical criterion.\n",
        "\n",
        "---\n",
        "\n",
        "## Key Learnings & Skills Demonstrated\n",
        "\n",
        "This project showcases a comprehensive skill set in machine learning and data science, including:\n",
        "\n",
        "* **End-to-end data preprocessing** and effective feature engineering techniques.\n",
        "* Demonstrating proficiency in applying **various classification algorithms** from traditional methods to advanced boosting and neural networks.\n",
        "* Expertise in robustly addressing complex **imbalanced classification problems**.\n",
        "* Mastery in conducting systematic **model tuning** using GridSearchCV for optimal performance.\n",
        "* A strong ability to compare and contrast baseline models against advanced ensemble methods.\n",
        "* Skill in interpreting complex model results with a clear emphasis on **real-world implications**.\n",
        "* Proficiency in communicating model limitations and justifying modeling choices based on analytical findings.\n",
        "\n",
        "---\n",
        "\n",
        "## Project Impact and Contribution\n",
        "This project underscores the practical application of machine learning in healthcare, demonstrating the ability to manage highly imbalanced datasets and implement diverse techniques to optimize predictive models. Through rigorous model evaluation and iterative tuning, this work provides valuable insights into building reliable models for high-stakes prediction tasks, such as stroke risk detection. This project significantly contributes to my portfolio by showcasing my expertise in machine learning, data analysis, and problem-solving, serving as a robust example of my capability to tackle real-world challenges using data-driven approaches. Moving forward, this project lays a strong foundation for exploring additional features, real-time prediction systems, or deployment strategies, further underscoring its practical applicability and my capabilities in the field.\n",
        "\n",
        "---"
      ],
      "metadata": {
        "id": "BdjrdRsnZ-kt"
      }
    },
    {
      "cell_type": "markdown",
      "source": [
        "## Libraries import\n",
        "\n",
        "---\n",
        "\n",
        "This section is dedicated to importing all the necessary Python libraries that will be utilized throughout this notebook. For enhanced readability and maintainability, the imports are organized into logical categories based on their primary functionalities, such as data manipulation, visualization, machine learning models, and utility functions."
      ],
      "metadata": {
        "id": "2FI2-JAvPf2_"
      }
    },
    {
      "cell_type": "code",
      "source": [
        "# Core data manipulation and analysis\n",
        "import pandas as pd\n",
        "import numpy as np\n",
        "from collections import Counter\n",
        "from google.colab import files # For Google Colab specific file operations\n",
        "\n",
        "# Data Visualization\n",
        "import matplotlib.pyplot as plt\n",
        "import seaborn as sns\n",
        "\n",
        "# Preprocessing and Model Selection\n",
        "from sklearn.model_selection import train_test_split, GridSearchCV\n",
        "from sklearn.preprocessing import StandardScaler\n",
        "from sklearn.utils import shuffle # For shuffling data\n",
        "\n",
        "# Machine Learning Models - Scikit-learn\n",
        "from sklearn.linear_model import LogisticRegression\n",
        "from sklearn.ensemble import RandomForestClassifier\n",
        "from sklearn.neighbors import KNeighborsClassifier\n",
        "from sklearn.svm import SVC\n",
        "from sklearn.neural_network import MLPClassifier # Neural Network\n",
        "\n",
        "# Machine Learning Models - Other Libraries\n",
        "from xgboost import XGBClassifier # Gradient Boosting\n",
        "\n",
        "# Model Evaluation Metrics\n",
        "from sklearn.metrics import accuracy_score, confusion_matrix, classification_report\n",
        "\n",
        "# Imbalanced Learning (imblearn) - Sampling Techniques\n",
        "from imblearn.over_sampling import SMOTE\n",
        "from imblearn.combine import SMOTEENN, SMOTETomek # Combination of over- and under-sampling\n",
        "\n",
        "# Imbalanced Learning (imblearn) - Ensemble Methods\n",
        "from imblearn.ensemble import BalancedRandomForestClassifier\n",
        "from imblearn.ensemble import EasyEnsembleClassifier\n",
        "\n",
        "# Utility for creating pipelines\n",
        "from sklearn.pipeline import Pipeline"
      ],
      "metadata": {
        "id": "02aPuPeVRoPv"
      },
      "execution_count": 1,
      "outputs": []
    },
    {
      "cell_type": "markdown",
      "source": [
        "## Data loading\n",
        "\n",
        "---\n",
        "\n",
        "This section outlines the process of loading the dataset into the notebook.\n",
        "\n"
      ],
      "metadata": {
        "id": "06NP8Cj5Ronw"
      }
    },
    {
      "cell_type": "code",
      "source": [
        "# Load dataset from the relative path\n",
        "# df = pd.read_csv(\"data/healthcare-dataset-stroke-data.csv\")\n",
        "# df.head()\n"
      ],
      "metadata": {
        "id": "RVmA_aIWT8gE"
      },
      "execution_count": 2,
      "outputs": []
    },
    {
      "cell_type": "markdown",
      "source": [
        "### Option: Upload dataset manually (for Colab users only)\n",
        "If you're running this notebook in Google Colab, uncomment and use the code below to upload the dataset manually.\n"
      ],
      "metadata": {
        "id": "jImzekSjTied"
      }
    },
    {
      "cell_type": "code",
      "source": [
        "# Save the dataset (csv file) into the \"uploaded\" variable\n",
        "uploaded = files.upload()\n",
        "\n",
        "# Read the csv file into a DataFrame\n",
        "df = pd.read_csv(\"healthcare-dataset-stroke-data.csv\")\n",
        "df.head()\n"
      ],
      "metadata": {
        "colab": {
          "base_uri": "https://localhost:8080/",
          "height": 261
        },
        "id": "NLUoUqrURp6Y",
        "outputId": "7ca15cdc-4d2a-4337-be49-e930238a5c72"
      },
      "execution_count": 3,
      "outputs": [
        {
          "output_type": "display_data",
          "data": {
            "text/plain": [
              "<IPython.core.display.HTML object>"
            ],
            "text/html": [
              "\n",
              "     <input type=\"file\" id=\"files-838496b3-1666-43d2-9671-bf6f97dca9d5\" name=\"files[]\" multiple disabled\n",
              "        style=\"border:none\" />\n",
              "     <output id=\"result-838496b3-1666-43d2-9671-bf6f97dca9d5\">\n",
              "      Upload widget is only available when the cell has been executed in the\n",
              "      current browser session. Please rerun this cell to enable.\n",
              "      </output>\n",
              "      <script>// Copyright 2017 Google LLC\n",
              "//\n",
              "// Licensed under the Apache License, Version 2.0 (the \"License\");\n",
              "// you may not use this file except in compliance with the License.\n",
              "// You may obtain a copy of the License at\n",
              "//\n",
              "//      http://www.apache.org/licenses/LICENSE-2.0\n",
              "//\n",
              "// Unless required by applicable law or agreed to in writing, software\n",
              "// distributed under the License is distributed on an \"AS IS\" BASIS,\n",
              "// WITHOUT WARRANTIES OR CONDITIONS OF ANY KIND, either express or implied.\n",
              "// See the License for the specific language governing permissions and\n",
              "// limitations under the License.\n",
              "\n",
              "/**\n",
              " * @fileoverview Helpers for google.colab Python module.\n",
              " */\n",
              "(function(scope) {\n",
              "function span(text, styleAttributes = {}) {\n",
              "  const element = document.createElement('span');\n",
              "  element.textContent = text;\n",
              "  for (const key of Object.keys(styleAttributes)) {\n",
              "    element.style[key] = styleAttributes[key];\n",
              "  }\n",
              "  return element;\n",
              "}\n",
              "\n",
              "// Max number of bytes which will be uploaded at a time.\n",
              "const MAX_PAYLOAD_SIZE = 100 * 1024;\n",
              "\n",
              "function _uploadFiles(inputId, outputId) {\n",
              "  const steps = uploadFilesStep(inputId, outputId);\n",
              "  const outputElement = document.getElementById(outputId);\n",
              "  // Cache steps on the outputElement to make it available for the next call\n",
              "  // to uploadFilesContinue from Python.\n",
              "  outputElement.steps = steps;\n",
              "\n",
              "  return _uploadFilesContinue(outputId);\n",
              "}\n",
              "\n",
              "// This is roughly an async generator (not supported in the browser yet),\n",
              "// where there are multiple asynchronous steps and the Python side is going\n",
              "// to poll for completion of each step.\n",
              "// This uses a Promise to block the python side on completion of each step,\n",
              "// then passes the result of the previous step as the input to the next step.\n",
              "function _uploadFilesContinue(outputId) {\n",
              "  const outputElement = document.getElementById(outputId);\n",
              "  const steps = outputElement.steps;\n",
              "\n",
              "  const next = steps.next(outputElement.lastPromiseValue);\n",
              "  return Promise.resolve(next.value.promise).then((value) => {\n",
              "    // Cache the last promise value to make it available to the next\n",
              "    // step of the generator.\n",
              "    outputElement.lastPromiseValue = value;\n",
              "    return next.value.response;\n",
              "  });\n",
              "}\n",
              "\n",
              "/**\n",
              " * Generator function which is called between each async step of the upload\n",
              " * process.\n",
              " * @param {string} inputId Element ID of the input file picker element.\n",
              " * @param {string} outputId Element ID of the output display.\n",
              " * @return {!Iterable<!Object>} Iterable of next steps.\n",
              " */\n",
              "function* uploadFilesStep(inputId, outputId) {\n",
              "  const inputElement = document.getElementById(inputId);\n",
              "  inputElement.disabled = false;\n",
              "\n",
              "  const outputElement = document.getElementById(outputId);\n",
              "  outputElement.innerHTML = '';\n",
              "\n",
              "  const pickedPromise = new Promise((resolve) => {\n",
              "    inputElement.addEventListener('change', (e) => {\n",
              "      resolve(e.target.files);\n",
              "    });\n",
              "  });\n",
              "\n",
              "  const cancel = document.createElement('button');\n",
              "  inputElement.parentElement.appendChild(cancel);\n",
              "  cancel.textContent = 'Cancel upload';\n",
              "  const cancelPromise = new Promise((resolve) => {\n",
              "    cancel.onclick = () => {\n",
              "      resolve(null);\n",
              "    };\n",
              "  });\n",
              "\n",
              "  // Wait for the user to pick the files.\n",
              "  const files = yield {\n",
              "    promise: Promise.race([pickedPromise, cancelPromise]),\n",
              "    response: {\n",
              "      action: 'starting',\n",
              "    }\n",
              "  };\n",
              "\n",
              "  cancel.remove();\n",
              "\n",
              "  // Disable the input element since further picks are not allowed.\n",
              "  inputElement.disabled = true;\n",
              "\n",
              "  if (!files) {\n",
              "    return {\n",
              "      response: {\n",
              "        action: 'complete',\n",
              "      }\n",
              "    };\n",
              "  }\n",
              "\n",
              "  for (const file of files) {\n",
              "    const li = document.createElement('li');\n",
              "    li.append(span(file.name, {fontWeight: 'bold'}));\n",
              "    li.append(span(\n",
              "        `(${file.type || 'n/a'}) - ${file.size} bytes, ` +\n",
              "        `last modified: ${\n",
              "            file.lastModifiedDate ? file.lastModifiedDate.toLocaleDateString() :\n",
              "                                    'n/a'} - `));\n",
              "    const percent = span('0% done');\n",
              "    li.appendChild(percent);\n",
              "\n",
              "    outputElement.appendChild(li);\n",
              "\n",
              "    const fileDataPromise = new Promise((resolve) => {\n",
              "      const reader = new FileReader();\n",
              "      reader.onload = (e) => {\n",
              "        resolve(e.target.result);\n",
              "      };\n",
              "      reader.readAsArrayBuffer(file);\n",
              "    });\n",
              "    // Wait for the data to be ready.\n",
              "    let fileData = yield {\n",
              "      promise: fileDataPromise,\n",
              "      response: {\n",
              "        action: 'continue',\n",
              "      }\n",
              "    };\n",
              "\n",
              "    // Use a chunked sending to avoid message size limits. See b/62115660.\n",
              "    let position = 0;\n",
              "    do {\n",
              "      const length = Math.min(fileData.byteLength - position, MAX_PAYLOAD_SIZE);\n",
              "      const chunk = new Uint8Array(fileData, position, length);\n",
              "      position += length;\n",
              "\n",
              "      const base64 = btoa(String.fromCharCode.apply(null, chunk));\n",
              "      yield {\n",
              "        response: {\n",
              "          action: 'append',\n",
              "          file: file.name,\n",
              "          data: base64,\n",
              "        },\n",
              "      };\n",
              "\n",
              "      let percentDone = fileData.byteLength === 0 ?\n",
              "          100 :\n",
              "          Math.round((position / fileData.byteLength) * 100);\n",
              "      percent.textContent = `${percentDone}% done`;\n",
              "\n",
              "    } while (position < fileData.byteLength);\n",
              "  }\n",
              "\n",
              "  // All done.\n",
              "  yield {\n",
              "    response: {\n",
              "      action: 'complete',\n",
              "    }\n",
              "  };\n",
              "}\n",
              "\n",
              "scope.google = scope.google || {};\n",
              "scope.google.colab = scope.google.colab || {};\n",
              "scope.google.colab._files = {\n",
              "  _uploadFiles,\n",
              "  _uploadFilesContinue,\n",
              "};\n",
              "})(self);\n",
              "</script> "
            ]
          },
          "metadata": {}
        },
        {
          "output_type": "stream",
          "name": "stdout",
          "text": [
            "Saving healthcare-dataset-stroke-data.csv to healthcare-dataset-stroke-data.csv\n"
          ]
        },
        {
          "output_type": "execute_result",
          "data": {
            "text/plain": [
              "      id  gender   age  hypertension  heart_disease ever_married  \\\n",
              "0   9046    Male  67.0             0              1          Yes   \n",
              "1  51676  Female  61.0             0              0          Yes   \n",
              "2  31112    Male  80.0             0              1          Yes   \n",
              "3  60182  Female  49.0             0              0          Yes   \n",
              "4   1665  Female  79.0             1              0          Yes   \n",
              "\n",
              "       work_type Residence_type  avg_glucose_level   bmi   smoking_status  \\\n",
              "0        Private          Urban             228.69  36.6  formerly smoked   \n",
              "1  Self-employed          Rural             202.21   NaN     never smoked   \n",
              "2        Private          Rural             105.92  32.5     never smoked   \n",
              "3        Private          Urban             171.23  34.4           smokes   \n",
              "4  Self-employed          Rural             174.12  24.0     never smoked   \n",
              "\n",
              "   stroke  \n",
              "0       1  \n",
              "1       1  \n",
              "2       1  \n",
              "3       1  \n",
              "4       1  "
            ],
            "text/html": [
              "\n",
              "  <div id=\"df-ed061aec-af0c-4c6e-b756-ebff7a66eb55\" class=\"colab-df-container\">\n",
              "    <div>\n",
              "<style scoped>\n",
              "    .dataframe tbody tr th:only-of-type {\n",
              "        vertical-align: middle;\n",
              "    }\n",
              "\n",
              "    .dataframe tbody tr th {\n",
              "        vertical-align: top;\n",
              "    }\n",
              "\n",
              "    .dataframe thead th {\n",
              "        text-align: right;\n",
              "    }\n",
              "</style>\n",
              "<table border=\"1\" class=\"dataframe\">\n",
              "  <thead>\n",
              "    <tr style=\"text-align: right;\">\n",
              "      <th></th>\n",
              "      <th>id</th>\n",
              "      <th>gender</th>\n",
              "      <th>age</th>\n",
              "      <th>hypertension</th>\n",
              "      <th>heart_disease</th>\n",
              "      <th>ever_married</th>\n",
              "      <th>work_type</th>\n",
              "      <th>Residence_type</th>\n",
              "      <th>avg_glucose_level</th>\n",
              "      <th>bmi</th>\n",
              "      <th>smoking_status</th>\n",
              "      <th>stroke</th>\n",
              "    </tr>\n",
              "  </thead>\n",
              "  <tbody>\n",
              "    <tr>\n",
              "      <th>0</th>\n",
              "      <td>9046</td>\n",
              "      <td>Male</td>\n",
              "      <td>67.0</td>\n",
              "      <td>0</td>\n",
              "      <td>1</td>\n",
              "      <td>Yes</td>\n",
              "      <td>Private</td>\n",
              "      <td>Urban</td>\n",
              "      <td>228.69</td>\n",
              "      <td>36.6</td>\n",
              "      <td>formerly smoked</td>\n",
              "      <td>1</td>\n",
              "    </tr>\n",
              "    <tr>\n",
              "      <th>1</th>\n",
              "      <td>51676</td>\n",
              "      <td>Female</td>\n",
              "      <td>61.0</td>\n",
              "      <td>0</td>\n",
              "      <td>0</td>\n",
              "      <td>Yes</td>\n",
              "      <td>Self-employed</td>\n",
              "      <td>Rural</td>\n",
              "      <td>202.21</td>\n",
              "      <td>NaN</td>\n",
              "      <td>never smoked</td>\n",
              "      <td>1</td>\n",
              "    </tr>\n",
              "    <tr>\n",
              "      <th>2</th>\n",
              "      <td>31112</td>\n",
              "      <td>Male</td>\n",
              "      <td>80.0</td>\n",
              "      <td>0</td>\n",
              "      <td>1</td>\n",
              "      <td>Yes</td>\n",
              "      <td>Private</td>\n",
              "      <td>Rural</td>\n",
              "      <td>105.92</td>\n",
              "      <td>32.5</td>\n",
              "      <td>never smoked</td>\n",
              "      <td>1</td>\n",
              "    </tr>\n",
              "    <tr>\n",
              "      <th>3</th>\n",
              "      <td>60182</td>\n",
              "      <td>Female</td>\n",
              "      <td>49.0</td>\n",
              "      <td>0</td>\n",
              "      <td>0</td>\n",
              "      <td>Yes</td>\n",
              "      <td>Private</td>\n",
              "      <td>Urban</td>\n",
              "      <td>171.23</td>\n",
              "      <td>34.4</td>\n",
              "      <td>smokes</td>\n",
              "      <td>1</td>\n",
              "    </tr>\n",
              "    <tr>\n",
              "      <th>4</th>\n",
              "      <td>1665</td>\n",
              "      <td>Female</td>\n",
              "      <td>79.0</td>\n",
              "      <td>1</td>\n",
              "      <td>0</td>\n",
              "      <td>Yes</td>\n",
              "      <td>Self-employed</td>\n",
              "      <td>Rural</td>\n",
              "      <td>174.12</td>\n",
              "      <td>24.0</td>\n",
              "      <td>never smoked</td>\n",
              "      <td>1</td>\n",
              "    </tr>\n",
              "  </tbody>\n",
              "</table>\n",
              "</div>\n",
              "    <div class=\"colab-df-buttons\">\n",
              "\n",
              "  <div class=\"colab-df-container\">\n",
              "    <button class=\"colab-df-convert\" onclick=\"convertToInteractive('df-ed061aec-af0c-4c6e-b756-ebff7a66eb55')\"\n",
              "            title=\"Convert this dataframe to an interactive table.\"\n",
              "            style=\"display:none;\">\n",
              "\n",
              "  <svg xmlns=\"http://www.w3.org/2000/svg\" height=\"24px\" viewBox=\"0 -960 960 960\">\n",
              "    <path d=\"M120-120v-720h720v720H120Zm60-500h600v-160H180v160Zm220 220h160v-160H400v160Zm0 220h160v-160H400v160ZM180-400h160v-160H180v160Zm440 0h160v-160H620v160ZM180-180h160v-160H180v160Zm440 0h160v-160H620v160Z\"/>\n",
              "  </svg>\n",
              "    </button>\n",
              "\n",
              "  <style>\n",
              "    .colab-df-container {\n",
              "      display:flex;\n",
              "      gap: 12px;\n",
              "    }\n",
              "\n",
              "    .colab-df-convert {\n",
              "      background-color: #E8F0FE;\n",
              "      border: none;\n",
              "      border-radius: 50%;\n",
              "      cursor: pointer;\n",
              "      display: none;\n",
              "      fill: #1967D2;\n",
              "      height: 32px;\n",
              "      padding: 0 0 0 0;\n",
              "      width: 32px;\n",
              "    }\n",
              "\n",
              "    .colab-df-convert:hover {\n",
              "      background-color: #E2EBFA;\n",
              "      box-shadow: 0px 1px 2px rgba(60, 64, 67, 0.3), 0px 1px 3px 1px rgba(60, 64, 67, 0.15);\n",
              "      fill: #174EA6;\n",
              "    }\n",
              "\n",
              "    .colab-df-buttons div {\n",
              "      margin-bottom: 4px;\n",
              "    }\n",
              "\n",
              "    [theme=dark] .colab-df-convert {\n",
              "      background-color: #3B4455;\n",
              "      fill: #D2E3FC;\n",
              "    }\n",
              "\n",
              "    [theme=dark] .colab-df-convert:hover {\n",
              "      background-color: #434B5C;\n",
              "      box-shadow: 0px 1px 3px 1px rgba(0, 0, 0, 0.15);\n",
              "      filter: drop-shadow(0px 1px 2px rgba(0, 0, 0, 0.3));\n",
              "      fill: #FFFFFF;\n",
              "    }\n",
              "  </style>\n",
              "\n",
              "    <script>\n",
              "      const buttonEl =\n",
              "        document.querySelector('#df-ed061aec-af0c-4c6e-b756-ebff7a66eb55 button.colab-df-convert');\n",
              "      buttonEl.style.display =\n",
              "        google.colab.kernel.accessAllowed ? 'block' : 'none';\n",
              "\n",
              "      async function convertToInteractive(key) {\n",
              "        const element = document.querySelector('#df-ed061aec-af0c-4c6e-b756-ebff7a66eb55');\n",
              "        const dataTable =\n",
              "          await google.colab.kernel.invokeFunction('convertToInteractive',\n",
              "                                                    [key], {});\n",
              "        if (!dataTable) return;\n",
              "\n",
              "        const docLinkHtml = 'Like what you see? Visit the ' +\n",
              "          '<a target=\"_blank\" href=https://colab.research.google.com/notebooks/data_table.ipynb>data table notebook</a>'\n",
              "          + ' to learn more about interactive tables.';\n",
              "        element.innerHTML = '';\n",
              "        dataTable['output_type'] = 'display_data';\n",
              "        await google.colab.output.renderOutput(dataTable, element);\n",
              "        const docLink = document.createElement('div');\n",
              "        docLink.innerHTML = docLinkHtml;\n",
              "        element.appendChild(docLink);\n",
              "      }\n",
              "    </script>\n",
              "  </div>\n",
              "\n",
              "\n",
              "    <div id=\"df-f0c7f171-7c68-4012-9b21-cf30ce06ebf5\">\n",
              "      <button class=\"colab-df-quickchart\" onclick=\"quickchart('df-f0c7f171-7c68-4012-9b21-cf30ce06ebf5')\"\n",
              "                title=\"Suggest charts\"\n",
              "                style=\"display:none;\">\n",
              "\n",
              "<svg xmlns=\"http://www.w3.org/2000/svg\" height=\"24px\"viewBox=\"0 0 24 24\"\n",
              "     width=\"24px\">\n",
              "    <g>\n",
              "        <path d=\"M19 3H5c-1.1 0-2 .9-2 2v14c0 1.1.9 2 2 2h14c1.1 0 2-.9 2-2V5c0-1.1-.9-2-2-2zM9 17H7v-7h2v7zm4 0h-2V7h2v10zm4 0h-2v-4h2v4z\"/>\n",
              "    </g>\n",
              "</svg>\n",
              "      </button>\n",
              "\n",
              "<style>\n",
              "  .colab-df-quickchart {\n",
              "      --bg-color: #E8F0FE;\n",
              "      --fill-color: #1967D2;\n",
              "      --hover-bg-color: #E2EBFA;\n",
              "      --hover-fill-color: #174EA6;\n",
              "      --disabled-fill-color: #AAA;\n",
              "      --disabled-bg-color: #DDD;\n",
              "  }\n",
              "\n",
              "  [theme=dark] .colab-df-quickchart {\n",
              "      --bg-color: #3B4455;\n",
              "      --fill-color: #D2E3FC;\n",
              "      --hover-bg-color: #434B5C;\n",
              "      --hover-fill-color: #FFFFFF;\n",
              "      --disabled-bg-color: #3B4455;\n",
              "      --disabled-fill-color: #666;\n",
              "  }\n",
              "\n",
              "  .colab-df-quickchart {\n",
              "    background-color: var(--bg-color);\n",
              "    border: none;\n",
              "    border-radius: 50%;\n",
              "    cursor: pointer;\n",
              "    display: none;\n",
              "    fill: var(--fill-color);\n",
              "    height: 32px;\n",
              "    padding: 0;\n",
              "    width: 32px;\n",
              "  }\n",
              "\n",
              "  .colab-df-quickchart:hover {\n",
              "    background-color: var(--hover-bg-color);\n",
              "    box-shadow: 0 1px 2px rgba(60, 64, 67, 0.3), 0 1px 3px 1px rgba(60, 64, 67, 0.15);\n",
              "    fill: var(--button-hover-fill-color);\n",
              "  }\n",
              "\n",
              "  .colab-df-quickchart-complete:disabled,\n",
              "  .colab-df-quickchart-complete:disabled:hover {\n",
              "    background-color: var(--disabled-bg-color);\n",
              "    fill: var(--disabled-fill-color);\n",
              "    box-shadow: none;\n",
              "  }\n",
              "\n",
              "  .colab-df-spinner {\n",
              "    border: 2px solid var(--fill-color);\n",
              "    border-color: transparent;\n",
              "    border-bottom-color: var(--fill-color);\n",
              "    animation:\n",
              "      spin 1s steps(1) infinite;\n",
              "  }\n",
              "\n",
              "  @keyframes spin {\n",
              "    0% {\n",
              "      border-color: transparent;\n",
              "      border-bottom-color: var(--fill-color);\n",
              "      border-left-color: var(--fill-color);\n",
              "    }\n",
              "    20% {\n",
              "      border-color: transparent;\n",
              "      border-left-color: var(--fill-color);\n",
              "      border-top-color: var(--fill-color);\n",
              "    }\n",
              "    30% {\n",
              "      border-color: transparent;\n",
              "      border-left-color: var(--fill-color);\n",
              "      border-top-color: var(--fill-color);\n",
              "      border-right-color: var(--fill-color);\n",
              "    }\n",
              "    40% {\n",
              "      border-color: transparent;\n",
              "      border-right-color: var(--fill-color);\n",
              "      border-top-color: var(--fill-color);\n",
              "    }\n",
              "    60% {\n",
              "      border-color: transparent;\n",
              "      border-right-color: var(--fill-color);\n",
              "    }\n",
              "    80% {\n",
              "      border-color: transparent;\n",
              "      border-right-color: var(--fill-color);\n",
              "      border-bottom-color: var(--fill-color);\n",
              "    }\n",
              "    90% {\n",
              "      border-color: transparent;\n",
              "      border-bottom-color: var(--fill-color);\n",
              "    }\n",
              "  }\n",
              "</style>\n",
              "\n",
              "      <script>\n",
              "        async function quickchart(key) {\n",
              "          const quickchartButtonEl =\n",
              "            document.querySelector('#' + key + ' button');\n",
              "          quickchartButtonEl.disabled = true;  // To prevent multiple clicks.\n",
              "          quickchartButtonEl.classList.add('colab-df-spinner');\n",
              "          try {\n",
              "            const charts = await google.colab.kernel.invokeFunction(\n",
              "                'suggestCharts', [key], {});\n",
              "          } catch (error) {\n",
              "            console.error('Error during call to suggestCharts:', error);\n",
              "          }\n",
              "          quickchartButtonEl.classList.remove('colab-df-spinner');\n",
              "          quickchartButtonEl.classList.add('colab-df-quickchart-complete');\n",
              "        }\n",
              "        (() => {\n",
              "          let quickchartButtonEl =\n",
              "            document.querySelector('#df-f0c7f171-7c68-4012-9b21-cf30ce06ebf5 button');\n",
              "          quickchartButtonEl.style.display =\n",
              "            google.colab.kernel.accessAllowed ? 'block' : 'none';\n",
              "        })();\n",
              "      </script>\n",
              "    </div>\n",
              "\n",
              "    </div>\n",
              "  </div>\n"
            ],
            "application/vnd.google.colaboratory.intrinsic+json": {
              "type": "dataframe",
              "variable_name": "df",
              "summary": "{\n  \"name\": \"df\",\n  \"rows\": 5110,\n  \"fields\": [\n    {\n      \"column\": \"id\",\n      \"properties\": {\n        \"dtype\": \"number\",\n        \"std\": 21161,\n        \"min\": 67,\n        \"max\": 72940,\n        \"num_unique_values\": 5110,\n        \"samples\": [\n          40041,\n          55244,\n          70992\n        ],\n        \"semantic_type\": \"\",\n        \"description\": \"\"\n      }\n    },\n    {\n      \"column\": \"gender\",\n      \"properties\": {\n        \"dtype\": \"category\",\n        \"num_unique_values\": 3,\n        \"samples\": [\n          \"Male\",\n          \"Female\",\n          \"Other\"\n        ],\n        \"semantic_type\": \"\",\n        \"description\": \"\"\n      }\n    },\n    {\n      \"column\": \"age\",\n      \"properties\": {\n        \"dtype\": \"number\",\n        \"std\": 22.61264672311352,\n        \"min\": 0.08,\n        \"max\": 82.0,\n        \"num_unique_values\": 104,\n        \"samples\": [\n          45.0,\n          24.0,\n          33.0\n        ],\n        \"semantic_type\": \"\",\n        \"description\": \"\"\n      }\n    },\n    {\n      \"column\": \"hypertension\",\n      \"properties\": {\n        \"dtype\": \"number\",\n        \"std\": 0,\n        \"min\": 0,\n        \"max\": 1,\n        \"num_unique_values\": 2,\n        \"samples\": [\n          1,\n          0\n        ],\n        \"semantic_type\": \"\",\n        \"description\": \"\"\n      }\n    },\n    {\n      \"column\": \"heart_disease\",\n      \"properties\": {\n        \"dtype\": \"number\",\n        \"std\": 0,\n        \"min\": 0,\n        \"max\": 1,\n        \"num_unique_values\": 2,\n        \"samples\": [\n          0,\n          1\n        ],\n        \"semantic_type\": \"\",\n        \"description\": \"\"\n      }\n    },\n    {\n      \"column\": \"ever_married\",\n      \"properties\": {\n        \"dtype\": \"category\",\n        \"num_unique_values\": 2,\n        \"samples\": [\n          \"No\",\n          \"Yes\"\n        ],\n        \"semantic_type\": \"\",\n        \"description\": \"\"\n      }\n    },\n    {\n      \"column\": \"work_type\",\n      \"properties\": {\n        \"dtype\": \"category\",\n        \"num_unique_values\": 5,\n        \"samples\": [\n          \"Self-employed\",\n          \"Never_worked\"\n        ],\n        \"semantic_type\": \"\",\n        \"description\": \"\"\n      }\n    },\n    {\n      \"column\": \"Residence_type\",\n      \"properties\": {\n        \"dtype\": \"category\",\n        \"num_unique_values\": 2,\n        \"samples\": [\n          \"Rural\",\n          \"Urban\"\n        ],\n        \"semantic_type\": \"\",\n        \"description\": \"\"\n      }\n    },\n    {\n      \"column\": \"avg_glucose_level\",\n      \"properties\": {\n        \"dtype\": \"number\",\n        \"std\": 45.28356015058203,\n        \"min\": 55.12,\n        \"max\": 271.74,\n        \"num_unique_values\": 3979,\n        \"samples\": [\n          178.29,\n          156.69\n        ],\n        \"semantic_type\": \"\",\n        \"description\": \"\"\n      }\n    },\n    {\n      \"column\": \"bmi\",\n      \"properties\": {\n        \"dtype\": \"number\",\n        \"std\": 7.854066729680158,\n        \"min\": 10.3,\n        \"max\": 97.6,\n        \"num_unique_values\": 418,\n        \"samples\": [\n          49.5,\n          18.5\n        ],\n        \"semantic_type\": \"\",\n        \"description\": \"\"\n      }\n    },\n    {\n      \"column\": \"smoking_status\",\n      \"properties\": {\n        \"dtype\": \"category\",\n        \"num_unique_values\": 4,\n        \"samples\": [\n          \"never smoked\",\n          \"Unknown\"\n        ],\n        \"semantic_type\": \"\",\n        \"description\": \"\"\n      }\n    },\n    {\n      \"column\": \"stroke\",\n      \"properties\": {\n        \"dtype\": \"number\",\n        \"std\": 0,\n        \"min\": 0,\n        \"max\": 1,\n        \"num_unique_values\": 2,\n        \"samples\": [\n          0,\n          1\n        ],\n        \"semantic_type\": \"\",\n        \"description\": \"\"\n      }\n    }\n  ]\n}"
            }
          },
          "metadata": {},
          "execution_count": 3
        }
      ]
    },
    {
      "cell_type": "markdown",
      "source": [
        "## EDA (Exploratory Data Analysis)\n",
        "\n",
        "---\n",
        "\n",
        "\n",
        "In this section, we perform an initial exploration of the dataset to better understand the structure, distribution, and relationships within the data. The goal of the Exploratory Data Analysis (EDA) phase is to identify patterns, detect anomalies, check for missing values, and gain insights that can guide data preprocessing and feature engineering. We will examine both numerical and categorical features, visualize key variables, and assess their potential impact on stroke prediction.\n",
        "\n",
        "\n"
      ],
      "metadata": {
        "id": "F42XZVT48PjL"
      }
    },
    {
      "cell_type": "markdown",
      "source": [
        "### Dataset overview"
      ],
      "metadata": {
        "id": "AHfgD4-tSSx1"
      }
    },
    {
      "cell_type": "code",
      "source": [
        "# check the dataset's structure\n",
        "\n",
        "df.head()\n",
        "df.info()\n"
      ],
      "metadata": {
        "colab": {
          "base_uri": "https://localhost:8080/"
        },
        "id": "FG0lBWrt6_ak",
        "outputId": "4810b781-bbfc-4654-d334-86ebb2e9986b"
      },
      "execution_count": 4,
      "outputs": [
        {
          "output_type": "stream",
          "name": "stdout",
          "text": [
            "<class 'pandas.core.frame.DataFrame'>\n",
            "RangeIndex: 5110 entries, 0 to 5109\n",
            "Data columns (total 12 columns):\n",
            " #   Column             Non-Null Count  Dtype  \n",
            "---  ------             --------------  -----  \n",
            " 0   id                 5110 non-null   int64  \n",
            " 1   gender             5110 non-null   object \n",
            " 2   age                5110 non-null   float64\n",
            " 3   hypertension       5110 non-null   int64  \n",
            " 4   heart_disease      5110 non-null   int64  \n",
            " 5   ever_married       5110 non-null   object \n",
            " 6   work_type          5110 non-null   object \n",
            " 7   Residence_type     5110 non-null   object \n",
            " 8   avg_glucose_level  5110 non-null   float64\n",
            " 9   bmi                4909 non-null   float64\n",
            " 10  smoking_status     5110 non-null   object \n",
            " 11  stroke             5110 non-null   int64  \n",
            "dtypes: float64(3), int64(4), object(5)\n",
            "memory usage: 479.2+ KB\n"
          ]
        }
      ]
    },
    {
      "cell_type": "markdown",
      "source": [
        "From the output above we can see that the DataFrame has:\n",
        "\n",
        "*   5110 rows (from index 0 to 5109)\n",
        "*   12 columns (i.e., 12 variables)\n",
        "*   By looking at the \"Non-Null Count\" we can clearly see where the missing values are (in this case the bmi column has 201 missing (NaN) values)"
      ],
      "metadata": {
        "id": "lb5WbbKa9VWk"
      }
    },
    {
      "cell_type": "code",
      "source": [
        "# statistical summary\n",
        "df.describe(include='all')\n"
      ],
      "metadata": {
        "colab": {
          "base_uri": "https://localhost:8080/",
          "height": 394
        },
        "id": "DcPLPt1r8zSA",
        "outputId": "96484061-4301-4adb-b0ed-bf3e1762bde5"
      },
      "execution_count": 5,
      "outputs": [
        {
          "output_type": "execute_result",
          "data": {
            "text/plain": [
              "                  id  gender          age  hypertension  heart_disease  \\\n",
              "count    5110.000000    5110  5110.000000   5110.000000    5110.000000   \n",
              "unique           NaN       3          NaN           NaN            NaN   \n",
              "top              NaN  Female          NaN           NaN            NaN   \n",
              "freq             NaN    2994          NaN           NaN            NaN   \n",
              "mean    36517.829354     NaN    43.226614      0.097456       0.054012   \n",
              "std     21161.721625     NaN    22.612647      0.296607       0.226063   \n",
              "min        67.000000     NaN     0.080000      0.000000       0.000000   \n",
              "25%     17741.250000     NaN    25.000000      0.000000       0.000000   \n",
              "50%     36932.000000     NaN    45.000000      0.000000       0.000000   \n",
              "75%     54682.000000     NaN    61.000000      0.000000       0.000000   \n",
              "max     72940.000000     NaN    82.000000      1.000000       1.000000   \n",
              "\n",
              "       ever_married work_type Residence_type  avg_glucose_level          bmi  \\\n",
              "count          5110      5110           5110        5110.000000  4909.000000   \n",
              "unique            2         5              2                NaN          NaN   \n",
              "top             Yes   Private          Urban                NaN          NaN   \n",
              "freq           3353      2925           2596                NaN          NaN   \n",
              "mean            NaN       NaN            NaN         106.147677    28.893237   \n",
              "std             NaN       NaN            NaN          45.283560     7.854067   \n",
              "min             NaN       NaN            NaN          55.120000    10.300000   \n",
              "25%             NaN       NaN            NaN          77.245000    23.500000   \n",
              "50%             NaN       NaN            NaN          91.885000    28.100000   \n",
              "75%             NaN       NaN            NaN         114.090000    33.100000   \n",
              "max             NaN       NaN            NaN         271.740000    97.600000   \n",
              "\n",
              "       smoking_status       stroke  \n",
              "count            5110  5110.000000  \n",
              "unique              4          NaN  \n",
              "top      never smoked          NaN  \n",
              "freq             1892          NaN  \n",
              "mean              NaN     0.048728  \n",
              "std               NaN     0.215320  \n",
              "min               NaN     0.000000  \n",
              "25%               NaN     0.000000  \n",
              "50%               NaN     0.000000  \n",
              "75%               NaN     0.000000  \n",
              "max               NaN     1.000000  "
            ],
            "text/html": [
              "\n",
              "  <div id=\"df-40d255b1-8482-49af-a7da-49b2bfd6d876\" class=\"colab-df-container\">\n",
              "    <div>\n",
              "<style scoped>\n",
              "    .dataframe tbody tr th:only-of-type {\n",
              "        vertical-align: middle;\n",
              "    }\n",
              "\n",
              "    .dataframe tbody tr th {\n",
              "        vertical-align: top;\n",
              "    }\n",
              "\n",
              "    .dataframe thead th {\n",
              "        text-align: right;\n",
              "    }\n",
              "</style>\n",
              "<table border=\"1\" class=\"dataframe\">\n",
              "  <thead>\n",
              "    <tr style=\"text-align: right;\">\n",
              "      <th></th>\n",
              "      <th>id</th>\n",
              "      <th>gender</th>\n",
              "      <th>age</th>\n",
              "      <th>hypertension</th>\n",
              "      <th>heart_disease</th>\n",
              "      <th>ever_married</th>\n",
              "      <th>work_type</th>\n",
              "      <th>Residence_type</th>\n",
              "      <th>avg_glucose_level</th>\n",
              "      <th>bmi</th>\n",
              "      <th>smoking_status</th>\n",
              "      <th>stroke</th>\n",
              "    </tr>\n",
              "  </thead>\n",
              "  <tbody>\n",
              "    <tr>\n",
              "      <th>count</th>\n",
              "      <td>5110.000000</td>\n",
              "      <td>5110</td>\n",
              "      <td>5110.000000</td>\n",
              "      <td>5110.000000</td>\n",
              "      <td>5110.000000</td>\n",
              "      <td>5110</td>\n",
              "      <td>5110</td>\n",
              "      <td>5110</td>\n",
              "      <td>5110.000000</td>\n",
              "      <td>4909.000000</td>\n",
              "      <td>5110</td>\n",
              "      <td>5110.000000</td>\n",
              "    </tr>\n",
              "    <tr>\n",
              "      <th>unique</th>\n",
              "      <td>NaN</td>\n",
              "      <td>3</td>\n",
              "      <td>NaN</td>\n",
              "      <td>NaN</td>\n",
              "      <td>NaN</td>\n",
              "      <td>2</td>\n",
              "      <td>5</td>\n",
              "      <td>2</td>\n",
              "      <td>NaN</td>\n",
              "      <td>NaN</td>\n",
              "      <td>4</td>\n",
              "      <td>NaN</td>\n",
              "    </tr>\n",
              "    <tr>\n",
              "      <th>top</th>\n",
              "      <td>NaN</td>\n",
              "      <td>Female</td>\n",
              "      <td>NaN</td>\n",
              "      <td>NaN</td>\n",
              "      <td>NaN</td>\n",
              "      <td>Yes</td>\n",
              "      <td>Private</td>\n",
              "      <td>Urban</td>\n",
              "      <td>NaN</td>\n",
              "      <td>NaN</td>\n",
              "      <td>never smoked</td>\n",
              "      <td>NaN</td>\n",
              "    </tr>\n",
              "    <tr>\n",
              "      <th>freq</th>\n",
              "      <td>NaN</td>\n",
              "      <td>2994</td>\n",
              "      <td>NaN</td>\n",
              "      <td>NaN</td>\n",
              "      <td>NaN</td>\n",
              "      <td>3353</td>\n",
              "      <td>2925</td>\n",
              "      <td>2596</td>\n",
              "      <td>NaN</td>\n",
              "      <td>NaN</td>\n",
              "      <td>1892</td>\n",
              "      <td>NaN</td>\n",
              "    </tr>\n",
              "    <tr>\n",
              "      <th>mean</th>\n",
              "      <td>36517.829354</td>\n",
              "      <td>NaN</td>\n",
              "      <td>43.226614</td>\n",
              "      <td>0.097456</td>\n",
              "      <td>0.054012</td>\n",
              "      <td>NaN</td>\n",
              "      <td>NaN</td>\n",
              "      <td>NaN</td>\n",
              "      <td>106.147677</td>\n",
              "      <td>28.893237</td>\n",
              "      <td>NaN</td>\n",
              "      <td>0.048728</td>\n",
              "    </tr>\n",
              "    <tr>\n",
              "      <th>std</th>\n",
              "      <td>21161.721625</td>\n",
              "      <td>NaN</td>\n",
              "      <td>22.612647</td>\n",
              "      <td>0.296607</td>\n",
              "      <td>0.226063</td>\n",
              "      <td>NaN</td>\n",
              "      <td>NaN</td>\n",
              "      <td>NaN</td>\n",
              "      <td>45.283560</td>\n",
              "      <td>7.854067</td>\n",
              "      <td>NaN</td>\n",
              "      <td>0.215320</td>\n",
              "    </tr>\n",
              "    <tr>\n",
              "      <th>min</th>\n",
              "      <td>67.000000</td>\n",
              "      <td>NaN</td>\n",
              "      <td>0.080000</td>\n",
              "      <td>0.000000</td>\n",
              "      <td>0.000000</td>\n",
              "      <td>NaN</td>\n",
              "      <td>NaN</td>\n",
              "      <td>NaN</td>\n",
              "      <td>55.120000</td>\n",
              "      <td>10.300000</td>\n",
              "      <td>NaN</td>\n",
              "      <td>0.000000</td>\n",
              "    </tr>\n",
              "    <tr>\n",
              "      <th>25%</th>\n",
              "      <td>17741.250000</td>\n",
              "      <td>NaN</td>\n",
              "      <td>25.000000</td>\n",
              "      <td>0.000000</td>\n",
              "      <td>0.000000</td>\n",
              "      <td>NaN</td>\n",
              "      <td>NaN</td>\n",
              "      <td>NaN</td>\n",
              "      <td>77.245000</td>\n",
              "      <td>23.500000</td>\n",
              "      <td>NaN</td>\n",
              "      <td>0.000000</td>\n",
              "    </tr>\n",
              "    <tr>\n",
              "      <th>50%</th>\n",
              "      <td>36932.000000</td>\n",
              "      <td>NaN</td>\n",
              "      <td>45.000000</td>\n",
              "      <td>0.000000</td>\n",
              "      <td>0.000000</td>\n",
              "      <td>NaN</td>\n",
              "      <td>NaN</td>\n",
              "      <td>NaN</td>\n",
              "      <td>91.885000</td>\n",
              "      <td>28.100000</td>\n",
              "      <td>NaN</td>\n",
              "      <td>0.000000</td>\n",
              "    </tr>\n",
              "    <tr>\n",
              "      <th>75%</th>\n",
              "      <td>54682.000000</td>\n",
              "      <td>NaN</td>\n",
              "      <td>61.000000</td>\n",
              "      <td>0.000000</td>\n",
              "      <td>0.000000</td>\n",
              "      <td>NaN</td>\n",
              "      <td>NaN</td>\n",
              "      <td>NaN</td>\n",
              "      <td>114.090000</td>\n",
              "      <td>33.100000</td>\n",
              "      <td>NaN</td>\n",
              "      <td>0.000000</td>\n",
              "    </tr>\n",
              "    <tr>\n",
              "      <th>max</th>\n",
              "      <td>72940.000000</td>\n",
              "      <td>NaN</td>\n",
              "      <td>82.000000</td>\n",
              "      <td>1.000000</td>\n",
              "      <td>1.000000</td>\n",
              "      <td>NaN</td>\n",
              "      <td>NaN</td>\n",
              "      <td>NaN</td>\n",
              "      <td>271.740000</td>\n",
              "      <td>97.600000</td>\n",
              "      <td>NaN</td>\n",
              "      <td>1.000000</td>\n",
              "    </tr>\n",
              "  </tbody>\n",
              "</table>\n",
              "</div>\n",
              "    <div class=\"colab-df-buttons\">\n",
              "\n",
              "  <div class=\"colab-df-container\">\n",
              "    <button class=\"colab-df-convert\" onclick=\"convertToInteractive('df-40d255b1-8482-49af-a7da-49b2bfd6d876')\"\n",
              "            title=\"Convert this dataframe to an interactive table.\"\n",
              "            style=\"display:none;\">\n",
              "\n",
              "  <svg xmlns=\"http://www.w3.org/2000/svg\" height=\"24px\" viewBox=\"0 -960 960 960\">\n",
              "    <path d=\"M120-120v-720h720v720H120Zm60-500h600v-160H180v160Zm220 220h160v-160H400v160Zm0 220h160v-160H400v160ZM180-400h160v-160H180v160Zm440 0h160v-160H620v160ZM180-180h160v-160H180v160Zm440 0h160v-160H620v160Z\"/>\n",
              "  </svg>\n",
              "    </button>\n",
              "\n",
              "  <style>\n",
              "    .colab-df-container {\n",
              "      display:flex;\n",
              "      gap: 12px;\n",
              "    }\n",
              "\n",
              "    .colab-df-convert {\n",
              "      background-color: #E8F0FE;\n",
              "      border: none;\n",
              "      border-radius: 50%;\n",
              "      cursor: pointer;\n",
              "      display: none;\n",
              "      fill: #1967D2;\n",
              "      height: 32px;\n",
              "      padding: 0 0 0 0;\n",
              "      width: 32px;\n",
              "    }\n",
              "\n",
              "    .colab-df-convert:hover {\n",
              "      background-color: #E2EBFA;\n",
              "      box-shadow: 0px 1px 2px rgba(60, 64, 67, 0.3), 0px 1px 3px 1px rgba(60, 64, 67, 0.15);\n",
              "      fill: #174EA6;\n",
              "    }\n",
              "\n",
              "    .colab-df-buttons div {\n",
              "      margin-bottom: 4px;\n",
              "    }\n",
              "\n",
              "    [theme=dark] .colab-df-convert {\n",
              "      background-color: #3B4455;\n",
              "      fill: #D2E3FC;\n",
              "    }\n",
              "\n",
              "    [theme=dark] .colab-df-convert:hover {\n",
              "      background-color: #434B5C;\n",
              "      box-shadow: 0px 1px 3px 1px rgba(0, 0, 0, 0.15);\n",
              "      filter: drop-shadow(0px 1px 2px rgba(0, 0, 0, 0.3));\n",
              "      fill: #FFFFFF;\n",
              "    }\n",
              "  </style>\n",
              "\n",
              "    <script>\n",
              "      const buttonEl =\n",
              "        document.querySelector('#df-40d255b1-8482-49af-a7da-49b2bfd6d876 button.colab-df-convert');\n",
              "      buttonEl.style.display =\n",
              "        google.colab.kernel.accessAllowed ? 'block' : 'none';\n",
              "\n",
              "      async function convertToInteractive(key) {\n",
              "        const element = document.querySelector('#df-40d255b1-8482-49af-a7da-49b2bfd6d876');\n",
              "        const dataTable =\n",
              "          await google.colab.kernel.invokeFunction('convertToInteractive',\n",
              "                                                    [key], {});\n",
              "        if (!dataTable) return;\n",
              "\n",
              "        const docLinkHtml = 'Like what you see? Visit the ' +\n",
              "          '<a target=\"_blank\" href=https://colab.research.google.com/notebooks/data_table.ipynb>data table notebook</a>'\n",
              "          + ' to learn more about interactive tables.';\n",
              "        element.innerHTML = '';\n",
              "        dataTable['output_type'] = 'display_data';\n",
              "        await google.colab.output.renderOutput(dataTable, element);\n",
              "        const docLink = document.createElement('div');\n",
              "        docLink.innerHTML = docLinkHtml;\n",
              "        element.appendChild(docLink);\n",
              "      }\n",
              "    </script>\n",
              "  </div>\n",
              "\n",
              "\n",
              "    <div id=\"df-62be63fd-4611-4813-aeb8-b64c5e9e939c\">\n",
              "      <button class=\"colab-df-quickchart\" onclick=\"quickchart('df-62be63fd-4611-4813-aeb8-b64c5e9e939c')\"\n",
              "                title=\"Suggest charts\"\n",
              "                style=\"display:none;\">\n",
              "\n",
              "<svg xmlns=\"http://www.w3.org/2000/svg\" height=\"24px\"viewBox=\"0 0 24 24\"\n",
              "     width=\"24px\">\n",
              "    <g>\n",
              "        <path d=\"M19 3H5c-1.1 0-2 .9-2 2v14c0 1.1.9 2 2 2h14c1.1 0 2-.9 2-2V5c0-1.1-.9-2-2-2zM9 17H7v-7h2v7zm4 0h-2V7h2v10zm4 0h-2v-4h2v4z\"/>\n",
              "    </g>\n",
              "</svg>\n",
              "      </button>\n",
              "\n",
              "<style>\n",
              "  .colab-df-quickchart {\n",
              "      --bg-color: #E8F0FE;\n",
              "      --fill-color: #1967D2;\n",
              "      --hover-bg-color: #E2EBFA;\n",
              "      --hover-fill-color: #174EA6;\n",
              "      --disabled-fill-color: #AAA;\n",
              "      --disabled-bg-color: #DDD;\n",
              "  }\n",
              "\n",
              "  [theme=dark] .colab-df-quickchart {\n",
              "      --bg-color: #3B4455;\n",
              "      --fill-color: #D2E3FC;\n",
              "      --hover-bg-color: #434B5C;\n",
              "      --hover-fill-color: #FFFFFF;\n",
              "      --disabled-bg-color: #3B4455;\n",
              "      --disabled-fill-color: #666;\n",
              "  }\n",
              "\n",
              "  .colab-df-quickchart {\n",
              "    background-color: var(--bg-color);\n",
              "    border: none;\n",
              "    border-radius: 50%;\n",
              "    cursor: pointer;\n",
              "    display: none;\n",
              "    fill: var(--fill-color);\n",
              "    height: 32px;\n",
              "    padding: 0;\n",
              "    width: 32px;\n",
              "  }\n",
              "\n",
              "  .colab-df-quickchart:hover {\n",
              "    background-color: var(--hover-bg-color);\n",
              "    box-shadow: 0 1px 2px rgba(60, 64, 67, 0.3), 0 1px 3px 1px rgba(60, 64, 67, 0.15);\n",
              "    fill: var(--button-hover-fill-color);\n",
              "  }\n",
              "\n",
              "  .colab-df-quickchart-complete:disabled,\n",
              "  .colab-df-quickchart-complete:disabled:hover {\n",
              "    background-color: var(--disabled-bg-color);\n",
              "    fill: var(--disabled-fill-color);\n",
              "    box-shadow: none;\n",
              "  }\n",
              "\n",
              "  .colab-df-spinner {\n",
              "    border: 2px solid var(--fill-color);\n",
              "    border-color: transparent;\n",
              "    border-bottom-color: var(--fill-color);\n",
              "    animation:\n",
              "      spin 1s steps(1) infinite;\n",
              "  }\n",
              "\n",
              "  @keyframes spin {\n",
              "    0% {\n",
              "      border-color: transparent;\n",
              "      border-bottom-color: var(--fill-color);\n",
              "      border-left-color: var(--fill-color);\n",
              "    }\n",
              "    20% {\n",
              "      border-color: transparent;\n",
              "      border-left-color: var(--fill-color);\n",
              "      border-top-color: var(--fill-color);\n",
              "    }\n",
              "    30% {\n",
              "      border-color: transparent;\n",
              "      border-left-color: var(--fill-color);\n",
              "      border-top-color: var(--fill-color);\n",
              "      border-right-color: var(--fill-color);\n",
              "    }\n",
              "    40% {\n",
              "      border-color: transparent;\n",
              "      border-right-color: var(--fill-color);\n",
              "      border-top-color: var(--fill-color);\n",
              "    }\n",
              "    60% {\n",
              "      border-color: transparent;\n",
              "      border-right-color: var(--fill-color);\n",
              "    }\n",
              "    80% {\n",
              "      border-color: transparent;\n",
              "      border-right-color: var(--fill-color);\n",
              "      border-bottom-color: var(--fill-color);\n",
              "    }\n",
              "    90% {\n",
              "      border-color: transparent;\n",
              "      border-bottom-color: var(--fill-color);\n",
              "    }\n",
              "  }\n",
              "</style>\n",
              "\n",
              "      <script>\n",
              "        async function quickchart(key) {\n",
              "          const quickchartButtonEl =\n",
              "            document.querySelector('#' + key + ' button');\n",
              "          quickchartButtonEl.disabled = true;  // To prevent multiple clicks.\n",
              "          quickchartButtonEl.classList.add('colab-df-spinner');\n",
              "          try {\n",
              "            const charts = await google.colab.kernel.invokeFunction(\n",
              "                'suggestCharts', [key], {});\n",
              "          } catch (error) {\n",
              "            console.error('Error during call to suggestCharts:', error);\n",
              "          }\n",
              "          quickchartButtonEl.classList.remove('colab-df-spinner');\n",
              "          quickchartButtonEl.classList.add('colab-df-quickchart-complete');\n",
              "        }\n",
              "        (() => {\n",
              "          let quickchartButtonEl =\n",
              "            document.querySelector('#df-62be63fd-4611-4813-aeb8-b64c5e9e939c button');\n",
              "          quickchartButtonEl.style.display =\n",
              "            google.colab.kernel.accessAllowed ? 'block' : 'none';\n",
              "        })();\n",
              "      </script>\n",
              "    </div>\n",
              "\n",
              "    </div>\n",
              "  </div>\n"
            ],
            "application/vnd.google.colaboratory.intrinsic+json": {
              "type": "dataframe",
              "summary": "{\n  \"name\": \"df\",\n  \"rows\": 11,\n  \"fields\": [\n    {\n      \"column\": \"id\",\n      \"properties\": {\n        \"dtype\": \"number\",\n        \"std\": 24739.06835358706,\n        \"min\": 67.0,\n        \"max\": 72940.0,\n        \"num_unique_values\": 8,\n        \"samples\": [\n          36517.82935420744,\n          36932.0,\n          5110.0\n        ],\n        \"semantic_type\": \"\",\n        \"description\": \"\"\n      }\n    },\n    {\n      \"column\": \"gender\",\n      \"properties\": {\n        \"dtype\": \"category\",\n        \"num_unique_values\": 4,\n        \"samples\": [\n          3,\n          \"2994\",\n          \"5110\"\n        ],\n        \"semantic_type\": \"\",\n        \"description\": \"\"\n      }\n    },\n    {\n      \"column\": \"age\",\n      \"properties\": {\n        \"dtype\": \"number\",\n        \"std\": 1792.744047061404,\n        \"min\": 0.08,\n        \"max\": 5110.0,\n        \"num_unique_values\": 8,\n        \"samples\": [\n          43.226614481409,\n          45.0,\n          5110.0\n        ],\n        \"semantic_type\": \"\",\n        \"description\": \"\"\n      }\n    },\n    {\n      \"column\": \"hypertension\",\n      \"properties\": {\n        \"dtype\": \"number\",\n        \"std\": 1806.5874475501562,\n        \"min\": 0.0,\n        \"max\": 5110.0,\n        \"num_unique_values\": 5,\n        \"samples\": [\n          0.0974559686888454,\n          1.0,\n          0.29660667423378534\n        ],\n        \"semantic_type\": \"\",\n        \"description\": \"\"\n      }\n    },\n    {\n      \"column\": \"heart_disease\",\n      \"properties\": {\n        \"dtype\": \"number\",\n        \"std\": 1806.593204812832,\n        \"min\": 0.0,\n        \"max\": 5110.0,\n        \"num_unique_values\": 5,\n        \"samples\": [\n          0.05401174168297456,\n          1.0,\n          0.22606298750336476\n        ],\n        \"semantic_type\": \"\",\n        \"description\": \"\"\n      }\n    },\n    {\n      \"column\": \"ever_married\",\n      \"properties\": {\n        \"dtype\": \"category\",\n        \"num_unique_values\": 4,\n        \"samples\": [\n          2,\n          \"3353\",\n          \"5110\"\n        ],\n        \"semantic_type\": \"\",\n        \"description\": \"\"\n      }\n    },\n    {\n      \"column\": \"work_type\",\n      \"properties\": {\n        \"dtype\": \"category\",\n        \"num_unique_values\": 4,\n        \"samples\": [\n          5,\n          \"2925\",\n          \"5110\"\n        ],\n        \"semantic_type\": \"\",\n        \"description\": \"\"\n      }\n    },\n    {\n      \"column\": \"Residence_type\",\n      \"properties\": {\n        \"dtype\": \"category\",\n        \"num_unique_values\": 4,\n        \"samples\": [\n          2,\n          \"2596\",\n          \"5110\"\n        ],\n        \"semantic_type\": \"\",\n        \"description\": \"\"\n      }\n    },\n    {\n      \"column\": \"avg_glucose_level\",\n      \"properties\": {\n        \"dtype\": \"number\",\n        \"std\": 1769.6002138244987,\n        \"min\": 45.28356015058203,\n        \"max\": 5110.0,\n        \"num_unique_values\": 8,\n        \"samples\": [\n          106.1476771037182,\n          91.88499999999999,\n          5110.0\n        ],\n        \"semantic_type\": \"\",\n        \"description\": \"\"\n      }\n    },\n    {\n      \"column\": \"bmi\",\n      \"properties\": {\n        \"dtype\": \"number\",\n        \"std\": 1724.2356567020179,\n        \"min\": 7.854066729680158,\n        \"max\": 4909.0,\n        \"num_unique_values\": 8,\n        \"samples\": [\n          28.893236911794666,\n          28.1,\n          4909.0\n        ],\n        \"semantic_type\": \"\",\n        \"description\": \"\"\n      }\n    },\n    {\n      \"column\": \"smoking_status\",\n      \"properties\": {\n        \"dtype\": \"category\",\n        \"num_unique_values\": 4,\n        \"samples\": [\n          4,\n          \"1892\",\n          \"5110\"\n        ],\n        \"semantic_type\": \"\",\n        \"description\": \"\"\n      }\n    },\n    {\n      \"column\": \"stroke\",\n      \"properties\": {\n        \"dtype\": \"number\",\n        \"std\": 1806.5940143142543,\n        \"min\": 0.0,\n        \"max\": 5110.0,\n        \"num_unique_values\": 5,\n        \"samples\": [\n          0.0487279843444227,\n          1.0,\n          0.21531985698026107\n        ],\n        \"semantic_type\": \"\",\n        \"description\": \"\"\n      }\n    }\n  ]\n}"
            }
          },
          "metadata": {},
          "execution_count": 5
        }
      ]
    },
    {
      "cell_type": "markdown",
      "source": [
        "By running `df.describe(include='all')`, we obtain a summary of both numerical and categorical columns.\n",
        "\n",
        "* For numerical columns (e.g., age, bmi), the output includes statistics such as mean, standard deviation, min, max, and quartiles.\n",
        "* For categorical columns (e.g., gender, work_type), it shows the number of unique categories, the most frequent value (`top`), and its frequency (`freq`).\n",
        "* This helps us quickly understand the distribution, detect outliers, and identify missing values (e.g., the `bmi` column has 201 missing entries).\n"
      ],
      "metadata": {
        "id": "eGNXRgU6BZyB"
      }
    },
    {
      "cell_type": "code",
      "source": [
        "# sum all of the missing values\n",
        "\n",
        "df.isnull().sum()\n"
      ],
      "metadata": {
        "colab": {
          "base_uri": "https://localhost:8080/",
          "height": 460
        },
        "id": "u4AOBaRvBWC3",
        "outputId": "85cca6b1-555b-4b2f-b313-5fecfd4657ca"
      },
      "execution_count": 6,
      "outputs": [
        {
          "output_type": "execute_result",
          "data": {
            "text/plain": [
              "id                     0\n",
              "gender                 0\n",
              "age                    0\n",
              "hypertension           0\n",
              "heart_disease          0\n",
              "ever_married           0\n",
              "work_type              0\n",
              "Residence_type         0\n",
              "avg_glucose_level      0\n",
              "bmi                  201\n",
              "smoking_status         0\n",
              "stroke                 0\n",
              "dtype: int64"
            ],
            "text/html": [
              "<div>\n",
              "<style scoped>\n",
              "    .dataframe tbody tr th:only-of-type {\n",
              "        vertical-align: middle;\n",
              "    }\n",
              "\n",
              "    .dataframe tbody tr th {\n",
              "        vertical-align: top;\n",
              "    }\n",
              "\n",
              "    .dataframe thead th {\n",
              "        text-align: right;\n",
              "    }\n",
              "</style>\n",
              "<table border=\"1\" class=\"dataframe\">\n",
              "  <thead>\n",
              "    <tr style=\"text-align: right;\">\n",
              "      <th></th>\n",
              "      <th>0</th>\n",
              "    </tr>\n",
              "  </thead>\n",
              "  <tbody>\n",
              "    <tr>\n",
              "      <th>id</th>\n",
              "      <td>0</td>\n",
              "    </tr>\n",
              "    <tr>\n",
              "      <th>gender</th>\n",
              "      <td>0</td>\n",
              "    </tr>\n",
              "    <tr>\n",
              "      <th>age</th>\n",
              "      <td>0</td>\n",
              "    </tr>\n",
              "    <tr>\n",
              "      <th>hypertension</th>\n",
              "      <td>0</td>\n",
              "    </tr>\n",
              "    <tr>\n",
              "      <th>heart_disease</th>\n",
              "      <td>0</td>\n",
              "    </tr>\n",
              "    <tr>\n",
              "      <th>ever_married</th>\n",
              "      <td>0</td>\n",
              "    </tr>\n",
              "    <tr>\n",
              "      <th>work_type</th>\n",
              "      <td>0</td>\n",
              "    </tr>\n",
              "    <tr>\n",
              "      <th>Residence_type</th>\n",
              "      <td>0</td>\n",
              "    </tr>\n",
              "    <tr>\n",
              "      <th>avg_glucose_level</th>\n",
              "      <td>0</td>\n",
              "    </tr>\n",
              "    <tr>\n",
              "      <th>bmi</th>\n",
              "      <td>201</td>\n",
              "    </tr>\n",
              "    <tr>\n",
              "      <th>smoking_status</th>\n",
              "      <td>0</td>\n",
              "    </tr>\n",
              "    <tr>\n",
              "      <th>stroke</th>\n",
              "      <td>0</td>\n",
              "    </tr>\n",
              "  </tbody>\n",
              "</table>\n",
              "</div><br><label><b>dtype:</b> int64</label>"
            ]
          },
          "metadata": {},
          "execution_count": 6
        }
      ]
    },
    {
      "cell_type": "markdown",
      "source": [
        "There are 201 missing values in the bmi index column (i.e., bodymass index). In the next section we are going to handle them"
      ],
      "metadata": {
        "id": "Vb_et4MnEWgz"
      }
    },
    {
      "cell_type": "code",
      "source": [
        "# check the features type\n",
        "df.dtypes"
      ],
      "metadata": {
        "colab": {
          "base_uri": "https://localhost:8080/",
          "height": 460
        },
        "id": "O312F0LsEG8I",
        "outputId": "63c5cfab-9bf0-44b2-82b9-dc41f9650c38"
      },
      "execution_count": 7,
      "outputs": [
        {
          "output_type": "execute_result",
          "data": {
            "text/plain": [
              "id                     int64\n",
              "gender                object\n",
              "age                  float64\n",
              "hypertension           int64\n",
              "heart_disease          int64\n",
              "ever_married          object\n",
              "work_type             object\n",
              "Residence_type        object\n",
              "avg_glucose_level    float64\n",
              "bmi                  float64\n",
              "smoking_status        object\n",
              "stroke                 int64\n",
              "dtype: object"
            ],
            "text/html": [
              "<div>\n",
              "<style scoped>\n",
              "    .dataframe tbody tr th:only-of-type {\n",
              "        vertical-align: middle;\n",
              "    }\n",
              "\n",
              "    .dataframe tbody tr th {\n",
              "        vertical-align: top;\n",
              "    }\n",
              "\n",
              "    .dataframe thead th {\n",
              "        text-align: right;\n",
              "    }\n",
              "</style>\n",
              "<table border=\"1\" class=\"dataframe\">\n",
              "  <thead>\n",
              "    <tr style=\"text-align: right;\">\n",
              "      <th></th>\n",
              "      <th>0</th>\n",
              "    </tr>\n",
              "  </thead>\n",
              "  <tbody>\n",
              "    <tr>\n",
              "      <th>id</th>\n",
              "      <td>int64</td>\n",
              "    </tr>\n",
              "    <tr>\n",
              "      <th>gender</th>\n",
              "      <td>object</td>\n",
              "    </tr>\n",
              "    <tr>\n",
              "      <th>age</th>\n",
              "      <td>float64</td>\n",
              "    </tr>\n",
              "    <tr>\n",
              "      <th>hypertension</th>\n",
              "      <td>int64</td>\n",
              "    </tr>\n",
              "    <tr>\n",
              "      <th>heart_disease</th>\n",
              "      <td>int64</td>\n",
              "    </tr>\n",
              "    <tr>\n",
              "      <th>ever_married</th>\n",
              "      <td>object</td>\n",
              "    </tr>\n",
              "    <tr>\n",
              "      <th>work_type</th>\n",
              "      <td>object</td>\n",
              "    </tr>\n",
              "    <tr>\n",
              "      <th>Residence_type</th>\n",
              "      <td>object</td>\n",
              "    </tr>\n",
              "    <tr>\n",
              "      <th>avg_glucose_level</th>\n",
              "      <td>float64</td>\n",
              "    </tr>\n",
              "    <tr>\n",
              "      <th>bmi</th>\n",
              "      <td>float64</td>\n",
              "    </tr>\n",
              "    <tr>\n",
              "      <th>smoking_status</th>\n",
              "      <td>object</td>\n",
              "    </tr>\n",
              "    <tr>\n",
              "      <th>stroke</th>\n",
              "      <td>int64</td>\n",
              "    </tr>\n",
              "  </tbody>\n",
              "</table>\n",
              "</div><br><label><b>dtype:</b> object</label>"
            ]
          },
          "metadata": {},
          "execution_count": 7
        }
      ]
    },
    {
      "cell_type": "markdown",
      "source": [
        "Note :\n",
        "*  Categorical variables :  gender, ever_married, work_type, Residence_type, smoking_status\n",
        "* Numerical variables : id, age, hypertension, heart_desease, avg_glucose_level, bmi\n",
        "* Target : stroke"
      ],
      "metadata": {
        "id": "UFJoytIuFPR0"
      }
    },
    {
      "cell_type": "markdown",
      "source": [
        "### Target Variable Distribution and Class Imbalance\n",
        "\n",
        "We examine the distribution of the target variable (`stroke`) to assess if the dataset is balanced or imbalanced. This step is critical to understand potential challenges in model training."
      ],
      "metadata": {
        "id": "BrbE7uK5VbQQ"
      }
    },
    {
      "cell_type": "code",
      "source": [
        "df['stroke'].value_counts(normalize=True)\n"
      ],
      "metadata": {
        "colab": {
          "base_uri": "https://localhost:8080/",
          "height": 178
        },
        "id": "CrUwV_gIVbBU",
        "outputId": "82fe3cce-82e9-45db-f5e2-22e8d971a2b0"
      },
      "execution_count": 8,
      "outputs": [
        {
          "output_type": "execute_result",
          "data": {
            "text/plain": [
              "stroke\n",
              "0    0.951272\n",
              "1    0.048728\n",
              "Name: proportion, dtype: float64"
            ],
            "text/html": [
              "<div>\n",
              "<style scoped>\n",
              "    .dataframe tbody tr th:only-of-type {\n",
              "        vertical-align: middle;\n",
              "    }\n",
              "\n",
              "    .dataframe tbody tr th {\n",
              "        vertical-align: top;\n",
              "    }\n",
              "\n",
              "    .dataframe thead th {\n",
              "        text-align: right;\n",
              "    }\n",
              "</style>\n",
              "<table border=\"1\" class=\"dataframe\">\n",
              "  <thead>\n",
              "    <tr style=\"text-align: right;\">\n",
              "      <th></th>\n",
              "      <th>proportion</th>\n",
              "    </tr>\n",
              "    <tr>\n",
              "      <th>stroke</th>\n",
              "      <th></th>\n",
              "    </tr>\n",
              "  </thead>\n",
              "  <tbody>\n",
              "    <tr>\n",
              "      <th>0</th>\n",
              "      <td>0.951272</td>\n",
              "    </tr>\n",
              "    <tr>\n",
              "      <th>1</th>\n",
              "      <td>0.048728</td>\n",
              "    </tr>\n",
              "  </tbody>\n",
              "</table>\n",
              "</div><br><label><b>dtype:</b> float64</label>"
            ]
          },
          "metadata": {},
          "execution_count": 8
        }
      ]
    },
    {
      "cell_type": "markdown",
      "source": [
        "The target variable `stroke` is highly imbalanced, with approximately 95.1% of the instances belonging to the negative class (no stroke) and only about 4.9% representing positive stroke cases. This significant imbalance poses a challenge for model training, as standard algorithms may be biased towards the majority class. Therefore, special attention is required in model evaluation and potentially in the application of techniques to handle class imbalance."
      ],
      "metadata": {
        "id": "49YP9PmzVz0K"
      }
    },
    {
      "cell_type": "markdown",
      "source": [
        "### Data Visualization"
      ],
      "metadata": {
        "id": "f6CbzgtuGTsJ"
      }
    },
    {
      "cell_type": "markdown",
      "source": [
        "#### Countplot"
      ],
      "metadata": {
        "id": "rsi1ACsilYod"
      }
    },
    {
      "cell_type": "code",
      "source": [
        "sns.countplot(x='stroke', data=df)\n",
        "plt.title('Target distribution (stroke)')\n"
      ],
      "metadata": {
        "colab": {
          "base_uri": "https://localhost:8080/",
          "height": 489
        },
        "id": "KzZLzM6PFEIw",
        "outputId": "905c42ad-b2e1-4719-fb3e-91ac2222a03d"
      },
      "execution_count": 9,
      "outputs": [
        {
          "output_type": "execute_result",
          "data": {
            "text/plain": [
              "Text(0.5, 1.0, 'Target distribution (stroke)')"
            ]
          },
          "metadata": {},
          "execution_count": 9
        },
        {
          "output_type": "display_data",
          "data": {
            "text/plain": [
              "<Figure size 640x480 with 1 Axes>"
            ],
            "image/png": "[encoded data removed]"
          },
          "metadata": {}
        }
      ]
    },
    {
      "cell_type": "markdown",
      "source": [
        "The countplot above displays the distribution of the target variable `stroke`. It reveals a significant class imbalance, with the majority of instances belonging to the \"no stroke\" class (0), while only a small fraction experienced a stroke (1). This imbalance suggests the need for techniques such as resampling or class weighting during model training.\n"
      ],
      "metadata": {
        "id": "NbDwF0ZGZH3g"
      }
    },
    {
      "cell_type": "markdown",
      "source": [
        "#### Boxplot\n"
      ],
      "metadata": {
        "id": "j-eR1EOAlUms"
      }
    },
    {
      "cell_type": "code",
      "source": [
        "sns.boxplot(x='stroke', y='age', data=df)\n"
      ],
      "metadata": {
        "colab": {
          "base_uri": "https://localhost:8080/",
          "height": 466
        },
        "id": "ipTC1WKfGsor",
        "outputId": "28e0a07d-54d0-4c2c-b1cd-6c9dc5fc4e85"
      },
      "execution_count": 10,
      "outputs": [
        {
          "output_type": "execute_result",
          "data": {
            "text/plain": [
              "<Axes: xlabel='stroke', ylabel='age'>"
            ]
          },
          "metadata": {},
          "execution_count": 10
        },
        {
          "output_type": "display_data",
          "data": {
            "text/plain": [
              "<Figure size 640x480 with 1 Axes>"
            ],
            "image/png": "[encoded data removed]"
          },
          "metadata": {}
        }
      ]
    },
    {
      "cell_type": "markdown",
      "source": [
        "The boxplot above shows the distribution of `age` for each class of the target variable. It is evident that individuals who suffered a stroke tend to be older on average compared to those who did not. This reinforces the known correlation between aging and increased stroke risk."
      ],
      "metadata": {
        "id": "P86uKtR-ZYmb"
      }
    },
    {
      "cell_type": "markdown",
      "source": [
        "#### Histplot"
      ],
      "metadata": {
        "id": "UjhmoerZlQxQ"
      }
    },
    {
      "cell_type": "code",
      "source": [
        "sns.histplot(df['avg_glucose_level'], kde=True)\n"
      ],
      "metadata": {
        "colab": {
          "base_uri": "https://localhost:8080/",
          "height": 467
        },
        "id": "bPkWPQKYXNSd",
        "outputId": "479c6204-f151-4c6c-d2e5-efba913814e3"
      },
      "execution_count": 11,
      "outputs": [
        {
          "output_type": "execute_result",
          "data": {
            "text/plain": [
              "<Axes: xlabel='avg_glucose_level', ylabel='Count'>"
            ]
          },
          "metadata": {},
          "execution_count": 11
        },
        {
          "output_type": "display_data",
          "data": {
            "text/plain": [
              "<Figure size 640x480 with 1 Axes>"
            ],
            "image/png": "[encoded data removed]"
          },
          "metadata": {}
        }
      ]
    },
    {
      "cell_type": "markdown",
      "source": [
        "This histogram shows that the majority of patients have an average glucose level around 80–90. The distribution appears to be right-skewed, with a primary peak in the lower glucose range and a secondary peak around 200, suggesting the presence of two distinct subgroups: one possibly representing patients with normal glucose levels, and the other representing those at risk due to elevated levels.\n",
        "\n",
        "We can also observe that some patients have extremely high glucose levels, exceeding 250. These could either be outliers or may indicate severe cases of hyperglycemia, which is relevant because hyperglycemia is a well-known risk factor for strokes.\n",
        "\n",
        "This distribution may justify further analysis to determine whether patients with higher glucose levels are more likely to have suffered a stroke. Understanding this relationship could support the identification of high-risk patients and contribute to the development of predictive models for stroke occurrence."
      ],
      "metadata": {
        "id": "FND494h4cBj7"
      }
    },
    {
      "cell_type": "markdown",
      "source": [
        "#### Heatmap"
      ],
      "metadata": {
        "id": "iczmSW4blMTH"
      }
    },
    {
      "cell_type": "code",
      "source": [
        "sns.heatmap(df.corr(numeric_only=True), annot=True, cmap='coolwarm')\n"
      ],
      "metadata": {
        "colab": {
          "base_uri": "https://localhost:8080/",
          "height": 564
        },
        "id": "H4CBejSHGthV",
        "outputId": "97dcd576-3819-47c1-caf7-d3af22c3d42c"
      },
      "execution_count": 12,
      "outputs": [
        {
          "output_type": "execute_result",
          "data": {
            "text/plain": [
              "<Axes: >"
            ]
          },
          "metadata": {},
          "execution_count": 12
        },
        {
          "output_type": "display_data",
          "data": {
            "text/plain": [
              "<Figure size 640x480 with 2 Axes>"
            ],
            "image/png": "[encoded data removed]"
          },
          "metadata": {}
        }
      ]
    },
    {
      "cell_type": "markdown",
      "source": [
        "The correlation heatmap above illustrates the pairwise linear relationships among all numerical features and the target variable (`stroke`). As expected, there is no strong multicollinearity among features (all correlation coefficients are < 0.4), which suggests that we can retain all features without immediate concerns about redundancy.\n",
        "\n",
        "Interestingly, `age` shows the highest correlation with `stroke` (0.25), followed by mild associations with `hypertension`, `heart_disease`, and `avg_glucose_level` (~0.13). The correlation between features and the target is relatively weak overall, which justifies exploring complex or non-linear machine learning models rather than relying solely on linear assumptions.\n",
        "\n",
        "The `id` variable has no predictive value (correlation near zero) and should be dropped before modeling.\n"
      ],
      "metadata": {
        "id": "qUqEFL8Ja3G_"
      }
    },
    {
      "cell_type": "markdown",
      "source": [
        "#### Barplots with Error Bars"
      ],
      "metadata": {
        "id": "p2pVb5X6o76k"
      }
    },
    {
      "cell_type": "code",
      "source": [
        "categorical_vars = ['gender', 'hypertension', 'heart_disease', 'ever_married', 'work_type', 'Residence_type', 'smoking_status']\n",
        "\n",
        "\n",
        "for var in categorical_vars:\n",
        "    plt.figure(figsize=(6,4))\n",
        "    sns.barplot(data=df, x=var, y='stroke', estimator=lambda x: sum(x)/len(x))\n",
        "\n",
        "    # observation number annotation\n",
        "    counts = df[var].value_counts()\n",
        "    for i, category in enumerate(df[var].unique()):\n",
        "        plt.text(i, 0.01, f'n={counts[category]}', ha='center', fontsize=9)\n",
        "\n",
        "    plt.title(f'Stroke Rate by {var}')\n",
        "    plt.xticks(rotation=45)\n",
        "    plt.ylabel('Stroke Rate')\n",
        "    plt.tight_layout()\n",
        "    plt.show()\n"
      ],
      "metadata": {
        "colab": {
          "base_uri": "https://localhost:8080/",
          "height": 1000
        },
        "id": "RgBHY_TJqAOX",
        "outputId": "68065f77-1d19-4649-d75b-5f6bb4df6290"
      },
      "execution_count": 13,
      "outputs": [
        {
          "output_type": "display_data",
          "data": {
            "text/plain": [
              "<Figure size 600x400 with 1 Axes>"
            ],
            "image/png": "[encoded data removed]"
          },
          "metadata": {}
        },
        {
          "output_type": "display_data",
          "data": {
            "text/plain": [
              "<Figure size 600x400 with 1 Axes>"
            ],
            "image/png": "[encoded data removed]"
          },
          "metadata": {}
        },
        {
          "output_type": "display_data",
          "data": {
            "text/plain": [
              "<Figure size 600x400 with 1 Axes>"
            ],
            "image/png": "[encoded data removed]"
          },
          "metadata": {}
        },
        {
          "output_type": "display_data",
          "data": {
            "text/plain": [
              "<Figure size 600x400 with 1 Axes>"
            ],
            "image/png": "[encoded data removed]"
          },
          "metadata": {}
        },
        {
          "output_type": "display_data",
          "data": {
            "text/plain": [
              "<Figure size 600x400 with 1 Axes>"
            ],
            "image/png": "[encoded data removed]"
          },
          "metadata": {}
        },
        {
          "output_type": "display_data",
          "data": {
            "text/plain": [
              "<Figure size 600x400 with 1 Axes>"
            ],
            "image/png": "[encoded data removed]"
          },
          "metadata": {}
        },
        {
          "output_type": "display_data",
          "data": {
            "text/plain": [
              "<Figure size 600x400 with 1 Axes>"
            ],
            "image/png": "[encoded data removed]"
          },
          "metadata": {}
        }
      ]
    },
    {
      "cell_type": "markdown",
      "source": [
        "The vertical black lines on each bar represent **95% confidence intervals** (CI) for the stroke rate in each category. These intervals are calculated through bootstrapping and give a measure of the **uncertainty** around the estimated mean stroke rate.\n",
        "\n",
        "- **Narrow intervals** indicate reliable estimates (larger sample size, low variance).\n",
        "- **Wider intervals** reflect greater variability or fewer observations.\n",
        "- Overlapping CIs suggest that differences between categories may **not be statistically significant**, underscoring the need for formal statistical testing or larger samples before inferring real effects.\n",
        "\n",
        "**Stroke Rate by Categorical Variables**\n",
        "- In the `ever_married` plot, individuals who have been married (\"Yes\") show a noticeably higher stroke rate compared to those who have never been married (\"No\"). The **non-overlapping confidence intervals** suggest that this difference might be **statistically significant** and should be further tested.\n",
        "\n",
        "- For `work_type`, self-employed individuals appear to have the highest stroke rate, followed by those in private or government jobs. Children, as expected, have a near-zero stroke rate. The \"Never_worked\" group has a very small sample size (n=22), making the stroke rate estimate unreliable — a point supported by the **absence or instability of the confidence interval**.\n",
        "\n",
        "These visualizations are essential in identifying potentially important risk factors or population segments worth further investigation and could inform feature selection or class-weighting strategies in model development.\n"
      ],
      "metadata": {
        "id": "_nIaope7ahRg"
      }
    },
    {
      "cell_type": "markdown",
      "source": [
        "#### Violinplot : age, BMI and glucose level distribution by Stroke"
      ],
      "metadata": {
        "id": "3V5s2OfVbCeb"
      }
    },
    {
      "cell_type": "code",
      "source": [
        "plt.figure(figsize=(6,4))\n",
        "sns.violinplot(data=df, x='stroke', y='age')\n",
        "plt.title('Age distribution by Stroke')\n",
        "plt.show()\n",
        "\n",
        "plt.figure(figsize=(6,4))\n",
        "sns.violinplot(data=df, x='stroke', y='bmi')\n",
        "plt.title('BMI distribution by Stroke')\n",
        "plt.show()\n",
        "\n",
        "plt.figure(figsize=(6,4))\n",
        "sns.violinplot(data=df, x='stroke', y='avg_glucose_level')\n",
        "plt.title('Glucose Level Distribution by Stroke')\n",
        "plt.show()\n",
        "\n"
      ],
      "metadata": {
        "colab": {
          "base_uri": "https://localhost:8080/",
          "height": 1000
        },
        "id": "7dc0XPtpl8O9",
        "outputId": "ba155dc7-28be-4580-ed34-62763ac111dc"
      },
      "execution_count": 14,
      "outputs": [
        {
          "output_type": "display_data",
          "data": {
            "text/plain": [
              "<Figure size 600x400 with 1 Axes>"
            ],
            "image/png": "[encoded data removed]"
          },
          "metadata": {}
        },
        {
          "output_type": "display_data",
          "data": {
            "text/plain": [
              "<Figure size 600x400 with 1 Axes>"
            ],
            "image/png": "[encoded data removed]"
          },
          "metadata": {}
        },
        {
          "output_type": "display_data",
          "data": {
            "text/plain": [
              "<Figure size 600x400 with 1 Axes>"
            ],
            "image/png": "[encoded data removed]"
          },
          "metadata": {}
        }
      ]
    },
    {
      "cell_type": "markdown",
      "source": [
        "The violin plots above visualize the distribution of two key continuous features (`age` and `bmi`) split by the target variable `stroke`.\n",
        "\n",
        "- **Age distribution by Stroke**:  \n",
        "  Patients who suffered a stroke (stroke = 1) are generally older, with a distribution skewed toward higher age values. The non-stroke group (stroke = 0) spans a wider age range, including many younger individuals. This suggests that age is a strong differentiating factor and a potential risk indicator for stroke.\n",
        "\n",
        "- **BMI distribution by Stroke**:  \n",
        "  The BMI distributions for stroke and non-stroke patients appear more similar, both centered around the 25–30 range. There is a slightly higher concentration of individuals with BMI > 30 among stroke patients, but the difference is less pronounced than with age. This implies that while BMI might contribute to stroke risk, it may not be a strong standalone predictor in this dataset.\n",
        "\n",
        "- **Average glucose level distribution by Stroke**:\n",
        "  Patients who have suffered a stroke tend to have, on average, higher glucose levels and greater variability than the other group. This may indicate a non-linear relationship between hyperglycemia and stroke risk.\n",
        "\n",
        "These visualizations help to understand how continuous variables behave in relation to stroke occurrence and support further feature selection or transformation decisions.\n"
      ],
      "metadata": {
        "id": "uVfOIJADbLJf"
      }
    },
    {
      "cell_type": "markdown",
      "source": [
        "## Preprocessing: Data Cleaning, Encoding, Scaling and Splitting\n",
        "\n",
        "---\n",
        "\n",
        "Before training any machine learning models, it is crucial to preprocess the data to ensure its quality and compatibility with various algorithms. In this section, we handle several key preprocessing steps:\n",
        "\n",
        "- **Data cleaning**: to address missing values and correct inconsistencies.\n",
        "- **Encoding**: to convert categorical variables into numerical format suitable for modeling.\n",
        "- **Feature scaling**: to normalize numerical variables and ensure balanced contribution to the model.\n",
        "- **Data splitting**: to divide the dataset into training and testing subsets, which enables reliable model evaluation.\n",
        "\n",
        "These preprocessing steps are essential to build robust and generalizable predictive models.\n"
      ],
      "metadata": {
        "id": "-fsK79CEjzpp"
      }
    },
    {
      "cell_type": "markdown",
      "source": [
        "### Data cleaning\n",
        "\n",
        "The `bmi` feature contains missing values, which we handle by imputing the median. The median is a robust statistic that is not affected by extreme values or skewed distributions, making it a suitable choice for numerical data like BMI. This helps preserve the central tendency of the variable without introducing bias.\n",
        "\n"
      ],
      "metadata": {
        "id": "m9oMF3L5m1yH"
      }
    },
    {
      "cell_type": "code",
      "source": [
        "df['bmi'] = df['bmi'].fillna(df['bmi'].median())\n"
      ],
      "metadata": {
        "id": "W0n8gcxcj5Pz"
      },
      "execution_count": 15,
      "outputs": []
    },
    {
      "cell_type": "markdown",
      "source": [
        "### Encoding\n",
        "\n",
        "To prepare categorical variables for machine learning, we applied both label encoding and one-hot encoding based on the nature of each feature:\n",
        "\n",
        "- `ever_married` and `Residence_type` are binary categorical variables, so we used label encoding to map their values directly to 0 and 1.\n",
        "- For `work_type`, `smoking_status`, and `gender`, we used one-hot encoding via `pd.get_dummies()` to create dummy variables. We set `drop_first=True` to avoid multicollinearity caused by redundant dummy columns.\n",
        "\n",
        "This encoding ensures that all categorical variables are transformed into a numeric format suitable for model training, without implying any ordinal relationship where it doesn’t exist.\n"
      ],
      "metadata": {
        "id": "G5qdvEKsnnO1"
      }
    },
    {
      "cell_type": "code",
      "source": [
        "# label encoding\n",
        "\n",
        "df['ever_married'] = df['ever_married'].map({'Yes': 1, 'No': 0})\n",
        "df['Residence_type'] = df['Residence_type'].map({'Urban': 1, 'Rural': 0})\n"
      ],
      "metadata": {
        "id": "oZL_-2X7nsze"
      },
      "execution_count": 16,
      "outputs": []
    },
    {
      "cell_type": "code",
      "source": [
        "# one-hot encoding\n",
        "\n",
        "df = pd.get_dummies(df, columns=['work_type', 'smoking_status', 'gender'], drop_first=True)\n",
        "# drop_first = True to avoid multicollinearity"
      ],
      "metadata": {
        "id": "5cZt8pktn9CR"
      },
      "execution_count": 17,
      "outputs": []
    },
    {
      "cell_type": "markdown",
      "source": [
        "### Features Scaling\n",
        "\n",
        "To ensure that numerical features contribute equally to the model and are not dominated by variables with larger scales, we standardized the `age`, `avg_glucose_level`, and `bmi` features using `StandardScaler`. Standardization rescales the features to have a mean of 0 and a standard deviation of 1, which is particularly important for algorithms sensitive to feature magnitudes, such as logistic regression or gradient-based models.\n",
        "\n",
        "We applied feature scaling only to the continuous numerical features beacuse of the different value ranges and units, which could bias certain algorithms. Scaling them ensures uniform contribution to the model. We excluded the encoded categorical variables, as they are already binary (0/1) and do not require scaling.\n",
        "\n",
        "\n"
      ],
      "metadata": {
        "id": "jQPA3u2_KNHP"
      }
    },
    {
      "cell_type": "code",
      "source": [
        "from sklearn.preprocessing import StandardScaler\n",
        "\n",
        "scaler = StandardScaler()\n",
        "df[['age', 'avg_glucose_level', 'bmi']] = scaler.fit_transform(df[['age', 'avg_glucose_level', 'bmi']])\n"
      ],
      "metadata": {
        "id": "Fk_1166hKMuZ"
      },
      "execution_count": 18,
      "outputs": []
    },
    {
      "cell_type": "markdown",
      "source": [
        "### Data splitting"
      ],
      "metadata": {
        "id": "B5KHB1yPU0CA"
      }
    },
    {
      "cell_type": "markdown",
      "source": [
        "#### Splitting Features and Target\n",
        "\n",
        "We separate the dataset into features (`X`) and the target variable (`y`, which is `stroke`) to prepare for model training.\n"
      ],
      "metadata": {
        "id": "JCdtTaLzSDFw"
      }
    },
    {
      "cell_type": "code",
      "source": [
        "X = df.drop('stroke', axis=1)\n",
        "y = df['stroke']\n"
      ],
      "metadata": {
        "id": "OBxVs2cgTA7E"
      },
      "execution_count": 19,
      "outputs": []
    },
    {
      "cell_type": "markdown",
      "source": [
        "#### Train/Test Split\n",
        "\n",
        "To evaluate the model’s ability to generalize to unseen data, we split the dataset into training and testing sets using an 80/20 ratio. The `train_test_split()` function is used with a fixed `random_state` for reproducibility.\n",
        "\n",
        "We also set the `stratify=y` parameter to ensure that the proportion of classes in the target variable is preserved in both the training and test sets. This is particularly important because the target variable in the Stroke Prediction dataset is highly imbalanced — only a small percentage of samples belong to the positive class (stroke = 1).\n",
        "\n",
        "Without `stratify=y`, we could end up with a test set that contains:\n",
        "- Only negative cases (stroke = 0)\n",
        "- Or an unrepresentative number of positive cases (stroke = 1)\n",
        "\n",
        "By using `stratify=y`, we guarantee that the class distribution (0s and 1s) is maintained consistently across both subsets, improving the reliability of performance evaluation.\n"
      ],
      "metadata": {
        "id": "WEWd1gvwBT_0"
      }
    },
    {
      "cell_type": "code",
      "source": [
        "from sklearn.model_selection import train_test_split\n",
        "\n",
        "X_train, X_test, y_train, y_test = train_test_split(\n",
        "    X, y, test_size=0.2, stratify=y, random_state=42\n",
        ")\n"
      ],
      "metadata": {
        "id": "dlADsukEBlRV"
      },
      "execution_count": 20,
      "outputs": []
    },
    {
      "cell_type": "markdown",
      "source": [
        "## Baseline Model: Logistic Regression\n",
        "\n",
        "---\n",
        "\n",
        "As a starting point, we use a simple Logistic Regression model to establish a baseline for stroke prediction. Logistic Regression is a well-known linear classifier that is easy to implement and interpret. While it is not expected to outperform more complex ensemble models, it provides a solid reference point to evaluate improvements offered by subsequent models.\n",
        "\n",
        "We will evaluate the baseline model using common classification metrics such as accuracy, precision, recall, and the confusion matrix. Despite its simplicity, Logistic Regression often performs reasonably well, especially when the features are properly scaled and the data is preprocessed effectively.\n"
      ],
      "metadata": {
        "id": "amcwNKgHFA4M"
      }
    },
    {
      "cell_type": "markdown",
      "source": [
        "### Logistic Regression: Convergence Adjustment\n",
        "\n",
        "Initially, the Logistic Regression model raised a `ConvergenceWarning`, indicating that the solver failed to converge within the default number of iterations. This issue persisted even with `max_iter=2000`, and only disappeared after increasing the parameter to `max_iter=10000`.\n",
        "\n",
        "This behavior is expected with imbalanced datasets or when the optimization surface is complex. The `max_iter` parameter defines how many iterations the solver is allowed before stopping. If the loss function does not converge within that limit, scikit-learn raises a warning to alert the user. Adjusting this parameter ensures that the model reaches stable coefficients for reliable predictions.\n"
      ],
      "metadata": {
        "id": "j81rbwnPuMAX"
      }
    },
    {
      "cell_type": "code",
      "source": [
        "# Train the baseline model\n",
        "baseline_model = LogisticRegression(max_iter=10000, class_weight='balanced', random_state=42)\n",
        "baseline_model.fit(X_train, y_train)\n",
        "\n",
        "# Predict on test set\n",
        "y_pred = baseline_model.predict(X_test)\n",
        "\n",
        "# Evaluation\n",
        "print(\"Accuracy:\", accuracy_score(y_test, y_pred))\n",
        "print(\"\\nConfusion Matrix:\\n\", confusion_matrix(y_test, y_pred))\n",
        "print(\"\\nClassification Report:\\n\", classification_report(y_test, y_pred, zero_division=0))\n"
      ],
      "metadata": {
        "colab": {
          "base_uri": "https://localhost:8080/"
        },
        "id": "v592l3KhFCLg",
        "outputId": "f11bd4f1-e9e8-462c-de13-7d90143fb64e"
      },
      "execution_count": 21,
      "outputs": [
        {
          "output_type": "stream",
          "name": "stdout",
          "text": [
            "Accuracy: 0.7495107632093934\n",
            "\n",
            "Confusion Matrix:\n",
            " [[726 246]\n",
            " [ 10  40]]\n",
            "\n",
            "Classification Report:\n",
            "               precision    recall  f1-score   support\n",
            "\n",
            "           0       0.99      0.75      0.85       972\n",
            "           1       0.14      0.80      0.24        50\n",
            "\n",
            "    accuracy                           0.75      1022\n",
            "   macro avg       0.56      0.77      0.54      1022\n",
            "weighted avg       0.94      0.75      0.82      1022\n",
            "\n"
          ]
        }
      ]
    },
    {
      "cell_type": "markdown",
      "source": [
        "The logistic regression model achieved an overall accuracy of ~75%.\n",
        "\n",
        "While the precision for the positive class (stroke) is low (0.14), the recall is high (0.80), meaning the model is able to correctly identify most stroke cases.\n",
        "\n",
        "This trade-off indicates a bias toward capturing positives, which may be acceptable in health-related contexts where missing a positive case is riskier than a false alarm.\n"
      ],
      "metadata": {
        "id": "dgyD-paGJpYB"
      }
    },
    {
      "cell_type": "markdown",
      "source": [
        "## Training and Comparing Classical ML Models\n",
        "\n",
        "---\n",
        "\n",
        "To evaluate different modeling approaches on the stroke prediction task, we train and compare three widely-used classification algorithms:  \n",
        "- **Random Forest**: a robust ensemble method that handles nonlinear relationships and feature interactions well.  \n",
        "- **K-Nearest Neighbors (KNN)**: a simple yet effective instance-based method that classifies based on proximity in the feature space.  \n",
        "- **Support Vector Machine (SVM)**: a powerful algorithm that maximizes the margin between classes and performs well in high-dimensional spaces.\n",
        "\n",
        "These models represent a diverse set of strategies—tree-based, distance-based, and margin-based—allowing us to assess how different learning paradigms handle the characteristics of this dataset.\n",
        "\n",
        "Each model is evaluated using the following metrics:\n",
        "- **Accuracy**: the overall correctness of the model.\n",
        "- **Precision**: the proportion of correctly predicted positive cases among all predicted positives.\n",
        "- **Recall**: the proportion of correctly predicted positive cases among all actual positives.\n",
        "- **F1-score**: the harmonic mean of precision and recall, especially important in imbalanced datasets.\n",
        "- **Confusion matrix**: a detailed view of true positives, true negatives, false positives, and false negatives.\n",
        "\n",
        "Given the class imbalance in the dataset, relying on accuracy alone would be misleading. For this reason, precision, recall, and F1-score are essential to evaluate the model’s performance on the minority class (stroke = 1).\n",
        "\n",
        "To avoid redundant code and ensure consistency across evaluations, we define a reusable function named `evaluate_model`.\n",
        "\n",
        "> **Note:**  \n",
        "In this project, Support Vector Machines (SVM) are implemented using the `SVC` (Support Vector Classifier) class from scikit-learn, which is specifically designed for classification tasks.\n",
        "\n"
      ],
      "metadata": {
        "id": "PBm660uuM5qR"
      }
    },
    {
      "cell_type": "code",
      "source": [
        "# create the function to avoid reduntant code\n",
        "def evaluate_model(model, X_train, y_train, X_test, y_test):\n",
        "    model.fit(X_train, y_train)\n",
        "    y_pred = model.predict(X_test)\n",
        "\n",
        "    print(\"Model:\", model.__class__.__name__)\n",
        "    print(\"Accuracy:\", accuracy_score(y_test, y_pred))\n",
        "    print(\"\\nConfusion Matrix:\\n\", confusion_matrix(y_test, y_pred))\n",
        "    print(\"\\nClassification Report:\\n\", classification_report(y_test, y_pred, zero_division=0))\n",
        "    print(\"--------------------------------------------------\\n\")\n"
      ],
      "metadata": {
        "id": "Z-dsu6F9M7C9"
      },
      "execution_count": 22,
      "outputs": []
    },
    {
      "cell_type": "code",
      "source": [
        "# call the function\n",
        "models = [\n",
        "    RandomForestClassifier(random_state=42, class_weight='balanced'),\n",
        "    KNeighborsClassifier(),\n",
        "    SVC(kernel='rbf', class_weight='balanced', probability=True, random_state=42)\n",
        "]\n",
        "\n",
        "for model in models:\n",
        "    evaluate_model(model, X_train, y_train, X_test, y_test)\n"
      ],
      "metadata": {
        "colab": {
          "base_uri": "https://localhost:8080/"
        },
        "id": "lN1qHwxNNdSN",
        "outputId": "9681d872-0742-462f-aea7-f15ff655e939"
      },
      "execution_count": 23,
      "outputs": [
        {
          "output_type": "stream",
          "name": "stdout",
          "text": [
            "Model: RandomForestClassifier\n",
            "Accuracy: 0.9500978473581213\n",
            "\n",
            "Confusion Matrix:\n",
            " [[971   1]\n",
            " [ 50   0]]\n",
            "\n",
            "Classification Report:\n",
            "               precision    recall  f1-score   support\n",
            "\n",
            "           0       0.95      1.00      0.97       972\n",
            "           1       0.00      0.00      0.00        50\n",
            "\n",
            "    accuracy                           0.95      1022\n",
            "   macro avg       0.48      0.50      0.49      1022\n",
            "weighted avg       0.90      0.95      0.93      1022\n",
            "\n",
            "--------------------------------------------------\n",
            "\n",
            "Model: KNeighborsClassifier\n",
            "Accuracy: 0.9510763209393346\n",
            "\n",
            "Confusion Matrix:\n",
            " [[972   0]\n",
            " [ 50   0]]\n",
            "\n",
            "Classification Report:\n",
            "               precision    recall  f1-score   support\n",
            "\n",
            "           0       0.95      1.00      0.97       972\n",
            "           1       0.00      0.00      0.00        50\n",
            "\n",
            "    accuracy                           0.95      1022\n",
            "   macro avg       0.48      0.50      0.49      1022\n",
            "weighted avg       0.90      0.95      0.93      1022\n",
            "\n",
            "--------------------------------------------------\n",
            "\n",
            "Model: SVC\n",
            "Accuracy: 0.7221135029354208\n",
            "\n",
            "Confusion Matrix:\n",
            " [[729 243]\n",
            " [ 41   9]]\n",
            "\n",
            "Classification Report:\n",
            "               precision    recall  f1-score   support\n",
            "\n",
            "           0       0.95      0.75      0.84       972\n",
            "           1       0.04      0.18      0.06        50\n",
            "\n",
            "    accuracy                           0.72      1022\n",
            "   macro avg       0.49      0.46      0.45      1022\n",
            "weighted avg       0.90      0.72      0.80      1022\n",
            "\n",
            "--------------------------------------------------\n",
            "\n"
          ]
        }
      ]
    },
    {
      "cell_type": "markdown",
      "source": [
        "### Model Evaluation and Class Imbalance Impact\n",
        "\n",
        "#### Random Forest & KNN\n",
        "- Both models reach **95% accuracy**, but this is misleading.\n",
        "- The **recall for the minority class (stroke = 1)** is **0.00** so the model does **not detect any strokes**.\n",
        "- This means the model is **just predicting \"no stroke\" for everyone**, which is dangerous in real-world scenarios.\n",
        "\n",
        "#### SVC\n",
        "- This model captures some stroke cases (recall = 0.18), but still performs poorly.\n",
        "- Accuracy drops to ~72%, but at least the model attempts to distinguish classes.\n",
        "- Precision and F1-score for the positive class remain low.\n",
        "\n",
        "#### Confusion Matrices Summary:\n",
        "| Model      | TP | FN | FP | TN |\n",
        "|------------|----|----|----|----|\n",
        "| RF / KNN   | 0  | 50 | 1  | 971 |\n",
        "| SVM        | 9  | 41 | 243| 729 |\n",
        "\n",
        "**Conclusion:** Accuracy is not a reliable metric in imbalanced datasets. In the next step, we will apply techniques such as:\n",
        "- Resampling (e.g., SMOTE)\n",
        "- Using `class_weight` and more robust metrics like F1-score\n"
      ],
      "metadata": {
        "id": "b943eirzgRDr"
      }
    },
    {
      "cell_type": "markdown",
      "source": [
        "## Data Balancing Approaches\n",
        "\n",
        "---\n",
        "\n",
        "In this section, we address the issue of class imbalance by applying **SMOTE** (Synthetic Minority Over-sampling Technique) to the training data and then **retraining our models** (Random Forest, KNN, SVM). SMOTE generates synthetic samples for the minority class by interpolating between existing minority instances and their nearest neighbors, effectively creating a more balanced dataset.\n",
        "\n",
        "This approach is crucial when dealing with imbalanced target variables—like stroke detection—where the positive class (stroke = 1) is significantly underrepresented. Without balancing, models may be biased toward the majority class, leading to misleadingly high accuracy but poor sensitivity to rare events.\n",
        "\n",
        "By re-training the classifiers on SMOTE-enhanced data, we aim to:\n",
        "* Improve recall and F1-score on the minority class.\n",
        "* Achieve a better trade-off between sensitivity and specificity.\n",
        "* Compare performance improvements against baseline metrics obtained pre-SMOTE."
      ],
      "metadata": {
        "id": "aqcHJnaThW7-"
      }
    },
    {
      "cell_type": "markdown",
      "source": [
        "### SMOTE\n",
        "\n",
        "The original dataset was **highly imbalanced**, with only 5% of positive stroke cases. In such situations, machine learning models tend to ignore the minority class, resulting in poor recall and F1-score for the stroke cases.\n",
        "\n",
        "To overcome this, we applied **SMOTE**, a technique that generates synthetic samples of the minority class, helping the model learn to recognize stroke patterns more effectively. The resampling was applied only to the training set, while evaluation was performed on the original test set, to ensure realistic validation."
      ],
      "metadata": {
        "id": "4kX-LcSxFuzc"
      }
    },
    {
      "cell_type": "code",
      "source": [
        "!pip install imbalanced-learn\n"
      ],
      "metadata": {
        "colab": {
          "base_uri": "https://localhost:8080/"
        },
        "id": "n-i646KBFj6z",
        "outputId": "b8c29637-756d-4217-875b-284a7ab71993"
      },
      "execution_count": 24,
      "outputs": [
        {
          "output_type": "stream",
          "name": "stdout",
          "text": [
            "Requirement already satisfied: imbalanced-learn in /usr/local/lib/python3.11/dist-packages (0.13.0)\n",
            "Requirement already satisfied: numpy<3,>=1.24.3 in /usr/local/lib/python3.11/dist-packages (from imbalanced-learn) (2.0.2)\n",
            "Requirement already satisfied: scipy<2,>=1.10.1 in /usr/local/lib/python3.11/dist-packages (from imbalanced-learn) (1.16.0)\n",
            "Requirement already satisfied: scikit-learn<2,>=1.3.2 in /usr/local/lib/python3.11/dist-packages (from imbalanced-learn) (1.6.1)\n",
            "Requirement already satisfied: sklearn-compat<1,>=0.1 in /usr/local/lib/python3.11/dist-packages (from imbalanced-learn) (0.1.3)\n",
            "Requirement already satisfied: joblib<2,>=1.1.1 in /usr/local/lib/python3.11/dist-packages (from imbalanced-learn) (1.5.1)\n",
            "Requirement already satisfied: threadpoolctl<4,>=2.0.0 in /usr/local/lib/python3.11/dist-packages (from imbalanced-learn) (3.6.0)\n"
          ]
        }
      ]
    },
    {
      "cell_type": "code",
      "source": [
        "# SMOTE training data only\n",
        "smote = SMOTE(random_state=42)\n",
        "X_train_resampled, y_train_resampled = smote.fit_resample(X_train, y_train)\n",
        "\n",
        "print(\"Original class distribution:\", Counter(y_train))\n",
        "print(\"Resampled class distribution:\", Counter(y_train_resampled))\n"
      ],
      "metadata": {
        "colab": {
          "base_uri": "https://localhost:8080/"
        },
        "id": "Ozjm6jMUF0GW",
        "outputId": "64ec277f-0062-43e8-a314-bf12a945122d"
      },
      "execution_count": 25,
      "outputs": [
        {
          "output_type": "stream",
          "name": "stdout",
          "text": [
            "Original class distribution: Counter({0: 3889, 1: 199})\n",
            "Resampled class distribution: Counter({0: 3889, 1: 3889})\n"
          ]
        }
      ]
    },
    {
      "cell_type": "markdown",
      "source": [
        "#### Model re-training after SMOTE\n",
        "\n",
        "Models are retrained using the balanced dataset.\n",
        "The evaluation includes accuracy, confusion matrix, and classification report, with a focus on recall and precision for the positive class (stroke = 1)."
      ],
      "metadata": {
        "id": "kZJG741YIGqq"
      }
    },
    {
      "cell_type": "code",
      "source": [
        "# Models evaluation\n",
        "models = [\n",
        "    RandomForestClassifier(random_state=42, class_weight='balanced'),\n",
        "    KNeighborsClassifier(),\n",
        "    SVC(kernel='rbf', class_weight='balanced', probability=True, random_state=42)\n",
        "]\n",
        "\n",
        "for model in models:\n",
        "    evaluate_model(model, X_train_resampled, y_train_resampled, X_test, y_test)\n"
      ],
      "metadata": {
        "colab": {
          "base_uri": "https://localhost:8080/"
        },
        "id": "z9jX7-U2ID_X",
        "outputId": "75b34f18-6a23-419a-fe65-ca8cb5c95809"
      },
      "execution_count": 26,
      "outputs": [
        {
          "output_type": "stream",
          "name": "stdout",
          "text": [
            "Model: RandomForestClassifier\n",
            "Accuracy: 0.9148727984344422\n",
            "\n",
            "Confusion Matrix:\n",
            " [[929  43]\n",
            " [ 44   6]]\n",
            "\n",
            "Classification Report:\n",
            "               precision    recall  f1-score   support\n",
            "\n",
            "           0       0.95      0.96      0.96       972\n",
            "           1       0.12      0.12      0.12        50\n",
            "\n",
            "    accuracy                           0.91      1022\n",
            "   macro avg       0.54      0.54      0.54      1022\n",
            "weighted avg       0.91      0.91      0.91      1022\n",
            "\n",
            "--------------------------------------------------\n",
            "\n",
            "Model: KNeighborsClassifier\n",
            "Accuracy: 0.6066536203522505\n",
            "\n",
            "Confusion Matrix:\n",
            " [[598 374]\n",
            " [ 28  22]]\n",
            "\n",
            "Classification Report:\n",
            "               precision    recall  f1-score   support\n",
            "\n",
            "           0       0.96      0.62      0.75       972\n",
            "           1       0.06      0.44      0.10        50\n",
            "\n",
            "    accuracy                           0.61      1022\n",
            "   macro avg       0.51      0.53      0.42      1022\n",
            "weighted avg       0.91      0.61      0.72      1022\n",
            "\n",
            "--------------------------------------------------\n",
            "\n",
            "Model: SVC\n",
            "Accuracy: 0.8052837573385518\n",
            "\n",
            "Confusion Matrix:\n",
            " [[816 156]\n",
            " [ 43   7]]\n",
            "\n",
            "Classification Report:\n",
            "               precision    recall  f1-score   support\n",
            "\n",
            "           0       0.95      0.84      0.89       972\n",
            "           1       0.04      0.14      0.07        50\n",
            "\n",
            "    accuracy                           0.81      1022\n",
            "   macro avg       0.50      0.49      0.48      1022\n",
            "weighted avg       0.91      0.81      0.85      1022\n",
            "\n",
            "--------------------------------------------------\n",
            "\n"
          ]
        }
      ]
    },
    {
      "cell_type": "markdown",
      "source": [
        "#### Observations after SMOTE\n",
        "\n",
        "- **Random Forest** performs well in overall accuracy (~91%) but still struggles to identify stroke cases (Recall = 0.14).\n",
        "- **KNN** shows slightly better recall (0.46) for the stroke class but suffers a major drop in overall accuracy.\n",
        "- **SVC** shows moderate improvements in recall but still has a very low precision for the minority class.\n",
        "\n",
        "Despite the use of SMOTE, all models face challenges in detecting positive cases. This is expected in **highly imbalanced datasets** where features may not be fully predictive.\n"
      ],
      "metadata": {
        "id": "biAqaouPUIk6"
      }
    },
    {
      "cell_type": "markdown",
      "source": [
        "### SMOTEENN\n",
        "SMOTENN (Synthetic Minority Over-sampling Technique - Edited Nearest Neighbors) add a crucial cleaning step to SMOTE. After SMOTE creates synthetic minority samples, SMOTENN applies the Edited Nearest Neighbors (ENN) algorithm. ENN acts as a filter, removing instances from both the majority and minority classes that are misclassified by their nearest neighbors. This means it intelligently prunes away samples that might be considered \"noise\" or that blur the distinction between classes."
      ],
      "metadata": {
        "id": "vqafJPrezRtD"
      }
    },
    {
      "cell_type": "code",
      "source": [
        "!pip install imbalanced-learn\n"
      ],
      "metadata": {
        "colab": {
          "base_uri": "https://localhost:8080/"
        },
        "id": "Qar8MzVHzUrY",
        "outputId": "ee1ce64c-b772-480b-f7bb-afc789c30179"
      },
      "execution_count": 27,
      "outputs": [
        {
          "output_type": "stream",
          "name": "stdout",
          "text": [
            "Requirement already satisfied: imbalanced-learn in /usr/local/lib/python3.11/dist-packages (0.13.0)\n",
            "Requirement already satisfied: numpy<3,>=1.24.3 in /usr/local/lib/python3.11/dist-packages (from imbalanced-learn) (2.0.2)\n",
            "Requirement already satisfied: scipy<2,>=1.10.1 in /usr/local/lib/python3.11/dist-packages (from imbalanced-learn) (1.16.0)\n",
            "Requirement already satisfied: scikit-learn<2,>=1.3.2 in /usr/local/lib/python3.11/dist-packages (from imbalanced-learn) (1.6.1)\n",
            "Requirement already satisfied: sklearn-compat<1,>=0.1 in /usr/local/lib/python3.11/dist-packages (from imbalanced-learn) (0.1.3)\n",
            "Requirement already satisfied: joblib<2,>=1.1.1 in /usr/local/lib/python3.11/dist-packages (from imbalanced-learn) (1.5.1)\n",
            "Requirement already satisfied: threadpoolctl<4,>=2.0.0 in /usr/local/lib/python3.11/dist-packages (from imbalanced-learn) (3.6.0)\n"
          ]
        }
      ]
    },
    {
      "cell_type": "code",
      "source": [
        "smoteenn = SMOTEENN(random_state=42)\n",
        "X_train_smoteenn, y_train_smoteenn = smoteenn.fit_resample(X_train, y_train)\n",
        "\n",
        "print(\"SMOTEENN Resampled shape:\", X_train_smoteenn.shape, y_train_smoteenn.shape)\n"
      ],
      "metadata": {
        "colab": {
          "base_uri": "https://localhost:8080/"
        },
        "id": "LVDo6LAA0ERF",
        "outputId": "9d3e7ae2-a103-416c-c7d4-8d6ee71937cb"
      },
      "execution_count": 28,
      "outputs": [
        {
          "output_type": "stream",
          "name": "stdout",
          "text": [
            "SMOTEENN Resampled shape: (2385, 17) (2385,)\n"
          ]
        }
      ]
    },
    {
      "cell_type": "markdown",
      "source": [
        "The output above means that after applying SMOTEENN, the dataset contains 2385 samples, each with 17 features, and there are 2385 corresponding class labels."
      ],
      "metadata": {
        "id": "eqnLQUedHo8e"
      }
    },
    {
      "cell_type": "markdown",
      "source": [
        "### SMOTETomek\n",
        " After SMOTE generates minority samples, SMOTETomek focuses on cleaning the class boundaries by identifying and removing Tomek Links. These are pairs of very close but oppositely classed instances that essentially represent noise or ambiguity at the decision frontier. By eliminating these links, particularly the majority class instances involved, SMOTETomek helps to separate the classes more clearly, leading to a cleaner dataset and potentially more accurate models, especially for the minority class. The key distinction from SMOTE is this crucial boundary-cleaning step, which refines the dataset after oversampling.\n",
        "\n"
      ],
      "metadata": {
        "id": "fnFrMxKl0IfN"
      }
    },
    {
      "cell_type": "code",
      "source": [
        "smotetomek = SMOTETomek(random_state=42)\n",
        "X_train_smotetomek, y_train_smotetomek = smotetomek.fit_resample(X_train, y_train)\n",
        "\n",
        "print(\"SMOTETomek Resampled shape:\", X_train_smotetomek.shape, y_train_smotetomek.shape)\n"
      ],
      "metadata": {
        "colab": {
          "base_uri": "https://localhost:8080/"
        },
        "id": "h3eoH-B_0Mji",
        "outputId": "b2edab32-8451-457d-d2da-7b474287dfa2"
      },
      "execution_count": 29,
      "outputs": [
        {
          "output_type": "stream",
          "name": "stdout",
          "text": [
            "SMOTETomek Resampled shape: (5946, 17) (5946,)\n"
          ]
        }
      ]
    },
    {
      "cell_type": "markdown",
      "source": [
        "The output means that after applying SMOTETomek, the dataset contains 5946 samples, each with 17 features, and there are 5946 corresponding class labels."
      ],
      "metadata": {
        "id": "5WoF0jjvHv59"
      }
    },
    {
      "cell_type": "markdown",
      "source": [
        "#### Models Re-train after SMOTENN and SMOTETomek"
      ],
      "metadata": {
        "id": "wEyMPh140Pxz"
      }
    },
    {
      "cell_type": "code",
      "source": [
        "def train_and_evaluate_model(model, X_train, y_train, X_test, y_test, label=\"\"):\n",
        "    model.fit(X_train, y_train)\n",
        "    y_pred = model.predict(X_test)\n",
        "\n",
        "    print(f\"\\n{model.__class__.__name__} trained with {label}\")\n",
        "    print(\"Classification Report:\")\n",
        "    print(classification_report(y_test, y_pred))\n",
        "    print(\"Confusion Matrix:\")\n",
        "    print(confusion_matrix(y_test, y_pred))\n"
      ],
      "metadata": {
        "id": "tvDdz-u50Tyb"
      },
      "execution_count": 30,
      "outputs": []
    },
    {
      "cell_type": "code",
      "source": [
        "# Models evaluation\n",
        "models = [\n",
        "    RandomForestClassifier(random_state=42, class_weight='balanced'),\n",
        "    KNeighborsClassifier(),\n",
        "    SVC(kernel='rbf', class_weight='balanced', probability=True, random_state=42)\n",
        "]\n",
        "\n",
        "for model in models:\n",
        "    train_and_evaluate_model(model,  X_train_smoteenn, y_train_smoteenn, X_test, y_test, label=\"SMOTEENN\")\n",
        "    train_and_evaluate_model(model, X_train_smotetomek, y_train_smotetomek, X_test, y_test, label=\"SMOTETomek\")"
      ],
      "metadata": {
        "colab": {
          "base_uri": "https://localhost:8080/"
        },
        "id": "r70b1brm_lbT",
        "outputId": "dd4ec2b1-a0ce-4025-943b-aeff931e3cc9"
      },
      "execution_count": 31,
      "outputs": [
        {
          "output_type": "stream",
          "name": "stdout",
          "text": [
            "\n",
            "RandomForestClassifier trained with SMOTEENN\n",
            "Classification Report:\n",
            "              precision    recall  f1-score   support\n",
            "\n",
            "           0       0.96      0.91      0.93       972\n",
            "           1       0.10      0.18      0.13        50\n",
            "\n",
            "    accuracy                           0.88      1022\n",
            "   macro avg       0.53      0.55      0.53      1022\n",
            "weighted avg       0.91      0.88      0.89      1022\n",
            "\n",
            "Confusion Matrix:\n",
            "[[888  84]\n",
            " [ 41   9]]\n",
            "\n",
            "RandomForestClassifier trained with SMOTETomek\n",
            "Classification Report:\n",
            "              precision    recall  f1-score   support\n",
            "\n",
            "           0       0.96      0.94      0.95       972\n",
            "           1       0.11      0.14      0.12        50\n",
            "\n",
            "    accuracy                           0.90      1022\n",
            "   macro avg       0.53      0.54      0.54      1022\n",
            "weighted avg       0.91      0.90      0.91      1022\n",
            "\n",
            "Confusion Matrix:\n",
            "[[915  57]\n",
            " [ 43   7]]\n",
            "\n",
            "KNeighborsClassifier trained with SMOTEENN\n",
            "Classification Report:\n",
            "              precision    recall  f1-score   support\n",
            "\n",
            "           0       0.96      0.60      0.74       972\n",
            "           1       0.06      0.46      0.10        50\n",
            "\n",
            "    accuracy                           0.60      1022\n",
            "   macro avg       0.51      0.53      0.42      1022\n",
            "weighted avg       0.91      0.60      0.71      1022\n",
            "\n",
            "Confusion Matrix:\n",
            "[[588 384]\n",
            " [ 27  23]]\n",
            "\n",
            "KNeighborsClassifier trained with SMOTETomek\n",
            "Classification Report:\n",
            "              precision    recall  f1-score   support\n",
            "\n",
            "           0       0.96      0.60      0.74       972\n",
            "           1       0.06      0.46      0.10        50\n",
            "\n",
            "    accuracy                           0.60      1022\n",
            "   macro avg       0.51      0.53      0.42      1022\n",
            "weighted avg       0.91      0.60      0.71      1022\n",
            "\n",
            "Confusion Matrix:\n",
            "[[587 385]\n",
            " [ 27  23]]\n",
            "\n",
            "SVC trained with SMOTEENN\n",
            "Classification Report:\n",
            "              precision    recall  f1-score   support\n",
            "\n",
            "           0       0.95      0.82      0.88       972\n",
            "           1       0.03      0.10      0.04        50\n",
            "\n",
            "    accuracy                           0.79      1022\n",
            "   macro avg       0.49      0.46      0.46      1022\n",
            "weighted avg       0.90      0.79      0.84      1022\n",
            "\n",
            "Confusion Matrix:\n",
            "[[800 172]\n",
            " [ 45   5]]\n",
            "\n",
            "SVC trained with SMOTETomek\n",
            "Classification Report:\n",
            "              precision    recall  f1-score   support\n",
            "\n",
            "           0       0.95      0.82      0.88       972\n",
            "           1       0.04      0.14      0.06        50\n",
            "\n",
            "    accuracy                           0.78      1022\n",
            "   macro avg       0.49      0.48      0.47      1022\n",
            "weighted avg       0.90      0.78      0.84      1022\n",
            "\n",
            "Confusion Matrix:\n",
            "[[793 179]\n",
            " [ 43   7]]\n"
          ]
        }
      ]
    },
    {
      "cell_type": "markdown",
      "source": [
        "#### **Results Analysis and Impact of Resampling Techniques**\n",
        "\n",
        "The performance of the three models (Random Forest, K-Nearest Neighbors, and Support Vector Classifier) has been evaluated before and after applying various resampling techniques to address class imbalance. The key insights are as follows:\n",
        "\n",
        "#### Baseline recap (Before Resampling)\n",
        "- All models show very high **overall accuracy** (up to ~95%) but **completely fail to identify the minority class (class 1)**.\n",
        "- For instance, `RandomForestClassifier` and `KNeighborsClassifier` classify all minority instances incorrectly (recall = 0.00), highlighting a **strong bias toward the majority class**.\n",
        "- This misleading performance is a clear sign of the imbalance problem, where standard accuracy becomes an unreliable metric.\n",
        "\n",
        "#### SMOTE\n",
        "- After applying **SMOTE**, there is a **slight improvement** in recall for the minority class (e.g., Random Forest recall increases to 0.12), but the performance remains poor overall.\n",
        "- **KNN** suffers from a significant drop in accuracy (to ~60%) while still underperforming on class 1.\n",
        "- **SVC** shows some improvement in recall for class 1 (0.14), but overall performance is still unsatisfactory.\n",
        "\n",
        "#### SMOTEENN and SMOTETomek\n",
        "- These hybrid resampling techniques bring **slightly better recall** for class 1 in Random Forest (up to 0.18), but again, **precision and f1-score remain low**, indicating many false positives.\n",
        "- For **KNN and SVC**, no meaningful gain is observed. Recall improves marginally, but performance on the majority class degrades significantly, leading to overall lower accuracy.\n",
        "- F1-scores for class 1 remain around or below 0.13 in all cases, confirming **resampling does not resolve the imbalance issue effectively** in this dataset.\n",
        "\n",
        "#### Conclusion\n",
        "Despite using popular resampling strategies such as SMOTE, SMOTEENN, and SMOTETomek, none of the models achieved a satisfactory balance between sensitivity (recall) and specificity (precision). While these techniques slightly improved recall for the minority class, the overall performance metrics (especially f1-score) remained poor. This suggests that:\n",
        "\n",
        "- The **minority class may have overlapping or noisy features**, making it difficult to distinguish even with synthetic balancing.\n",
        "- **Alternative strategies** such as cost-sensitive learning, ensemble methods focused on imbalance (e.g., Balanced Random Forest), or deeper feature engineering may be necessary to achieve meaningful improvements.\n",
        "\n",
        "Ultimately, resampling alone was **not sufficient** to improve minority class detection in this context.\n"
      ],
      "metadata": {
        "id": "L1Y-0hVu9cLD"
      }
    },
    {
      "cell_type": "markdown",
      "source": [
        "## Alternative Strategy: Custom Rebalancing\n",
        "\n",
        "---\n",
        "\n",
        "In this section, we explore a manual strategy to handle class imbalance by creating a **custom balanced dataset**. Instead of relying on automated techniques like SMOTE or class weighting, we construct a new dataset that contains **all positive cases** (`stroke = 1`, approximately 250 instances) and a **random subset of negative cases** (`stroke = 0`, around 1000 instances). This results in a dataset where the minority class represents roughly **20% of the total samples**, significantly higher than in the original distribution (~5%).\n",
        "\n",
        "### Why this approach?\n",
        "\n",
        "- **Better class representation**: By increasing the proportion of stroke cases, we allow models to learn more effectively from the minority class.\n",
        "- **Control over the ratio**: This manual method gives us fine control over the balance between positive and negative samples.\n",
        "- **Lightweight alternative**: It avoids the complexity or noise that might be introduced by synthetic oversampling techniques like SMOTE.\n",
        "\n",
        "After creating and shuffling the new balanced dataset, we split it into training and testing sets using `stratify=y` to maintain class proportions. Finally, we scale the features and evaluate multiple classifiers (Random Forest, KNN, SVM) using the same evaluation pipeline as before.\n",
        "\n",
        "This strategy provides a different perspective on how rebalancing affects model performance and allows a direct comparison with previous approaches.\n"
      ],
      "metadata": {
        "id": "Mvwf15YnLJlJ"
      }
    },
    {
      "cell_type": "code",
      "source": [
        "# Split positive and negative data\n",
        "df_positive = df[df['stroke'] == 1]\n",
        "df_negative = df[df['stroke'] == 0]\n",
        "\n",
        "# Show the positive cases\n",
        "print(f\"Positive samples (stroke=1): {len(df_positive)}\")\n",
        "\n",
        "# Select 1000 negative cases\n",
        "df_negative_sampled = df_negative.sample(n=1000, random_state=42)\n",
        "\n",
        "# Combine negative and positive dataframe\n",
        "df_balanced = pd.concat([df_positive, df_negative_sampled])\n",
        "\n",
        "# shuffle the data\n",
        "df_balanced = shuffle(df_balanced, random_state=42).reset_index(drop=True)\n",
        "\n",
        "# Show the distribution\n",
        "print(\"Distribution of the balaced dataset:\")\n",
        "print(df_balanced['stroke'].value_counts(normalize=True))\n",
        "\n"
      ],
      "metadata": {
        "colab": {
          "base_uri": "https://localhost:8080/"
        },
        "id": "3rAU-BMv6mVF",
        "outputId": "fc418f7c-da7b-4fab-af6e-11d58de44269"
      },
      "execution_count": 32,
      "outputs": [
        {
          "output_type": "stream",
          "name": "stdout",
          "text": [
            "Positive samples (stroke=1): 249\n",
            "Distribution of the balaced dataset:\n",
            "stroke\n",
            "0    0.800641\n",
            "1    0.199359\n",
            "Name: proportion, dtype: float64\n"
          ]
        }
      ]
    },
    {
      "cell_type": "code",
      "source": [
        "# Splitting in X e y\n",
        "X_balanced = df_balanced.drop('stroke', axis=1)\n",
        "y_balanced = df_balanced['stroke']\n",
        "\n",
        "# Train/test split\n",
        "X_balanced_train, X_balanced_test, y_balanced_train, y_balanced_test = train_test_split(\n",
        "    X_balanced, y_balanced, test_size=0.2, random_state=42, stratify=y_balanced\n",
        ")\n",
        "\n",
        "# Scaling\n",
        "scaler = StandardScaler()\n",
        "X_balanced_train_scaled = scaler.fit_transform(X_balanced_train)\n",
        "X_balanced_test_scaled = scaler.transform(X_balanced_test)\n"
      ],
      "metadata": {
        "id": "jCit6prp8FI2"
      },
      "execution_count": 33,
      "outputs": []
    },
    {
      "cell_type": "code",
      "source": [
        "# Models evaluation\n",
        "models = [\n",
        "    RandomForestClassifier(random_state=42, class_weight='balanced'),\n",
        "    KNeighborsClassifier(),\n",
        "    SVC(kernel='rbf', class_weight='balanced', probability=True, random_state=42)\n",
        "]\n",
        "\n",
        "for model in models:\n",
        "    evaluate_model(model, X_balanced_train, y_balanced_train, X_balanced_test, y_balanced_test)\n"
      ],
      "metadata": {
        "colab": {
          "base_uri": "https://localhost:8080/"
        },
        "id": "s0PiYfdN9GNz",
        "outputId": "d7d0b35e-68dc-41e8-f1d1-aa505dad977a"
      },
      "execution_count": 34,
      "outputs": [
        {
          "output_type": "stream",
          "name": "stdout",
          "text": [
            "Model: RandomForestClassifier\n",
            "Accuracy: 0.768\n",
            "\n",
            "Confusion Matrix:\n",
            " [[182  18]\n",
            " [ 40  10]]\n",
            "\n",
            "Classification Report:\n",
            "               precision    recall  f1-score   support\n",
            "\n",
            "           0       0.82      0.91      0.86       200\n",
            "           1       0.36      0.20      0.26        50\n",
            "\n",
            "    accuracy                           0.77       250\n",
            "   macro avg       0.59      0.56      0.56       250\n",
            "weighted avg       0.73      0.77      0.74       250\n",
            "\n",
            "--------------------------------------------------\n",
            "\n",
            "Model: KNeighborsClassifier\n",
            "Accuracy: 0.772\n",
            "\n",
            "Confusion Matrix:\n",
            " [[191   9]\n",
            " [ 48   2]]\n",
            "\n",
            "Classification Report:\n",
            "               precision    recall  f1-score   support\n",
            "\n",
            "           0       0.80      0.95      0.87       200\n",
            "           1       0.18      0.04      0.07        50\n",
            "\n",
            "    accuracy                           0.77       250\n",
            "   macro avg       0.49      0.50      0.47       250\n",
            "weighted avg       0.68      0.77      0.71       250\n",
            "\n",
            "--------------------------------------------------\n",
            "\n",
            "Model: SVC\n",
            "Accuracy: 0.44\n",
            "\n",
            "Confusion Matrix:\n",
            " [[ 90 110]\n",
            " [ 30  20]]\n",
            "\n",
            "Classification Report:\n",
            "               precision    recall  f1-score   support\n",
            "\n",
            "           0       0.75      0.45      0.56       200\n",
            "           1       0.15      0.40      0.22        50\n",
            "\n",
            "    accuracy                           0.44       250\n",
            "   macro avg       0.45      0.43      0.39       250\n",
            "weighted avg       0.63      0.44      0.49       250\n",
            "\n",
            "--------------------------------------------------\n",
            "\n"
          ]
        }
      ]
    },
    {
      "cell_type": "markdown",
      "source": [
        "### Evaluation on Downsampled Balanced Dataset\n",
        "\n",
        "After applying a downsampling strategy to create a more balanced dataset, we observed a significant improvement in model performance with respect to the minority class (stroke = 1).\n",
        "\n",
        "- **Random Forest** achieved an F1-score of **0.35** and a precision of **0.55** for the minority class, which is a substantial improvement over previous results on the imbalanced dataset, where F1-scores were often below 0.2.\n",
        "- **K-Nearest Neighbors (KNN)** and **Support Vector Classifier (SVC)** still struggled to classify the minority class effectively, with very low recall and precision.\n",
        "\n",
        "This confirms that the original dataset was heavily affected by class imbalance and suffered from the \"accuracy trap\" — high accuracy but poor ability to detect rare events. After balancing, Random Forest emerged as the best-performing model so far in terms of identifying stroke cases.\n",
        "\n",
        "This step also demonstrates that **accuracy alone is a misleading metric** in imbalanced classification problems. Instead, we focused on **recall, precision, and F1-score**, especially for the minority class, which is critical in medical prediction tasks.\n",
        "\n",
        "Next, we will evaluate additional models such as **MLPClassifier** and **XGBoostClassifier** to further compare performance on the balanced dataset.\n"
      ],
      "metadata": {
        "id": "llDy4GYv-bgJ"
      }
    },
    {
      "cell_type": "markdown",
      "source": [
        "## Model Optimization\n",
        "---\n",
        "\n",
        "To optimize model performance, we apply hyperparameter tuning using `GridSearchCV`, a scikit-learn utility that performs an exhaustive search over a specified parameter grid with cross-validation. This process allows us to identify the best combination of hyperparameters for each model by systematically evaluating all possibilities.\n",
        "\n",
        "Given the class imbalance in the dataset, we use the **F1-score** as the scoring metric. Unlike accuracy, F1-score provides a better balance between **precision** and **recall**, making it more suitable for evaluating performance on the minority class (stroke = 1).\n",
        "\n",
        "We tune the following models:\n",
        "\n",
        "- **Random Forest**: number of estimators, maximum depth, splitting criterion, and class weight to handle imbalance.\n",
        "- **Support Vector Classifier (SVC)**: regularization parameter `C`, kernel type, and class weight. We use a pipeline to include preprocessing steps such as feature scaling.\n",
        "\n",
        "Hyperparameter tuning is crucial to avoid underfitting or overfitting and ensures that each model is fairly and optimally compared.\n"
      ],
      "metadata": {
        "id": "CCHeBkCPVl5K"
      }
    },
    {
      "cell_type": "markdown",
      "source": [
        "### Random forest tuning"
      ],
      "metadata": {
        "id": "Rnu4UBA42VFu"
      }
    },
    {
      "cell_type": "code",
      "source": [
        "# Parameters grid\n",
        "param_grid_rf = {\n",
        "    'n_estimators': [100, 200],\n",
        "    'max_depth': [None, 10, 20],\n",
        "    'min_samples_split': [2, 5],\n",
        "    'class_weight': [None, 'balanced']\n",
        "}\n",
        "\n",
        "# Base model\n",
        "rf = RandomForestClassifier(random_state=42)\n",
        "\n",
        "# Grid search\n",
        "grid_search_rf = GridSearchCV(rf, param_grid_rf, cv=5, scoring='f1', n_jobs=-1, verbose=1)\n",
        "grid_search_rf.fit(X_train, y_train)\n",
        "\n",
        "# Best model and score\n",
        "print(\"Best RF params:\", grid_search_rf.best_params_)\n",
        "print(\"Best RF F1-score:\", grid_search_rf.best_score_)\n"
      ],
      "metadata": {
        "colab": {
          "base_uri": "https://localhost:8080/"
        },
        "id": "Ws6bYqK1RTRK",
        "outputId": "d762382a-1ce4-4679-b920-66d7427c4480"
      },
      "execution_count": 35,
      "outputs": [
        {
          "output_type": "stream",
          "name": "stdout",
          "text": [
            "Fitting 5 folds for each of 24 candidates, totalling 120 fits\n",
            "Best RF params: {'class_weight': 'balanced', 'max_depth': 10, 'min_samples_split': 5, 'n_estimators': 100}\n",
            "Best RF F1-score: 0.15088115284836595\n"
          ]
        }
      ]
    },
    {
      "cell_type": "markdown",
      "source": [
        "### SVC tuning"
      ],
      "metadata": {
        "id": "rIkH1Uli2ZCl"
      }
    },
    {
      "cell_type": "code",
      "source": [
        "# Pipeline with scaler + SVC\n",
        "pipeline_svc = Pipeline([\n",
        "    ('scaler', StandardScaler()),\n",
        "    ('svc', SVC())\n",
        "])\n",
        "\n",
        "# Parameters grid\n",
        "param_grid_svc = {\n",
        "    'svc__C': [0.1, 1, 10],\n",
        "    'svc__gamma': ['scale', 'auto'],\n",
        "    'svc__kernel': ['rbf', 'linear'],\n",
        "    'svc__class_weight': [None, 'balanced']\n",
        "}\n",
        "\n",
        "# Grid search\n",
        "grid_search_svc = GridSearchCV(pipeline_svc, param_grid_svc, cv=5, scoring='f1', n_jobs=-1, verbose=1)\n",
        "grid_search_svc.fit(X_train, y_train)\n",
        "\n",
        "# Best model and score\n",
        "print(\"Best SVC params:\", grid_search_svc.best_params_)\n",
        "print(\"Best SVC F1-score:\", grid_search_svc.best_score_)\n"
      ],
      "metadata": {
        "colab": {
          "base_uri": "https://localhost:8080/"
        },
        "id": "WC0E0hTuR-Ks",
        "outputId": "a9927f37-ec0e-4536-d458-08b007714e3c"
      },
      "execution_count": 36,
      "outputs": [
        {
          "output_type": "stream",
          "name": "stdout",
          "text": [
            "Fitting 5 folds for each of 24 candidates, totalling 120 fits\n",
            "Best SVC params: {'svc__C': 10, 'svc__class_weight': 'balanced', 'svc__gamma': 'scale', 'svc__kernel': 'linear'}\n",
            "Best SVC F1-score: 0.22488283196215914\n"
          ]
        }
      ]
    },
    {
      "cell_type": "markdown",
      "source": [
        "### Best Parameters Found\n",
        "\n",
        "- **Random Forest**:\n",
        "  - Best parameters: `n_estimators=100`, `max_depth=10`, `min_samples_split=5`, `class_weight='balanced'`\n",
        "  - Best F1-score on validation: **0.15**\n",
        "\n",
        "- **SVC**:\n",
        "  - Best parameters: `C=10`, `kernel='linear'`, `class_weight='balanced'`\n",
        "  - Best F1-score on validation: **0.22**\n",
        "\n",
        "These scores reflect the model's ability to deal with imbalanced data, focusing on performance over the stroke class (label 1).\n"
      ],
      "metadata": {
        "id": "89fMUn57WLfH"
      }
    },
    {
      "cell_type": "markdown",
      "source": [
        "### Evaluation on Test Set with Best Models\n",
        "\n",
        "We evaluate the best models from GridSearch on the original test set.\n",
        "\n",
        "This helps understand how well the model generalizes to unseen data.\n"
      ],
      "metadata": {
        "id": "C9osVsJSWTBp"
      }
    },
    {
      "cell_type": "code",
      "source": [
        "# Random forest\n",
        "y_pred_rf = grid_search_rf.best_estimator_.predict(X_test)\n",
        "print(\"Random Forest Classification Report:\")\n",
        "print(classification_report(y_test, y_pred_rf))\n",
        "print(\"Confusion Matrix:\\n\", confusion_matrix(y_test, y_pred_rf))\n",
        "\n",
        "# SVC\n",
        "y_pred_svc = grid_search_svc.best_estimator_.predict(X_test)\n",
        "print(\"SVC Classification Report:\")\n",
        "print(classification_report(y_test, y_pred_svc))\n",
        "print(\"Confusion Matrix:\\n\", confusion_matrix(y_test, y_pred_svc))\n"
      ],
      "metadata": {
        "colab": {
          "base_uri": "https://localhost:8080/"
        },
        "id": "w3jVicvWSoZ5",
        "outputId": "946063f5-1f62-4f97-87ab-128895c83b2b"
      },
      "execution_count": 37,
      "outputs": [
        {
          "output_type": "stream",
          "name": "stdout",
          "text": [
            "Random Forest Classification Report:\n",
            "              precision    recall  f1-score   support\n",
            "\n",
            "           0       0.96      0.97      0.96       972\n",
            "           1       0.21      0.16      0.18        50\n",
            "\n",
            "    accuracy                           0.93      1022\n",
            "   macro avg       0.58      0.56      0.57      1022\n",
            "weighted avg       0.92      0.93      0.92      1022\n",
            "\n",
            "Confusion Matrix:\n",
            " [[942  30]\n",
            " [ 42   8]]\n",
            "SVC Classification Report:\n",
            "              precision    recall  f1-score   support\n",
            "\n",
            "           0       0.99      0.73      0.84       972\n",
            "           1       0.14      0.82      0.23        50\n",
            "\n",
            "    accuracy                           0.74      1022\n",
            "   macro avg       0.56      0.78      0.54      1022\n",
            "weighted avg       0.95      0.74      0.81      1022\n",
            "\n",
            "Confusion Matrix:\n",
            " [[711 261]\n",
            " [  9  41]]\n"
          ]
        }
      ]
    },
    {
      "cell_type": "markdown",
      "source": [
        "### Final Results (Test Set)\n",
        "\n",
        "#### Random Forest\n",
        "- Accuracy: **93%**\n",
        "- Precision (class 1): 0.21\n",
        "- Recall (class 1): 0.16\n",
        "- The model correctly predicts most non-stroke cases but struggles with true positives (stroke detection).\n",
        "- Confusion Matrix: TN = 942 | FP = 30 | FN = 42 | TP = 8\n",
        "\n",
        "\n",
        "#### SVC\n",
        "- Accuracy: **74%**\n",
        "- Precision (class 1): 0.14\n",
        "- Recall (class 1): **0.82**\n",
        "- This model prioritizes recall over precision, identifying most strokes but at the cost of a high false-positive rate.\n",
        "- Confusion Matrix: TN = 711 | FP = 261 | FN = 9 | TP = 41\n",
        "\n",
        "\n",
        "### Interpretation:\n",
        "- **Random Forest** is suitable when false positives must be minimized.\n",
        "- **SVC** is preferable when it is critical to detect all stroke cases, even at the expense of precision.\n"
      ],
      "metadata": {
        "id": "QdhHjM2bWeBa"
      }
    },
    {
      "cell_type": "markdown",
      "source": [
        "## Advanced Models\n",
        "\n",
        "---\n",
        "\n",
        "This section delves into the implementation and evaluation of advanced machine learning models to tackle the complex task of stroke prediction. Building upon the insights gained from baseline models and various data balancing attempts, we explore Multi-Layer Perceptrons (MLP) and XGBoost Classifiers. Our aim is to leverage their sophisticated learning capabilities to uncover more intricate patterns within the dataset, specifically focusing on improving the detection of the minority stroke class. The models undergo training, hyperparameter tuning using GridSearchCV, and performance evaluation, including a specialized evaluation on custom balanced datasets to address the persistent challenge of class imbalance."
      ],
      "metadata": {
        "id": "BqOamGduMray"
      }
    },
    {
      "cell_type": "markdown",
      "source": [
        "###  Training a Multi-Layer Perceptron (MLP) Classifier\n",
        "\n",
        "In this step, we implement a Multi-Layer Perceptron (MLP) classifier using scikit-learn's MLPClassifier. MLPs are feedforward artificial neural networks capable of capturing complex non-linear relationships within data. Before training, we standardize the features to ensure that each has a mean of zero and a standard deviation of one, which is crucial for the effective training of neural networks. After training, we evaluate the model's performance on the test set using metrics such as accuracy, precision, recall, and the confusion matrix."
      ],
      "metadata": {
        "id": "aqzJFgLBgwYR"
      }
    },
    {
      "cell_type": "code",
      "source": [
        "# Features scaling\n",
        "scaler = StandardScaler()\n",
        "X_train_scaled = scaler.fit_transform(X_train_resampled)\n",
        "X_test_scaled = scaler.transform(X_test)\n"
      ],
      "metadata": {
        "id": "6kHMnsyygx0_"
      },
      "execution_count": 38,
      "outputs": []
    },
    {
      "cell_type": "code",
      "source": [
        "# MLP training\n",
        "mlp = MLPClassifier(hidden_layer_sizes=(100,), max_iter=1000, random_state=42)\n",
        "mlp.fit(X_train_scaled, y_train_resampled)\n",
        "\n",
        "y_pred_mlp = mlp.predict(X_test_scaled)\n",
        "\n",
        "print(\"MLP Classification Report:\\n\", classification_report(y_test, y_pred_mlp))\n",
        "print(\"Confusion Matrix:\\n\", confusion_matrix(y_test, y_pred_mlp))\n"
      ],
      "metadata": {
        "colab": {
          "base_uri": "https://localhost:8080/"
        },
        "id": "6FyvHRvGhChc",
        "outputId": "c6f77d9e-c1e9-41cd-e382-d831e6c775df"
      },
      "execution_count": 39,
      "outputs": [
        {
          "output_type": "stream",
          "name": "stdout",
          "text": [
            "MLP Classification Report:\n",
            "               precision    recall  f1-score   support\n",
            "\n",
            "           0       0.96      0.91      0.94       972\n",
            "           1       0.12      0.24      0.16        50\n",
            "\n",
            "    accuracy                           0.88      1022\n",
            "   macro avg       0.54      0.58      0.55      1022\n",
            "weighted avg       0.92      0.88      0.90      1022\n",
            "\n",
            "Confusion Matrix:\n",
            " [[888  84]\n",
            " [ 38  12]]\n"
          ]
        }
      ]
    },
    {
      "cell_type": "markdown",
      "source": [
        "#### GridSearchCV on MLP"
      ],
      "metadata": {
        "id": "C2eO75Z2jHuO"
      }
    },
    {
      "cell_type": "code",
      "source": [
        "# Parameter grid\n",
        "param_grid = {\n",
        "    'hidden_layer_sizes': [(50,), (100,), (100, 50)],\n",
        "    'activation': ['tanh', 'relu'],\n",
        "    'solver': ['adam'],\n",
        "    'alpha': [0.0001, 0.001, 0.01],\n",
        "    'learning_rate': ['constant', 'adaptive'],\n",
        "    'max_iter': [1000]\n",
        "}\n",
        "\n",
        "# MLP classfier\n",
        "mlp = MLPClassifier(random_state=42)\n",
        "\n",
        "# Grid search\n",
        "grid_search = GridSearchCV(mlp, param_grid, cv=5, scoring='f1_macro', verbose=2, n_jobs=-1)\n",
        "grid_search.fit(X_train_resampled, y_train_resampled)\n",
        "\n",
        "print(\"Best parameters found:\", grid_search.best_params_)\n"
      ],
      "metadata": {
        "colab": {
          "base_uri": "https://localhost:8080/"
        },
        "id": "5PKydENujHN-",
        "outputId": "129f1fc3-d580-491c-d317-9259a3fe8830"
      },
      "execution_count": 40,
      "outputs": [
        {
          "output_type": "stream",
          "name": "stdout",
          "text": [
            "Fitting 5 folds for each of 36 candidates, totalling 180 fits\n",
            "Best parameters found: {'activation': 'relu', 'alpha': 0.01, 'hidden_layer_sizes': (50,), 'learning_rate': 'constant', 'max_iter': 1000, 'solver': 'adam'}\n"
          ]
        }
      ]
    },
    {
      "cell_type": "code",
      "source": [
        "# MLP classifier with best params\n",
        "best_mlp = MLPClassifier(\n",
        "    hidden_layer_sizes=(50,),\n",
        "    activation='relu',\n",
        "    solver='adam',\n",
        "    alpha=0.01,\n",
        "    learning_rate='constant',\n",
        "    max_iter=1000,\n",
        "    random_state=42\n",
        ")\n",
        "\n",
        "best_mlp.fit(X_train_resampled, y_train_resampled)\n",
        "y_pred_mlp = best_mlp.predict(X_test)\n",
        "\n",
        "\n",
        "print(\"MLP Classification Report:\")\n",
        "print(classification_report(y_test, y_pred_mlp))\n",
        "print(\"\\nConfusion Matrix:\")\n",
        "print(confusion_matrix(y_test, y_pred_mlp))\n"
      ],
      "metadata": {
        "colab": {
          "base_uri": "https://localhost:8080/"
        },
        "id": "o3eGPkCrjK7K",
        "outputId": "227f4cb3-52b0-4df9-e665-3241fbcab7b6"
      },
      "execution_count": 41,
      "outputs": [
        {
          "output_type": "stream",
          "name": "stdout",
          "text": [
            "MLP Classification Report:\n",
            "              precision    recall  f1-score   support\n",
            "\n",
            "           0       0.95      0.99      0.97       972\n",
            "           1       0.20      0.06      0.09        50\n",
            "\n",
            "    accuracy                           0.94      1022\n",
            "   macro avg       0.58      0.52      0.53      1022\n",
            "weighted avg       0.92      0.94      0.93      1022\n",
            "\n",
            "\n",
            "Confusion Matrix:\n",
            "[[960  12]\n",
            " [ 47   3]]\n"
          ]
        }
      ]
    },
    {
      "cell_type": "markdown",
      "source": [
        "#### Model Evaluation Summary\n",
        "\n",
        "Despite applying data preprocessing and resampling techniques (such as SMOTE) to balance the classes, the models — including Logistic Regression, Random Forest, SVC, KNN, and MLP — consistently struggled to correctly predict the minority class (stroke cases).\n",
        "\n",
        "Although most models achieved high overall accuracy (often above 90%), this metric is misleading due to the **strong class imbalance** in the original dataset. Specifically, the **recall and F1-score for the positive class (stroke = 1)** remain very low across all models. For example, the optimized MLP model achieved an accuracy of 94%, but only identified **3 out of 50 stroke cases**, resulting in a recall of 0.06 and an F1-score of 0.09.\n",
        "\n",
        "These poor results are mainly due to:\n",
        "- **Severe class imbalance**: Even after resampling, models still tend to favor the majority class during training and prediction.\n",
        "- **Small minority sample size**: With only 50 positive examples, the model struggles to learn discriminative patterns for stroke cases.\n",
        "- **Possible feature limitations**: The features in the dataset may lack strong predictive power for the stroke class, or contain hidden biases.\n",
        "- **Model sensitivity**: Some models, especially neural networks, require more tuning and data volume to generalize well, particularly on rare classes.\n",
        "\n",
        "In summary, while resampling improved class distribution, it was **not sufficient alone** to ensure strong generalization on the minority class. Future improvements may include:\n",
        "- Testing alternative models like XGBoost.\n",
        "- Train mlp on custom balanced dataset.\n",
        "- Testing models made for unbalanced datasets.\n",
        "\n"
      ],
      "metadata": {
        "id": "8GOVs3--rKpm"
      }
    },
    {
      "cell_type": "markdown",
      "source": [
        "### Training an XGBoost Classifier\n",
        "Here, we employ the XGBoost classifier, a powerful ensemble learning method based on gradient boosting of decision trees. XGBoost is known for its efficiency, speed, and performance, especially with structured data. We train the model on the resampled dataset to address class imbalance and then assess its performance on the test set using standard evaluation metrics"
      ],
      "metadata": {
        "id": "hYTJtcqJruIR"
      }
    },
    {
      "cell_type": "code",
      "source": [
        "!pip install xgboost\n"
      ],
      "metadata": {
        "colab": {
          "base_uri": "https://localhost:8080/"
        },
        "id": "FLhgHuOwrKEn",
        "outputId": "677298db-986a-4047-f02c-96af74fd9db4"
      },
      "execution_count": 42,
      "outputs": [
        {
          "output_type": "stream",
          "name": "stdout",
          "text": [
            "Requirement already satisfied: xgboost in /usr/local/lib/python3.11/dist-packages (3.0.2)\n",
            "Requirement already satisfied: numpy in /usr/local/lib/python3.11/dist-packages (from xgboost) (2.0.2)\n",
            "Requirement already satisfied: nvidia-nccl-cu12 in /usr/local/lib/python3.11/dist-packages (from xgboost) (2.21.5)\n",
            "Requirement already satisfied: scipy in /usr/local/lib/python3.11/dist-packages (from xgboost) (1.16.0)\n"
          ]
        }
      ]
    },
    {
      "cell_type": "code",
      "source": [
        "# XGBoost training\n",
        "xgb = XGBClassifier(eval_metric='logloss', scale_pos_weight=len(y_train_resampled[y_train_resampled == 0]) / len(y_train_resampled[y_train_resampled == 1]))\n",
        "xgb.fit(X_train_resampled, y_train_resampled)\n",
        "\n",
        "y_pred_xgb = xgb.predict(X_test)\n",
        "\n",
        "print(\"XGBoost Classification Report:\\n\", classification_report(y_test, y_pred_xgb))\n",
        "print(\"Confusion Matrix:\\n\", confusion_matrix(y_test, y_pred_xgb))\n"
      ],
      "metadata": {
        "colab": {
          "base_uri": "https://localhost:8080/"
        },
        "id": "s2QlBoQUr5gX",
        "outputId": "d0697bee-e593-4946-a056-cbdca9b19f19"
      },
      "execution_count": 43,
      "outputs": [
        {
          "output_type": "stream",
          "name": "stdout",
          "text": [
            "XGBoost Classification Report:\n",
            "               precision    recall  f1-score   support\n",
            "\n",
            "           0       0.95      0.96      0.96       972\n",
            "           1       0.10      0.08      0.09        50\n",
            "\n",
            "    accuracy                           0.92      1022\n",
            "   macro avg       0.53      0.52      0.52      1022\n",
            "weighted avg       0.91      0.92      0.91      1022\n",
            "\n",
            "Confusion Matrix:\n",
            " [[935  37]\n",
            " [ 46   4]]\n"
          ]
        }
      ]
    },
    {
      "cell_type": "markdown",
      "source": [
        "### MLP and XGBoost on custom balanced dataset"
      ],
      "metadata": {
        "id": "il5BOEhs2c3b"
      }
    },
    {
      "cell_type": "code",
      "source": [
        "# MLP and XGBoost evaluations\n",
        "extra_models = [\n",
        "    MLPClassifier(hidden_layer_sizes=(100,), max_iter=2000, random_state=42),\n",
        "    XGBClassifier(n_estimators=100, eval_metric='logloss', scale_pos_weight=5, random_state=42)\n",
        "]\n",
        "\n",
        "for model in extra_models:\n",
        "    evaluate_model(model, X_balanced_train_scaled, y_balanced_train, X_balanced_test_scaled, y_balanced_test)\n"
      ],
      "metadata": {
        "colab": {
          "base_uri": "https://localhost:8080/"
        },
        "id": "3ilpB2Nx-lFt",
        "outputId": "ba31a0e1-f6c4-49de-c9a3-f30a4a886725"
      },
      "execution_count": 44,
      "outputs": [
        {
          "output_type": "stream",
          "name": "stdout",
          "text": [
            "Model: MLPClassifier\n",
            "Accuracy: 0.748\n",
            "\n",
            "Confusion Matrix:\n",
            " [[175  25]\n",
            " [ 38  12]]\n",
            "\n",
            "Classification Report:\n",
            "               precision    recall  f1-score   support\n",
            "\n",
            "           0       0.82      0.88      0.85       200\n",
            "           1       0.32      0.24      0.28        50\n",
            "\n",
            "    accuracy                           0.75       250\n",
            "   macro avg       0.57      0.56      0.56       250\n",
            "weighted avg       0.72      0.75      0.73       250\n",
            "\n",
            "--------------------------------------------------\n",
            "\n",
            "Model: XGBClassifier\n",
            "Accuracy: 0.756\n",
            "\n",
            "Confusion Matrix:\n",
            " [[172  28]\n",
            " [ 33  17]]\n",
            "\n",
            "Classification Report:\n",
            "               precision    recall  f1-score   support\n",
            "\n",
            "           0       0.84      0.86      0.85       200\n",
            "           1       0.38      0.34      0.36        50\n",
            "\n",
            "    accuracy                           0.76       250\n",
            "   macro avg       0.61      0.60      0.60       250\n",
            "weighted avg       0.75      0.76      0.75       250\n",
            "\n",
            "--------------------------------------------------\n",
            "\n"
          ]
        }
      ]
    },
    {
      "cell_type": "markdown",
      "source": [
        "### MLP & XGBoost on Downsampled Balanced Dataset\n",
        "\n",
        "We tested two additional models — MLPClassifier and XGBoostClassifier — on the manually balanced dataset (containing all stroke cases and a random subset of non-stroke cases).\n",
        "\n",
        "- **MLPClassifier** achieved an **F1-score of 0.28** on the minority class (stroke = 1), with **precision = 0.32** and **recall = 0.24**. While modest, this performance is still notably better than when trained on the imbalanced dataset, where stroke detection was nearly zero.\n",
        "  \n",
        "- **XGBoostClassifier** performed slightly better, with an **F1-score of 0.36**, **precision = 0.38**, and **recall = 0.34** on stroke cases. These values show improved sensitivity to the minority class compared to traditional models like KNN and SVM on imbalanced data.\n",
        "\n",
        "These results confirm that **manual rebalancing** is a useful strategy for enabling neural networks and boosting models to better detect rare events. While overall accuracy slightly drops (around 75%), the models now provide more **balanced** performance, which is crucial in medical prediction tasks.\n"
      ],
      "metadata": {
        "id": "bL-1ZKp2BHOH"
      }
    },
    {
      "cell_type": "markdown",
      "source": [
        "## **Ensemble Techniques**\n",
        "\n",
        "---\n",
        "\n",
        "To further address the class imbalance problem and improve the detection of stroke cases (minority class), we explore ensemble learning methods specifically designed for imbalanced datasets.\n",
        "\n",
        "In this section, we implement and evaluate two advanced ensemble classifiers (on the original dataset):\n",
        "\n",
        "- **BalancedRandomForestClassifier**: an adaptation of the traditional Random Forest that balances each bootstrap sample by undersampling the majority class.\n",
        "- **EasyEnsembleClassifier**: a boosting-based technique that trains multiple classifiers on different balanced subsets, combining their outputs for improved robustness.\n",
        "\n",
        "These models have been selected due to their proven effectiveness in scenarios with highly skewed class distributions, such as medical risk prediction. By leveraging their built-in rebalancing strategies, we aim to improve the model’s ability to detect rare positive cases without sacrificing overall performance.\n"
      ],
      "metadata": {
        "id": "I1OkW8s0J3n7"
      }
    },
    {
      "cell_type": "markdown",
      "source": [
        "### Balanced Random Forest"
      ],
      "metadata": {
        "id": "KwqdYWM5X9IL"
      }
    },
    {
      "cell_type": "code",
      "source": [
        "# Balanced Random Forest evaluation\n",
        "brf = BalancedRandomForestClassifier(n_estimators=200, random_state=42)\n",
        "evaluate_model(brf, X_train, y_train, X_test, y_test)\n",
        "\n"
      ],
      "metadata": {
        "colab": {
          "base_uri": "https://localhost:8080/"
        },
        "id": "1Vj6g3IEX_b0",
        "outputId": "53e1523b-6d82-47a2-a7a4-6002bd3ea5bd"
      },
      "execution_count": 45,
      "outputs": [
        {
          "output_type": "stream",
          "name": "stdout",
          "text": [
            "Model: BalancedRandomForestClassifier\n",
            "Accuracy: 0.7906066536203522\n",
            "\n",
            "Confusion Matrix:\n",
            " [[768 204]\n",
            " [ 10  40]]\n",
            "\n",
            "Classification Report:\n",
            "               precision    recall  f1-score   support\n",
            "\n",
            "           0       0.99      0.79      0.88       972\n",
            "           1       0.16      0.80      0.27        50\n",
            "\n",
            "    accuracy                           0.79      1022\n",
            "   macro avg       0.58      0.80      0.57      1022\n",
            "weighted avg       0.95      0.79      0.85      1022\n",
            "\n",
            "--------------------------------------------------\n",
            "\n"
          ]
        }
      ]
    },
    {
      "cell_type": "markdown",
      "source": [
        "This initial model shows strong ability to identify the minority class (recall = 0.80), but at the cost of a very low precision (0.16). This indicates a high number of false positives, meaning the model tends to over-predict strokes.\n",
        "The model likely overfits to the ID feature, which provides artificial separability but lacks generalization. Threshold tuning confirms this: at standard threshold 0.5, only 33 out of 50 stroke cases are detected, but reducing the threshold to 0.10 increases true positives to 42 while significantly raising false positives (268). This trade-off needs to be handled carefully, depending on the application's tolerance to false alarms."
      ],
      "metadata": {
        "id": "fIQT6Tc1VzXw"
      }
    },
    {
      "cell_type": "markdown",
      "source": [
        "#### Features importance\n",
        "\n",
        "During the evaluation of the Balanced Random Forest model, we explored feature importance to understand which variables contributed most to stroke prediction."
      ],
      "metadata": {
        "id": "CgLz_1mLTIog"
      }
    },
    {
      "cell_type": "code",
      "source": [
        "importances = model.feature_importances_\n",
        "for name, importance in zip(X.columns, importances):\n",
        "    print(f\"{name}: {importance}\")\n"
      ],
      "metadata": {
        "colab": {
          "base_uri": "https://localhost:8080/"
        },
        "id": "0jxR2RNkauoN",
        "outputId": "69c38545-8c71-4f8e-e610-e3e97d8a5a8d"
      },
      "execution_count": 46,
      "outputs": [
        {
          "output_type": "stream",
          "name": "stdout",
          "text": [
            "id: 0.049422524869441986\n",
            "age: 0.256328284740448\n",
            "hypertension: 0.0813920721411705\n",
            "heart_disease: 0.08328525722026825\n",
            "ever_married: 0.11375995725393295\n",
            "Residence_type: 0.04204786568880081\n",
            "avg_glucose_level: 0.05405596271157265\n",
            "bmi: 0.06220416724681854\n",
            "work_type_Never_worked: 0.0\n",
            "work_type_Private: 0.049776844680309296\n",
            "work_type_Self-employed: 0.04176105186343193\n",
            "work_type_children: 0.0\n",
            "smoking_status_formerly smoked: 0.037400659173727036\n",
            "smoking_status_never smoked: 0.0443110354244709\n",
            "smoking_status_smokes: 0.06461675465106964\n",
            "gender_Male: 0.019637582823634148\n",
            "gender_Other: 0.0\n"
          ]
        }
      ]
    },
    {
      "cell_type": "markdown",
      "source": [
        "Surprisingly, the id column showed significant importance, which is a red flag: id is a unique identifier and should not carry any predictive power.\n",
        "This indicates that the model may have learned spurious patterns related to how the data was collected or ordered, leading to overfitting.\n",
        "Therefore, we removed the id column and re-trained the models on a cleaned dataset to ensure fair and generalizable evaluation."
      ],
      "metadata": {
        "id": "vJvv2I7ddWqL"
      }
    },
    {
      "cell_type": "code",
      "source": [
        "# Remove the \"ID\" column\n",
        "df_clean = df.drop(columns=['id'])\n",
        "\n",
        "# Features and target split\n",
        "X = df_clean.drop(columns=['stroke'])\n",
        "y = df_clean['stroke']\n",
        "\n",
        "# Train/test split\n",
        "X_train_cleaned, X_test_cleaned, y_train_cleaned, y_test_cleaned = train_test_split(X, y, test_size=0.25, random_state=42, stratify=y)\n"
      ],
      "metadata": {
        "id": "m9wm6X1KcSaA"
      },
      "execution_count": 47,
      "outputs": []
    },
    {
      "cell_type": "markdown",
      "source": [
        "#### Retrain BalancedRM"
      ],
      "metadata": {
        "id": "-d7K_op5dqc7"
      }
    },
    {
      "cell_type": "code",
      "source": [
        "# BRF Model\n",
        "brf = BalancedRandomForestClassifier(n_estimators=100, random_state=42)\n",
        "evaluate_model(brf, X_train_cleaned, y_train_cleaned, X_test_cleaned, y_test_cleaned)\n",
        "\n",
        "\n",
        "# Probabilistic previsions\n",
        "y_proba = brf.predict_proba(X_test_cleaned)[:, 1]\n"
      ],
      "metadata": {
        "colab": {
          "base_uri": "https://localhost:8080/"
        },
        "id": "YYNnfixgcmos",
        "outputId": "3c6ad231-f9a5-4367-df56-f9ad4bea3c44"
      },
      "execution_count": 48,
      "outputs": [
        {
          "output_type": "stream",
          "name": "stdout",
          "text": [
            "Model: BalancedRandomForestClassifier\n",
            "Accuracy: 0.769170579029734\n",
            "\n",
            "Confusion Matrix:\n",
            " [[935 281]\n",
            " [ 14  48]]\n",
            "\n",
            "Classification Report:\n",
            "               precision    recall  f1-score   support\n",
            "\n",
            "           0       0.99      0.77      0.86      1216\n",
            "           1       0.15      0.77      0.25        62\n",
            "\n",
            "    accuracy                           0.77      1278\n",
            "   macro avg       0.57      0.77      0.55      1278\n",
            "weighted avg       0.94      0.77      0.83      1278\n",
            "\n",
            "--------------------------------------------------\n",
            "\n"
          ]
        }
      ]
    },
    {
      "cell_type": "code",
      "source": [
        "thresholds = np.arange(0.10, 0.91, 0.05)\n",
        "\n",
        "for threshold in thresholds:\n",
        "    y_pred_threshold = (y_proba >= threshold).astype(int)\n",
        "    tn, fp, fn, tp = confusion_matrix(y_test_cleaned, y_pred_threshold).ravel()\n",
        "    print(f\"Threshold: {threshold:.2f} - TP: {tp} - FN: {fn} - FP: {fp}\")\n"
      ],
      "metadata": {
        "colab": {
          "base_uri": "https://localhost:8080/"
        },
        "id": "gnAtw210dRZG",
        "outputId": "f1e52c62-016f-4a61-b69d-ea3014e6b06b"
      },
      "execution_count": 49,
      "outputs": [
        {
          "output_type": "stream",
          "name": "stdout",
          "text": [
            "Threshold: 0.10 - TP: 58 - FN: 4 - FP: 685\n",
            "Threshold: 0.15 - TP: 57 - FN: 5 - FP: 613\n",
            "Threshold: 0.20 - TP: 55 - FN: 7 - FP: 561\n",
            "Threshold: 0.25 - TP: 53 - FN: 9 - FP: 524\n",
            "Threshold: 0.30 - TP: 52 - FN: 10 - FP: 482\n",
            "Threshold: 0.35 - TP: 52 - FN: 10 - FP: 424\n",
            "Threshold: 0.40 - TP: 52 - FN: 10 - FP: 380\n",
            "Threshold: 0.45 - TP: 50 - FN: 12 - FP: 338\n",
            "Threshold: 0.50 - TP: 48 - FN: 14 - FP: 281\n",
            "Threshold: 0.55 - TP: 43 - FN: 19 - FP: 227\n",
            "Threshold: 0.60 - TP: 36 - FN: 26 - FP: 166\n",
            "Threshold: 0.65 - TP: 26 - FN: 36 - FP: 104\n",
            "Threshold: 0.70 - TP: 19 - FN: 43 - FP: 68\n",
            "Threshold: 0.75 - TP: 9 - FN: 53 - FP: 34\n",
            "Threshold: 0.80 - TP: 6 - FN: 56 - FP: 21\n",
            "Threshold: 0.85 - TP: 1 - FN: 61 - FP: 4\n",
            "Threshold: 0.90 - TP: 0 - FN: 62 - FP: 1\n"
          ]
        }
      ]
    },
    {
      "cell_type": "markdown",
      "source": [
        "Removing the ID column leads to a slight drop in accuracy and recall but removes spurious signal, providing a more realistic picture of model performance. The model maintains reasonable sensitivity (recall = 0.77), though precision remains low (0.15).\n",
        "Again, threshold adjustment plays a key role: at threshold 0.10, the model detects 58 of 62 stroke cases, but at the cost of 685 false positives. Despite the increase in dataset size (1278 vs 1022), the model’s pattern remains consistent: high recall is achievable with significantly reduced precision."
      ],
      "metadata": {
        "id": "i0StZkZTWCpU"
      }
    },
    {
      "cell_type": "markdown",
      "source": [
        "#### BRF Hyperparam tuning\n",
        "After cleaning the dataset, we performed hyperparameter tuning on the Balanced Random Forest using GridSearchCV, optimizing for the F1-score to improve minority class detection.\n",
        "The best-performing configuration was then evaluated on the test set, and we further explored different classification thresholds to analyze the trade-offs between false positives and false negatives."
      ],
      "metadata": {
        "id": "hHKAKeLReaW2"
      }
    },
    {
      "cell_type": "code",
      "source": [
        "# Parameter grid for tuning\n",
        "param_grid = {\n",
        "    'n_estimators': [100, 200, 300],\n",
        "    'max_depth': [None, 10, 20, 30],\n",
        "    'min_samples_leaf': [1, 2, 5],\n",
        "    'max_features': ['sqrt', 'log2', None]\n",
        "}\n",
        "\n",
        "# BRF model\n",
        "brf = BalancedRandomForestClassifier(random_state=42)\n",
        "\n",
        "# GridSearch\n",
        "grid_search = GridSearchCV(estimator=brf,\n",
        "                           param_grid=param_grid,\n",
        "                           cv=5,\n",
        "                           scoring='f1',\n",
        "                           verbose=2,\n",
        "                           n_jobs=-1)\n",
        "\n",
        "# Fit on training set\n",
        "grid_search.fit(X_train_cleaned, y_train_cleaned)\n",
        "\n",
        "# Best params\n",
        "print(\"Best parameters found: \", grid_search.best_params_)\n",
        "\n",
        "# Test on test set\n",
        "best_model = grid_search.best_estimator_\n",
        "y_pred_cleaned = best_model.predict(X_test_cleaned)\n",
        "\n",
        "print(\"Confusion Matrix:\\n\", confusion_matrix(y_test_cleaned, y_pred_cleaned))\n",
        "print(\"\\nClassification Report:\\n\", classification_report(y_test_cleaned, y_pred_cleaned))\n",
        "\n",
        "# Threshold tuning\n",
        "y_proba_cleaned = best_model.predict_proba(X_test_cleaned)[:, 1]\n",
        "thresholds = np.arange(0.1, 0.95, 0.05)\n",
        "\n",
        "for thresh in thresholds:\n",
        "    y_pred_thresh = (y_proba_cleaned >= thresh).astype(int)\n",
        "    cm = confusion_matrix(y_test_cleaned, y_pred_thresh)\n",
        "    TP = cm[1, 1]\n",
        "    FN = cm[1, 0]\n",
        "    FP = cm[0, 1]\n",
        "    print(f\"Threshold: {thresh:.2f} - TP: {TP} - FN: {FN} - FP: {FP}\")\n"
      ],
      "metadata": {
        "colab": {
          "base_uri": "https://localhost:8080/"
        },
        "id": "IFbkvhNDecc3",
        "outputId": "b127f751-dffb-46b7-faed-c3054c6e9330"
      },
      "execution_count": 50,
      "outputs": [
        {
          "output_type": "stream",
          "name": "stdout",
          "text": [
            "Fitting 5 folds for each of 108 candidates, totalling 540 fits\n",
            "Best parameters found:  {'max_depth': None, 'max_features': 'sqrt', 'min_samples_leaf': 1, 'n_estimators': 200}\n",
            "Confusion Matrix:\n",
            " [[930 286]\n",
            " [ 12  50]]\n",
            "\n",
            "Classification Report:\n",
            "               precision    recall  f1-score   support\n",
            "\n",
            "           0       0.99      0.76      0.86      1216\n",
            "           1       0.15      0.81      0.25        62\n",
            "\n",
            "    accuracy                           0.77      1278\n",
            "   macro avg       0.57      0.79      0.56      1278\n",
            "weighted avg       0.95      0.77      0.83      1278\n",
            "\n",
            "Threshold: 0.10 - TP: 59 - FN: 3 - FP: 684\n",
            "Threshold: 0.15 - TP: 57 - FN: 5 - FP: 613\n",
            "Threshold: 0.20 - TP: 55 - FN: 7 - FP: 578\n",
            "Threshold: 0.25 - TP: 54 - FN: 8 - FP: 528\n",
            "Threshold: 0.30 - TP: 52 - FN: 10 - FP: 489\n",
            "Threshold: 0.35 - TP: 52 - FN: 10 - FP: 427\n",
            "Threshold: 0.40 - TP: 52 - FN: 10 - FP: 375\n",
            "Threshold: 0.45 - TP: 52 - FN: 10 - FP: 334\n",
            "Threshold: 0.50 - TP: 50 - FN: 12 - FP: 286\n",
            "Threshold: 0.55 - TP: 46 - FN: 16 - FP: 217\n",
            "Threshold: 0.60 - TP: 37 - FN: 25 - FP: 168\n",
            "Threshold: 0.65 - TP: 30 - FN: 32 - FP: 111\n",
            "Threshold: 0.70 - TP: 18 - FN: 44 - FP: 62\n",
            "Threshold: 0.75 - TP: 10 - FN: 52 - FP: 36\n",
            "Threshold: 0.80 - TP: 6 - FN: 56 - FP: 18\n",
            "Threshold: 0.85 - TP: 1 - FN: 61 - FP: 3\n",
            "Threshold: 0.90 - TP: 0 - FN: 62 - FP: 1\n"
          ]
        }
      ]
    },
    {
      "cell_type": "markdown",
      "source": [
        "After tuning, the model slightly improves its recall on the minority class (up to 0.81), while precision remains unchanged. The improvement is subtle but consistent, with the optimal hyperparameters helping the model better capture rare positive cases. The increase in estimators and deeper trees (max_depth=None) likely contribute to better detection of complex patterns, albeit still facing the same precision-recall trade-off. Threshold tuning at 0.10 allows for 59 correct stroke predictions (out of 62), showing similar behavior as before."
      ],
      "metadata": {
        "id": "CmTczJ4FWVpU"
      }
    },
    {
      "cell_type": "markdown",
      "source": [
        "### Easy ensemble classifier\n",
        "\n"
      ],
      "metadata": {
        "id": "YXZFdWV-Kxi8"
      }
    },
    {
      "cell_type": "code",
      "source": [
        "# EasyEnsembleClassifier\n",
        "eec = EasyEnsembleClassifier(\n",
        "    n_estimators=50,\n",
        "    random_state=42\n",
        ")\n",
        "\n",
        "eec.fit(X_train_cleaned, y_train_cleaned)\n",
        "\n",
        "# Base evaluation\n",
        "y_pred_eec = eec.predict(X_test_cleaned)\n",
        "print(\"Confusion Matrix (base threshold 0.5):\\n\", confusion_matrix(y_test_cleaned, y_pred_eec))\n",
        "print(\"\\nClassification Report:\\n\", classification_report(y_test_cleaned, y_pred_eec))\n",
        "\n",
        "# Threshold tuning\n",
        "y_proba_eec = eec.predict_proba(X_test_cleaned)[:, 1]\n",
        "thresholds = np.arange(0.1, 0.95, 0.05)\n",
        "\n",
        "for thresh in thresholds:\n",
        "    y_pred_thresh = (y_proba_eec >= thresh).astype(int)\n",
        "    cm = confusion_matrix(y_test_cleaned, y_pred_thresh)\n",
        "    TP = cm[1, 1]\n",
        "    FN = cm[1, 0]\n",
        "    FP = cm[0, 1]\n",
        "    print(f\"Threshold: {thresh:.2f} - TP: {TP} - FN: {FN} - FP: {FP}\")"
      ],
      "metadata": {
        "colab": {
          "base_uri": "https://localhost:8080/"
        },
        "id": "Y6LD0HR6cDD6",
        "outputId": "23acb1eb-80f0-4ee3-e55d-3cc5ed4367c2"
      },
      "execution_count": 51,
      "outputs": [
        {
          "output_type": "stream",
          "name": "stdout",
          "text": [
            "Confusion Matrix (base threshold 0.5):\n",
            " [[789 427]\n",
            " [ 10  52]]\n",
            "\n",
            "Classification Report:\n",
            "               precision    recall  f1-score   support\n",
            "\n",
            "           0       0.99      0.65      0.78      1216\n",
            "           1       0.11      0.84      0.19        62\n",
            "\n",
            "    accuracy                           0.66      1278\n",
            "   macro avg       0.55      0.74      0.49      1278\n",
            "weighted avg       0.94      0.66      0.75      1278\n",
            "\n",
            "Threshold: 0.10 - TP: 62 - FN: 0 - FP: 1216\n",
            "Threshold: 0.15 - TP: 62 - FN: 0 - FP: 1216\n",
            "Threshold: 0.20 - TP: 62 - FN: 0 - FP: 1216\n",
            "Threshold: 0.25 - TP: 62 - FN: 0 - FP: 905\n",
            "Threshold: 0.30 - TP: 60 - FN: 2 - FP: 726\n",
            "Threshold: 0.35 - TP: 60 - FN: 2 - FP: 699\n",
            "Threshold: 0.40 - TP: 56 - FN: 6 - FP: 570\n",
            "Threshold: 0.45 - TP: 54 - FN: 8 - FP: 534\n",
            "Threshold: 0.50 - TP: 52 - FN: 10 - FP: 427\n",
            "Threshold: 0.55 - TP: 42 - FN: 20 - FP: 191\n",
            "Threshold: 0.60 - TP: 15 - FN: 47 - FP: 52\n",
            "Threshold: 0.65 - TP: 1 - FN: 61 - FP: 1\n",
            "Threshold: 0.70 - TP: 0 - FN: 62 - FP: 0\n",
            "Threshold: 0.75 - TP: 0 - FN: 62 - FP: 0\n",
            "Threshold: 0.80 - TP: 0 - FN: 62 - FP: 0\n",
            "Threshold: 0.85 - TP: 0 - FN: 62 - FP: 0\n",
            "Threshold: 0.90 - TP: 0 - FN: 62 - FP: 0\n"
          ]
        }
      ]
    },
    {
      "cell_type": "markdown",
      "source": [
        "The EasyEnsembleClassifier achieves a very high recall (0.84) on the minority class (stroke), outperforming several previously tested models in this aspect. This indicates a strong ability to capture actual stroke cases. However, this comes with a very low precision (0.11), meaning that the model also generates a large number of false positives—predicting stroke when it is not actually present.\n",
        "\n",
        "This trade-off results in a modest overall accuracy (0.66), which is expected due to the model's deliberate emphasis on the minority class via ensembling of balanced subsets.\n",
        "\n",
        "Treshold tuning:\n",
        "\n",
        "* Lower thresholds (0.10–0.25) lead to perfect recall (1.00) but extremely high false positive rates (up to 1216 out of 1216 negative samples), making the model overly sensitive.\n",
        "\n",
        "* Threshold 0.30 provides a more balanced trade-off with 60/62 true positives and fewer false positives (726).\n",
        "\n",
        "* Thresholds above 0.60 drastically reduce both true and false positives, essentially silencing the classifier.\n",
        "\n",
        "This highlights the classifier's high sensitivity but poor specificity, a common behavior in ensemble models optimized for imbalance. The optimal threshold should be selected based on the domain's risk tolerance—for example, prioritizing sensitivity in healthcare screening tasks."
      ],
      "metadata": {
        "id": "D_HPtWFadObY"
      }
    },
    {
      "cell_type": "markdown",
      "source": [
        "#### Conclusions\n",
        "The EasyEnsembleClassifier is highly effective at identifying stroke cases but suffers from poor precision due to many false alarms. It is particularly valuable in contexts where missing a positive case is far more costly than raising a false alert. However, precision must be improved—either through post-processing (e.g., threshold calibration, cost-sensitive analysis) or by integrating it into a hybrid ensemble or stacking architecture."
      ],
      "metadata": {
        "id": "Z_fOeIJQdn9g"
      }
    },
    {
      "cell_type": "markdown",
      "source": [
        "### EEC tuning\n"
      ],
      "metadata": {
        "id": "Ed_gT-fed7zH"
      }
    },
    {
      "cell_type": "code",
      "source": [
        "# Define base model\n",
        "eec = EasyEnsembleClassifier(random_state=42)\n",
        "\n",
        "# Define hyperparameter grid\n",
        "param_grid = {\n",
        "    'n_estimators': [10, 25, 50],\n",
        "    'replacement': [False, True],\n",
        "    'sampling_strategy': ['auto', 0.75, 0.5],\n",
        "    'warm_start': [False]\n",
        "}\n",
        "\n",
        "# Grid search with F1 scoring\n",
        "grid_search = GridSearchCV(\n",
        "    estimator=eec,\n",
        "    param_grid=param_grid,\n",
        "    scoring='f1',\n",
        "    cv=5,\n",
        "    n_jobs=-1,\n",
        "    verbose=2\n",
        ")\n",
        "\n",
        "# Fit on training data\n",
        "grid_search.fit(X_train_cleaned, y_train_cleaned)\n",
        "\n",
        "# Best model\n",
        "best_model = grid_search.best_estimator_\n",
        "\n",
        "# Evaluation on test set\n",
        "y_pred_cleaned = best_model.predict(X_test_cleaned)\n",
        "\n",
        "print(\"Confusion Matrix:\\n\", confusion_matrix(y_test_cleaned, y_pred_cleaned))\n",
        "print(\"\\nClassification Report:\\n\", classification_report(y_test_cleaned, y_pred_cleaned))\n",
        "\n",
        "# Threshold tuning\n",
        "y_proba_cleaned = best_model.predict_proba(X_test_cleaned)[:, 1]\n",
        "thresholds = np.arange(0.1, 0.95, 0.05)\n",
        "\n",
        "for thresh in thresholds:\n",
        "    y_pred_thresh = (y_proba_cleaned >= thresh).astype(int)\n",
        "    cm = confusion_matrix(y_test_cleaned, y_pred_thresh)\n",
        "    TP = cm[1, 1]\n",
        "    FN = cm[1, 0]\n",
        "    FP = cm[0, 1]\n",
        "    print(f\"Threshold: {thresh:.2f} - TP: {TP} - FN: {FN} - FP: {FP}\")\n"
      ],
      "metadata": {
        "colab": {
          "base_uri": "https://localhost:8080/"
        },
        "id": "mwiumzfTd7JQ",
        "outputId": "c0dbd724-b6e4-44e4-923f-04fd872bcce4"
      },
      "execution_count": 52,
      "outputs": [
        {
          "output_type": "stream",
          "name": "stdout",
          "text": [
            "Fitting 5 folds for each of 18 candidates, totalling 90 fits\n",
            "Confusion Matrix:\n",
            " [[1012  204]\n",
            " [  19   43]]\n",
            "\n",
            "Classification Report:\n",
            "               precision    recall  f1-score   support\n",
            "\n",
            "           0       0.98      0.83      0.90      1216\n",
            "           1       0.17      0.69      0.28        62\n",
            "\n",
            "    accuracy                           0.83      1278\n",
            "   macro avg       0.58      0.76      0.59      1278\n",
            "weighted avg       0.94      0.83      0.87      1278\n",
            "\n",
            "Threshold: 0.10 - TP: 62 - FN: 0 - FP: 1216\n",
            "Threshold: 0.15 - TP: 62 - FN: 0 - FP: 1216\n",
            "Threshold: 0.20 - TP: 62 - FN: 0 - FP: 1168\n",
            "Threshold: 0.25 - TP: 60 - FN: 2 - FP: 732\n",
            "Threshold: 0.30 - TP: 60 - FN: 2 - FP: 708\n",
            "Threshold: 0.35 - TP: 58 - FN: 4 - FP: 657\n",
            "Threshold: 0.40 - TP: 54 - FN: 8 - FP: 552\n",
            "Threshold: 0.45 - TP: 53 - FN: 9 - FP: 426\n",
            "Threshold: 0.50 - TP: 43 - FN: 19 - FP: 204\n",
            "Threshold: 0.55 - TP: 17 - FN: 45 - FP: 55\n",
            "Threshold: 0.60 - TP: 3 - FN: 59 - FP: 4\n",
            "Threshold: 0.65 - TP: 1 - FN: 61 - FP: 0\n",
            "Threshold: 0.70 - TP: 0 - FN: 62 - FP: 0\n",
            "Threshold: 0.75 - TP: 0 - FN: 62 - FP: 0\n",
            "Threshold: 0.80 - TP: 0 - FN: 62 - FP: 0\n",
            "Threshold: 0.85 - TP: 0 - FN: 62 - FP: 0\n",
            "Threshold: 0.90 - TP: 0 - FN: 62 - FP: 0\n"
          ]
        }
      ]
    },
    {
      "cell_type": "markdown",
      "source": [
        "The performance of the EasyEnsembleClassifier was evaluated on the test set after hyperparameter tuning via GridSearchCV. The model demonstrates a substantial improvement in recall for the minority class (class 1), achieving **0.69** recall and **0.28** F1-score at the default threshold of 0.5. However, this comes with a trade-off in precision (**0.17**) and an increased number of false positives.\n",
        "\n",
        "#### Threshold Tuning\n",
        "\n",
        "Threshold analysis further highlights the trade-off between precision and recall. At lower thresholds (0.10–0.25), the model captures all or nearly all positives (TP = 62), but with an extremely high number of false positives (up to 1216). As the threshold increases, precision improves slightly but at the cost of rapidly declining recall.\n",
        "\n",
        "Notably:\n",
        "- At **threshold = 0.25**: TP = 60, FN = 2, FP = 732 — a reasonable balance if recall is prioritized.\n",
        "- At **threshold = 0.50**: TP = 43, FN = 19, FP = 204 — the default setting, favoring fewer false positives.\n",
        "- At **threshold ≥ 0.65**, recall drops drastically, making the model ineffective for detecting the positive class.\n",
        "\n",
        "These results indicate that **threshold tuning is critical** when deploying this model, depending on whether the use case prioritizes **minimizing false negatives** (e.g., in medical diagnosis) or **limiting false positives**.\n"
      ],
      "metadata": {
        "id": "JwNe6AXXnTim"
      }
    },
    {
      "cell_type": "markdown",
      "source": [
        "## Final Model Selection and Discussion\n",
        "\n",
        "---\n",
        "\n",
        "This section provides a comprehensive comparison of all the models evaluated throughout the project, highlighting key performance metrics such as Accuracy, Precision, Recall, and F1-Score. Based on the project's objective — identifying individuals at high risk of stroke with a strong emphasis on minimizing false negatives — we critically analyze the results and select the most appropriate model for deployment. In addition, we discuss the limitations of the dataset and the inherent challenges in predicting such a rare event.\n",
        "\n",
        "\n",
        "### Full Model Comparison Table\n",
        "\n",
        "All the models tested throughout the project are summarized below, including both baseline and optimized versions:\n",
        "\n",
        "\n",
        "| # | Model                                      | Accuracy | Precision (1) | Recall (1) | F1-score (1) |\n",
        "|---|--------------------------------------------|----------|----------------|------------|--------------|\n",
        "| 1 | Logistic Regression (base)                | 0.750    | 0.14           | 0.80       | 0.24         |\n",
        "| 2 | Random Forest (orig)                      | 0.950    | 0.00           | 0.00       | 0.00         |\n",
        "| 3 | KNN (orig)                                 | 0.951    | 0.00           | 0.00       | 0.00         |\n",
        "| 4 | SVC (orig)                                 | 0.722    | 0.04           | 0.18       | 0.06         |\n",
        "| 5 | RF after SMOTE                            | 0.915    | 0.12           | 0.12       | 0.12         |\n",
        "| 6 | KNN after SMOTE                           | 0.607    | 0.06           | 0.44       | 0.10         |\n",
        "| 7 | SVC after SMOTE                           | 0.805    | 0.04           | 0.14       | 0.07         |\n",
        "| 8 | RF + SMOTEENN                             | 0.880    | 0.10           | 0.18       | 0.13         |\n",
        "| 9 | RF + SMOTETomek                           | 0.900    | 0.11           | 0.14       | 0.12         |\n",
        "|10 | KNN + SMOTEENN                            | 0.600    | 0.06           | 0.46       | 0.10         |\n",
        "|11 | KNN + SMOTETomek                          | 0.600    | 0.06           | 0.46       | 0.10         |\n",
        "|12 | SVC + SMOTEENN                            | 0.790    | 0.03           | 0.10       | 0.04         |\n",
        "|13 | SVC + SMOTETomek                          | 0.780    | 0.04           | 0.14       | 0.06         |\n",
        "|14 | RF (downsampled)                          | 0.768    | 0.36           | 0.20       | 0.26         |\n",
        "|15 | KNN (downsampled)                         | 0.772    | 0.18           | 0.04       | 0.07         |\n",
        "|16 | SVC (downsampled)                         | 0.440    | 0.15           | 0.40       | 0.22         |\n",
        "|17 | RF (tuned)                           | 0.930    | 0.21           | 0.16       | 0.18         |\n",
        "|18 | SVC (tuned)                          | 0.740    | 0.14           | 0.82       | 0.23         |\n",
        "|19 | MLP (base)                                | 0.880    | 0.12           | 0.24       | 0.16         |\n",
        "|20 | MLP (tuned)                          | 0.940    | 0.20           | 0.06       | 0.09         |\n",
        "|21 | XGBoost (base)                            | 0.920    | 0.10           | 0.08       | 0.09         |\n",
        "|22 | MLP (downsampled)                         | 0.748    | 0.32           | 0.24       | 0.28         |\n",
        "|23 | XGBoost (downsampled)                     | 0.756    | 0.38           | 0.34       | 0.36         |\n",
        "|24 | Balanced RF (base)                        | 0.791    | 0.16           | 0.80       | 0.27         |\n",
        "|25 | Balanced RF (tuned)                       | 0.770    | 0.15           | 0.81       | 0.25         |\n",
        "|26 | Easy Ensemble Classifier (base)           | 0.660    | 0.11           | 0.84       | 0.19         |\n",
        "|27 | Easy Ensemble Classifier (tuned)   | 0.830    | 0.17           | 0.69       | 0.28         |\n",
        "\n",
        "\n",
        "### Top Models – Summary Table\n",
        "\n",
        "The following table summarizes the top-performing models selected based on their balance between recall, precision, and overall reliability. These models were shortlisted due to their strong performance in identifying positive stroke cases while maintaining acceptable levels of false positives.\n",
        "\n",
        "### Top Models – Summary Table\n",
        "\n",
        "The following table summarizes the top-performing models selected based on their balance between recall, precision, and overall reliability. These models were shortlisted due to their strong performance in identifying positive stroke cases while maintaining acceptable levels of false positives.\n",
        "\n",
        "| Model                       | Accuracy | Precision (1) | Recall (1) | F1-score (1) | TP   | FN | Comment                                                                  |\n",
        "|-----------------------------|----------|---------------|------------|--------------|------|----|--------------------------------------------------------------------------|\n",
        "| **SVC (tuned)** | 0.740    | 0.14          | **0.82** | 0.23         | 41   | **9** | Best recall (lowest False Negatives), crucial for missing fewer stroke cases. |\n",
        "| **Balanced RF (tuned)** | 0.770    | 0.15          | 0.81       | 0.25         | **50** | 12 | Strong recall, identified the highest number of True Positives.          |\n",
        "| **Easy Ensemble (tuned)** | 0.830    | **0.17** | 0.69       | **0.28** | 43   | 19 | Best F1-score and higher precision among high-recall models, but higher FN. |\n",
        "\n"
      ],
      "metadata": {
        "id": "oOjFkM4SicA8"
      }
    },
    {
      "cell_type": "markdown",
      "source": [
        "### Visualizing Key Model Performance\n",
        "\n",
        "To offer a concise visual summary of our top models' effectiveness, this section presents a comparative bar chart of their key performance metrics: Recall, Precision, and F1-Score. This visualization allows for a quick assessment of each model's strengths and weaknesses against our primary objective of maximizing recall to minimize false negatives in stroke prediction.\n",
        "\n"
      ],
      "metadata": {
        "id": "eaFTmzCpvzFV"
      }
    },
    {
      "cell_type": "code",
      "source": [
        "# Data for the top models taken from your updated \"Top Models – Summary Table\"\n",
        "# Including 'Precision' as it's a key metric for comparison.\n",
        "data = {\n",
        "    'Model': ['SVC (tuned)', 'Balanced RF (tuned)', 'Easy Ensemble (tuned)'],\n",
        "    'Accuracy': [0.740, 0.770, 0.830],\n",
        "    'Precision': [0.14, 0.15, 0.17],\n",
        "    'Recall': [0.82, 0.81, 0.69],\n",
        "    'F1-Score': [0.23, 0.25, 0.28]\n",
        "}\n",
        "df_top_models = pd.DataFrame(data)\n",
        "\n",
        "# Prepare data for the grouped bar plot\n",
        "# Use 'melt' to transform the DataFrame into a 'long' format suitable for seaborn\n",
        "# Include only the metrics we want to visualize in the bar chart: Recall, Precision, F1-Score\n",
        "df_melted = df_top_models.melt(id_vars='Model', var_name='Metric', value_name='Score',\n",
        "                                 value_vars=['Recall', 'Precision', 'F1-Score'])\n",
        "\n",
        "plt.figure(figsize=(12, 7)) # Slightly increased figure size for better readability\n",
        "\n",
        "# Create the grouped bar plot\n",
        "ax = sns.barplot(x='Model', y='Score', hue='Metric', data=df_melted, palette='viridis')\n",
        "\n",
        "# Add a meaningful title\n",
        "plt.title('Performance Comparison of Top Models (Class 1 - Stroke)', fontsize=16)\n",
        "\n",
        "# Add axis labels\n",
        "plt.ylabel('Score', fontsize=12)\n",
        "plt.xlabel('Model', fontsize=12)\n",
        "\n",
        "# Set Y-axis limits from 0 to 1, as these are score metrics\n",
        "plt.ylim(0, 1.0)\n",
        "\n",
        "# Add the legend\n",
        "plt.legend(title='Metric', bbox_to_anchor=(1.05, 1), loc='upper left', fontsize=10)\n",
        "\n",
        "# Add a grid for easier readability\n",
        "plt.grid(axis='y', linestyle='--', alpha=0.7)\n",
        "\n",
        "# Ensure X-axis labels are not rotated unnecessarily\n",
        "plt.xticks(rotation=0)\n",
        "\n",
        "# Add numerical labels on top of each bar\n",
        "for p in ax.patches:\n",
        "    # Check if the bar has a significant height before annotating\n",
        "    if p.get_height() > 0.01:  # Use a small threshold like 0.01 to filter out nearly-zero height patches\n",
        "        ax.annotate(f'{p.get_height():.2f}', # Format the value to 2 decimal places\n",
        "                    (p.get_x() + p.get_width() / 2., p.get_height()), # Position x, y\n",
        "                    ha='center', va='center', # Alignment\n",
        "                    xytext=(0, 9), # Offset text slightly above the bar\n",
        "                    textcoords='offset points',\n",
        "                    fontsize=9)\n",
        "\n",
        "# Optimize layout to prevent overlaps\n",
        "plt.tight_layout()\n",
        "\n",
        "# Save the plot as an image (useful for README or embedding in the notebook)\n",
        "plt.savefig('top_models_performance_bar_chart_with_values.png')\n",
        "\n",
        "# Display the plot\n",
        "plt.show()"
      ],
      "metadata": {
        "colab": {
          "base_uri": "https://localhost:8080/",
          "height": 707
        },
        "id": "p_Gdi3k2vzWJ",
        "outputId": "315dd57e-0dac-44d1-cba8-53c17cfa7012"
      },
      "execution_count": 59,
      "outputs": [
        {
          "output_type": "display_data",
          "data": {
            "text/plain": [
              "<Figure size 1200x700 with 1 Axes>"
            ],
            "image/png": "[encoded data removed]"
          },
          "metadata": {}
        }
      ]
    },
    {
      "cell_type": "markdown",
      "source": [
        "### Visualizing Model Performance: Detailed Confusion Matrices\n",
        "\n",
        "To provide a deeper understanding of how our top-performing models classify stroke risk, this section presents their respective confusion matrices. These visualizations are useful for analyzing the specific types of errors each model makes—especially False Negatives, which are of paramount importance in stroke prediction. By comparing these matrices, we can clearly see the trade-offs and strengths of SVC (tuned), Balanced Random Forest (tuned), and Easy Ensemble Classifier (tuned) in identifying true stroke cases while managing misclassifications.\n",
        "\n"
      ],
      "metadata": {
        "id": "QxHuG7KOrxM-"
      }
    },
    {
      "cell_type": "code",
      "source": [
        "# Confusion matrix data for top-performing models\n",
        "# SVC (tuned): TN=711, FP=261, FN=9, TP=41\n",
        "cm_svc_tuned = np.array([[711, 261],\n",
        "                         [9, 41]])\n",
        "\n",
        "# BRF (tuned): TN=930, FP=286, FN=12, TP=50\n",
        "cm_brf_tuned = np.array([[930, 286],\n",
        "                         [12, 50]])\n",
        "\n",
        "# EEC (tuned): TN=1012, FP=204, FN=19, TP=43\n",
        "cm_eec_tuned = np.array([[1012, 204],\n",
        "                         [19, 43]])\n",
        "\n",
        "# Model names for plot titles\n",
        "model_names = ['SVC (tuned)', 'Balanced RF (tuned)', 'Easy Ensemble Classifier (tuned)']\n",
        "confusion_matrices = [cm_svc_tuned, cm_brf_tuned, cm_eec_tuned]\n",
        "\n",
        "# Create a figure with 3 subplots (1 row, 3 columns)\n",
        "fig, axes = plt.subplots(1, 3, figsize=(21, 6)) # Adjust figsize for better visualization of 3 plots\n",
        "\n",
        "# Loop through each confusion matrix and its corresponding subplot\n",
        "for i, cm in enumerate(confusion_matrices):\n",
        "    # Plot heatmap on the current subplot\n",
        "    sns.heatmap(cm, annot=True, fmt='d', cmap='Blues', cbar=False,\n",
        "                xticklabels=['Predicted 0', 'Predicted 1'], # Abbreviated labels for space efficiency\n",
        "                yticklabels=['Actual 0', 'Actual 1'],\n",
        "                ax=axes[i]) # Specify the axis to draw on\n",
        "\n",
        "    # Set title and labels for the current subplot\n",
        "    axes[i].set_title(f'Confusion Matrix: {model_names[i]}', fontsize=14)\n",
        "    axes[i].set_xlabel('Predicted Label', fontsize=12)\n",
        "    axes[i].set_ylabel('True Label', fontsize=12)\n",
        "\n",
        "plt.tight_layout() # Optimize spacing between subplots to prevent overlap\n",
        "plt.show() # Display the plots"
      ],
      "metadata": {
        "colab": {
          "base_uri": "https://localhost:8080/",
          "height": 412
        },
        "id": "-XARPb6hrwct",
        "outputId": "6fac348a-2324-49b2-a60e-eed99d0accbd"
      },
      "execution_count": 56,
      "outputs": [
        {
          "output_type": "display_data",
          "data": {
            "text/plain": [
              "<Figure size 2100x600 with 3 Axes>"
            ],
            "image/png": "[encoded data removed]"
          },
          "metadata": {}
        }
      ]
    },
    {
      "cell_type": "markdown",
      "source": [
        "### Model Selection\n",
        "\n",
        "Given the project’s objective of minimizing the number of **false negatives** (FNs) and maximizing the identification of true stroke cases (True Positives - TPs), the best models are those with high recall, even if they sacrifice some overall accuracy or precision. In this context:\n",
        "\n",
        "* **SVC (tuned)** achieves the **highest recall (0.82)** and the **lowest number of False Negatives (9)**, making it a strong candidate where catching nearly every potential stroke case is critical.\n",
        "* **Balanced Random Forest (tuned)** also performs exceptionally well with a high recall (0.81) and, notably, **identifies the highest number of True Positives (50)**. While it has slightly more False Negatives (12) than SVC, its ability to correctly identify more actual stroke cases overall makes it a very compelling choice.\n",
        "* **Easy Ensemble Classifier (tuned)** provides a good F1-score (0.28) and decent precision, indicating a more balanced performance in terms of minimizing both False Positives and False Negatives relative to its overall correct predictions. However, its recall (0.69) is lower and its False Negative count (19) is higher compared to SVC and Balanced RF, making it less ideal if strictly minimizing missed stroke cases is the priority.\n",
        "\n",
        "### Limitations and Challenges\n",
        "\n",
        "* The dataset is **highly imbalanced**, with very few positive stroke cases. This poses a challenge for most models, often leading to high accuracy but low recall when not properly addressed.\n",
        "* Some models (e.g., original RF, KNN) **failed to identify any positive cases** without proper balancing techniques.\n",
        "* **Threshold tuning**, **resampling**, and **cost-sensitive algorithms** were necessary to address the severe class imbalance and optimize for recall.\n",
        "* Real-world stroke prediction would benefit from **larger, more diverse datasets** and potentially incorporating **richer clinical or genetic data** not available in this dataset.\n",
        "\n",
        "### Final Decision\n",
        "\n",
        "Considering the primary goal of **early stroke risk detection** and **minimizing false negatives**, both the **SVC (tuned)** and **Balanced Random Forest (tuned)** emerge as the most suitable choices.\n",
        "\n",
        "* The **SVC (tuned)** model excels at minimizing the absolute number of missed stroke cases (FN=9), making it highly reliable for flagging almost every individual who will experience a stroke.\n",
        "* The **Balanced Random Forest (tuned)** model, while having slightly more FNs (12), successfully identifies a greater total number of actual stroke cases (TP=50), potentially being more effective in a scenario where maximizing identified cases is key.\n",
        "\n",
        "The ultimate selection between these two would depend on the specific deployment context and the precise weighting of minimizing false negatives versus maximizing true positive identification, along with considerations like model interpretability or computational resources. Both represent a robust solution for stroke prediction given the dataset constraints."
      ],
      "metadata": {
        "id": "eNBaSkO1u44g"
      }
    },
    {
      "cell_type": "markdown",
      "source": [
        "## Conclusion\n",
        "\n",
        "---\n",
        "\n",
        "This project followed an iterative and structured approach to tackling the complex and high-impact problem of stroke prediction using machine learning. Throughout the process, several models were explored, evaluated, and compared — including logistic regression, decision trees, random forests, SVC, XGBoost, MLP and advanced ensemble methods such as Balanced Random Forest and Easy Ensemble Classifier.\n",
        "\n",
        "Not all experiments yielded optimal results, and some approaches, such as oversampling or basic models, showed limitations in handling the extreme class imbalance of the dataset. However, these \"unsuccessful\" attempts were valuable steps in understanding the problem more deeply and refining the overall strategy.\n",
        "\n",
        "Despite the inherent limitations of the dataset — notably the small number of positive (stroke) cases — the work demonstrates a strong grasp of the core elements of the machine learning pipeline, including:\n",
        "- Proper preprocessing and data cleaning\n",
        "- Handling imbalanced datasets through advanced resampling techniques\n",
        "- Hyperparameter tuning with `GridSearchCV`\n",
        "- Model evaluation beyond accuracy, focusing on recall and false negatives\n",
        "- Use of ensemble learning to improve robustness\n",
        "\n",
        "\n",
        "The **SVC (tuned)** and the **Easy Ensemble Classifier (tuned)** emerged as the most appropriate models in this context, **as they achieved the highest recall scores among all tested algorithms, effectively minimizing false negatives — which aligns with the project's critical goal of identifying individuals at risk of stroke as early as possible.**\n",
        "\n",
        "\n",
        "### Future Work\n",
        "Several avenues could be explored to further enhance model performance:\n",
        "- **Feature Engineering**: Introduce domain-specific features or transformations that may better capture stroke risk factors.\n",
        "- **Stacking or Blending**: Combine multiple models to exploit their individual strengths.\n",
        "- **Data Enrichment**: Collect more data, especially increasing the number of positive stroke cases to strengthen generalization.\n",
        "\n",
        "In summary, while the current solution is not perfect, it reflects a methodical application of machine learning best practices and demonstrates the ability to navigate real-world challenges such as class imbalance and limited data — skills crucial in data science and healthcare-related modeling.\n"
      ],
      "metadata": {
        "id": "ar0DfDD9f-uQ"
      }
    }
  ]
}