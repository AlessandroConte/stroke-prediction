{
  "nbformat": 4,
  "nbformat_minor": 0,
  "metadata": {
    "colab": {
      "provenance": [],
      "authorship_tag": "ABX9TyP+Ozymm6EdBR3aD50IsTOD",
      "include_colab_link": true
    },
    "kernelspec": {
      "name": "python3",
      "display_name": "Python 3"
    },
    "language_info": {
      "name": "python"
    }
  },
  "cells": [
    {
      "cell_type": "markdown",
      "metadata": {
        "id": "view-in-github",
        "colab_type": "text"
      },
      "source": [
        "<a href=\"https://colab.research.google.com/github/AlessandroConte/stroke-prediction/blob/main/Stroke_Prediction_Final.ipynb\" target=\"_parent\"><img src=\"https://colab.research.google.com/assets/colab-badge.svg\" alt=\"Open In Colab\"/></a>"
      ]
    },
    {
      "cell_type": "markdown",
      "source": [
        "# Stroke Prediction using Machine Learning: A Predictive Modeling Project"
      ],
      "metadata": {
        "id": "BdjrdRsnZ-kt"
      }
    },
    {
      "cell_type": "markdown",
      "source": [
        "# Stroke Prediction using Machine Learning\n",
        "\n",
        "## Objective\n",
        "This project aims to develop a machine learning model capable of predicting the likelihood of a stroke occurrence in individuals, based on a variety of health-related features. The dataset includes various attributes such as age, gender, smoking habits, hypertension, heart disease, and other factors that might contribute to stroke risk.\n",
        "\n",
        "## Goal\n",
        "The primary goal is to build accurate and reliable predictive models that can identify high-risk individuals, enabling early intervention strategies to reduce the incidence of strokes. The focus is on **reducing false negatives**, as failing to identify individuals at risk for a stroke can have serious health consequences.\n",
        "\n",
        "## Approach\n",
        "\n",
        "Throughout this project, several machine learning models were tested:\n",
        "\n",
        "* **Initial Baseline Models**:\n",
        "  * Logistic Regression, Random Forest, K-Nearest Neighbors (KNN), and Support Vector Classifier (SVC) were trained on the original (imbalanced) dataset.\n",
        "  \n",
        "* **Performance Evaluation**:\n",
        "  * Accuracy, precision, recall, F1-score, and confusion matrix were used.\n",
        "  * Special focus was placed on **recall for the stroke class (stroke = 1)** to ensure minimal false negatives.\n",
        "\n",
        "* **Handling Class Imbalance**:\n",
        "  * Given the highly skewed class distribution, various sampling techniques were applied:\n",
        "    * **SMOTE** (Synthetic Minority Over-sampling Technique)\n",
        "    * **SMOTEENN** (SMOTE + Edited Nearest Neighbors)\n",
        "    * **SMOTETomek** (SMOTE + Tomek links)\n",
        "    * **Manual undersampling** to create a more balanced dataset while preserving data integrity.\n",
        "\n",
        "* **Model Retraining & Tuning**:\n",
        "  * After resampling, models were retrained and tuned using **GridSearchCV**.\n",
        "  * Algorithms such as Random Forest and SVC showed varied performance depending on the balancing method and metric focus.\n",
        "\n",
        "* **Advanced Models Evaluated**:\n",
        "  * **MLPClassifier** (Multi-Layer Perceptron - Neural Network)\n",
        "  * **XGBoostClassifier** (Extreme Gradient Boosting)\n",
        "  * Although computationally more intensive, these models were tested to compare performance under various resampling strategies.\n",
        "\n",
        "* **Ensemble & Cost-Sensitive Models**:\n",
        "  * In a final step, specialized models designed to handle imbalance were applied:\n",
        "    * **BalancedRandomForestClassifier**\n",
        "    * **EasyEnsembleClassifier**\n",
        "  * These models yielded the best performance in terms of **recall** for the minority class (stroke), even without external sampling techniques.\n",
        "\n",
        "## Process Overview\n",
        "\n",
        "1. **Data Cleaning & Preprocessing**\n",
        "   * Handled missing values (especially in BMI)\n",
        "   * Converted categorical features\n",
        "   * Created age bins to explore correlation with BMI for better imputation\n",
        "\n",
        "2. **Exploratory Data Analysis (EDA)**\n",
        "   * Plotted distributions and feature relationships\n",
        "   * Assessed class imbalance visually\n",
        "\n",
        "3. **Model Training & Evaluation**\n",
        "   * Baseline models vs tuned models\n",
        "   * Evaluation based on confusion matrix, precision, recall, and F1-score\n",
        "\n",
        "4. **Class Rebalancing Strategies**\n",
        "   * Oversampling, undersampling, hybrid methods\n",
        "   * Ensemble models with internal balancing mechanisms\n",
        "\n",
        "5. **Final Comparison**\n",
        "   * Focus on minimizing **false negatives**\n",
        "   * SVC, Balanced Random Forest, and Easy Ensemble emerged as most effective under this criterion\n",
        "\n",
        "## Key Learnings & Skills Demonstrated\n",
        "\n",
        "* End-to-end **data preprocessing** and feature engineering\n",
        "* Applying **various classification algorithms**\n",
        "* Addressing **imbalanced classification problems**\n",
        "* Conducting **model tuning** using GridSearchCV\n",
        "* Comparing baseline vs advanced ensemble methods\n",
        "* Interpreting results with emphasis on **real-world implications**\n",
        "* Communicating limitations and justifying modeling choices\n",
        "\n",
        "## Conclusion\n",
        "This project highlights the application of machine learning in healthcare, demonstrating the ability to handle imbalanced datasets and implement various techniques to optimize predictive models. Through model evaluation and iterative tuning, the project provides insights into building reliable models for high-stakes prediction tasks, such as stroke risk detection. This work contributes to my portfolio by showcasing my expertise in machine learning, data analysis, and problem-solving, and serves as a valuable example of my ability to tackle real-world challenges using data-driven approaches.\n"
      ],
      "metadata": {
        "id": "YtFe2wwsbHQ4"
      }
    },
    {
      "cell_type": "code",
      "execution_count": null,
      "metadata": {
        "id": "gLytpaj8Z0Vm"
      },
      "outputs": [],
      "source": []
    }
  ]
}